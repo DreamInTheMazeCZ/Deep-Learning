{
 "cells": [
  {
   "cell_type": "code",
   "execution_count": 1,
   "id": "011284a8",
   "metadata": {
    "execution": {
     "iopub.execute_input": "2022-09-05T15:24:56.063444Z",
     "iopub.status.busy": "2022-09-05T15:24:56.063030Z",
     "iopub.status.idle": "2022-09-05T15:25:02.990943Z",
     "shell.execute_reply": "2022-09-05T15:25:02.989646Z"
    },
    "papermill": {
     "duration": 6.938683,
     "end_time": "2022-09-05T15:25:02.994009",
     "exception": false,
     "start_time": "2022-09-05T15:24:56.055326",
     "status": "completed"
    },
    "tags": []
   },
   "outputs": [],
   "source": [
    "from tensorflow.keras import Model\n",
    "from tensorflow.keras.layers import Conv2D, MaxPool2D, Flatten, Dense\n",
    "from tensorflow.keras.callbacks import EarlyStopping, TensorBoard\n",
    "from tensorflow.keras.datasets import mnist\n",
    "\n",
    "import numpy as np\n",
    "import pandas as pd\n",
    "import matplotlib.pyplot as plt"
   ]
  },
  {
   "cell_type": "markdown",
   "id": "e8a24a25",
   "metadata": {
    "papermill": {
     "duration": 0.004037,
     "end_time": "2022-09-05T15:25:03.002640",
     "exception": false,
     "start_time": "2022-09-05T15:25:02.998603",
     "status": "completed"
    },
    "tags": []
   },
   "source": [
    "## 데이터 로드 및 전처리"
   ]
  },
  {
   "cell_type": "code",
   "execution_count": 2,
   "id": "d319cde1",
   "metadata": {
    "execution": {
     "iopub.execute_input": "2022-09-05T15:25:03.013483Z",
     "iopub.status.busy": "2022-09-05T15:25:03.012692Z",
     "iopub.status.idle": "2022-09-05T15:25:03.489260Z",
     "shell.execute_reply": "2022-09-05T15:25:03.488065Z"
    },
    "papermill": {
     "duration": 0.485435,
     "end_time": "2022-09-05T15:25:03.492223",
     "exception": false,
     "start_time": "2022-09-05T15:25:03.006788",
     "status": "completed"
    },
    "tags": []
   },
   "outputs": [
    {
     "name": "stdout",
     "output_type": "stream",
     "text": [
      "Downloading data from https://storage.googleapis.com/tensorflow/tf-keras-datasets/mnist.npz\n",
      "11493376/11490434 [==============================] - 0s 0us/step\n",
      "11501568/11490434 [==============================] - 0s 0us/step\n"
     ]
    }
   ],
   "source": [
    "(x_train, y_train), (x_test, y_test) = mnist.load_data()\n",
    "# x_train.shape : (60000, 28, 28)\n",
    "# 28 × 28 크기의 이미지 60000개\n",
    "\n",
    "# 새로운 축 추가 : (60000, 28, 28, 1)\n",
    "# Tensor 모양은 반드시 (개수, 사이즈, 사이즈, 채널)의 형태\n",
    "x_train, x_test = x_train[..., np.newaxis], x_test[..., np.newaxis]"
   ]
  },
  {
   "cell_type": "code",
   "execution_count": 3,
   "id": "c720bf63",
   "metadata": {
    "execution": {
     "iopub.execute_input": "2022-09-05T15:25:03.503511Z",
     "iopub.status.busy": "2022-09-05T15:25:03.502747Z",
     "iopub.status.idle": "2022-09-05T15:25:03.739653Z",
     "shell.execute_reply": "2022-09-05T15:25:03.738507Z"
    },
    "papermill": {
     "duration": 0.24538,
     "end_time": "2022-09-05T15:25:03.742299",
     "exception": false,
     "start_time": "2022-09-05T15:25:03.496919",
     "status": "completed"
    },
    "tags": []
   },
   "outputs": [
    {
     "data": {
      "image/png": "[encoded data removed]",
      "text/plain": [
       "<Figure size 432x288 with 1 Axes>"
      ]
     },
     "metadata": {
      "needs_background": "light"
     },
     "output_type": "display_data"
    }
   ],
   "source": [
    "plt.imshow(x_train[0,:,:,0]);"
   ]
  },
  {
   "cell_type": "code",
   "execution_count": 4,
   "id": "232aad35",
   "metadata": {
    "execution": {
     "iopub.execute_input": "2022-09-05T15:25:03.754205Z",
     "iopub.status.busy": "2022-09-05T15:25:03.753155Z",
     "iopub.status.idle": "2022-09-05T15:25:03.957015Z",
     "shell.execute_reply": "2022-09-05T15:25:03.955833Z"
    },
    "papermill": {
     "duration": 0.213065,
     "end_time": "2022-09-05T15:25:03.960130",
     "exception": false,
     "start_time": "2022-09-05T15:25:03.747065",
     "status": "completed"
    },
    "tags": []
   },
   "outputs": [],
   "source": [
    "# Normalization\n",
    "# 0 ~ 1 사이의 값으로 변환\n",
    "x_train, x_test = x_train/255.0, x_test/255.0 "
   ]
  },
  {
   "cell_type": "markdown",
   "id": "c567450b",
   "metadata": {
    "papermill": {
     "duration": 0.004416,
     "end_time": "2022-09-05T15:25:03.969457",
     "exception": false,
     "start_time": "2022-09-05T15:25:03.965041",
     "status": "completed"
    },
    "tags": []
   },
   "source": [
    "## 모델 구성 및 컴파일"
   ]
  },
  {
   "cell_type": "code",
   "execution_count": 5,
   "id": "a6f63f71",
   "metadata": {
    "execution": {
     "iopub.execute_input": "2022-09-05T15:25:03.980509Z",
     "iopub.status.busy": "2022-09-05T15:25:03.980105Z",
     "iopub.status.idle": "2022-09-05T15:25:03.985469Z",
     "shell.execute_reply": "2022-09-05T15:25:03.984263Z"
    },
    "papermill": {
     "duration": 0.01367,
     "end_time": "2022-09-05T15:25:03.987841",
     "exception": false,
     "start_time": "2022-09-05T15:25:03.974171",
     "status": "completed"
    },
    "tags": []
   },
   "outputs": [],
   "source": [
    "num_classes=10\n",
    "epochs = 30\n",
    "batch_size=32"
   ]
  },
  {
   "cell_type": "code",
   "execution_count": 6,
   "id": "9d9c6253",
   "metadata": {
    "execution": {
     "iopub.execute_input": "2022-09-05T15:25:03.999299Z",
     "iopub.status.busy": "2022-09-05T15:25:03.998636Z",
     "iopub.status.idle": "2022-09-05T15:25:04.008328Z",
     "shell.execute_reply": "2022-09-05T15:25:04.007240Z"
    },
    "papermill": {
     "duration": 0.018217,
     "end_time": "2022-09-05T15:25:04.010811",
     "exception": false,
     "start_time": "2022-09-05T15:25:03.992594",
     "status": "completed"
    },
    "tags": []
   },
   "outputs": [],
   "source": [
    "class LeNet5(Model):\n",
    "    def __init__(self, num_classes):\n",
    "        super(LeNet5,self).__init__()\n",
    "        self.conv1 = Conv2D(6, kernel_size=(5,5), padding='same', activation='relu')\n",
    "        self.conv2 = Conv2D(16, kernel_size=(5,5), activation='relu')\n",
    "        self.max_pool = MaxPool2D(pool_size=(2,2))\n",
    "        self.flatten = Flatten()\n",
    "        self.dense1 = Dense(120, activation='relu')\n",
    "        self.dense2 = Dense(84, activation='relu')\n",
    "        self.dense3 = Dense(num_classes, activation='softmax')\n",
    "        \n",
    "    def call(self, input_data):\n",
    "        # input_data > conv1 > max_pool : x\n",
    "        x = self.max_pool(self.conv1(input_data))\n",
    "        # max_pooled x > conv2 > max_pool > x\n",
    "        x = self.max_pool(self.conv2(x))\n",
    "        # max_pooled x > flatten > x\n",
    "        x = self.flatten(x)\n",
    "        # flattened x > dense1 > dense2 > dense3 > x\n",
    "        x = self.dense3(self.dense2(self.dense1(x)))\n",
    "        # return processed x\n",
    "        return x"
   ]
  },
  {
   "cell_type": "code",
   "execution_count": 7,
   "id": "e97e300b",
   "metadata": {
    "execution": {
     "iopub.execute_input": "2022-09-05T15:25:04.022631Z",
     "iopub.status.busy": "2022-09-05T15:25:04.022199Z",
     "iopub.status.idle": "2022-09-05T15:25:04.105853Z",
     "shell.execute_reply": "2022-09-05T15:25:04.104238Z"
    },
    "papermill": {
     "duration": 0.092935,
     "end_time": "2022-09-05T15:25:04.108840",
     "exception": false,
     "start_time": "2022-09-05T15:25:04.015905",
     "status": "completed"
    },
    "tags": []
   },
   "outputs": [
    {
     "name": "stderr",
     "output_type": "stream",
     "text": [
      "2022-09-05 15:25:04.066149: I tensorflow/core/common_runtime/process_util.cc:146] Creating new thread pool with default inter op setting: 2. Tune using inter_op_parallelism_threads for best performance.\n"
     ]
    }
   ],
   "source": [
    "model=LeNet5(num_classes)"
   ]
  },
  {
   "cell_type": "code",
   "execution_count": 8,
   "id": "3ad6e6e1",
   "metadata": {
    "execution": {
     "iopub.execute_input": "2022-09-05T15:25:04.120501Z",
     "iopub.status.busy": "2022-09-05T15:25:04.120060Z",
     "iopub.status.idle": "2022-09-05T15:25:04.314457Z",
     "shell.execute_reply": "2022-09-05T15:25:04.313494Z"
    },
    "papermill": {
     "duration": 0.203264,
     "end_time": "2022-09-05T15:25:04.317020",
     "exception": false,
     "start_time": "2022-09-05T15:25:04.113756",
     "status": "completed"
    },
    "tags": []
   },
   "outputs": [],
   "source": [
    "model.compile(optimizer='adam',\n",
    "              loss='sparse_categorical_crossentropy',\n",
    "              # 클래스 분포에 맞을 경우 sparse_categorical_entropy\n",
    "              # 10개 클래스에 레이블 각각 존재하므로 위의 loss 사용\n",
    "              metrics=['accuracy'])"
   ]
  },
  {
   "cell_type": "code",
   "execution_count": 9,
   "id": "6c59627c",
   "metadata": {
    "execution": {
     "iopub.execute_input": "2022-09-05T15:25:04.328442Z",
     "iopub.status.busy": "2022-09-05T15:25:04.327673Z",
     "iopub.status.idle": "2022-09-05T15:25:04.338048Z",
     "shell.execute_reply": "2022-09-05T15:25:04.336713Z"
    },
    "papermill": {
     "duration": 0.01851,
     "end_time": "2022-09-05T15:25:04.340299",
     "exception": false,
     "start_time": "2022-09-05T15:25:04.321789",
     "status": "completed"
    },
    "tags": []
   },
   "outputs": [
    {
     "name": "stderr",
     "output_type": "stream",
     "text": [
      "2022-09-05 15:25:04.332694: I tensorflow/core/profiler/lib/profiler_session.cc:131] Profiler session initializing.\n",
      "2022-09-05 15:25:04.332843: I tensorflow/core/profiler/lib/profiler_session.cc:146] Profiler session started.\n",
      "2022-09-05 15:25:04.334266: I tensorflow/core/profiler/lib/profiler_session.cc:164] Profiler session tear down.\n"
     ]
    }
   ],
   "source": [
    "callbacks=[EarlyStopping(patience=3, monitor='val_loss'),\n",
    "           # 3번의 epoch 진행 동안 val_loss 값 관찰하여 EarlyStopping 적용\n",
    "           TensorBoard(log_dir='./logs', histogram_freq=1)]"
   ]
  },
  {
   "cell_type": "markdown",
   "id": "979f33bb",
   "metadata": {
    "papermill": {
     "duration": 0.004455,
     "end_time": "2022-09-05T15:25:04.349563",
     "exception": false,
     "start_time": "2022-09-05T15:25:04.345108",
     "status": "completed"
    },
    "tags": []
   },
   "source": [
    "## 모델 학습 및 평가"
   ]
  },
  {
   "cell_type": "code",
   "execution_count": 10,
   "id": "2f987eea",
   "metadata": {
    "execution": {
     "iopub.execute_input": "2022-09-05T15:25:04.360660Z",
     "iopub.status.busy": "2022-09-05T15:25:04.359997Z",
     "iopub.status.idle": "2022-09-05T15:26:50.194106Z",
     "shell.execute_reply": "2022-09-05T15:26:50.192994Z"
    },
    "papermill": {
     "duration": 105.842575,
     "end_time": "2022-09-05T15:26:50.196739",
     "exception": false,
     "start_time": "2022-09-05T15:25:04.354164",
     "status": "completed"
    },
    "tags": []
   },
   "outputs": [
    {
     "name": "stderr",
     "output_type": "stream",
     "text": [
      "2022-09-05 15:25:04.764591: I tensorflow/compiler/mlir/mlir_graph_optimization_pass.cc:185] None of the MLIR Optimization Passes are enabled (registered 2)\n"
     ]
    },
    {
     "name": "stdout",
     "output_type": "stream",
     "text": [
      "Epoch 1/30\n",
      "  19/1875 [..............................] - ETA: 18s - loss: 2.2250 - accuracy: 0.2961"
     ]
    },
    {
     "name": "stderr",
     "output_type": "stream",
     "text": [
      "2022-09-05 15:25:05.721256: I tensorflow/core/profiler/lib/profiler_session.cc:131] Profiler session initializing.\n",
      "2022-09-05 15:25:05.721438: I tensorflow/core/profiler/lib/profiler_session.cc:146] Profiler session started.\n",
      "2022-09-05 15:25:05.734631: I tensorflow/core/profiler/lib/profiler_session.cc:66] Profiler session collecting data.\n",
      "2022-09-05 15:25:05.740449: I tensorflow/core/profiler/lib/profiler_session.cc:164] Profiler session tear down.\n",
      "2022-09-05 15:25:05.751199: I tensorflow/core/profiler/rpc/client/save_profile.cc:136] Creating directory: ./logs/train/plugins/profile/2022_09_05_15_25_05\n",
      "\n",
      "2022-09-05 15:25:05.752541: I tensorflow/core/profiler/rpc/client/save_profile.cc:142] Dumped gzipped tool data for trace.json.gz to ./logs/train/plugins/profile/2022_09_05_15_25_05/b4e077e1cf9f.trace.json.gz\n",
      "2022-09-05 15:25:05.766130: I tensorflow/core/profiler/rpc/client/save_profile.cc:136] Creating directory: ./logs/train/plugins/profile/2022_09_05_15_25_05\n",
      "\n",
      "2022-09-05 15:25:05.767037: I tensorflow/core/profiler/rpc/client/save_profile.cc:142] Dumped gzipped tool data for memory_profile.json.gz to ./logs/train/plugins/profile/2022_09_05_15_25_05/b4e077e1cf9f.memory_profile.json.gz\n",
      "2022-09-05 15:25:05.767618: I tensorflow/core/profiler/rpc/client/capture_profile.cc:251] Creating directory: ./logs/train/plugins/profile/2022_09_05_15_25_05\n",
      "Dumped tool data for xplane.pb to ./logs/train/plugins/profile/2022_09_05_15_25_05/b4e077e1cf9f.xplane.pb\n",
      "Dumped tool data for overview_page.pb to ./logs/train/plugins/profile/2022_09_05_15_25_05/b4e077e1cf9f.overview_page.pb\n",
      "Dumped tool data for input_pipeline.pb to ./logs/train/plugins/profile/2022_09_05_15_25_05/b4e077e1cf9f.input_pipeline.pb\n",
      "Dumped tool data for tensorflow_stats.pb to ./logs/train/plugins/profile/2022_09_05_15_25_05/b4e077e1cf9f.tensorflow_stats.pb\n",
      "Dumped tool data for kernel_stats.pb to ./logs/train/plugins/profile/2022_09_05_15_25_05/b4e077e1cf9f.kernel_stats.pb\n",
      "\n"
     ]
    },
    {
     "name": "stdout",
     "output_type": "stream",
     "text": [
      "1875/1875 [==============================] - 15s 8ms/step - loss: 0.1680 - accuracy: 0.9494 - val_loss: 0.0562 - val_accuracy: 0.9829\n",
      "Epoch 2/30\n",
      "1875/1875 [==============================] - 13s 7ms/step - loss: 0.0554 - accuracy: 0.9826 - val_loss: 0.0433 - val_accuracy: 0.9857\n",
      "Epoch 3/30\n",
      "1875/1875 [==============================] - 13s 7ms/step - loss: 0.0405 - accuracy: 0.9874 - val_loss: 0.0354 - val_accuracy: 0.9877\n",
      "Epoch 4/30\n",
      "1875/1875 [==============================] - 12s 7ms/step - loss: 0.0307 - accuracy: 0.9900 - val_loss: 0.0441 - val_accuracy: 0.9861\n",
      "Epoch 5/30\n",
      "1875/1875 [==============================] - 13s 7ms/step - loss: 0.0243 - accuracy: 0.9923 - val_loss: 0.0327 - val_accuracy: 0.9887\n",
      "Epoch 6/30\n",
      "1875/1875 [==============================] - 13s 7ms/step - loss: 0.0210 - accuracy: 0.9932 - val_loss: 0.0424 - val_accuracy: 0.9878\n",
      "Epoch 7/30\n",
      "1875/1875 [==============================] - 12s 7ms/step - loss: 0.0180 - accuracy: 0.9941 - val_loss: 0.0443 - val_accuracy: 0.9875\n",
      "Epoch 8/30\n",
      "1875/1875 [==============================] - 13s 7ms/step - loss: 0.0151 - accuracy: 0.9948 - val_loss: 0.0409 - val_accuracy: 0.9884\n"
     ]
    },
    {
     "data": {
      "text/plain": [
       "<keras.callbacks.History at 0x7fe4ea834590>"
      ]
     },
     "execution_count": 10,
     "metadata": {},
     "output_type": "execute_result"
    }
   ],
   "source": [
    "model.fit(x_train, y_train,\n",
    "          batch_size=batch_size,\n",
    "          epochs=epochs,\n",
    "          validation_data=(x_test,y_test),\n",
    "          callbacks=callbacks)"
   ]
  },
  {
   "cell_type": "code",
   "execution_count": 11,
   "id": "fe3a30ab",
   "metadata": {
    "execution": {
     "iopub.execute_input": "2022-09-05T15:26:50.428695Z",
     "iopub.status.busy": "2022-09-05T15:26:50.427762Z",
     "iopub.status.idle": "2022-09-05T15:27:27.452677Z",
     "shell.execute_reply": "2022-09-05T15:27:27.451488Z"
    },
    "papermill": {
     "duration": 37.14463,
     "end_time": "2022-09-05T15:27:27.455615",
     "exception": false,
     "start_time": "2022-09-05T15:26:50.310985",
     "status": "completed"
    },
    "tags": []
   },
   "outputs": [],
   "source": [
    "%load_ext tensorboard"
   ]
  },
  {
   "cell_type": "code",
   "execution_count": 12,
   "id": "1e002a77",
   "metadata": {
    "execution": {
     "iopub.execute_input": "2022-09-05T15:27:27.688803Z",
     "iopub.status.busy": "2022-09-05T15:27:27.688407Z",
     "iopub.status.idle": "2022-09-05T15:27:32.230305Z",
     "shell.execute_reply": "2022-09-05T15:27:32.229145Z"
    },
    "papermill": {
     "duration": 4.662023,
     "end_time": "2022-09-05T15:27:32.232888",
     "exception": false,
     "start_time": "2022-09-05T15:27:27.570865",
     "status": "completed"
    },
    "tags": []
   },
   "outputs": [
    {
     "data": {
      "text/html": [
       "\n",
       "      <iframe id=\"tensorboard-frame-b5775de6c75232a5\" width=\"100%\" height=\"800\" frameborder=\"0\">\n",
       "      </iframe>\n",
       "      <script>\n",
       "        (function() {\n",
       "          const frame = document.getElementById(\"tensorboard-frame-b5775de6c75232a5\");\n",
       "          const url = new URL(\"/\", window.location);\n",
       "          const port = 6006;\n",
       "          if (port) {\n",
       "            url.port = port;\n",
       "          }\n",
       "          frame.src = url;\n",
       "        })();\n",
       "      </script>\n",
       "    "
      ],
      "text/plain": [
       "<IPython.core.display.HTML object>"
      ]
     },
     "metadata": {},
     "output_type": "display_data"
    }
   ],
   "source": [
    "%tensorboard --logdir logs"
   ]
  }
 ],
 "metadata": {
  "kernelspec": {
   "display_name": "Python 3",
   "language": "python",
   "name": "python3"
  },
  "language_info": {
   "codemirror_mode": {
    "name": "ipython",
    "version": 3
   },
   "file_extension": ".py",
   "mimetype": "text/x-python",
   "name": "python",
   "nbconvert_exporter": "python",
   "pygments_lexer": "ipython3",
   "version": "3.7.12"
  },
  "papermill": {
   "default_parameters": {},
   "duration": 168.071901,
   "end_time": "2022-09-05T15:27:34.968354",
   "environment_variables": {},
   "exception": null,
   "input_path": "__notebook__.ipynb",
   "output_path": "__notebook__.ipynb",
   "parameters": {},
   "start_time": "2022-09-05T15:24:46.896453",
   "version": "2.3.4"
  }
 },
 "nbformat": 4,
 "nbformat_minor": 5
}
