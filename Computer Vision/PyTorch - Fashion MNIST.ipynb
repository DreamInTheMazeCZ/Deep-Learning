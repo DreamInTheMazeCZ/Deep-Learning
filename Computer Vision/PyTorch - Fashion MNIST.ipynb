{
 "cells": [
  {
   "cell_type": "markdown",
   "id": "df8416bb",
   "metadata": {
    "papermill": {
     "duration": 0.006481,
     "end_time": "2022-09-14T15:27:29.113572",
     "exception": false,
     "start_time": "2022-09-14T15:27:29.107091",
     "status": "completed"
    },
    "tags": []
   },
   "source": [
    "## Fashion MNIST 분류 모델"
   ]
  },
  {
   "cell_type": "code",
   "execution_count": 1,
   "id": "e68cc6f0",
   "metadata": {
    "_cell_guid": "b1076dfc-b9ad-4769-8c92-a6c4dae69d19",
    "_uuid": "8f2839f25d086af736a60e9eeb907d3b93b6e0e5",
    "execution": {
     "iopub.execute_input": "2022-09-14T15:27:29.126545Z",
     "iopub.status.busy": "2022-09-14T15:27:29.125696Z",
     "iopub.status.idle": "2022-09-14T15:27:31.728544Z",
     "shell.execute_reply": "2022-09-14T15:27:31.727541Z"
    },
    "papermill": {
     "duration": 2.611717,
     "end_time": "2022-09-14T15:27:31.730657",
     "exception": false,
     "start_time": "2022-09-14T15:27:29.118940",
     "status": "completed"
    },
    "tags": []
   },
   "outputs": [
    {
     "data": {
      "text/plain": [
       "device(type='cuda')"
      ]
     },
     "execution_count": 1,
     "metadata": {},
     "output_type": "execute_result"
    }
   ],
   "source": [
    "import torch\n",
    "from torchvision.transforms import transforms\n",
    "from torchvision import datasets\n",
    "import torchmetrics\n",
    "\n",
    "import numpy as np\n",
    "import matplotlib.pyplot as plt\n",
    "import pandas as pd\n",
    "\n",
    "# GPU 설정\n",
    "device = torch.device('cuda' if torch.cuda.is_available() else 'cpu')\n",
    "device"
   ]
  },
  {
   "cell_type": "markdown",
   "id": "d60907a5",
   "metadata": {
    "papermill": {
     "duration": 0.005401,
     "end_time": "2022-09-14T15:27:31.741509",
     "exception": false,
     "start_time": "2022-09-14T15:27:31.736108",
     "status": "completed"
    },
    "tags": []
   },
   "source": [
    "### 데이터 로드"
   ]
  },
  {
   "cell_type": "code",
   "execution_count": 2,
   "id": "eaa83b3d",
   "metadata": {
    "execution": {
     "iopub.execute_input": "2022-09-14T15:27:31.753994Z",
     "iopub.status.busy": "2022-09-14T15:27:31.753197Z",
     "iopub.status.idle": "2022-09-14T15:27:31.758342Z",
     "shell.execute_reply": "2022-09-14T15:27:31.757461Z"
    },
    "papermill": {
     "duration": 0.013297,
     "end_time": "2022-09-14T15:27:31.760331",
     "exception": false,
     "start_time": "2022-09-14T15:27:31.747034",
     "status": "completed"
    },
    "tags": []
   },
   "outputs": [],
   "source": [
    "transform = transforms.Compose([transforms.ToTensor(),\n",
    "                               transforms.Normalize((0.5, ), (0.5, ))])"
   ]
  },
  {
   "cell_type": "code",
   "execution_count": 3,
   "id": "c51012fb",
   "metadata": {
    "execution": {
     "iopub.execute_input": "2022-09-14T15:27:31.772552Z",
     "iopub.status.busy": "2022-09-14T15:27:31.771907Z",
     "iopub.status.idle": "2022-09-14T15:27:39.205313Z",
     "shell.execute_reply": "2022-09-14T15:27:39.203871Z"
    },
    "papermill": {
     "duration": 7.442757,
     "end_time": "2022-09-14T15:27:39.208385",
     "exception": false,
     "start_time": "2022-09-14T15:27:31.765628",
     "status": "completed"
    },
    "tags": []
   },
   "outputs": [
    {
     "name": "stdout",
     "output_type": "stream",
     "text": [
      "Downloading http://fashion-mnist.s3-website.eu-central-1.amazonaws.com/train-images-idx3-ubyte.gz\n",
      "Downloading http://fashion-mnist.s3-website.eu-central-1.amazonaws.com/train-images-idx3-ubyte.gz to /content/FashionMNIST/raw/train-images-idx3-ubyte.gz\n"
     ]
    },
    {
     "data": {
      "application/vnd.jupyter.widget-view+json": {
       "model_id": "134302ed22764f34a8425b013b204d49",
       "version_major": 2,
       "version_minor": 0
      },
      "text/plain": [
       "  0%|          | 0/26421880 [00:00<?, ?it/s]"
      ]
     },
     "metadata": {},
     "output_type": "display_data"
    },
    {
     "name": "stdout",
     "output_type": "stream",
     "text": [
      "Extracting /content/FashionMNIST/raw/train-images-idx3-ubyte.gz to /content/FashionMNIST/raw\n",
      "\n",
      "Downloading http://fashion-mnist.s3-website.eu-central-1.amazonaws.com/train-labels-idx1-ubyte.gz\n",
      "Downloading http://fashion-mnist.s3-website.eu-central-1.amazonaws.com/train-labels-idx1-ubyte.gz to /content/FashionMNIST/raw/train-labels-idx1-ubyte.gz\n"
     ]
    },
    {
     "data": {
      "application/vnd.jupyter.widget-view+json": {
       "model_id": "33b39428988e4984953bcbb39ed2bffd",
       "version_major": 2,
       "version_minor": 0
      },
      "text/plain": [
       "  0%|          | 0/29515 [00:00<?, ?it/s]"
      ]
     },
     "metadata": {},
     "output_type": "display_data"
    },
    {
     "name": "stdout",
     "output_type": "stream",
     "text": [
      "Extracting /content/FashionMNIST/raw/train-labels-idx1-ubyte.gz to /content/FashionMNIST/raw\n",
      "\n",
      "Downloading http://fashion-mnist.s3-website.eu-central-1.amazonaws.com/t10k-images-idx3-ubyte.gz\n",
      "Downloading http://fashion-mnist.s3-website.eu-central-1.amazonaws.com/t10k-images-idx3-ubyte.gz to /content/FashionMNIST/raw/t10k-images-idx3-ubyte.gz\n"
     ]
    },
    {
     "data": {
      "application/vnd.jupyter.widget-view+json": {
       "model_id": "b99ed01cf5304c599b589260d7f3e636",
       "version_major": 2,
       "version_minor": 0
      },
      "text/plain": [
       "  0%|          | 0/4422102 [00:00<?, ?it/s]"
      ]
     },
     "metadata": {},
     "output_type": "display_data"
    },
    {
     "name": "stdout",
     "output_type": "stream",
     "text": [
      "Extracting /content/FashionMNIST/raw/t10k-images-idx3-ubyte.gz to /content/FashionMNIST/raw\n",
      "\n",
      "Downloading http://fashion-mnist.s3-website.eu-central-1.amazonaws.com/t10k-labels-idx1-ubyte.gz\n",
      "Downloading http://fashion-mnist.s3-website.eu-central-1.amazonaws.com/t10k-labels-idx1-ubyte.gz to /content/FashionMNIST/raw/t10k-labels-idx1-ubyte.gz\n"
     ]
    },
    {
     "data": {
      "application/vnd.jupyter.widget-view+json": {
       "model_id": "3e705ea2c32542ba8785757ed5405826",
       "version_major": 2,
       "version_minor": 0
      },
      "text/plain": [
       "  0%|          | 0/5148 [00:00<?, ?it/s]"
      ]
     },
     "metadata": {},
     "output_type": "display_data"
    },
    {
     "name": "stdout",
     "output_type": "stream",
     "text": [
      "Extracting /content/FashionMNIST/raw/t10k-labels-idx1-ubyte.gz to /content/FashionMNIST/raw\n",
      "\n"
     ]
    }
   ],
   "source": [
    "trainset = datasets.FashionMNIST(root='/content/', train=True,\n",
    "                                 download=True, transform=transform)\n",
    "testset = datasets.FashionMNIST(root='/content/', train=True,\n",
    "                                 download=False, transform=transform)"
   ]
  },
  {
   "cell_type": "code",
   "execution_count": 4,
   "id": "4587415d",
   "metadata": {
    "execution": {
     "iopub.execute_input": "2022-09-14T15:27:39.224835Z",
     "iopub.status.busy": "2022-09-14T15:27:39.224544Z",
     "iopub.status.idle": "2022-09-14T15:27:39.230561Z",
     "shell.execute_reply": "2022-09-14T15:27:39.229539Z"
    },
    "papermill": {
     "duration": 0.016318,
     "end_time": "2022-09-14T15:27:39.232655",
     "exception": false,
     "start_time": "2022-09-14T15:27:39.216337",
     "status": "completed"
    },
    "tags": []
   },
   "outputs": [],
   "source": [
    "from torch.utils.data import DataLoader\n",
    "\n",
    "train_loader = DataLoader(trainset, batch_size=128,\n",
    "                          shuffle=True, num_workers=2) # num_workers : N개의 코어 처리\n",
    "test_loader = DataLoader(trainset, batch_size=128,\n",
    "                         shuffle=False, num_workers=2)"
   ]
  },
  {
   "cell_type": "code",
   "execution_count": 5,
   "id": "2263ec7a",
   "metadata": {
    "execution": {
     "iopub.execute_input": "2022-09-14T15:27:39.246753Z",
     "iopub.status.busy": "2022-09-14T15:27:39.246447Z",
     "iopub.status.idle": "2022-09-14T15:27:39.409710Z",
     "shell.execute_reply": "2022-09-14T15:27:39.408461Z"
    },
    "papermill": {
     "duration": 0.17295,
     "end_time": "2022-09-14T15:27:39.412071",
     "exception": false,
     "start_time": "2022-09-14T15:27:39.239121",
     "status": "completed"
    },
    "tags": []
   },
   "outputs": [
    {
     "data": {
      "text/plain": [
       "(torch.Size([128, 1, 28, 28]), torch.Size([128]))"
      ]
     },
     "execution_count": 5,
     "metadata": {},
     "output_type": "execute_result"
    }
   ],
   "source": [
    "images, labels = next(iter(train_loader))\n",
    "images.shape, labels.shape, \n",
    "# image shape : (Batch Size, Channel, Size, Size)"
   ]
  },
  {
   "cell_type": "code",
   "execution_count": 6,
   "id": "a3534358",
   "metadata": {
    "execution": {
     "iopub.execute_input": "2022-09-14T15:27:39.428891Z",
     "iopub.status.busy": "2022-09-14T15:27:39.427281Z",
     "iopub.status.idle": "2022-09-14T15:27:40.296058Z",
     "shell.execute_reply": "2022-09-14T15:27:40.295035Z"
    },
    "papermill": {
     "duration": 0.879392,
     "end_time": "2022-09-14T15:27:40.298572",
     "exception": false,
     "start_time": "2022-09-14T15:27:39.419180",
     "status": "completed"
    },
    "tags": []
   },
   "outputs": [
    {
     "data": {
      "image/png": "[encoded data removed]",
      "text/plain": [
       "<Figure size 864x864 with 16 Axes>"
      ]
     },
     "metadata": {
      "needs_background": "light"
     },
     "output_type": "display_data"
    }
   ],
   "source": [
    "# Label 지정\n",
    "labels_map = {\n",
    "    0:'T-shirt/Top',\n",
    "    1:'Trouser',\n",
    "    2:'Pullover',\n",
    "    3:'Dress',\n",
    "    4:'Coat',\n",
    "    5:'Sandal',\n",
    "    6:'Shirt',\n",
    "    7:'Sneaker',\n",
    "    8:'Bag',\n",
    "    9:'Ankel Boot'}\n",
    "\n",
    "figure = plt.figure(figsize=(12,12))\n",
    "cols, rows = 4,4 # 4*4 = 16개 이미지 출력\n",
    "\n",
    "for i in range(1, cols * rows +1):\n",
    "    image = images[i].squeeze() # Channel 차원 축소\n",
    "    label_idx = labels[i].item() # Tensor 값 추출\n",
    "    label = labels_map[label_idx]\n",
    "    \n",
    "    figure.add_subplot(rows, cols, i)\n",
    "    plt.title(label)\n",
    "    plt.axis('off')\n",
    "    plt.imshow(image, cmap='gray')\n",
    "    \n",
    "plt.show();"
   ]
  },
  {
   "cell_type": "markdown",
   "id": "9cdf93b5",
   "metadata": {
    "papermill": {
     "duration": 0.007107,
     "end_time": "2022-09-14T15:27:40.314543",
     "exception": false,
     "start_time": "2022-09-14T15:27:40.307436",
     "status": "completed"
    },
    "tags": []
   },
   "source": [
    "### 모델 정의 및 파라미터"
   ]
  },
  {
   "cell_type": "code",
   "execution_count": 7,
   "id": "ac3dc18a",
   "metadata": {
    "execution": {
     "iopub.execute_input": "2022-09-14T15:27:40.333735Z",
     "iopub.status.busy": "2022-09-14T15:27:40.332932Z",
     "iopub.status.idle": "2022-09-14T15:27:40.355518Z",
     "shell.execute_reply": "2022-09-14T15:27:40.354558Z"
    },
    "papermill": {
     "duration": 0.03587,
     "end_time": "2022-09-14T15:27:40.357579",
     "exception": false,
     "start_time": "2022-09-14T15:27:40.321709",
     "status": "completed"
    },
    "tags": []
   },
   "outputs": [
    {
     "name": "stdout",
     "output_type": "stream",
     "text": [
      "NeuralNet(\n",
      "  (conv1): Conv2d(1, 128, kernel_size=(3, 3), stride=(1, 1))\n",
      "  (conv2): Conv2d(128, 256, kernel_size=(3, 3), stride=(1, 1))\n",
      "  (fc1): Linear(in_features=6400, out_features=128, bias=True)\n",
      "  (fc2): Linear(in_features=128, out_features=64, bias=True)\n",
      "  (fc3): Linear(in_features=64, out_features=10, bias=True)\n",
      ")\n"
     ]
    }
   ],
   "source": [
    "import torch.optim as optim\n",
    "import torch.nn.functional as F\n",
    "import torch.nn as nn\n",
    "\n",
    "class NeuralNet(nn.Module):\n",
    "    def __init__(self):\n",
    "        super(NeuralNet, self).__init__()\n",
    "        \n",
    "        self.conv1 = nn.Conv2d(1, 128, 3)\n",
    "        self.conv2 = nn.Conv2d(128, 256, 3)\n",
    "        self.fc1 = nn.Linear(256 * 5 * 5, 128) # Fully Connected\n",
    "        self.fc2 = nn.Linear(128, 64)\n",
    "        self.fc3 = nn.Linear(64, 10)\n",
    "        \n",
    "    def forward(self, x):\n",
    "        x = F.max_pool2d(F.relu(self.conv1(x)), (2,2))\n",
    "        x = F.max_pool2d(F.relu(self.conv2(x)), 2)\n",
    "        x = x.view(-1, self.num_flat_features(x))\n",
    "        x = F.relu(self.fc1(x))\n",
    "        x = F.relu(self.fc2(x))\n",
    "        x = self.fc3(x)\n",
    "        return x\n",
    "    \n",
    "    def num_flat_features(self, x):\n",
    "        size = x.size()[1:]\n",
    "        num_features = 1\n",
    "        for s in size:\n",
    "            num_features *= s\n",
    "            \n",
    "        return num_features\n",
    "    \n",
    "net = NeuralNet()\n",
    "print(net)"
   ]
  },
  {
   "cell_type": "code",
   "execution_count": 8,
   "id": "394dbd3f",
   "metadata": {
    "execution": {
     "iopub.execute_input": "2022-09-14T15:27:40.374220Z",
     "iopub.status.busy": "2022-09-14T15:27:40.373296Z",
     "iopub.status.idle": "2022-09-14T15:27:43.391626Z",
     "shell.execute_reply": "2022-09-14T15:27:43.390623Z"
    },
    "papermill": {
     "duration": 3.029287,
     "end_time": "2022-09-14T15:27:43.394287",
     "exception": false,
     "start_time": "2022-09-14T15:27:40.365000",
     "status": "completed"
    },
    "tags": []
   },
   "outputs": [],
   "source": [
    "net = NeuralNet().to(device)"
   ]
  },
  {
   "cell_type": "code",
   "execution_count": 9,
   "id": "7859e12c",
   "metadata": {
    "execution": {
     "iopub.execute_input": "2022-09-14T15:27:43.411720Z",
     "iopub.status.busy": "2022-09-14T15:27:43.410828Z",
     "iopub.status.idle": "2022-09-14T15:27:43.416801Z",
     "shell.execute_reply": "2022-09-14T15:27:43.415811Z"
    },
    "papermill": {
     "duration": 0.017454,
     "end_time": "2022-09-14T15:27:43.419963",
     "exception": false,
     "start_time": "2022-09-14T15:27:43.402509",
     "status": "completed"
    },
    "tags": []
   },
   "outputs": [
    {
     "name": "stdout",
     "output_type": "stream",
     "text": [
      "10\n",
      "torch.Size([128, 1, 3, 3])\n"
     ]
    }
   ],
   "source": [
    "params = list(net.parameters())\n",
    "print(len(params))\n",
    "print(params[0].size())"
   ]
  },
  {
   "cell_type": "code",
   "execution_count": 10,
   "id": "90c1bb99",
   "metadata": {
    "execution": {
     "iopub.execute_input": "2022-09-14T15:27:43.435864Z",
     "iopub.status.busy": "2022-09-14T15:27:43.435577Z",
     "iopub.status.idle": "2022-09-14T15:27:49.331823Z",
     "shell.execute_reply": "2022-09-14T15:27:49.330165Z"
    },
    "papermill": {
     "duration": 5.907001,
     "end_time": "2022-09-14T15:27:49.334560",
     "exception": false,
     "start_time": "2022-09-14T15:27:43.427559",
     "status": "completed"
    },
    "tags": []
   },
   "outputs": [
    {
     "name": "stdout",
     "output_type": "stream",
     "text": [
      "tensor([[-0.0247, -0.0830, -0.0385, -0.0767, -0.0574, -0.1285, -0.0881, -0.0828,\n",
      "          0.0283,  0.0794]], device='cuda:0', grad_fn=<AddmmBackward0>)\n"
     ]
    }
   ],
   "source": [
    "input = torch.randn(1, 1, 28, 28)\n",
    "out = net(input.to(device))\n",
    "print(out)"
   ]
  },
  {
   "cell_type": "markdown",
   "id": "c45ed30c",
   "metadata": {
    "papermill": {
     "duration": 0.007071,
     "end_time": "2022-09-14T15:27:49.350339",
     "exception": false,
     "start_time": "2022-09-14T15:27:49.343268",
     "status": "completed"
    },
    "tags": []
   },
   "source": [
    "### 손실함수 및 옵티마이저"
   ]
  },
  {
   "cell_type": "code",
   "execution_count": 11,
   "id": "2ee17ff9",
   "metadata": {
    "execution": {
     "iopub.execute_input": "2022-09-14T15:27:49.367921Z",
     "iopub.status.busy": "2022-09-14T15:27:49.365935Z",
     "iopub.status.idle": "2022-09-14T15:27:49.371999Z",
     "shell.execute_reply": "2022-09-14T15:27:49.371060Z"
    },
    "papermill": {
     "duration": 0.016815,
     "end_time": "2022-09-14T15:27:49.374279",
     "exception": false,
     "start_time": "2022-09-14T15:27:49.357464",
     "status": "completed"
    },
    "tags": []
   },
   "outputs": [],
   "source": [
    "criterion = nn.CrossEntropyLoss()\n",
    "optimizer = optim.Adam(net.parameters(), lr=0.001)"
   ]
  },
  {
   "cell_type": "markdown",
   "id": "5874d843",
   "metadata": {
    "papermill": {
     "duration": 0.006958,
     "end_time": "2022-09-14T15:27:49.388251",
     "exception": false,
     "start_time": "2022-09-14T15:27:49.381293",
     "status": "completed"
    },
    "tags": []
   },
   "source": [
    "### 모델 학습\n",
    "\n",
    "#### 배치 수 확인"
   ]
  },
  {
   "cell_type": "code",
   "execution_count": 12,
   "id": "28246d1e",
   "metadata": {
    "execution": {
     "iopub.execute_input": "2022-09-14T15:27:49.405042Z",
     "iopub.status.busy": "2022-09-14T15:27:49.404273Z",
     "iopub.status.idle": "2022-09-14T15:27:49.411451Z",
     "shell.execute_reply": "2022-09-14T15:27:49.410372Z"
    },
    "papermill": {
     "duration": 0.018491,
     "end_time": "2022-09-14T15:27:49.414041",
     "exception": false,
     "start_time": "2022-09-14T15:27:49.395550",
     "status": "completed"
    },
    "tags": []
   },
   "outputs": [
    {
     "name": "stdout",
     "output_type": "stream",
     "text": [
      "469\n"
     ]
    }
   ],
   "source": [
    "# 전체 배치 계산\n",
    "total_batch = len(train_loader)\n",
    "print(total_batch)\n",
    "\n",
    "# 469번 수행"
   ]
  },
  {
   "cell_type": "code",
   "execution_count": 13,
   "id": "f85da050",
   "metadata": {
    "execution": {
     "iopub.execute_input": "2022-09-14T15:27:49.430891Z",
     "iopub.status.busy": "2022-09-14T15:27:49.429978Z",
     "iopub.status.idle": "2022-09-14T15:29:53.556762Z",
     "shell.execute_reply": "2022-09-14T15:29:53.555119Z"
    },
    "papermill": {
     "duration": 124.138514,
     "end_time": "2022-09-14T15:29:53.559932",
     "exception": false,
     "start_time": "2022-09-14T15:27:49.421418",
     "status": "completed"
    },
    "tags": []
   },
   "outputs": [
    {
     "name": "stdout",
     "output_type": "stream",
     "text": [
      "Epoch : 1, Iter : 100, Loss : 0.03756152634322643\n",
      "Epoch : 1, Iter : 200, Loss : 0.024181052803993224\n",
      "Epoch : 1, Iter : 300, Loss : 0.02025721101462841\n",
      "Epoch : 1, Iter : 400, Loss : 0.01859242194145918\n",
      "Epoch : 2, Iter : 100, Loss : 0.01673175713419914\n",
      "Epoch : 2, Iter : 200, Loss : 0.015821292765438557\n",
      "Epoch : 2, Iter : 300, Loss : 0.014916672632098197\n",
      "Epoch : 2, Iter : 400, Loss : 0.014261785462498665\n",
      "Epoch : 3, Iter : 100, Loss : 0.012658030189573765\n",
      "Epoch : 3, Iter : 200, Loss : 0.012630301270633935\n",
      "Epoch : 3, Iter : 300, Loss : 0.012474156077951193\n",
      "Epoch : 3, Iter : 400, Loss : 0.011903431333601475\n",
      "Epoch : 4, Iter : 100, Loss : 0.010602262195199727\n",
      "Epoch : 4, Iter : 200, Loss : 0.010835527159273625\n",
      "Epoch : 4, Iter : 300, Loss : 0.010630329854786395\n",
      "Epoch : 4, Iter : 400, Loss : 0.01031859978660941\n",
      "Epoch : 5, Iter : 100, Loss : 0.00916287575662136\n",
      "Epoch : 5, Iter : 200, Loss : 0.009079891331493855\n",
      "Epoch : 5, Iter : 300, Loss : 0.009333384454250335\n",
      "Epoch : 5, Iter : 400, Loss : 0.008720399893820285\n",
      "Epoch : 6, Iter : 100, Loss : 0.007493916671723127\n",
      "Epoch : 6, Iter : 200, Loss : 0.007606241468340159\n",
      "Epoch : 6, Iter : 300, Loss : 0.008040594356134533\n",
      "Epoch : 6, Iter : 400, Loss : 0.007736677128821611\n",
      "Epoch : 7, Iter : 100, Loss : 0.005986371299251914\n",
      "Epoch : 7, Iter : 200, Loss : 0.00624759804084897\n",
      "Epoch : 7, Iter : 300, Loss : 0.00702420531399548\n",
      "Epoch : 7, Iter : 400, Loss : 0.006878717783838511\n",
      "Epoch : 8, Iter : 100, Loss : 0.005413598472252488\n",
      "Epoch : 8, Iter : 200, Loss : 0.0053772948104888205\n",
      "Epoch : 8, Iter : 300, Loss : 0.005993426792323589\n",
      "Epoch : 8, Iter : 400, Loss : 0.005737642630934715\n",
      "Epoch : 9, Iter : 100, Loss : 0.004308325450867415\n",
      "Epoch : 9, Iter : 200, Loss : 0.005090774722397327\n",
      "Epoch : 9, Iter : 300, Loss : 0.004757130729034543\n",
      "Epoch : 9, Iter : 400, Loss : 0.004625989836640656\n",
      "Epoch : 10, Iter : 100, Loss : 0.00368813568726182\n",
      "Epoch : 10, Iter : 200, Loss : 0.0037764541395008564\n",
      "Epoch : 10, Iter : 300, Loss : 0.003862165531143546\n",
      "Epoch : 10, Iter : 400, Loss : 0.004341233843006193\n"
     ]
    }
   ],
   "source": [
    "# GPU 사용\n",
    "\n",
    "for epoch in range(10):\n",
    "    \n",
    "    running_loss = 0.0 # Running Loss 초기화\n",
    "    \n",
    "    for i, data in enumerate(train_loader, 0):\n",
    "        inputs, labels = data[0].to(device), data[1].to(device) # GPU로 전송\n",
    "        \n",
    "        optimizer.zero_grad() # 초기화\n",
    "        \n",
    "        outputs = net(inputs)\n",
    "        loss = criterion(outputs, labels) # outputs : prediction / labels : y\n",
    "        loss.backward()\n",
    "        \n",
    "        optimizer.step()\n",
    "        \n",
    "        running_loss += loss.item()\n",
    "        \n",
    "        if i % 100 == 99:\n",
    "            print('Epoch : {}, Iter : {}, Loss : {}'.format(epoch+1, i+1, running_loss/2000))\n",
    "            running_loss = 0.0"
   ]
  },
  {
   "cell_type": "markdown",
   "id": "cdf831c7",
   "metadata": {
    "papermill": {
     "duration": 0.013846,
     "end_time": "2022-09-14T15:29:53.586549",
     "exception": false,
     "start_time": "2022-09-14T15:29:53.572703",
     "status": "completed"
    },
    "tags": []
   },
   "source": [
    "### 모델 저장 및 로드\n",
    "\n",
    "- torch.save : net.state_dict() 저장\n",
    "- torch.load : load_state_dict 로드"
   ]
  },
  {
   "cell_type": "code",
   "execution_count": 14,
   "id": "07535a5e",
   "metadata": {
    "execution": {
     "iopub.execute_input": "2022-09-14T15:29:53.616727Z",
     "iopub.status.busy": "2022-09-14T15:29:53.616035Z",
     "iopub.status.idle": "2022-09-14T15:29:53.638408Z",
     "shell.execute_reply": "2022-09-14T15:29:53.637375Z"
    },
    "papermill": {
     "duration": 0.040074,
     "end_time": "2022-09-14T15:29:53.640861",
     "exception": false,
     "start_time": "2022-09-14T15:29:53.600787",
     "status": "completed"
    },
    "tags": []
   },
   "outputs": [],
   "source": [
    "path = './fashion_mnist.pth'\n",
    "torch.save(net.state_dict(), path)"
   ]
  },
  {
   "cell_type": "code",
   "execution_count": 15,
   "id": "f8906a25",
   "metadata": {
    "execution": {
     "iopub.execute_input": "2022-09-14T15:29:53.670605Z",
     "iopub.status.busy": "2022-09-14T15:29:53.670177Z",
     "iopub.status.idle": "2022-09-14T15:29:53.704171Z",
     "shell.execute_reply": "2022-09-14T15:29:53.703130Z"
    },
    "papermill": {
     "duration": 0.051523,
     "end_time": "2022-09-14T15:29:53.706805",
     "exception": false,
     "start_time": "2022-09-14T15:29:53.655282",
     "status": "completed"
    },
    "tags": []
   },
   "outputs": [
    {
     "data": {
      "text/plain": [
       "<All keys matched successfully>"
      ]
     },
     "execution_count": 15,
     "metadata": {},
     "output_type": "execute_result"
    }
   ],
   "source": [
    "net = NeuralNet()\n",
    "net.load_state_dict(torch.load(path))"
   ]
  },
  {
   "cell_type": "markdown",
   "id": "49c44bd1",
   "metadata": {
    "papermill": {
     "duration": 0.013666,
     "end_time": "2022-09-14T15:29:53.734831",
     "exception": false,
     "start_time": "2022-09-14T15:29:53.721165",
     "status": "completed"
    },
    "tags": []
   },
   "source": [
    "### 모델 테스트"
   ]
  },
  {
   "cell_type": "code",
   "execution_count": 16,
   "id": "a42f3089",
   "metadata": {
    "execution": {
     "iopub.execute_input": "2022-09-14T15:29:53.766687Z",
     "iopub.status.busy": "2022-09-14T15:29:53.766161Z",
     "iopub.status.idle": "2022-09-14T15:29:53.775226Z",
     "shell.execute_reply": "2022-09-14T15:29:53.773909Z"
    },
    "papermill": {
     "duration": 0.028926,
     "end_time": "2022-09-14T15:29:53.778948",
     "exception": false,
     "start_time": "2022-09-14T15:29:53.750022",
     "status": "completed"
    },
    "tags": []
   },
   "outputs": [],
   "source": [
    "def imshow(image):\n",
    "    image = image / 2 + 0.5\n",
    "    npimg = image.numpy()\n",
    "    \n",
    "    fig = plt.figure(figsize=(16,8))\n",
    "    plt.imshow(np.transpose(npimg, (1, 2, 0))) # 채널 순서를 위한 순서 변환\n",
    "    plt.show();"
   ]
  },
  {
   "cell_type": "code",
   "execution_count": 17,
   "id": "5aab3ecc",
   "metadata": {
    "execution": {
     "iopub.execute_input": "2022-09-14T15:29:53.813189Z",
     "iopub.status.busy": "2022-09-14T15:29:53.812686Z",
     "iopub.status.idle": "2022-09-14T15:29:54.299062Z",
     "shell.execute_reply": "2022-09-14T15:29:54.297927Z"
    },
    "papermill": {
     "duration": 0.506214,
     "end_time": "2022-09-14T15:29:54.301438",
     "exception": false,
     "start_time": "2022-09-14T15:29:53.795224",
     "status": "completed"
    },
    "tags": []
   },
   "outputs": [
    {
     "data": {
      "image/png": "[encoded data removed]",
      "text/plain": [
       "<Figure size 1152x576 with 1 Axes>"
      ]
     },
     "metadata": {
      "needs_background": "light"
     },
     "output_type": "display_data"
    }
   ],
   "source": [
    "import torchvision\n",
    "\n",
    "dataiter = iter(test_loader)\n",
    "images, labels = dataiter.next()\n",
    "\n",
    "imshow(torchvision.utils.make_grid(images[:6]))"
   ]
  },
  {
   "cell_type": "code",
   "execution_count": 18,
   "id": "2c91cb6e",
   "metadata": {
    "execution": {
     "iopub.execute_input": "2022-09-14T15:29:54.322437Z",
     "iopub.status.busy": "2022-09-14T15:29:54.322082Z",
     "iopub.status.idle": "2022-09-14T15:29:54.684528Z",
     "shell.execute_reply": "2022-09-14T15:29:54.683287Z"
    },
    "papermill": {
     "duration": 0.376365,
     "end_time": "2022-09-14T15:29:54.687533",
     "exception": false,
     "start_time": "2022-09-14T15:29:54.311168",
     "status": "completed"
    },
    "tags": []
   },
   "outputs": [
    {
     "name": "stdout",
     "output_type": "stream",
     "text": [
      "tensor([9, 0, 0, 3, 0, 2, 7, 2, 5, 5, 0, 9, 5, 5, 7, 9, 1, 0, 6, 4, 3, 1, 4, 8,\n",
      "        4, 3, 0, 2, 4, 4, 5, 3, 6, 6, 0, 8, 5, 2, 1, 6, 6, 7, 9, 5, 9, 2, 7, 3,\n",
      "        0, 3, 3, 3, 7, 2, 2, 6, 0, 8, 3, 3, 5, 0, 5, 5, 0, 2, 0, 0, 4, 1, 3, 1,\n",
      "        6, 3, 1, 4, 4, 6, 1, 9, 1, 3, 5, 7, 9, 7, 1, 7, 9, 9, 9, 3, 2, 9, 3, 6,\n",
      "        4, 1, 1, 8, 8, 0, 1, 1, 6, 8, 1, 9, 7, 8, 8, 9, 6, 6, 3, 1, 5, 4, 6, 7,\n",
      "        5, 5, 9, 2, 2, 2, 7, 6])\n"
     ]
    }
   ],
   "source": [
    "# Test 값을 통해 예측 실행\n",
    "\n",
    "outputs = net(images)\n",
    "\n",
    "_, predicted = torch.max(outputs, 1)\n",
    "# 10개 class 분류에 대한 모델이 예측한 최종 결과값 중 가장 큰 백분율값 선택\n",
    "\n",
    "print(predicted)"
   ]
  },
  {
   "cell_type": "code",
   "execution_count": 19,
   "id": "c368909e",
   "metadata": {
    "execution": {
     "iopub.execute_input": "2022-09-14T15:29:54.708643Z",
     "iopub.status.busy": "2022-09-14T15:29:54.708322Z",
     "iopub.status.idle": "2022-09-14T15:29:54.715390Z",
     "shell.execute_reply": "2022-09-14T15:29:54.714164Z"
    },
    "papermill": {
     "duration": 0.020243,
     "end_time": "2022-09-14T15:29:54.718114",
     "exception": false,
     "start_time": "2022-09-14T15:29:54.697871",
     "status": "completed"
    },
    "tags": []
   },
   "outputs": [
    {
     "name": "stdout",
     "output_type": "stream",
     "text": [
      "Ankel Boot, T-shirt/Top, T-shirt/Top, Dress, T-shirt/Top, Pullover, \n"
     ]
    }
   ],
   "source": [
    "print(''.join('{}, '.format(labels_map[int(predicted[j].numpy())]) for j in range(6)))"
   ]
  },
  {
   "cell_type": "code",
   "execution_count": 20,
   "id": "ca86f899",
   "metadata": {
    "execution": {
     "iopub.execute_input": "2022-09-14T15:29:54.739090Z",
     "iopub.status.busy": "2022-09-14T15:29:54.738816Z",
     "iopub.status.idle": "2022-09-14T15:31:54.963748Z",
     "shell.execute_reply": "2022-09-14T15:31:54.962655Z"
    },
    "papermill": {
     "duration": 120.238561,
     "end_time": "2022-09-14T15:31:54.966721",
     "exception": false,
     "start_time": "2022-09-14T15:29:54.728160",
     "status": "completed"
    },
    "tags": []
   },
   "outputs": [
    {
     "name": "stderr",
     "output_type": "stream",
     "text": [
      "100%|██████████| 469/469 [02:00<00:00,  3.90it/s]"
     ]
    },
    {
     "name": "stdout",
     "output_type": "stream",
     "text": [
      "98.00833333333334\n"
     ]
    },
    {
     "name": "stderr",
     "output_type": "stream",
     "text": [
      "\n"
     ]
    }
   ],
   "source": [
    "# 전체 정확도 확인\n",
    "\n",
    "from tqdm import tqdm\n",
    "\n",
    "correct = 0\n",
    "total = 0\n",
    "\n",
    "with torch.no_grad(): # 평가이므로 Gradient 중지\n",
    "    for data in tqdm(test_loader):\n",
    "        images, labels = data\n",
    "        outputs = net(images)\n",
    "        _, predicted = torch.max(outputs.data, 1)\n",
    "        total += labels.size(0)\n",
    "        correct += (predicted == labels).sum().item()\n",
    "        \n",
    "print(100 * correct / total)"
   ]
  },
  {
   "cell_type": "code",
   "execution_count": null,
   "id": "37f1ff86",
   "metadata": {
    "papermill": {
     "duration": 0.031904,
     "end_time": "2022-09-14T15:31:55.057416",
     "exception": false,
     "start_time": "2022-09-14T15:31:55.025512",
     "status": "completed"
    },
    "tags": []
   },
   "outputs": [],
   "source": []
  }
 ],
 "metadata": {
  "kernelspec": {
   "display_name": "Python 3",
   "language": "python",
   "name": "python3"
  },
  "language_info": {
   "codemirror_mode": {
    "name": "ipython",
    "version": 3
   },
   "file_extension": ".py",
   "mimetype": "text/x-python",
   "name": "python",
   "nbconvert_exporter": "python",
   "pygments_lexer": "ipython3",
   "version": "3.7.12"
  },
  "papermill": {
   "default_parameters": {},
   "duration": 277.068089,
   "end_time": "2022-09-14T15:31:57.813161",
   "environment_variables": {},
   "exception": null,
   "input_path": "__notebook__.ipynb",
   "output_path": "__notebook__.ipynb",
   "parameters": {},
   "start_time": "2022-09-14T15:27:20.745072",
   "version": "2.3.4"
  },
  "widgets": {
   "application/vnd.jupyter.widget-state+json": {
    "state": {
     "134302ed22764f34a8425b013b204d49": {
      "model_module": "@jupyter-widgets/controls",
      "model_module_version": "1.5.0",
      "model_name": "HBoxModel",
      "state": {
       "_dom_classes": [],
       "_model_module": "@jupyter-widgets/controls",
       "_model_module_version": "1.5.0",
       "_model_name": "HBoxModel",
       "_view_count": null,
       "_view_module": "@jupyter-widgets/controls",
       "_view_module_version": "1.5.0",
       "_view_name": "HBoxView",
       "box_style": "",
       "children": [
        "IPY_MODEL_a19dca174bf6477da679ae497155fc73",
        "IPY_MODEL_1e2c90493bce4c1c950fc956419fa4b4",
        "IPY_MODEL_1930532a922a4bccac62cd42a50cc853"
       ],
       "layout": "IPY_MODEL_1a7129251c304cf1a3637bcc1c1842fb"
      }
     },
     "1811536c299d4c21bf80f16f71dd5f76": {
      "model_module": "@jupyter-widgets/base",
      "model_module_version": "1.2.0",
      "model_name": "LayoutModel",
      "state": {
       "_model_module": "@jupyter-widgets/base",
       "_model_module_version": "1.2.0",
       "_model_name": "LayoutModel",
       "_view_count": null,
       "_view_module": "@jupyter-widgets/base",
       "_view_module_version": "1.2.0",
       "_view_name": "LayoutView",
       "align_content": null,
       "align_items": null,
       "align_self": null,
       "border": null,
       "bottom": null,
       "display": null,
       "flex": null,
       "flex_flow": null,
       "grid_area": null,
       "grid_auto_columns": null,
       "grid_auto_flow": null,
       "grid_auto_rows": null,
       "grid_column": null,
       "grid_gap": null,
       "grid_row": null,
       "grid_template_areas": null,
       "grid_template_columns": null,
       "grid_template_rows": null,
       "height": null,
       "justify_content": null,
       "justify_items": null,
       "left": null,
       "margin": null,
       "max_height": null,
       "max_width": null,
       "min_height": null,
       "min_width": null,
       "object_fit": null,
       "object_position": null,
       "order": null,
       "overflow": null,
       "overflow_x": null,
       "overflow_y": null,
       "padding": null,
       "right": null,
       "top": null,
       "visibility": null,
       "width": null
      }
     },
     "1930532a922a4bccac62cd42a50cc853": {
      "model_module": "@jupyter-widgets/controls",
      "model_module_version": "1.5.0",
      "model_name": "HTMLModel",
      "state": {
       "_dom_classes": [],
       "_model_module": "@jupyter-widgets/controls",
       "_model_module_version": "1.5.0",
       "_model_name": "HTMLModel",
       "_view_count": null,
       "_view_module": "@jupyter-widgets/controls",
       "_view_module_version": "1.5.0",
       "_view_name": "HTMLView",
       "description": "",
       "description_tooltip": null,
       "layout": "IPY_MODEL_cc8fe1a442574ac1a0c1dbd89fd3f39d",
       "placeholder": "​",
       "style": "IPY_MODEL_ebadff0301bf4e80b634549a8e5cee65",
       "value": " 26422272/? [00:02&lt;00:00, 17352834.28it/s]"
      }
     },
     "1a61febdce6b4cfb824b6c9eab7a5f79": {
      "model_module": "@jupyter-widgets/controls",
      "model_module_version": "1.5.0",
      "model_name": "ProgressStyleModel",
      "state": {
       "_model_module": "@jupyter-widgets/controls",
       "_model_module_version": "1.5.0",
       "_model_name": "ProgressStyleModel",
       "_view_count": null,
       "_view_module": "@jupyter-widgets/base",
       "_view_module_version": "1.2.0",
       "_view_name": "StyleView",
       "bar_color": null,
       "description_width": ""
      }
     },
     "1a7129251c304cf1a3637bcc1c1842fb": {
      "model_module": "@jupyter-widgets/base",
      "model_module_version": "1.2.0",
      "model_name": "LayoutModel",
      "state": {
       "_model_module": "@jupyter-widgets/base",
       "_model_module_version": "1.2.0",
       "_model_name": "LayoutModel",
       "_view_count": null,
       "_view_module": "@jupyter-widgets/base",
       "_view_module_version": "1.2.0",
       "_view_name": "LayoutView",
       "align_content": null,
       "align_items": null,
       "align_self": null,
       "border": null,
       "bottom": null,
       "display": null,
       "flex": null,
       "flex_flow": null,
       "grid_area": null,
       "grid_auto_columns": null,
       "grid_auto_flow": null,
       "grid_auto_rows": null,
       "grid_column": null,
       "grid_gap": null,
       "grid_row": null,
       "grid_template_areas": null,
       "grid_template_columns": null,
       "grid_template_rows": null,
       "height": null,
       "justify_content": null,
       "justify_items": null,
       "left": null,
       "margin": null,
       "max_height": null,
       "max_width": null,
       "min_height": null,
       "min_width": null,
       "object_fit": null,
       "object_position": null,
       "order": null,
       "overflow": null,
       "overflow_x": null,
       "overflow_y": null,
       "padding": null,
       "right": null,
       "top": null,
       "visibility": null,
       "width": null
      }
     },
     "1a8e491437a542bc9f1489562f5f1504": {
      "model_module": "@jupyter-widgets/controls",
      "model_module_version": "1.5.0",
      "model_name": "FloatProgressModel",
      "state": {
       "_dom_classes": [],
       "_model_module": "@jupyter-widgets/controls",
       "_model_module_version": "1.5.0",
       "_model_name": "FloatProgressModel",
       "_view_count": null,
       "_view_module": "@jupyter-widgets/controls",
       "_view_module_version": "1.5.0",
       "_view_name": "ProgressView",
       "bar_style": "success",
       "description": "",
       "description_tooltip": null,
       "layout": "IPY_MODEL_d5c4a425f857420c85897385c61ab796",
       "max": 5148.0,
       "min": 0.0,
       "orientation": "horizontal",
       "style": "IPY_MODEL_bdb4733d5ccb4e3cbec2b66d5f2be310",
       "value": 5148.0
      }
     },
     "1cde38d3adf44ab4b0ea867d404f3262": {
      "model_module": "@jupyter-widgets/controls",
      "model_module_version": "1.5.0",
      "model_name": "ProgressStyleModel",
      "state": {
       "_model_module": "@jupyter-widgets/controls",
       "_model_module_version": "1.5.0",
       "_model_name": "ProgressStyleModel",
       "_view_count": null,
       "_view_module": "@jupyter-widgets/base",
       "_view_module_version": "1.2.0",
       "_view_name": "StyleView",
       "bar_color": null,
       "description_width": ""
      }
     },
     "1e2c90493bce4c1c950fc956419fa4b4": {
      "model_module": "@jupyter-widgets/controls",
      "model_module_version": "1.5.0",
      "model_name": "FloatProgressModel",
      "state": {
       "_dom_classes": [],
       "_model_module": "@jupyter-widgets/controls",
       "_model_module_version": "1.5.0",
       "_model_name": "FloatProgressModel",
       "_view_count": null,
       "_view_module": "@jupyter-widgets/controls",
       "_view_module_version": "1.5.0",
       "_view_name": "ProgressView",
       "bar_style": "success",
       "description": "",
       "description_tooltip": null,
       "layout": "IPY_MODEL_be1fc8f1865a41f5bfd35337ddbb6d99",
       "max": 26421880.0,
       "min": 0.0,
       "orientation": "horizontal",
       "style": "IPY_MODEL_1cde38d3adf44ab4b0ea867d404f3262",
       "value": 26421880.0
      }
     },
     "33b39428988e4984953bcbb39ed2bffd": {
      "model_module": "@jupyter-widgets/controls",
      "model_module_version": "1.5.0",
      "model_name": "HBoxModel",
      "state": {
       "_dom_classes": [],
       "_model_module": "@jupyter-widgets/controls",
       "_model_module_version": "1.5.0",
       "_model_name": "HBoxModel",
       "_view_count": null,
       "_view_module": "@jupyter-widgets/controls",
       "_view_module_version": "1.5.0",
       "_view_name": "HBoxView",
       "box_style": "",
       "children": [
        "IPY_MODEL_8c12b39de53f46938d28babce1c4ee75",
        "IPY_MODEL_f22cc86abd654683a48ffb84eb11ffe8",
        "IPY_MODEL_36556ce4fa3946169126bbc4ca7e80b3"
       ],
       "layout": "IPY_MODEL_6dcb4b8429a04885acbe94d8bb3565e7"
      }
     },
     "36556ce4fa3946169126bbc4ca7e80b3": {
      "model_module": "@jupyter-widgets/controls",
      "model_module_version": "1.5.0",
      "model_name": "HTMLModel",
      "state": {
       "_dom_classes": [],
       "_model_module": "@jupyter-widgets/controls",
       "_model_module_version": "1.5.0",
       "_model_name": "HTMLModel",
       "_view_count": null,
       "_view_module": "@jupyter-widgets/controls",
       "_view_module_version": "1.5.0",
       "_view_name": "HTMLView",
       "description": "",
       "description_tooltip": null,
       "layout": "IPY_MODEL_d128ad8931c946bd982c81b0893d5ae8",
       "placeholder": "​",
       "style": "IPY_MODEL_b90fd670cfdc4d488c547b5d524d29d2",
       "value": " 29696/? [00:00&lt;00:00, 101763.90it/s]"
      }
     },
     "3d2a11cbe2ed4a2c84eeb3369accdd75": {
      "model_module": "@jupyter-widgets/base",
      "model_module_version": "1.2.0",
      "model_name": "LayoutModel",
      "state": {
       "_model_module": "@jupyter-widgets/base",
       "_model_module_version": "1.2.0",
       "_model_name": "LayoutModel",
       "_view_count": null,
       "_view_module": "@jupyter-widgets/base",
       "_view_module_version": "1.2.0",
       "_view_name": "LayoutView",
       "align_content": null,
       "align_items": null,
       "align_self": null,
       "border": null,
       "bottom": null,
       "display": null,
       "flex": null,
       "flex_flow": null,
       "grid_area": null,
       "grid_auto_columns": null,
       "grid_auto_flow": null,
       "grid_auto_rows": null,
       "grid_column": null,
       "grid_gap": null,
       "grid_row": null,
       "grid_template_areas": null,
       "grid_template_columns": null,
       "grid_template_rows": null,
       "height": null,
       "justify_content": null,
       "justify_items": null,
       "left": null,
       "margin": null,
       "max_height": null,
       "max_width": null,
       "min_height": null,
       "min_width": null,
       "object_fit": null,
       "object_position": null,
       "order": null,
       "overflow": null,
       "overflow_x": null,
       "overflow_y": null,
       "padding": null,
       "right": null,
       "top": null,
       "visibility": null,
       "width": null
      }
     },
     "3e705ea2c32542ba8785757ed5405826": {
      "model_module": "@jupyter-widgets/controls",
      "model_module_version": "1.5.0",
      "model_name": "HBoxModel",
      "state": {
       "_dom_classes": [],
       "_model_module": "@jupyter-widgets/controls",
       "_model_module_version": "1.5.0",
       "_model_name": "HBoxModel",
       "_view_count": null,
       "_view_module": "@jupyter-widgets/controls",
       "_view_module_version": "1.5.0",
       "_view_name": "HBoxView",
       "box_style": "",
       "children": [
        "IPY_MODEL_c0d4d029d25b41429005ba73ccc5a92c",
        "IPY_MODEL_1a8e491437a542bc9f1489562f5f1504",
        "IPY_MODEL_6731905d77d64897a8b79b012a5151dc"
       ],
       "layout": "IPY_MODEL_4dbf3897ff094f509b7d1cb384e122d7"
      }
     },
     "4118d08861974f33a4bed6f3203b126b": {
      "model_module": "@jupyter-widgets/controls",
      "model_module_version": "1.5.0",
      "model_name": "DescriptionStyleModel",
      "state": {
       "_model_module": "@jupyter-widgets/controls",
       "_model_module_version": "1.5.0",
       "_model_name": "DescriptionStyleModel",
       "_view_count": null,
       "_view_module": "@jupyter-widgets/base",
       "_view_module_version": "1.2.0",
       "_view_name": "StyleView",
       "description_width": ""
      }
     },
     "4dbf3897ff094f509b7d1cb384e122d7": {
      "model_module": "@jupyter-widgets/base",
      "model_module_version": "1.2.0",
      "model_name": "LayoutModel",
      "state": {
       "_model_module": "@jupyter-widgets/base",
       "_model_module_version": "1.2.0",
       "_model_name": "LayoutModel",
       "_view_count": null,
       "_view_module": "@jupyter-widgets/base",
       "_view_module_version": "1.2.0",
       "_view_name": "LayoutView",
       "align_content": null,
       "align_items": null,
       "align_self": null,
       "border": null,
       "bottom": null,
       "display": null,
       "flex": null,
       "flex_flow": null,
       "grid_area": null,
       "grid_auto_columns": null,
       "grid_auto_flow": null,
       "grid_auto_rows": null,
       "grid_column": null,
       "grid_gap": null,
       "grid_row": null,
       "grid_template_areas": null,
       "grid_template_columns": null,
       "grid_template_rows": null,
       "height": null,
       "justify_content": null,
       "justify_items": null,
       "left": null,
       "margin": null,
       "max_height": null,
       "max_width": null,
       "min_height": null,
       "min_width": null,
       "object_fit": null,
       "object_position": null,
       "order": null,
       "overflow": null,
       "overflow_x": null,
       "overflow_y": null,
       "padding": null,
       "right": null,
       "top": null,
       "visibility": null,
       "width": null
      }
     },
     "5e2fe062343d418488aa3317240f4911": {
      "model_module": "@jupyter-widgets/base",
      "model_module_version": "1.2.0",
      "model_name": "LayoutModel",
      "state": {
       "_model_module": "@jupyter-widgets/base",
       "_model_module_version": "1.2.0",
       "_model_name": "LayoutModel",
       "_view_count": null,
       "_view_module": "@jupyter-widgets/base",
       "_view_module_version": "1.2.0",
       "_view_name": "LayoutView",
       "align_content": null,
       "align_items": null,
       "align_self": null,
       "border": null,
       "bottom": null,
       "display": null,
       "flex": null,
       "flex_flow": null,
       "grid_area": null,
       "grid_auto_columns": null,
       "grid_auto_flow": null,
       "grid_auto_rows": null,
       "grid_column": null,
       "grid_gap": null,
       "grid_row": null,
       "grid_template_areas": null,
       "grid_template_columns": null,
       "grid_template_rows": null,
       "height": null,
       "justify_content": null,
       "justify_items": null,
       "left": null,
       "margin": null,
       "max_height": null,
       "max_width": null,
       "min_height": null,
       "min_width": null,
       "object_fit": null,
       "object_position": null,
       "order": null,
       "overflow": null,
       "overflow_x": null,
       "overflow_y": null,
       "padding": null,
       "right": null,
       "top": null,
       "visibility": null,
       "width": null
      }
     },
     "625e5873abb14792b6512e0fa6b16b9e": {
      "model_module": "@jupyter-widgets/base",
      "model_module_version": "1.2.0",
      "model_name": "LayoutModel",
      "state": {
       "_model_module": "@jupyter-widgets/base",
       "_model_module_version": "1.2.0",
       "_model_name": "LayoutModel",
       "_view_count": null,
       "_view_module": "@jupyter-widgets/base",
       "_view_module_version": "1.2.0",
       "_view_name": "LayoutView",
       "align_content": null,
       "align_items": null,
       "align_self": null,
       "border": null,
       "bottom": null,
       "display": null,
       "flex": null,
       "flex_flow": null,
       "grid_area": null,
       "grid_auto_columns": null,
       "grid_auto_flow": null,
       "grid_auto_rows": null,
       "grid_column": null,
       "grid_gap": null,
       "grid_row": null,
       "grid_template_areas": null,
       "grid_template_columns": null,
       "grid_template_rows": null,
       "height": null,
       "justify_content": null,
       "justify_items": null,
       "left": null,
       "margin": null,
       "max_height": null,
       "max_width": null,
       "min_height": null,
       "min_width": null,
       "object_fit": null,
       "object_position": null,
       "order": null,
       "overflow": null,
       "overflow_x": null,
       "overflow_y": null,
       "padding": null,
       "right": null,
       "top": null,
       "visibility": null,
       "width": null
      }
     },
     "66767f38c73e467fadafa5893a47ceff": {
      "model_module": "@jupyter-widgets/base",
      "model_module_version": "1.2.0",
      "model_name": "LayoutModel",
      "state": {
       "_model_module": "@jupyter-widgets/base",
       "_model_module_version": "1.2.0",
       "_model_name": "LayoutModel",
       "_view_count": null,
       "_view_module": "@jupyter-widgets/base",
       "_view_module_version": "1.2.0",
       "_view_name": "LayoutView",
       "align_content": null,
       "align_items": null,
       "align_self": null,
       "border": null,
       "bottom": null,
       "display": null,
       "flex": null,
       "flex_flow": null,
       "grid_area": null,
       "grid_auto_columns": null,
       "grid_auto_flow": null,
       "grid_auto_rows": null,
       "grid_column": null,
       "grid_gap": null,
       "grid_row": null,
       "grid_template_areas": null,
       "grid_template_columns": null,
       "grid_template_rows": null,
       "height": null,
       "justify_content": null,
       "justify_items": null,
       "left": null,
       "margin": null,
       "max_height": null,
       "max_width": null,
       "min_height": null,
       "min_width": null,
       "object_fit": null,
       "object_position": null,
       "order": null,
       "overflow": null,
       "overflow_x": null,
       "overflow_y": null,
       "padding": null,
       "right": null,
       "top": null,
       "visibility": null,
       "width": null
      }
     },
     "6731905d77d64897a8b79b012a5151dc": {
      "model_module": "@jupyter-widgets/controls",
      "model_module_version": "1.5.0",
      "model_name": "HTMLModel",
      "state": {
       "_dom_classes": [],
       "_model_module": "@jupyter-widgets/controls",
       "_model_module_version": "1.5.0",
       "_model_name": "HTMLModel",
       "_view_count": null,
       "_view_module": "@jupyter-widgets/controls",
       "_view_module_version": "1.5.0",
       "_view_name": "HTMLView",
       "description": "",
       "description_tooltip": null,
       "layout": "IPY_MODEL_3d2a11cbe2ed4a2c84eeb3369accdd75",
       "placeholder": "​",
       "style": "IPY_MODEL_bccc530c02d24a16b492dc1b7b41a9cb",
       "value": " 6144/? [00:00&lt;00:00, 185004.30it/s]"
      }
     },
     "6dcb4b8429a04885acbe94d8bb3565e7": {
      "model_module": "@jupyter-widgets/base",
      "model_module_version": "1.2.0",
      "model_name": "LayoutModel",
      "state": {
       "_model_module": "@jupyter-widgets/base",
       "_model_module_version": "1.2.0",
       "_model_name": "LayoutModel",
       "_view_count": null,
       "_view_module": "@jupyter-widgets/base",
       "_view_module_version": "1.2.0",
       "_view_name": "LayoutView",
       "align_content": null,
       "align_items": null,
       "align_self": null,
       "border": null,
       "bottom": null,
       "display": null,
       "flex": null,
       "flex_flow": null,
       "grid_area": null,
       "grid_auto_columns": null,
       "grid_auto_flow": null,
       "grid_auto_rows": null,
       "grid_column": null,
       "grid_gap": null,
       "grid_row": null,
       "grid_template_areas": null,
       "grid_template_columns": null,
       "grid_template_rows": null,
       "height": null,
       "justify_content": null,
       "justify_items": null,
       "left": null,
       "margin": null,
       "max_height": null,
       "max_width": null,
       "min_height": null,
       "min_width": null,
       "object_fit": null,
       "object_position": null,
       "order": null,
       "overflow": null,
       "overflow_x": null,
       "overflow_y": null,
       "padding": null,
       "right": null,
       "top": null,
       "visibility": null,
       "width": null
      }
     },
     "7ee4d0bffdd64509846bd4a3574a1713": {
      "model_module": "@jupyter-widgets/controls",
      "model_module_version": "1.5.0",
      "model_name": "HTMLModel",
      "state": {
       "_dom_classes": [],
       "_model_module": "@jupyter-widgets/controls",
       "_model_module_version": "1.5.0",
       "_model_name": "HTMLModel",
       "_view_count": null,
       "_view_module": "@jupyter-widgets/controls",
       "_view_module_version": "1.5.0",
       "_view_name": "HTMLView",
       "description": "",
       "description_tooltip": null,
       "layout": "IPY_MODEL_1811536c299d4c21bf80f16f71dd5f76",
       "placeholder": "​",
       "style": "IPY_MODEL_4118d08861974f33a4bed6f3203b126b",
       "value": ""
      }
     },
     "8c12b39de53f46938d28babce1c4ee75": {
      "model_module": "@jupyter-widgets/controls",
      "model_module_version": "1.5.0",
      "model_name": "HTMLModel",
      "state": {
       "_dom_classes": [],
       "_model_module": "@jupyter-widgets/controls",
       "_model_module_version": "1.5.0",
       "_model_name": "HTMLModel",
       "_view_count": null,
       "_view_module": "@jupyter-widgets/controls",
       "_view_module_version": "1.5.0",
       "_view_name": "HTMLView",
       "description": "",
       "description_tooltip": null,
       "layout": "IPY_MODEL_fbeac0a2745c4571a1a19f6fd781e51d",
       "placeholder": "​",
       "style": "IPY_MODEL_fcb6b685adcd43bc8e8c1466f2ea056d",
       "value": ""
      }
     },
     "926a55b80ab24f2cba6f24f40700b268": {
      "model_module": "@jupyter-widgets/controls",
      "model_module_version": "1.5.0",
      "model_name": "FloatProgressModel",
      "state": {
       "_dom_classes": [],
       "_model_module": "@jupyter-widgets/controls",
       "_model_module_version": "1.5.0",
       "_model_name": "FloatProgressModel",
       "_view_count": null,
       "_view_module": "@jupyter-widgets/controls",
       "_view_module_version": "1.5.0",
       "_view_name": "ProgressView",
       "bar_style": "success",
       "description": "",
       "description_tooltip": null,
       "layout": "IPY_MODEL_625e5873abb14792b6512e0fa6b16b9e",
       "max": 4422102.0,
       "min": 0.0,
       "orientation": "horizontal",
       "style": "IPY_MODEL_f4aea44ed09441eb8edec7ad83952e76",
       "value": 4422102.0
      }
     },
     "a19dca174bf6477da679ae497155fc73": {
      "model_module": "@jupyter-widgets/controls",
      "model_module_version": "1.5.0",
      "model_name": "HTMLModel",
      "state": {
       "_dom_classes": [],
       "_model_module": "@jupyter-widgets/controls",
       "_model_module_version": "1.5.0",
       "_model_name": "HTMLModel",
       "_view_count": null,
       "_view_module": "@jupyter-widgets/controls",
       "_view_module_version": "1.5.0",
       "_view_name": "HTMLView",
       "description": "",
       "description_tooltip": null,
       "layout": "IPY_MODEL_d83797d11ca94c8f8f1fc40445d620b9",
       "placeholder": "​",
       "style": "IPY_MODEL_ff33d453d3874bb39ff66e76f97ba7f4",
       "value": ""
      }
     },
     "a72f9b4ae7e740689199a6739716eae4": {
      "model_module": "@jupyter-widgets/base",
      "model_module_version": "1.2.0",
      "model_name": "LayoutModel",
      "state": {
       "_model_module": "@jupyter-widgets/base",
       "_model_module_version": "1.2.0",
       "_model_name": "LayoutModel",
       "_view_count": null,
       "_view_module": "@jupyter-widgets/base",
       "_view_module_version": "1.2.0",
       "_view_name": "LayoutView",
       "align_content": null,
       "align_items": null,
       "align_self": null,
       "border": null,
       "bottom": null,
       "display": null,
       "flex": null,
       "flex_flow": null,
       "grid_area": null,
       "grid_auto_columns": null,
       "grid_auto_flow": null,
       "grid_auto_rows": null,
       "grid_column": null,
       "grid_gap": null,
       "grid_row": null,
       "grid_template_areas": null,
       "grid_template_columns": null,
       "grid_template_rows": null,
       "height": null,
       "justify_content": null,
       "justify_items": null,
       "left": null,
       "margin": null,
       "max_height": null,
       "max_width": null,
       "min_height": null,
       "min_width": null,
       "object_fit": null,
       "object_position": null,
       "order": null,
       "overflow": null,
       "overflow_x": null,
       "overflow_y": null,
       "padding": null,
       "right": null,
       "top": null,
       "visibility": null,
       "width": null
      }
     },
     "b90fd670cfdc4d488c547b5d524d29d2": {
      "model_module": "@jupyter-widgets/controls",
      "model_module_version": "1.5.0",
      "model_name": "DescriptionStyleModel",
      "state": {
       "_model_module": "@jupyter-widgets/controls",
       "_model_module_version": "1.5.0",
       "_model_name": "DescriptionStyleModel",
       "_view_count": null,
       "_view_module": "@jupyter-widgets/base",
       "_view_module_version": "1.2.0",
       "_view_name": "StyleView",
       "description_width": ""
      }
     },
     "b99ed01cf5304c599b589260d7f3e636": {
      "model_module": "@jupyter-widgets/controls",
      "model_module_version": "1.5.0",
      "model_name": "HBoxModel",
      "state": {
       "_dom_classes": [],
       "_model_module": "@jupyter-widgets/controls",
       "_model_module_version": "1.5.0",
       "_model_name": "HBoxModel",
       "_view_count": null,
       "_view_module": "@jupyter-widgets/controls",
       "_view_module_version": "1.5.0",
       "_view_name": "HBoxView",
       "box_style": "",
       "children": [
        "IPY_MODEL_7ee4d0bffdd64509846bd4a3574a1713",
        "IPY_MODEL_926a55b80ab24f2cba6f24f40700b268",
        "IPY_MODEL_fe641314820f475fa2b9b7b691cfc4bd"
       ],
       "layout": "IPY_MODEL_a72f9b4ae7e740689199a6739716eae4"
      }
     },
     "bafa8d0660a84384b16ca6c9f3b1622a": {
      "model_module": "@jupyter-widgets/base",
      "model_module_version": "1.2.0",
      "model_name": "LayoutModel",
      "state": {
       "_model_module": "@jupyter-widgets/base",
       "_model_module_version": "1.2.0",
       "_model_name": "LayoutModel",
       "_view_count": null,
       "_view_module": "@jupyter-widgets/base",
       "_view_module_version": "1.2.0",
       "_view_name": "LayoutView",
       "align_content": null,
       "align_items": null,
       "align_self": null,
       "border": null,
       "bottom": null,
       "display": null,
       "flex": null,
       "flex_flow": null,
       "grid_area": null,
       "grid_auto_columns": null,
       "grid_auto_flow": null,
       "grid_auto_rows": null,
       "grid_column": null,
       "grid_gap": null,
       "grid_row": null,
       "grid_template_areas": null,
       "grid_template_columns": null,
       "grid_template_rows": null,
       "height": null,
       "justify_content": null,
       "justify_items": null,
       "left": null,
       "margin": null,
       "max_height": null,
       "max_width": null,
       "min_height": null,
       "min_width": null,
       "object_fit": null,
       "object_position": null,
       "order": null,
       "overflow": null,
       "overflow_x": null,
       "overflow_y": null,
       "padding": null,
       "right": null,
       "top": null,
       "visibility": null,
       "width": null
      }
     },
     "bccc530c02d24a16b492dc1b7b41a9cb": {
      "model_module": "@jupyter-widgets/controls",
      "model_module_version": "1.5.0",
      "model_name": "DescriptionStyleModel",
      "state": {
       "_model_module": "@jupyter-widgets/controls",
       "_model_module_version": "1.5.0",
       "_model_name": "DescriptionStyleModel",
       "_view_count": null,
       "_view_module": "@jupyter-widgets/base",
       "_view_module_version": "1.2.0",
       "_view_name": "StyleView",
       "description_width": ""
      }
     },
     "bdb4733d5ccb4e3cbec2b66d5f2be310": {
      "model_module": "@jupyter-widgets/controls",
      "model_module_version": "1.5.0",
      "model_name": "ProgressStyleModel",
      "state": {
       "_model_module": "@jupyter-widgets/controls",
       "_model_module_version": "1.5.0",
       "_model_name": "ProgressStyleModel",
       "_view_count": null,
       "_view_module": "@jupyter-widgets/base",
       "_view_module_version": "1.2.0",
       "_view_name": "StyleView",
       "bar_color": null,
       "description_width": ""
      }
     },
     "be1fc8f1865a41f5bfd35337ddbb6d99": {
      "model_module": "@jupyter-widgets/base",
      "model_module_version": "1.2.0",
      "model_name": "LayoutModel",
      "state": {
       "_model_module": "@jupyter-widgets/base",
       "_model_module_version": "1.2.0",
       "_model_name": "LayoutModel",
       "_view_count": null,
       "_view_module": "@jupyter-widgets/base",
       "_view_module_version": "1.2.0",
       "_view_name": "LayoutView",
       "align_content": null,
       "align_items": null,
       "align_self": null,
       "border": null,
       "bottom": null,
       "display": null,
       "flex": null,
       "flex_flow": null,
       "grid_area": null,
       "grid_auto_columns": null,
       "grid_auto_flow": null,
       "grid_auto_rows": null,
       "grid_column": null,
       "grid_gap": null,
       "grid_row": null,
       "grid_template_areas": null,
       "grid_template_columns": null,
       "grid_template_rows": null,
       "height": null,
       "justify_content": null,
       "justify_items": null,
       "left": null,
       "margin": null,
       "max_height": null,
       "max_width": null,
       "min_height": null,
       "min_width": null,
       "object_fit": null,
       "object_position": null,
       "order": null,
       "overflow": null,
       "overflow_x": null,
       "overflow_y": null,
       "padding": null,
       "right": null,
       "top": null,
       "visibility": null,
       "width": null
      }
     },
     "c0d4d029d25b41429005ba73ccc5a92c": {
      "model_module": "@jupyter-widgets/controls",
      "model_module_version": "1.5.0",
      "model_name": "HTMLModel",
      "state": {
       "_dom_classes": [],
       "_model_module": "@jupyter-widgets/controls",
       "_model_module_version": "1.5.0",
       "_model_name": "HTMLModel",
       "_view_count": null,
       "_view_module": "@jupyter-widgets/controls",
       "_view_module_version": "1.5.0",
       "_view_name": "HTMLView",
       "description": "",
       "description_tooltip": null,
       "layout": "IPY_MODEL_66767f38c73e467fadafa5893a47ceff",
       "placeholder": "​",
       "style": "IPY_MODEL_e6c39863ea054aa39ba26bf5f0208209",
       "value": ""
      }
     },
     "cc8fe1a442574ac1a0c1dbd89fd3f39d": {
      "model_module": "@jupyter-widgets/base",
      "model_module_version": "1.2.0",
      "model_name": "LayoutModel",
      "state": {
       "_model_module": "@jupyter-widgets/base",
       "_model_module_version": "1.2.0",
       "_model_name": "LayoutModel",
       "_view_count": null,
       "_view_module": "@jupyter-widgets/base",
       "_view_module_version": "1.2.0",
       "_view_name": "LayoutView",
       "align_content": null,
       "align_items": null,
       "align_self": null,
       "border": null,
       "bottom": null,
       "display": null,
       "flex": null,
       "flex_flow": null,
       "grid_area": null,
       "grid_auto_columns": null,
       "grid_auto_flow": null,
       "grid_auto_rows": null,
       "grid_column": null,
       "grid_gap": null,
       "grid_row": null,
       "grid_template_areas": null,
       "grid_template_columns": null,
       "grid_template_rows": null,
       "height": null,
       "justify_content": null,
       "justify_items": null,
       "left": null,
       "margin": null,
       "max_height": null,
       "max_width": null,
       "min_height": null,
       "min_width": null,
       "object_fit": null,
       "object_position": null,
       "order": null,
       "overflow": null,
       "overflow_x": null,
       "overflow_y": null,
       "padding": null,
       "right": null,
       "top": null,
       "visibility": null,
       "width": null
      }
     },
     "d128ad8931c946bd982c81b0893d5ae8": {
      "model_module": "@jupyter-widgets/base",
      "model_module_version": "1.2.0",
      "model_name": "LayoutModel",
      "state": {
       "_model_module": "@jupyter-widgets/base",
       "_model_module_version": "1.2.0",
       "_model_name": "LayoutModel",
       "_view_count": null,
       "_view_module": "@jupyter-widgets/base",
       "_view_module_version": "1.2.0",
       "_view_name": "LayoutView",
       "align_content": null,
       "align_items": null,
       "align_self": null,
       "border": null,
       "bottom": null,
       "display": null,
       "flex": null,
       "flex_flow": null,
       "grid_area": null,
       "grid_auto_columns": null,
       "grid_auto_flow": null,
       "grid_auto_rows": null,
       "grid_column": null,
       "grid_gap": null,
       "grid_row": null,
       "grid_template_areas": null,
       "grid_template_columns": null,
       "grid_template_rows": null,
       "height": null,
       "justify_content": null,
       "justify_items": null,
       "left": null,
       "margin": null,
       "max_height": null,
       "max_width": null,
       "min_height": null,
       "min_width": null,
       "object_fit": null,
       "object_position": null,
       "order": null,
       "overflow": null,
       "overflow_x": null,
       "overflow_y": null,
       "padding": null,
       "right": null,
       "top": null,
       "visibility": null,
       "width": null
      }
     },
     "d5c4a425f857420c85897385c61ab796": {
      "model_module": "@jupyter-widgets/base",
      "model_module_version": "1.2.0",
      "model_name": "LayoutModel",
      "state": {
       "_model_module": "@jupyter-widgets/base",
       "_model_module_version": "1.2.0",
       "_model_name": "LayoutModel",
       "_view_count": null,
       "_view_module": "@jupyter-widgets/base",
       "_view_module_version": "1.2.0",
       "_view_name": "LayoutView",
       "align_content": null,
       "align_items": null,
       "align_self": null,
       "border": null,
       "bottom": null,
       "display": null,
       "flex": null,
       "flex_flow": null,
       "grid_area": null,
       "grid_auto_columns": null,
       "grid_auto_flow": null,
       "grid_auto_rows": null,
       "grid_column": null,
       "grid_gap": null,
       "grid_row": null,
       "grid_template_areas": null,
       "grid_template_columns": null,
       "grid_template_rows": null,
       "height": null,
       "justify_content": null,
       "justify_items": null,
       "left": null,
       "margin": null,
       "max_height": null,
       "max_width": null,
       "min_height": null,
       "min_width": null,
       "object_fit": null,
       "object_position": null,
       "order": null,
       "overflow": null,
       "overflow_x": null,
       "overflow_y": null,
       "padding": null,
       "right": null,
       "top": null,
       "visibility": null,
       "width": null
      }
     },
     "d83797d11ca94c8f8f1fc40445d620b9": {
      "model_module": "@jupyter-widgets/base",
      "model_module_version": "1.2.0",
      "model_name": "LayoutModel",
      "state": {
       "_model_module": "@jupyter-widgets/base",
       "_model_module_version": "1.2.0",
       "_model_name": "LayoutModel",
       "_view_count": null,
       "_view_module": "@jupyter-widgets/base",
       "_view_module_version": "1.2.0",
       "_view_name": "LayoutView",
       "align_content": null,
       "align_items": null,
       "align_self": null,
       "border": null,
       "bottom": null,
       "display": null,
       "flex": null,
       "flex_flow": null,
       "grid_area": null,
       "grid_auto_columns": null,
       "grid_auto_flow": null,
       "grid_auto_rows": null,
       "grid_column": null,
       "grid_gap": null,
       "grid_row": null,
       "grid_template_areas": null,
       "grid_template_columns": null,
       "grid_template_rows": null,
       "height": null,
       "justify_content": null,
       "justify_items": null,
       "left": null,
       "margin": null,
       "max_height": null,
       "max_width": null,
       "min_height": null,
       "min_width": null,
       "object_fit": null,
       "object_position": null,
       "order": null,
       "overflow": null,
       "overflow_x": null,
       "overflow_y": null,
       "padding": null,
       "right": null,
       "top": null,
       "visibility": null,
       "width": null
      }
     },
     "e23c5dfb09194d9fa255fe6395445817": {
      "model_module": "@jupyter-widgets/controls",
      "model_module_version": "1.5.0",
      "model_name": "DescriptionStyleModel",
      "state": {
       "_model_module": "@jupyter-widgets/controls",
       "_model_module_version": "1.5.0",
       "_model_name": "DescriptionStyleModel",
       "_view_count": null,
       "_view_module": "@jupyter-widgets/base",
       "_view_module_version": "1.2.0",
       "_view_name": "StyleView",
       "description_width": ""
      }
     },
     "e6c39863ea054aa39ba26bf5f0208209": {
      "model_module": "@jupyter-widgets/controls",
      "model_module_version": "1.5.0",
      "model_name": "DescriptionStyleModel",
      "state": {
       "_model_module": "@jupyter-widgets/controls",
       "_model_module_version": "1.5.0",
       "_model_name": "DescriptionStyleModel",
       "_view_count": null,
       "_view_module": "@jupyter-widgets/base",
       "_view_module_version": "1.2.0",
       "_view_name": "StyleView",
       "description_width": ""
      }
     },
     "ebadff0301bf4e80b634549a8e5cee65": {
      "model_module": "@jupyter-widgets/controls",
      "model_module_version": "1.5.0",
      "model_name": "DescriptionStyleModel",
      "state": {
       "_model_module": "@jupyter-widgets/controls",
       "_model_module_version": "1.5.0",
       "_model_name": "DescriptionStyleModel",
       "_view_count": null,
       "_view_module": "@jupyter-widgets/base",
       "_view_module_version": "1.2.0",
       "_view_name": "StyleView",
       "description_width": ""
      }
     },
     "f22cc86abd654683a48ffb84eb11ffe8": {
      "model_module": "@jupyter-widgets/controls",
      "model_module_version": "1.5.0",
      "model_name": "FloatProgressModel",
      "state": {
       "_dom_classes": [],
       "_model_module": "@jupyter-widgets/controls",
       "_model_module_version": "1.5.0",
       "_model_name": "FloatProgressModel",
       "_view_count": null,
       "_view_module": "@jupyter-widgets/controls",
       "_view_module_version": "1.5.0",
       "_view_name": "ProgressView",
       "bar_style": "success",
       "description": "",
       "description_tooltip": null,
       "layout": "IPY_MODEL_5e2fe062343d418488aa3317240f4911",
       "max": 29515.0,
       "min": 0.0,
       "orientation": "horizontal",
       "style": "IPY_MODEL_1a61febdce6b4cfb824b6c9eab7a5f79",
       "value": 29515.0
      }
     },
     "f4aea44ed09441eb8edec7ad83952e76": {
      "model_module": "@jupyter-widgets/controls",
      "model_module_version": "1.5.0",
      "model_name": "ProgressStyleModel",
      "state": {
       "_model_module": "@jupyter-widgets/controls",
       "_model_module_version": "1.5.0",
       "_model_name": "ProgressStyleModel",
       "_view_count": null,
       "_view_module": "@jupyter-widgets/base",
       "_view_module_version": "1.2.0",
       "_view_name": "StyleView",
       "bar_color": null,
       "description_width": ""
      }
     },
     "fbeac0a2745c4571a1a19f6fd781e51d": {
      "model_module": "@jupyter-widgets/base",
      "model_module_version": "1.2.0",
      "model_name": "LayoutModel",
      "state": {
       "_model_module": "@jupyter-widgets/base",
       "_model_module_version": "1.2.0",
       "_model_name": "LayoutModel",
       "_view_count": null,
       "_view_module": "@jupyter-widgets/base",
       "_view_module_version": "1.2.0",
       "_view_name": "LayoutView",
       "align_content": null,
       "align_items": null,
       "align_self": null,
       "border": null,
       "bottom": null,
       "display": null,
       "flex": null,
       "flex_flow": null,
       "grid_area": null,
       "grid_auto_columns": null,
       "grid_auto_flow": null,
       "grid_auto_rows": null,
       "grid_column": null,
       "grid_gap": null,
       "grid_row": null,
       "grid_template_areas": null,
       "grid_template_columns": null,
       "grid_template_rows": null,
       "height": null,
       "justify_content": null,
       "justify_items": null,
       "left": null,
       "margin": null,
       "max_height": null,
       "max_width": null,
       "min_height": null,
       "min_width": null,
       "object_fit": null,
       "object_position": null,
       "order": null,
       "overflow": null,
       "overflow_x": null,
       "overflow_y": null,
       "padding": null,
       "right": null,
       "top": null,
       "visibility": null,
       "width": null
      }
     },
     "fcb6b685adcd43bc8e8c1466f2ea056d": {
      "model_module": "@jupyter-widgets/controls",
      "model_module_version": "1.5.0",
      "model_name": "DescriptionStyleModel",
      "state": {
       "_model_module": "@jupyter-widgets/controls",
       "_model_module_version": "1.5.0",
       "_model_name": "DescriptionStyleModel",
       "_view_count": null,
       "_view_module": "@jupyter-widgets/base",
       "_view_module_version": "1.2.0",
       "_view_name": "StyleView",
       "description_width": ""
      }
     },
     "fe641314820f475fa2b9b7b691cfc4bd": {
      "model_module": "@jupyter-widgets/controls",
      "model_module_version": "1.5.0",
      "model_name": "HTMLModel",
      "state": {
       "_dom_classes": [],
       "_model_module": "@jupyter-widgets/controls",
       "_model_module_version": "1.5.0",
       "_model_name": "HTMLModel",
       "_view_count": null,
       "_view_module": "@jupyter-widgets/controls",
       "_view_module_version": "1.5.0",
       "_view_name": "HTMLView",
       "description": "",
       "description_tooltip": null,
       "layout": "IPY_MODEL_bafa8d0660a84384b16ca6c9f3b1622a",
       "placeholder": "​",
       "style": "IPY_MODEL_e23c5dfb09194d9fa255fe6395445817",
       "value": " 4422656/? [00:01&lt;00:00, 5870976.11it/s]"
      }
     },
     "ff33d453d3874bb39ff66e76f97ba7f4": {
      "model_module": "@jupyter-widgets/controls",
      "model_module_version": "1.5.0",
      "model_name": "DescriptionStyleModel",
      "state": {
       "_model_module": "@jupyter-widgets/controls",
       "_model_module_version": "1.5.0",
       "_model_name": "DescriptionStyleModel",
       "_view_count": null,
       "_view_module": "@jupyter-widgets/base",
       "_view_module_version": "1.2.0",
       "_view_name": "StyleView",
       "description_width": ""
      }
     }
    },
    "version_major": 2,
    "version_minor": 0
   }
  }
 },
 "nbformat": 4,
 "nbformat_minor": 5
}
