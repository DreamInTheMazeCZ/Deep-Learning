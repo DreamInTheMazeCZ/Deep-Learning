{
 "cells": [
  {
   "cell_type": "markdown",
   "id": "1175b146",
   "metadata": {
    "papermill": {
     "duration": 0.03549,
     "end_time": "2022-09-14T13:50:02.423911",
     "exception": false,
     "start_time": "2022-09-14T13:50:02.388421",
     "status": "completed"
    },
    "tags": []
   },
   "source": [
    "## PyTorch\n",
    "https://tutorials.pytorch.kr/beginner/blitz/neural_networks_tutorial.html\n",
    "\n",
    "### 모듈 구조\n",
    "- torch : 메인 네임스페이스로 텐서 등의 다양한 수학 함수 포함\n",
    "- torch.autograd : 자동 미분 기능 제공\n",
    "- torch.nn : 신경망 구축을 위한 데이터 구조나 레이어 등의 라이브러리\n",
    "- torch.multiprocessing : 병렬처리 기능 제공\n",
    "- torch.optim : SGD를 중심으로 한 파라미터 최적화 알고리즘 지공\n",
    "- torch.utils : 데이터 조작 등의 유틸리티 기능 제공\n",
    "- torch.onnx : Open Neural Network Exchange로, 서로 다른 프레임워크 간의 모델을 공유할 때 사용"
   ]
  },
  {
   "cell_type": "markdown",
   "id": "01c08aa8",
   "metadata": {
    "papermill": {
     "duration": 0.03302,
     "end_time": "2022-09-14T13:50:02.491567",
     "exception": false,
     "start_time": "2022-09-14T13:50:02.458547",
     "status": "completed"
    },
    "tags": []
   },
   "source": [
    "### Tensor\n",
    "- 데이터 표현을 위한 기본 구조로 텐서를 사용\n",
    "- 데이터를 담기위한 컨테이너로서 일반적으로 수치형 데이터 저장\n",
    "- NumPy의 ndarray와 유사\n",
    "- GPU를 사용한 연산 가속 가능\n",
    "\n",
    "\n",
    "- 0D : Scalar / Shape : ()\n",
    "- 1D : Vector / Shape : (n, )\n",
    "- 2D : Matrix / Shape : (n, n)\n",
    "- 3D / Shape (n, n, n)\n",
    "- 4D / Shape (n, n, n, n) : n×n×n Tensor가 n개 존재\n",
    "- 5D / Shape (n, n, n, n, n) : n×n×n Tensor가 n×n개 존재\n",
    "- 6D / Shape (n, n, n, n, n, n) : n×n×n Tensor가 n×n×n개 존재\n"
   ]
  },
  {
   "cell_type": "code",
   "execution_count": 1,
   "id": "e8853a01",
   "metadata": {
    "execution": {
     "iopub.execute_input": "2022-09-14T13:50:02.559624Z",
     "iopub.status.busy": "2022-09-14T13:50:02.558874Z",
     "iopub.status.idle": "2022-09-14T13:50:04.536242Z",
     "shell.execute_reply": "2022-09-14T13:50:04.535019Z"
    },
    "papermill": {
     "duration": 2.015299,
     "end_time": "2022-09-14T13:50:04.539718",
     "exception": false,
     "start_time": "2022-09-14T13:50:02.524419",
     "status": "completed"
    },
    "tags": []
   },
   "outputs": [
    {
     "data": {
      "text/plain": [
       "'1.11.0+cpu'"
      ]
     },
     "execution_count": 1,
     "metadata": {},
     "output_type": "execute_result"
    }
   ],
   "source": [
    "import torch\n",
    "torch.__version__"
   ]
  },
  {
   "cell_type": "markdown",
   "id": "c1dd5eb4",
   "metadata": {
    "papermill": {
     "duration": 0.03299,
     "end_time": "2022-09-14T13:50:04.606955",
     "exception": false,
     "start_time": "2022-09-14T13:50:04.573965",
     "status": "completed"
    },
    "tags": []
   },
   "source": [
    "### 텐서 초기화 및 데이터 타입"
   ]
  },
  {
   "cell_type": "code",
   "execution_count": 2,
   "id": "7c4daf21",
   "metadata": {
    "execution": {
     "iopub.execute_input": "2022-09-14T13:50:04.675278Z",
     "iopub.status.busy": "2022-09-14T13:50:04.674699Z",
     "iopub.status.idle": "2022-09-14T13:50:04.682529Z",
     "shell.execute_reply": "2022-09-14T13:50:04.680692Z"
    },
    "papermill": {
     "duration": 0.044816,
     "end_time": "2022-09-14T13:50:04.685048",
     "exception": false,
     "start_time": "2022-09-14T13:50:04.640232",
     "status": "completed"
    },
    "tags": []
   },
   "outputs": [
    {
     "name": "stdout",
     "output_type": "stream",
     "text": [
      "tensor([[8.4277e-16, 3.0653e-41],\n",
      "        [0.0000e+00, 0.0000e+00],\n",
      "        [1.4013e-45, 0.0000e+00],\n",
      "        [0.0000e+00, 2.7350e+20]])\n"
     ]
    }
   ],
   "source": [
    "# 초기화되지 않은 텐서\n",
    "x = torch.empty(4,2)\n",
    "print(x)"
   ]
  },
  {
   "cell_type": "code",
   "execution_count": 3,
   "id": "d771600e",
   "metadata": {
    "execution": {
     "iopub.execute_input": "2022-09-14T13:50:04.753226Z",
     "iopub.status.busy": "2022-09-14T13:50:04.752821Z",
     "iopub.status.idle": "2022-09-14T13:50:04.761764Z",
     "shell.execute_reply": "2022-09-14T13:50:04.760463Z"
    },
    "papermill": {
     "duration": 0.045943,
     "end_time": "2022-09-14T13:50:04.764450",
     "exception": false,
     "start_time": "2022-09-14T13:50:04.718507",
     "status": "completed"
    },
    "tags": []
   },
   "outputs": [
    {
     "name": "stdout",
     "output_type": "stream",
     "text": [
      "tensor([[0.0094, 0.7302],\n",
      "        [0.5190, 0.5036],\n",
      "        [0.7264, 0.6168],\n",
      "        [0.7024, 0.6086]])\n"
     ]
    }
   ],
   "source": [
    "# 무작위로 초기화된 텐서\n",
    "x=torch.rand(4,2)\n",
    "print(x)"
   ]
  },
  {
   "cell_type": "code",
   "execution_count": 4,
   "id": "86a7d6b1",
   "metadata": {
    "execution": {
     "iopub.execute_input": "2022-09-14T13:50:04.832900Z",
     "iopub.status.busy": "2022-09-14T13:50:04.832520Z",
     "iopub.status.idle": "2022-09-14T13:50:04.837567Z",
     "shell.execute_reply": "2022-09-14T13:50:04.836834Z"
    },
    "papermill": {
     "duration": 0.042232,
     "end_time": "2022-09-14T13:50:04.839808",
     "exception": false,
     "start_time": "2022-09-14T13:50:04.797576",
     "status": "completed"
    },
    "tags": []
   },
   "outputs": [
    {
     "name": "stdout",
     "output_type": "stream",
     "text": [
      "tensor([[0, 0],\n",
      "        [0, 0],\n",
      "        [0, 0],\n",
      "        [0, 0]])\n"
     ]
    }
   ],
   "source": [
    "# 데이터 타입이 long이고, 0 텐서\n",
    "x = torch.zeros(4,2, dtype=torch.long)\n",
    "print(x)"
   ]
  },
  {
   "cell_type": "code",
   "execution_count": 5,
   "id": "60de8c33",
   "metadata": {
    "execution": {
     "iopub.execute_input": "2022-09-14T13:50:04.908563Z",
     "iopub.status.busy": "2022-09-14T13:50:04.908165Z",
     "iopub.status.idle": "2022-09-14T13:50:04.914511Z",
     "shell.execute_reply": "2022-09-14T13:50:04.913284Z"
    },
    "papermill": {
     "duration": 0.044565,
     "end_time": "2022-09-14T13:50:04.917670",
     "exception": false,
     "start_time": "2022-09-14T13:50:04.873105",
     "status": "completed"
    },
    "tags": []
   },
   "outputs": [
    {
     "name": "stdout",
     "output_type": "stream",
     "text": [
      "tensor([3.0000, 2.3000])\n"
     ]
    }
   ],
   "source": [
    "# 입력값으로 텐서 초기화\n",
    "x = torch.tensor([3, 2.3])\n",
    "print(x)"
   ]
  },
  {
   "cell_type": "code",
   "execution_count": 6,
   "id": "a225b6ee",
   "metadata": {
    "execution": {
     "iopub.execute_input": "2022-09-14T13:50:04.988143Z",
     "iopub.status.busy": "2022-09-14T13:50:04.987723Z",
     "iopub.status.idle": "2022-09-14T13:50:04.993870Z",
     "shell.execute_reply": "2022-09-14T13:50:04.993001Z"
    },
    "papermill": {
     "duration": 0.043559,
     "end_time": "2022-09-14T13:50:04.996379",
     "exception": false,
     "start_time": "2022-09-14T13:50:04.952820",
     "status": "completed"
    },
    "tags": []
   },
   "outputs": [
    {
     "name": "stdout",
     "output_type": "stream",
     "text": [
      "tensor([[1., 1., 1., 1.],\n",
      "        [1., 1., 1., 1.]], dtype=torch.float64)\n"
     ]
    }
   ],
   "source": [
    "# 2×4 크기, Double 타입, 1의 텐서\n",
    "x = x.new_ones(2,4,dtype=torch.double)\n",
    "print(x)"
   ]
  },
  {
   "cell_type": "code",
   "execution_count": 7,
   "id": "666d1d9a",
   "metadata": {
    "execution": {
     "iopub.execute_input": "2022-09-14T13:50:05.065305Z",
     "iopub.status.busy": "2022-09-14T13:50:05.064939Z",
     "iopub.status.idle": "2022-09-14T13:50:05.072832Z",
     "shell.execute_reply": "2022-09-14T13:50:05.071116Z"
    },
    "papermill": {
     "duration": 0.045705,
     "end_time": "2022-09-14T13:50:05.075484",
     "exception": false,
     "start_time": "2022-09-14T13:50:05.029779",
     "status": "completed"
    },
    "tags": []
   },
   "outputs": [
    {
     "name": "stdout",
     "output_type": "stream",
     "text": [
      "tensor([[-0.0272, -0.3514, -0.0837,  1.0918],\n",
      "        [ 0.0593, -1.1440,  1.1097,  1.5688]])\n"
     ]
    }
   ],
   "source": [
    "# X와 같은 크기, float 타입, 무작위 텐서\n",
    "x = torch.randn_like(x, dtype=torch.float)\n",
    "print(x)"
   ]
  },
  {
   "cell_type": "code",
   "execution_count": 8,
   "id": "c2e52a54",
   "metadata": {
    "execution": {
     "iopub.execute_input": "2022-09-14T13:50:05.145348Z",
     "iopub.status.busy": "2022-09-14T13:50:05.144974Z",
     "iopub.status.idle": "2022-09-14T13:50:05.151987Z",
     "shell.execute_reply": "2022-09-14T13:50:05.150802Z"
    },
    "papermill": {
     "duration": 0.044236,
     "end_time": "2022-09-14T13:50:05.154317",
     "exception": false,
     "start_time": "2022-09-14T13:50:05.110081",
     "status": "completed"
    },
    "tags": []
   },
   "outputs": [
    {
     "data": {
      "text/plain": [
       "torch.Size([2, 4])"
      ]
     },
     "execution_count": 8,
     "metadata": {},
     "output_type": "execute_result"
    }
   ],
   "source": [
    "# 텐서 크기\n",
    "x.size() # 2×4 크기의 텐서"
   ]
  },
  {
   "cell_type": "markdown",
   "id": "aa1f3c21",
   "metadata": {
    "papermill": {
     "duration": 0.033598,
     "end_time": "2022-09-14T13:50:05.221755",
     "exception": false,
     "start_time": "2022-09-14T13:50:05.188157",
     "status": "completed"
    },
    "tags": []
   },
   "source": [
    "### 데이터 타입\n",
    "- torch.float : 32 bit floating\n",
    "- torch.double : 64 bit floating\n",
    "- torch.half : 16 bit floating\n",
    "- torch.unit8 : 8 bit integer(unsigned)\n",
    "- torch.int8 : 8 bit integer(signed)\n",
    "- torch.short : 16 bit integer(signed)\n",
    "- torch.int : 32 bit integer(signed)\n",
    "- torch.long : 64 bit integer(signed)"
   ]
  },
  {
   "cell_type": "code",
   "execution_count": 9,
   "id": "69492990",
   "metadata": {
    "execution": {
     "iopub.execute_input": "2022-09-14T13:50:05.291433Z",
     "iopub.status.busy": "2022-09-14T13:50:05.291056Z",
     "iopub.status.idle": "2022-09-14T13:50:05.297098Z",
     "shell.execute_reply": "2022-09-14T13:50:05.296281Z"
    },
    "papermill": {
     "duration": 0.043615,
     "end_time": "2022-09-14T13:50:05.299465",
     "exception": false,
     "start_time": "2022-09-14T13:50:05.255850",
     "status": "completed"
    },
    "tags": []
   },
   "outputs": [
    {
     "name": "stdout",
     "output_type": "stream",
     "text": [
      "tensor([1., 2., 3.]) torch.float32\n"
     ]
    }
   ],
   "source": [
    "ft = torch.FloatTensor([1,2,3])\n",
    "print(ft, ft.dtype)"
   ]
  },
  {
   "cell_type": "code",
   "execution_count": 10,
   "id": "15248414",
   "metadata": {
    "execution": {
     "iopub.execute_input": "2022-09-14T13:50:05.368855Z",
     "iopub.status.busy": "2022-09-14T13:50:05.368442Z",
     "iopub.status.idle": "2022-09-14T13:50:05.374899Z",
     "shell.execute_reply": "2022-09-14T13:50:05.373688Z"
    },
    "papermill": {
     "duration": 0.044379,
     "end_time": "2022-09-14T13:50:05.377544",
     "exception": false,
     "start_time": "2022-09-14T13:50:05.333165",
     "status": "completed"
    },
    "tags": []
   },
   "outputs": [
    {
     "name": "stdout",
     "output_type": "stream",
     "text": [
      "tensor([1, 2, 3], dtype=torch.int16)\n",
      "tensor([1, 2, 3], dtype=torch.int32)\n",
      "tensor([1, 2, 3])\n"
     ]
    }
   ],
   "source": [
    "# Type Casting\n",
    "print(ft.short())\n",
    "print(ft.int())\n",
    "print(ft.long())"
   ]
  },
  {
   "cell_type": "code",
   "execution_count": 11,
   "id": "db5761d7",
   "metadata": {
    "execution": {
     "iopub.execute_input": "2022-09-14T13:50:05.447906Z",
     "iopub.status.busy": "2022-09-14T13:50:05.447506Z",
     "iopub.status.idle": "2022-09-14T13:50:05.453796Z",
     "shell.execute_reply": "2022-09-14T13:50:05.452449Z"
    },
    "papermill": {
     "duration": 0.044645,
     "end_time": "2022-09-14T13:50:05.456831",
     "exception": false,
     "start_time": "2022-09-14T13:50:05.412186",
     "status": "completed"
    },
    "tags": []
   },
   "outputs": [
    {
     "name": "stdout",
     "output_type": "stream",
     "text": [
      "tensor([1, 2, 3], dtype=torch.int32) torch.int32\n"
     ]
    }
   ],
   "source": [
    "it = torch.IntTensor([1,2,3])\n",
    "print(it, it.dtype)"
   ]
  },
  {
   "cell_type": "code",
   "execution_count": 12,
   "id": "0f33cec1",
   "metadata": {
    "execution": {
     "iopub.execute_input": "2022-09-14T13:50:05.528045Z",
     "iopub.status.busy": "2022-09-14T13:50:05.527634Z",
     "iopub.status.idle": "2022-09-14T13:50:05.538228Z",
     "shell.execute_reply": "2022-09-14T13:50:05.536732Z"
    },
    "papermill": {
     "duration": 0.048457,
     "end_time": "2022-09-14T13:50:05.540708",
     "exception": false,
     "start_time": "2022-09-14T13:50:05.492251",
     "status": "completed"
    },
    "tags": []
   },
   "outputs": [
    {
     "name": "stdout",
     "output_type": "stream",
     "text": [
      "tensor([1., 2., 3.])\n",
      "tensor([1., 2., 3.], dtype=torch.float64)\n",
      "tensor([1., 2., 3.], dtype=torch.float16)\n"
     ]
    }
   ],
   "source": [
    "print(it.float())\n",
    "print(it.double())\n",
    "print(it.half())"
   ]
  },
  {
   "cell_type": "markdown",
   "id": "2c9b619b",
   "metadata": {
    "papermill": {
     "duration": 0.033699,
     "end_time": "2022-09-14T13:50:05.608761",
     "exception": false,
     "start_time": "2022-09-14T13:50:05.575062",
     "status": "completed"
    },
    "tags": []
   },
   "source": [
    "### CUDA Tensors\n",
    "- .to 메서드를 통해 텐서를 CPU, GPU 등으로 이동 가능"
   ]
  },
  {
   "cell_type": "code",
   "execution_count": 13,
   "id": "ccf82024",
   "metadata": {
    "execution": {
     "iopub.execute_input": "2022-09-14T13:50:05.679089Z",
     "iopub.status.busy": "2022-09-14T13:50:05.678714Z",
     "iopub.status.idle": "2022-09-14T13:50:05.684699Z",
     "shell.execute_reply": "2022-09-14T13:50:05.683836Z"
    },
    "papermill": {
     "duration": 0.043628,
     "end_time": "2022-09-14T13:50:05.686768",
     "exception": false,
     "start_time": "2022-09-14T13:50:05.643140",
     "status": "completed"
    },
    "tags": []
   },
   "outputs": [
    {
     "name": "stdout",
     "output_type": "stream",
     "text": [
      "tensor([-1.1678]) -1.1677838563919067 torch.float32\n"
     ]
    }
   ],
   "source": [
    "x = torch.randn(1)\n",
    "print(x, x.item(), x.dtype)"
   ]
  },
  {
   "cell_type": "code",
   "execution_count": 14,
   "id": "7b13e9de",
   "metadata": {
    "execution": {
     "iopub.execute_input": "2022-09-14T13:50:05.756885Z",
     "iopub.status.busy": "2022-09-14T13:50:05.756449Z",
     "iopub.status.idle": "2022-09-14T13:50:05.766553Z",
     "shell.execute_reply": "2022-09-14T13:50:05.765318Z"
    },
    "papermill": {
     "duration": 0.047975,
     "end_time": "2022-09-14T13:50:05.768613",
     "exception": false,
     "start_time": "2022-09-14T13:50:05.720638",
     "status": "completed"
    },
    "tags": []
   },
   "outputs": [
    {
     "name": "stdout",
     "output_type": "stream",
     "text": [
      "cpu\n",
      "tensor([1.])\n",
      "tensor([-0.1678])\n",
      "tensor([-0.1678], dtype=torch.float64)\n"
     ]
    }
   ],
   "source": [
    "device = torch.device('cuda' if torch.cuda.is_available() else 'cpu')\n",
    "print(device)\n",
    "y = torch.ones_like(x, device=device)\n",
    "print(y)\n",
    "x = x.to(device)\n",
    "z = x+y\n",
    "print(z)\n",
    "print(z.to('cpu',torch.double))"
   ]
  },
  {
   "cell_type": "markdown",
   "id": "3c56fefc",
   "metadata": {
    "papermill": {
     "duration": 0.03379,
     "end_time": "2022-09-14T13:50:05.836350",
     "exception": false,
     "start_time": "2022-09-14T13:50:05.802560",
     "status": "completed"
    },
    "tags": []
   },
   "source": [
    "### 다차원 텐서 표현"
   ]
  },
  {
   "cell_type": "code",
   "execution_count": 15,
   "id": "462831a3",
   "metadata": {
    "execution": {
     "iopub.execute_input": "2022-09-14T13:50:05.905971Z",
     "iopub.status.busy": "2022-09-14T13:50:05.905581Z",
     "iopub.status.idle": "2022-09-14T13:50:05.910971Z",
     "shell.execute_reply": "2022-09-14T13:50:05.910190Z"
    },
    "papermill": {
     "duration": 0.043887,
     "end_time": "2022-09-14T13:50:05.914141",
     "exception": false,
     "start_time": "2022-09-14T13:50:05.870254",
     "status": "completed"
    },
    "tags": []
   },
   "outputs": [
    {
     "name": "stdout",
     "output_type": "stream",
     "text": [
      "0 torch.Size([]) tensor(0)\n"
     ]
    }
   ],
   "source": [
    "# 0D Tensor : Scalar\n",
    "# 하나의 숫자를 담고 있는 텐서\n",
    "# 축과 형상 없음\n",
    "\n",
    "t0 = torch.tensor(0)\n",
    "print(t0.ndim, t0.shape, t0)"
   ]
  },
  {
   "cell_type": "code",
   "execution_count": 16,
   "id": "4ff46a66",
   "metadata": {
    "execution": {
     "iopub.execute_input": "2022-09-14T13:50:05.985044Z",
     "iopub.status.busy": "2022-09-14T13:50:05.984644Z",
     "iopub.status.idle": "2022-09-14T13:50:05.990621Z",
     "shell.execute_reply": "2022-09-14T13:50:05.989543Z"
    },
    "papermill": {
     "duration": 0.044178,
     "end_time": "2022-09-14T13:50:05.993251",
     "exception": false,
     "start_time": "2022-09-14T13:50:05.949073",
     "status": "completed"
    },
    "tags": []
   },
   "outputs": [
    {
     "name": "stdout",
     "output_type": "stream",
     "text": [
      "1 torch.Size([3]) tensor([1, 2, 3])\n"
     ]
    }
   ],
   "source": [
    "# 1D Tensor : Vector\n",
    "# 값이 저장된 리스트와 유사\n",
    "# 하나의 축 존재\n",
    "\n",
    "t1 = torch.tensor([1,2,3])\n",
    "print(t1.ndim, t1.shape, t1)"
   ]
  },
  {
   "cell_type": "code",
   "execution_count": 17,
   "id": "0be41190",
   "metadata": {
    "execution": {
     "iopub.execute_input": "2022-09-14T13:50:06.063685Z",
     "iopub.status.busy": "2022-09-14T13:50:06.063274Z",
     "iopub.status.idle": "2022-09-14T13:50:06.070705Z",
     "shell.execute_reply": "2022-09-14T13:50:06.069476Z"
    },
    "papermill": {
     "duration": 0.045062,
     "end_time": "2022-09-14T13:50:06.072808",
     "exception": false,
     "start_time": "2022-09-14T13:50:06.027746",
     "status": "completed"
    },
    "tags": []
   },
   "outputs": [
    {
     "name": "stdout",
     "output_type": "stream",
     "text": [
      "2 torch.Size([3, 3]) tensor([[1, 2, 3],\n",
      "        [4, 5, 6],\n",
      "        [7, 8, 9]])\n"
     ]
    }
   ],
   "source": [
    "# 2D Tensor : Matrix\n",
    "# 행렬과 같은 모양으로 두개의 축 존재\n",
    "# 일반적인 수치 및 통계 데이터셋이 해당\n",
    "# 주로 Samples와 Features(특성)를 가진 구조로 사용\n",
    "\n",
    "t2 = torch.tensor([[1,2,3],\n",
    "                   [4,5,6],\n",
    "                   [7,8,9]])\n",
    "print(t2.ndim, t2.shape, t2)"
   ]
  },
  {
   "cell_type": "code",
   "execution_count": 18,
   "id": "dce50c9c",
   "metadata": {
    "execution": {
     "iopub.execute_input": "2022-09-14T13:50:06.145061Z",
     "iopub.status.busy": "2022-09-14T13:50:06.144669Z",
     "iopub.status.idle": "2022-09-14T13:50:06.153210Z",
     "shell.execute_reply": "2022-09-14T13:50:06.151742Z"
    },
    "papermill": {
     "duration": 0.04753,
     "end_time": "2022-09-14T13:50:06.155978",
     "exception": false,
     "start_time": "2022-09-14T13:50:06.108448",
     "status": "completed"
    },
    "tags": []
   },
   "outputs": [
    {
     "name": "stdout",
     "output_type": "stream",
     "text": [
      "3 torch.Size([3, 3, 3]) tensor([[[1, 2, 3],\n",
      "         [4, 5, 6],\n",
      "         [7, 8, 9]],\n",
      "\n",
      "        [[1, 2, 3],\n",
      "         [4, 5, 6],\n",
      "         [7, 8, 9]],\n",
      "\n",
      "        [[1, 2, 3],\n",
      "         [4, 5, 6],\n",
      "         [7, 8, 9]]])\n"
     ]
    }
   ],
   "source": [
    "# 3D Tensor\n",
    "# 큐브와 같은 모양으로 세 개의 축 존재\n",
    "# 데이터가 연속된 시퀀스 데이터나 시간 축이 포함된 시계열 데이터에 해당\n",
    "# 주식 가격 데이터셋, 시간에 따른 질병 발병 데이터셋 등\n",
    "# 주로 Samples, Timesteps, Features를 가진 구조\n",
    "\n",
    "t3 = torch.tensor([[[1,2,3],\n",
    "                   [4,5,6],\n",
    "                   [7,8,9]],\n",
    "                  [[1,2,3],\n",
    "                   [4,5,6],\n",
    "                   [7,8,9]],\n",
    "                  [[1,2,3],\n",
    "                   [4,5,6],\n",
    "                   [7,8,9]]])\n",
    "print(t3.ndim, t3.shape, t3)"
   ]
  },
  {
   "cell_type": "code",
   "execution_count": 19,
   "id": "77b0a07a",
   "metadata": {
    "execution": {
     "iopub.execute_input": "2022-09-14T13:50:06.228077Z",
     "iopub.status.busy": "2022-09-14T13:50:06.227676Z",
     "iopub.status.idle": "2022-09-14T13:50:06.239266Z",
     "shell.execute_reply": "2022-09-14T13:50:06.238442Z"
    },
    "papermill": {
     "duration": 0.050443,
     "end_time": "2022-09-14T13:50:06.241930",
     "exception": false,
     "start_time": "2022-09-14T13:50:06.191487",
     "status": "completed"
    },
    "tags": []
   },
   "outputs": [
    {
     "name": "stdout",
     "output_type": "stream",
     "text": [
      "4 torch.Size([3, 3, 3, 3]) tensor([[[[1, 2, 3],\n",
      "          [4, 5, 6],\n",
      "          [7, 8, 9]],\n",
      "\n",
      "         [[1, 2, 3],\n",
      "          [4, 5, 6],\n",
      "          [7, 8, 9]],\n",
      "\n",
      "         [[1, 2, 3],\n",
      "          [4, 5, 6],\n",
      "          [7, 8, 9]]],\n",
      "\n",
      "\n",
      "        [[[1, 2, 3],\n",
      "          [4, 5, 6],\n",
      "          [7, 8, 9]],\n",
      "\n",
      "         [[1, 2, 3],\n",
      "          [4, 5, 6],\n",
      "          [7, 8, 9]],\n",
      "\n",
      "         [[1, 2, 3],\n",
      "          [4, 5, 6],\n",
      "          [7, 8, 9]]],\n",
      "\n",
      "\n",
      "        [[[1, 2, 3],\n",
      "          [4, 5, 6],\n",
      "          [7, 8, 9]],\n",
      "\n",
      "         [[1, 2, 3],\n",
      "          [4, 5, 6],\n",
      "          [7, 8, 9]],\n",
      "\n",
      "         [[1, 2, 3],\n",
      "          [4, 5, 6],\n",
      "          [7, 8, 9]]]])\n"
     ]
    }
   ],
   "source": [
    "# 4D Tensor\n",
    "# 네 개의 축\n",
    "# 컬러 이미지 데이터 (흑백 이미지는 3D Tensor로 처리 가능)\n",
    "# Samples, Height(높이), Width(너비), Channel(컬러 채널)의 구조\n",
    "\n",
    "t4 = torch.tensor([[[[1,2,3],\n",
    "                   [4,5,6],\n",
    "                   [7,8,9]],\n",
    "                  [[1,2,3],\n",
    "                   [4,5,6],\n",
    "                   [7,8,9]],\n",
    "                  [[1,2,3],\n",
    "                   [4,5,6],\n",
    "                   [7,8,9]]],\n",
    "                 [[[1,2,3],\n",
    "                   [4,5,6],\n",
    "                   [7,8,9]],\n",
    "                  [[1,2,3],\n",
    "                   [4,5,6],\n",
    "                   [7,8,9]],\n",
    "                  [[1,2,3],\n",
    "                   [4,5,6],\n",
    "                   [7,8,9]]],\n",
    "                 [[[1,2,3],\n",
    "                   [4,5,6],\n",
    "                   [7,8,9]],\n",
    "                  [[1,2,3],\n",
    "                   [4,5,6],\n",
    "                   [7,8,9]],\n",
    "                  [[1,2,3],\n",
    "                   [4,5,6],\n",
    "                   [7,8,9]]]])\n",
    "print(t4.ndim, t4.shape, t4)"
   ]
  },
  {
   "cell_type": "code",
   "execution_count": 20,
   "id": "cf76bc7d",
   "metadata": {
    "execution": {
     "iopub.execute_input": "2022-09-14T13:50:06.313340Z",
     "iopub.status.busy": "2022-09-14T13:50:06.312519Z",
     "iopub.status.idle": "2022-09-14T13:50:06.333579Z",
     "shell.execute_reply": "2022-09-14T13:50:06.332796Z"
    },
    "papermill": {
     "duration": 0.06034,
     "end_time": "2022-09-14T13:50:06.337551",
     "exception": false,
     "start_time": "2022-09-14T13:50:06.277211",
     "status": "completed"
    },
    "tags": []
   },
   "outputs": [
    {
     "name": "stdout",
     "output_type": "stream",
     "text": [
      "5 torch.Size([3, 3, 3, 3, 3]) tensor([[[[[1, 2, 3],\n",
      "           [4, 5, 6],\n",
      "           [7, 8, 9]],\n",
      "\n",
      "          [[1, 2, 3],\n",
      "           [4, 5, 6],\n",
      "           [7, 8, 9]],\n",
      "\n",
      "          [[1, 2, 3],\n",
      "           [4, 5, 6],\n",
      "           [7, 8, 9]]],\n",
      "\n",
      "\n",
      "         [[[1, 2, 3],\n",
      "           [4, 5, 6],\n",
      "           [7, 8, 9]],\n",
      "\n",
      "          [[1, 2, 3],\n",
      "           [4, 5, 6],\n",
      "           [7, 8, 9]],\n",
      "\n",
      "          [[1, 2, 3],\n",
      "           [4, 5, 6],\n",
      "           [7, 8, 9]]],\n",
      "\n",
      "\n",
      "         [[[1, 2, 3],\n",
      "           [4, 5, 6],\n",
      "           [7, 8, 9]],\n",
      "\n",
      "          [[1, 2, 3],\n",
      "           [4, 5, 6],\n",
      "           [7, 8, 9]],\n",
      "\n",
      "          [[1, 2, 3],\n",
      "           [4, 5, 6],\n",
      "           [7, 8, 9]]]],\n",
      "\n",
      "\n",
      "\n",
      "        [[[[1, 2, 3],\n",
      "           [4, 5, 6],\n",
      "           [7, 8, 9]],\n",
      "\n",
      "          [[1, 2, 3],\n",
      "           [4, 5, 6],\n",
      "           [7, 8, 9]],\n",
      "\n",
      "          [[1, 2, 3],\n",
      "           [4, 5, 6],\n",
      "           [7, 8, 9]]],\n",
      "\n",
      "\n",
      "         [[[1, 2, 3],\n",
      "           [4, 5, 6],\n",
      "           [7, 8, 9]],\n",
      "\n",
      "          [[1, 2, 3],\n",
      "           [4, 5, 6],\n",
      "           [7, 8, 9]],\n",
      "\n",
      "          [[1, 2, 3],\n",
      "           [4, 5, 6],\n",
      "           [7, 8, 9]]],\n",
      "\n",
      "\n",
      "         [[[1, 2, 3],\n",
      "           [4, 5, 6],\n",
      "           [7, 8, 9]],\n",
      "\n",
      "          [[1, 2, 3],\n",
      "           [4, 5, 6],\n",
      "           [7, 8, 9]],\n",
      "\n",
      "          [[1, 2, 3],\n",
      "           [4, 5, 6],\n",
      "           [7, 8, 9]]]],\n",
      "\n",
      "\n",
      "\n",
      "        [[[[1, 2, 3],\n",
      "           [4, 5, 6],\n",
      "           [7, 8, 9]],\n",
      "\n",
      "          [[1, 2, 3],\n",
      "           [4, 5, 6],\n",
      "           [7, 8, 9]],\n",
      "\n",
      "          [[1, 2, 3],\n",
      "           [4, 5, 6],\n",
      "           [7, 8, 9]]],\n",
      "\n",
      "\n",
      "         [[[1, 2, 3],\n",
      "           [4, 5, 6],\n",
      "           [7, 8, 9]],\n",
      "\n",
      "          [[1, 2, 3],\n",
      "           [4, 5, 6],\n",
      "           [7, 8, 9]],\n",
      "\n",
      "          [[1, 2, 3],\n",
      "           [4, 5, 6],\n",
      "           [7, 8, 9]]],\n",
      "\n",
      "\n",
      "         [[[1, 2, 3],\n",
      "           [4, 5, 6],\n",
      "           [7, 8, 9]],\n",
      "\n",
      "          [[1, 2, 3],\n",
      "           [4, 5, 6],\n",
      "           [7, 8, 9]],\n",
      "\n",
      "          [[1, 2, 3],\n",
      "           [4, 5, 6],\n",
      "           [7, 8, 9]]]]])\n"
     ]
    }
   ],
   "source": [
    "# 5D Tensor\n",
    "# 다섯 개의 축\n",
    "# 비디오 데이터\n",
    "# Samples, Frame, Height(높이), Width(너비), Channel(컬러 채널)의 구조\n",
    "\n",
    "t5 = torch.tensor([[[[[1,2,3],\n",
    "                   [4,5,6],\n",
    "                   [7,8,9]],\n",
    "                  [[1,2,3],\n",
    "                   [4,5,6],\n",
    "                   [7,8,9]],\n",
    "                  [[1,2,3],\n",
    "                   [4,5,6],\n",
    "                   [7,8,9]]],\n",
    "                 [[[1,2,3],\n",
    "                   [4,5,6],\n",
    "                   [7,8,9]],\n",
    "                  [[1,2,3],\n",
    "                   [4,5,6],\n",
    "                   [7,8,9]],\n",
    "                  [[1,2,3],\n",
    "                   [4,5,6],\n",
    "                   [7,8,9]]],\n",
    "                 [[[1,2,3],\n",
    "                   [4,5,6],\n",
    "                   [7,8,9]],\n",
    "                  [[1,2,3],\n",
    "                   [4,5,6],\n",
    "                   [7,8,9]],\n",
    "                  [[1,2,3],\n",
    "                   [4,5,6],\n",
    "                   [7,8,9]]]],\n",
    "                 [[[[1,2,3],\n",
    "                   [4,5,6],\n",
    "                   [7,8,9]],\n",
    "                  [[1,2,3],\n",
    "                   [4,5,6],\n",
    "                   [7,8,9]],\n",
    "                  [[1,2,3],\n",
    "                   [4,5,6],\n",
    "                   [7,8,9]]],\n",
    "                 [[[1,2,3],\n",
    "                   [4,5,6],\n",
    "                   [7,8,9]],\n",
    "                  [[1,2,3],\n",
    "                   [4,5,6],\n",
    "                   [7,8,9]],\n",
    "                  [[1,2,3],\n",
    "                   [4,5,6],\n",
    "                   [7,8,9]]],\n",
    "                 [[[1,2,3],\n",
    "                   [4,5,6],\n",
    "                   [7,8,9]],\n",
    "                  [[1,2,3],\n",
    "                   [4,5,6],\n",
    "                   [7,8,9]],\n",
    "                  [[1,2,3],\n",
    "                   [4,5,6],\n",
    "                   [7,8,9]]]],\n",
    "                 [[[[1,2,3],\n",
    "                   [4,5,6],\n",
    "                   [7,8,9]],\n",
    "                  [[1,2,3],\n",
    "                   [4,5,6],\n",
    "                   [7,8,9]],\n",
    "                  [[1,2,3],\n",
    "                   [4,5,6],\n",
    "                   [7,8,9]]],\n",
    "                 [[[1,2,3],\n",
    "                   [4,5,6],\n",
    "                   [7,8,9]],\n",
    "                  [[1,2,3],\n",
    "                   [4,5,6],\n",
    "                   [7,8,9]],\n",
    "                  [[1,2,3],\n",
    "                   [4,5,6],\n",
    "                   [7,8,9]]],\n",
    "                 [[[1,2,3],\n",
    "                   [4,5,6],\n",
    "                   [7,8,9]],\n",
    "                  [[1,2,3],\n",
    "                   [4,5,6],\n",
    "                   [7,8,9]],\n",
    "                  [[1,2,3],\n",
    "                   [4,5,6],\n",
    "                   [7,8,9]]]]])\n",
    "print(t5.ndim, t5.shape, t5)"
   ]
  },
  {
   "cell_type": "markdown",
   "id": "ff086e7f",
   "metadata": {
    "papermill": {
     "duration": 0.034094,
     "end_time": "2022-09-14T13:50:06.407270",
     "exception": false,
     "start_time": "2022-09-14T13:50:06.373176",
     "status": "completed"
    },
    "tags": []
   },
   "source": [
    "### 텐서의 연산(Operations)\n",
    "- 텐서에 대한 수학 연산, 삼각함수, 비트 연산, 비교 연산, 집계 등 제공"
   ]
  },
  {
   "cell_type": "code",
   "execution_count": 21,
   "id": "74b424ae",
   "metadata": {
    "execution": {
     "iopub.execute_input": "2022-09-14T13:50:06.479035Z",
     "iopub.status.busy": "2022-09-14T13:50:06.478290Z",
     "iopub.status.idle": "2022-09-14T13:50:06.492358Z",
     "shell.execute_reply": "2022-09-14T13:50:06.490847Z"
    },
    "papermill": {
     "duration": 0.052628,
     "end_time": "2022-09-14T13:50:06.494583",
     "exception": false,
     "start_time": "2022-09-14T13:50:06.441955",
     "status": "completed"
    },
    "tags": []
   },
   "outputs": [
    {
     "name": "stdout",
     "output_type": "stream",
     "text": [
      "tensor([[-0.2769,  0.2214]])\n",
      "tensor([[0.2769, 0.2214]])\n",
      "tensor([[-0., 1.]])\n",
      "tensor([[-1.,  0.]])\n",
      "tensor([[-0.2769,  0.2214]])\n"
     ]
    }
   ],
   "source": [
    "import math\n",
    "\n",
    "a = torch.rand(1,2) * 2 - 1\n",
    "\n",
    "print(a)\n",
    "print(torch.abs(a))\n",
    "print(torch.ceil(a))\n",
    "print(torch.floor(a))\n",
    "print(torch.clamp(a, -0.5, 0.5))"
   ]
  },
  {
   "cell_type": "code",
   "execution_count": 22,
   "id": "2f10664f",
   "metadata": {
    "execution": {
     "iopub.execute_input": "2022-09-14T13:50:06.565095Z",
     "iopub.status.busy": "2022-09-14T13:50:06.564386Z",
     "iopub.status.idle": "2022-09-14T13:50:06.577436Z",
     "shell.execute_reply": "2022-09-14T13:50:06.576241Z"
    },
    "papermill": {
     "duration": 0.051026,
     "end_time": "2022-09-14T13:50:06.579793",
     "exception": false,
     "start_time": "2022-09-14T13:50:06.528767",
     "status": "completed"
    },
    "tags": []
   },
   "outputs": [
    {
     "name": "stdout",
     "output_type": "stream",
     "text": [
      "tensor([[-0.2769,  0.2214]])\n",
      "tensor(-0.2769)\n",
      "tensor(0.2214)\n",
      "tensor(-0.0277)\n",
      "tensor(0.3524)\n",
      "tensor(-0.0613)\n",
      "tensor([1, 2, 3])\n"
     ]
    }
   ],
   "source": [
    "print(a)\n",
    "print(torch.min(a))\n",
    "print(torch.max(a))\n",
    "print(torch.mean(a))\n",
    "print(torch.std(a))\n",
    "print(torch.prod(a))\n",
    "print(torch.unique(torch.tensor([1,2,3,1,2,2])))\n",
    "\n",
    "# max, min에 dim 인자를 입력할 경우 argmax, argmin 반환\n",
    "# argmax(argmin) : 최대값(최소값)의 인덱스"
   ]
  },
  {
   "cell_type": "code",
   "execution_count": 23,
   "id": "b75ac334",
   "metadata": {
    "execution": {
     "iopub.execute_input": "2022-09-14T13:50:06.651343Z",
     "iopub.status.busy": "2022-09-14T13:50:06.650610Z",
     "iopub.status.idle": "2022-09-14T13:50:06.659855Z",
     "shell.execute_reply": "2022-09-14T13:50:06.658593Z"
    },
    "papermill": {
     "duration": 0.047271,
     "end_time": "2022-09-14T13:50:06.662259",
     "exception": false,
     "start_time": "2022-09-14T13:50:06.614988",
     "status": "completed"
    },
    "tags": []
   },
   "outputs": [
    {
     "name": "stdout",
     "output_type": "stream",
     "text": [
      "tensor([[0.2708, 0.8276],\n",
      "        [0.0484, 0.2624]])\n",
      "torch.return_types.max(\n",
      "values=tensor([0.2708, 0.8276]),\n",
      "indices=tensor([0, 0]))\n",
      "torch.return_types.max(\n",
      "values=tensor([0.8276, 0.2624]),\n",
      "indices=tensor([1, 1]))\n"
     ]
    }
   ],
   "source": [
    "x = torch.rand(2,2)\n",
    "print(x)\n",
    "print(x.max(dim=0))\n",
    "print(x.max(dim=1))"
   ]
  },
  {
   "cell_type": "code",
   "execution_count": 24,
   "id": "9db6ec45",
   "metadata": {
    "execution": {
     "iopub.execute_input": "2022-09-14T13:50:06.734402Z",
     "iopub.status.busy": "2022-09-14T13:50:06.733552Z",
     "iopub.status.idle": "2022-09-14T13:50:06.741997Z",
     "shell.execute_reply": "2022-09-14T13:50:06.740747Z"
    },
    "papermill": {
     "duration": 0.047842,
     "end_time": "2022-09-14T13:50:06.745100",
     "exception": false,
     "start_time": "2022-09-14T13:50:06.697258",
     "status": "completed"
    },
    "tags": []
   },
   "outputs": [
    {
     "name": "stdout",
     "output_type": "stream",
     "text": [
      "tensor([[0.7469, 0.8427],\n",
      "        [0.0035, 0.6055]])\n",
      "torch.return_types.min(\n",
      "values=tensor([0.0035, 0.6055]),\n",
      "indices=tensor([1, 1]))\n",
      "torch.return_types.min(\n",
      "values=tensor([0.7469, 0.0035]),\n",
      "indices=tensor([0, 0]))\n"
     ]
    }
   ],
   "source": [
    "x = torch.rand(2,2)\n",
    "print(x)\n",
    "print(x.min(dim=0))\n",
    "print(x.min(dim=1))"
   ]
  },
  {
   "cell_type": "code",
   "execution_count": 25,
   "id": "f0bc7cca",
   "metadata": {
    "execution": {
     "iopub.execute_input": "2022-09-14T13:50:06.818403Z",
     "iopub.status.busy": "2022-09-14T13:50:06.817611Z",
     "iopub.status.idle": "2022-09-14T13:50:06.825683Z",
     "shell.execute_reply": "2022-09-14T13:50:06.824018Z"
    },
    "papermill": {
     "duration": 0.047339,
     "end_time": "2022-09-14T13:50:06.828203",
     "exception": false,
     "start_time": "2022-09-14T13:50:06.780864",
     "status": "completed"
    },
    "tags": []
   },
   "outputs": [
    {
     "name": "stdout",
     "output_type": "stream",
     "text": [
      "tensor([[0.0232, 0.0267],\n",
      "        [0.5070, 0.7922]])\n",
      "tensor([[0.7098, 0.1013],\n",
      "        [0.9365, 0.5371]])\n"
     ]
    }
   ],
   "source": [
    "x = torch.rand(2,2)\n",
    "print(x)\n",
    "y = torch.rand(2,2)\n",
    "print(y)\n"
   ]
  },
  {
   "cell_type": "code",
   "execution_count": 26,
   "id": "b3a96514",
   "metadata": {
    "execution": {
     "iopub.execute_input": "2022-09-14T13:50:06.899851Z",
     "iopub.status.busy": "2022-09-14T13:50:06.899101Z",
     "iopub.status.idle": "2022-09-14T13:50:06.905774Z",
     "shell.execute_reply": "2022-09-14T13:50:06.904539Z"
    },
    "papermill": {
     "duration": 0.045445,
     "end_time": "2022-09-14T13:50:06.908525",
     "exception": false,
     "start_time": "2022-09-14T13:50:06.863080",
     "status": "completed"
    },
    "tags": []
   },
   "outputs": [
    {
     "name": "stdout",
     "output_type": "stream",
     "text": [
      "tensor([[0.7330, 0.1279],\n",
      "        [1.4435, 1.3293]])\n",
      "tensor([[0.7330, 0.1279],\n",
      "        [1.4435, 1.3293]])\n"
     ]
    }
   ],
   "source": [
    "# torch.add : 덧셈\n",
    "print(x+y)\n",
    "print(torch.add(x,y))\n",
    "\n",
    "# 동일한 결과"
   ]
  },
  {
   "cell_type": "code",
   "execution_count": 27,
   "id": "a9da9f2e",
   "metadata": {
    "execution": {
     "iopub.execute_input": "2022-09-14T13:50:06.981207Z",
     "iopub.status.busy": "2022-09-14T13:50:06.980264Z",
     "iopub.status.idle": "2022-09-14T13:50:06.987566Z",
     "shell.execute_reply": "2022-09-14T13:50:06.986310Z"
    },
    "papermill": {
     "duration": 0.046538,
     "end_time": "2022-09-14T13:50:06.990501",
     "exception": false,
     "start_time": "2022-09-14T13:50:06.943963",
     "status": "completed"
    },
    "tags": []
   },
   "outputs": [
    {
     "name": "stdout",
     "output_type": "stream",
     "text": [
      "tensor([[0.7330, 0.1279],\n",
      "        [1.4435, 1.3293]])\n"
     ]
    },
    {
     "name": "stderr",
     "output_type": "stream",
     "text": [
      "/opt/conda/lib/python3.7/site-packages/ipykernel_launcher.py:3: UserWarning: An output with one or more elements was resized since it had shape [2, 4], which does not match the required output shape [2, 2].This behavior is deprecated, and in a future PyTorch release outputs will not be resized unless they have zero elements. You can explicitly reuse an out tensor t by resizing it, inplace, to zero elements with t.resize_(0). (Triggered internally at  ../aten/src/ATen/native/Resize.cpp:24.)\n",
      "  This is separate from the ipykernel package so we can avoid doing imports until\n"
     ]
    }
   ],
   "source": [
    "# 결과 텐서를 인자로 지정\n",
    "result = torch.empty(2,4)\n",
    "torch.add(x, y, out=result)\n",
    "print(result)"
   ]
  },
  {
   "cell_type": "code",
   "execution_count": 28,
   "id": "549bf143",
   "metadata": {
    "execution": {
     "iopub.execute_input": "2022-09-14T13:50:07.063282Z",
     "iopub.status.busy": "2022-09-14T13:50:07.062898Z",
     "iopub.status.idle": "2022-09-14T13:50:07.070774Z",
     "shell.execute_reply": "2022-09-14T13:50:07.069163Z"
    },
    "papermill": {
     "duration": 0.047028,
     "end_time": "2022-09-14T13:50:07.073456",
     "exception": false,
     "start_time": "2022-09-14T13:50:07.026428",
     "status": "completed"
    },
    "tags": []
   },
   "outputs": [
    {
     "name": "stdout",
     "output_type": "stream",
     "text": [
      "tensor([[0.0232, 0.0267],\n",
      "        [0.5070, 0.7922]])\n",
      "tensor([[0.7098, 0.1013],\n",
      "        [0.9365, 0.5371]])\n",
      "tensor([[0.7330, 0.1279],\n",
      "        [1.4435, 1.3293]])\n"
     ]
    }
   ],
   "source": [
    "# In-place 방식 (복사)\n",
    "# _(Underbar)로 사용\n",
    "# y.add_(x) == y += x\n",
    "print(x)\n",
    "print(y)\n",
    "y.add_(x) # y.add(x)의 값을 y로 리턴\n",
    "print(y)"
   ]
  },
  {
   "cell_type": "code",
   "execution_count": 29,
   "id": "88bba4ca",
   "metadata": {
    "execution": {
     "iopub.execute_input": "2022-09-14T13:50:07.145912Z",
     "iopub.status.busy": "2022-09-14T13:50:07.145471Z",
     "iopub.status.idle": "2022-09-14T13:50:07.154015Z",
     "shell.execute_reply": "2022-09-14T13:50:07.153165Z"
    },
    "papermill": {
     "duration": 0.047178,
     "end_time": "2022-09-14T13:50:07.156367",
     "exception": false,
     "start_time": "2022-09-14T13:50:07.109189",
     "status": "completed"
    },
    "tags": []
   },
   "outputs": [
    {
     "name": "stdout",
     "output_type": "stream",
     "text": [
      "tensor([[0.0232, 0.0267],\n",
      "        [0.5070, 0.7922]])\n",
      "tensor([[0.7330, 0.1279],\n",
      "        [1.4435, 1.3293]])\n",
      "tensor([[-0.7098, -0.1013],\n",
      "        [-0.9365, -0.5371]])\n",
      "tensor([[-0.7098, -0.1013],\n",
      "        [-0.9365, -0.5371]])\n",
      "tensor([[-0.7098, -0.1013],\n",
      "        [-0.9365, -0.5371]])\n"
     ]
    }
   ],
   "source": [
    "# torch.sub : 뺄셈\n",
    "\n",
    "print(x)\n",
    "print(y)\n",
    "print(x-y)\n",
    "print(torch.sub(x,y))\n",
    "print(x.sub(y))"
   ]
  },
  {
   "cell_type": "code",
   "execution_count": 30,
   "id": "0659031e",
   "metadata": {
    "execution": {
     "iopub.execute_input": "2022-09-14T13:50:07.228131Z",
     "iopub.status.busy": "2022-09-14T13:50:07.227759Z",
     "iopub.status.idle": "2022-09-14T13:50:07.234618Z",
     "shell.execute_reply": "2022-09-14T13:50:07.233873Z"
    },
    "papermill": {
     "duration": 0.045404,
     "end_time": "2022-09-14T13:50:07.236891",
     "exception": false,
     "start_time": "2022-09-14T13:50:07.191487",
     "status": "completed"
    },
    "tags": []
   },
   "outputs": [
    {
     "name": "stdout",
     "output_type": "stream",
     "text": [
      "tensor([[0.0232, 0.0267],\n",
      "        [0.5070, 0.7922]])\n",
      "tensor([[0.7330, 0.1279],\n",
      "        [1.4435, 1.3293]])\n",
      "tensor([[0.0170, 0.0034],\n",
      "        [0.7318, 1.0530]])\n",
      "tensor([[0.0170, 0.0034],\n",
      "        [0.7318, 1.0530]])\n",
      "tensor([[0.0170, 0.0034],\n",
      "        [0.7318, 1.0530]])\n"
     ]
    }
   ],
   "source": [
    "# torch.mul : 곱셈\n",
    "\n",
    "print(x)\n",
    "print(y)\n",
    "print(x*y)\n",
    "print(torch.mul(x,y))\n",
    "print(x.mul(y))"
   ]
  },
  {
   "cell_type": "code",
   "execution_count": 31,
   "id": "8fb0e58a",
   "metadata": {
    "execution": {
     "iopub.execute_input": "2022-09-14T13:50:07.308976Z",
     "iopub.status.busy": "2022-09-14T13:50:07.308562Z",
     "iopub.status.idle": "2022-09-14T13:50:07.317416Z",
     "shell.execute_reply": "2022-09-14T13:50:07.316092Z"
    },
    "papermill": {
     "duration": 0.047649,
     "end_time": "2022-09-14T13:50:07.319851",
     "exception": false,
     "start_time": "2022-09-14T13:50:07.272202",
     "status": "completed"
    },
    "tags": []
   },
   "outputs": [
    {
     "name": "stdout",
     "output_type": "stream",
     "text": [
      "tensor([[0.0232, 0.0267],\n",
      "        [0.5070, 0.7922]])\n",
      "tensor([[0.7330, 0.1279],\n",
      "        [1.4435, 1.3293]])\n",
      "tensor([[0.0316, 0.2085],\n",
      "        [0.3512, 0.5959]])\n",
      "tensor([[0.0316, 0.2085],\n",
      "        [0.3512, 0.5959]])\n",
      "tensor([[0.0316, 0.2085],\n",
      "        [0.3512, 0.5959]])\n"
     ]
    }
   ],
   "source": [
    "# torch.div : 나눗셈\n",
    "\n",
    "print(x)\n",
    "print(y)\n",
    "print(x/y)\n",
    "print(torch.div(x,y))\n",
    "print(x.div(y))"
   ]
  },
  {
   "cell_type": "code",
   "execution_count": 32,
   "id": "bfaf7f0a",
   "metadata": {
    "execution": {
     "iopub.execute_input": "2022-09-14T13:50:07.393073Z",
     "iopub.status.busy": "2022-09-14T13:50:07.392688Z",
     "iopub.status.idle": "2022-09-14T13:50:07.448708Z",
     "shell.execute_reply": "2022-09-14T13:50:07.447532Z"
    },
    "papermill": {
     "duration": 0.095456,
     "end_time": "2022-09-14T13:50:07.451418",
     "exception": false,
     "start_time": "2022-09-14T13:50:07.355962",
     "status": "completed"
    },
    "tags": []
   },
   "outputs": [
    {
     "name": "stdout",
     "output_type": "stream",
     "text": [
      "tensor([[0.0232, 0.0267],\n",
      "        [0.5070, 0.7922]])\n",
      "tensor([[0.7330, 0.1279],\n",
      "        [1.4435, 1.3293]])\n",
      "tensor([[0.0555, 0.0384],\n",
      "        [1.5151, 1.1179]])\n",
      "tensor([[0.0555, 0.0384],\n",
      "        [1.5151, 1.1179]])\n",
      "torch.return_types.svd(\n",
      "U=tensor([[-0.0358, -0.9994],\n",
      "        [-0.9994,  0.0358]]),\n",
      "S=tensor([1.8840, 0.0020]),\n",
      "V=tensor([[-0.8047, -0.5937],\n",
      "        [-0.5937,  0.8047]]))\n"
     ]
    }
   ],
   "source": [
    "# torch.mm : 내적\n",
    "\n",
    "print(x)\n",
    "print(y)\n",
    "print(torch.matmul(x,y))\n",
    "z = torch.mm(x,y)\n",
    "print(z)\n",
    "print(torch.svd(z)) # .svd : 벡터 분해"
   ]
  },
  {
   "cell_type": "markdown",
   "id": "e002fe96",
   "metadata": {
    "papermill": {
     "duration": 0.035952,
     "end_time": "2022-09-14T13:50:07.524918",
     "exception": false,
     "start_time": "2022-09-14T13:50:07.488966",
     "status": "completed"
    },
    "tags": []
   },
   "source": [
    "### 텐서의 조작\n",
    "\n",
    "- Indexing : NumPy와 같이 Indexing 형태로 사용 가능"
   ]
  },
  {
   "cell_type": "code",
   "execution_count": 33,
   "id": "f497aeb2",
   "metadata": {
    "execution": {
     "iopub.execute_input": "2022-09-14T13:50:07.597013Z",
     "iopub.status.busy": "2022-09-14T13:50:07.596344Z",
     "iopub.status.idle": "2022-09-14T13:50:07.605325Z",
     "shell.execute_reply": "2022-09-14T13:50:07.604180Z"
    },
    "papermill": {
     "duration": 0.048171,
     "end_time": "2022-09-14T13:50:07.608216",
     "exception": false,
     "start_time": "2022-09-14T13:50:07.560045",
     "status": "completed"
    },
    "tags": []
   },
   "outputs": [
    {
     "name": "stdout",
     "output_type": "stream",
     "text": [
      "tensor([[1, 2],\n",
      "        [3, 4]])\n",
      "tensor(1)\n",
      "tensor(3)\n",
      "tensor(2)\n",
      "tensor(4)\n",
      "tensor([1, 3])\n",
      "tensor([2, 4])\n",
      "tensor([1, 2])\n",
      "tensor([3, 4])\n"
     ]
    }
   ],
   "source": [
    "x = torch.tensor([[1,2],\n",
    "                  [3,4]])\n",
    "print(x)\n",
    "\n",
    "# Indexing\n",
    "print(x[0,0])\n",
    "print(x[1,0])\n",
    "print(x[0,1])\n",
    "print(x[1,1])\n",
    "\n",
    "# Slicing\n",
    "print(x[:,0])\n",
    "print(x[:,1])\n",
    "print(x[0,:])\n",
    "print(x[1,:])"
   ]
  },
  {
   "cell_type": "markdown",
   "id": "a3fa19ae",
   "metadata": {
    "papermill": {
     "duration": 0.035724,
     "end_time": "2022-09-14T13:50:07.680474",
     "exception": false,
     "start_time": "2022-09-14T13:50:07.644750",
     "status": "completed"
    },
    "tags": []
   },
   "source": [
    "- view : 텐서의 크기(size) 또는 모양(shape)을 변경\n",
    "- - 기본적으로 변경 전과 후 모두 텐서의 원소 개수가 유지되어야 함\n",
    "- - -1로 설정되면 계산을 통해 해당 크기값을 유추"
   ]
  },
  {
   "cell_type": "code",
   "execution_count": 34,
   "id": "9e0e6ee9",
   "metadata": {
    "execution": {
     "iopub.execute_input": "2022-09-14T13:50:07.753472Z",
     "iopub.status.busy": "2022-09-14T13:50:07.753083Z",
     "iopub.status.idle": "2022-09-14T13:50:07.762418Z",
     "shell.execute_reply": "2022-09-14T13:50:07.760703Z"
    },
    "papermill": {
     "duration": 0.050359,
     "end_time": "2022-09-14T13:50:07.765910",
     "exception": false,
     "start_time": "2022-09-14T13:50:07.715551",
     "status": "completed"
    },
    "tags": []
   },
   "outputs": [
    {
     "name": "stdout",
     "output_type": "stream",
     "text": [
      "tensor([[ 1.4625, -0.2082, -0.8353,  0.0680, -1.0112],\n",
      "        [-0.7523,  0.5836, -2.2166, -1.3282, -0.3322],\n",
      "        [ 1.4961, -1.7424,  0.7120,  0.0677,  0.1275],\n",
      "        [ 0.7458, -0.5074,  0.9344,  0.7676, -1.3330]])\n",
      "tensor([ 1.4625, -0.2082, -0.8353,  0.0680, -1.0112, -0.7523,  0.5836, -2.2166,\n",
      "        -1.3282, -0.3322,  1.4961, -1.7424,  0.7120,  0.0677,  0.1275,  0.7458,\n",
      "        -0.5074,  0.9344,  0.7676, -1.3330])\n",
      "tensor([[ 1.4625, -0.2082, -0.8353,  0.0680],\n",
      "        [-1.0112, -0.7523,  0.5836, -2.2166],\n",
      "        [-1.3282, -0.3322,  1.4961, -1.7424],\n",
      "        [ 0.7120,  0.0677,  0.1275,  0.7458],\n",
      "        [-0.5074,  0.9344,  0.7676, -1.3330]])\n"
     ]
    }
   ],
   "source": [
    "x = torch.randn(4,5)\n",
    "print(x)\n",
    "y = x.view(20)\n",
    "print(y)\n",
    "z = x.view(5, -1)\n",
    "print(z)"
   ]
  },
  {
   "cell_type": "markdown",
   "id": "77d7e2d6",
   "metadata": {
    "papermill": {
     "duration": 0.034999,
     "end_time": "2022-09-14T13:50:07.836824",
     "exception": false,
     "start_time": "2022-09-14T13:50:07.801825",
     "status": "completed"
    },
    "tags": []
   },
   "source": [
    "- item : 텐서에 하나의 스칼라값만이 존재하면 해당값 반환"
   ]
  },
  {
   "cell_type": "code",
   "execution_count": 35,
   "id": "86fd5e9d",
   "metadata": {
    "execution": {
     "iopub.execute_input": "2022-09-14T13:50:07.908776Z",
     "iopub.status.busy": "2022-09-14T13:50:07.908348Z",
     "iopub.status.idle": "2022-09-14T13:50:07.916411Z",
     "shell.execute_reply": "2022-09-14T13:50:07.915219Z"
    },
    "papermill": {
     "duration": 0.047082,
     "end_time": "2022-09-14T13:50:07.918886",
     "exception": false,
     "start_time": "2022-09-14T13:50:07.871804",
     "status": "completed"
    },
    "tags": []
   },
   "outputs": [
    {
     "name": "stdout",
     "output_type": "stream",
     "text": [
      "tensor([-0.7533])\n",
      "-0.7532943487167358\n",
      "torch.float32\n"
     ]
    }
   ],
   "source": [
    "x = torch.randn(1)\n",
    "print(x)\n",
    "print(x.item())\n",
    "print(x.dtype)"
   ]
  },
  {
   "cell_type": "code",
   "execution_count": 36,
   "id": "c0d8be71",
   "metadata": {
    "execution": {
     "iopub.execute_input": "2022-09-14T13:50:07.992023Z",
     "iopub.status.busy": "2022-09-14T13:50:07.991611Z",
     "iopub.status.idle": "2022-09-14T13:50:07.998064Z",
     "shell.execute_reply": "2022-09-14T13:50:07.996840Z"
    },
    "papermill": {
     "duration": 0.045919,
     "end_time": "2022-09-14T13:50:08.000528",
     "exception": false,
     "start_time": "2022-09-14T13:50:07.954609",
     "status": "completed"
    },
    "tags": []
   },
   "outputs": [
    {
     "name": "stdout",
     "output_type": "stream",
     "text": [
      "tensor([[ 1.0595, -1.0409],\n",
      "        [-0.0753, -0.2983]])\n",
      "torch.float32\n"
     ]
    }
   ],
   "source": [
    "# 스칼라값 하나만 존재해야 item() 사용 가능\n",
    "x = torch.randn(2,2)\n",
    "print(x)\n",
    "# print(x.item())\n",
    "# Value Error 발생\n",
    "print(x.dtype)"
   ]
  },
  {
   "cell_type": "markdown",
   "id": "41e44f18",
   "metadata": {
    "papermill": {
     "duration": 0.035141,
     "end_time": "2022-09-14T13:50:08.071212",
     "exception": false,
     "start_time": "2022-09-14T13:50:08.036071",
     "status": "completed"
    },
    "tags": []
   },
   "source": [
    "- squeeze : 차원 축소(제거)"
   ]
  },
  {
   "cell_type": "code",
   "execution_count": 37,
   "id": "83846beb",
   "metadata": {
    "execution": {
     "iopub.execute_input": "2022-09-14T13:50:08.144269Z",
     "iopub.status.busy": "2022-09-14T13:50:08.143846Z",
     "iopub.status.idle": "2022-09-14T13:50:08.149755Z",
     "shell.execute_reply": "2022-09-14T13:50:08.149006Z"
    },
    "papermill": {
     "duration": 0.045179,
     "end_time": "2022-09-14T13:50:08.151986",
     "exception": false,
     "start_time": "2022-09-14T13:50:08.106807",
     "status": "completed"
    },
    "tags": []
   },
   "outputs": [
    {
     "name": "stdout",
     "output_type": "stream",
     "text": [
      "tensor([[[0.8011, 0.6849, 0.2963],\n",
      "         [0.1916, 0.9122, 0.8232],\n",
      "         [0.8038, 0.8805, 0.4590]]])\n",
      "torch.Size([1, 3, 3])\n"
     ]
    }
   ],
   "source": [
    "x = torch.rand(1,3,3)\n",
    "print(x)\n",
    "print(x.shape)"
   ]
  },
  {
   "cell_type": "code",
   "execution_count": 38,
   "id": "61ac6eec",
   "metadata": {
    "execution": {
     "iopub.execute_input": "2022-09-14T13:50:08.224679Z",
     "iopub.status.busy": "2022-09-14T13:50:08.224234Z",
     "iopub.status.idle": "2022-09-14T13:50:08.232487Z",
     "shell.execute_reply": "2022-09-14T13:50:08.230847Z"
    },
    "papermill": {
     "duration": 0.047912,
     "end_time": "2022-09-14T13:50:08.235308",
     "exception": false,
     "start_time": "2022-09-14T13:50:08.187396",
     "status": "completed"
    },
    "tags": []
   },
   "outputs": [
    {
     "name": "stdout",
     "output_type": "stream",
     "text": [
      "tensor([[0.8011, 0.6849, 0.2963],\n",
      "        [0.1916, 0.9122, 0.8232],\n",
      "        [0.8038, 0.8805, 0.4590]])\n",
      "torch.Size([3, 3])\n"
     ]
    }
   ],
   "source": [
    "xs= x.squeeze()\n",
    "print(xs)\n",
    "print(xs.shape)"
   ]
  },
  {
   "cell_type": "markdown",
   "id": "d129bb2a",
   "metadata": {
    "papermill": {
     "duration": 0.035637,
     "end_time": "2022-09-14T13:50:08.306699",
     "exception": false,
     "start_time": "2022-09-14T13:50:08.271062",
     "status": "completed"
    },
    "tags": []
   },
   "source": [
    "- unsqueeze : 차원 증가(생성)"
   ]
  },
  {
   "cell_type": "code",
   "execution_count": 39,
   "id": "06a0de95",
   "metadata": {
    "execution": {
     "iopub.execute_input": "2022-09-14T13:50:08.379637Z",
     "iopub.status.busy": "2022-09-14T13:50:08.379236Z",
     "iopub.status.idle": "2022-09-14T13:50:08.386551Z",
     "shell.execute_reply": "2022-09-14T13:50:08.384829Z"
    },
    "papermill": {
     "duration": 0.047069,
     "end_time": "2022-09-14T13:50:08.389216",
     "exception": false,
     "start_time": "2022-09-14T13:50:08.342147",
     "status": "completed"
    },
    "tags": []
   },
   "outputs": [
    {
     "name": "stdout",
     "output_type": "stream",
     "text": [
      "tensor([[0.7042, 0.3373, 0.4645],\n",
      "        [0.1831, 0.7436, 0.2925],\n",
      "        [0.5258, 0.5719, 0.3485]])\n",
      "torch.Size([3, 3])\n"
     ]
    }
   ],
   "source": [
    "t = torch.rand(3,3)\n",
    "print(t)\n",
    "print(t.shape)"
   ]
  },
  {
   "cell_type": "code",
   "execution_count": 40,
   "id": "52ce4d83",
   "metadata": {
    "execution": {
     "iopub.execute_input": "2022-09-14T13:50:08.463539Z",
     "iopub.status.busy": "2022-09-14T13:50:08.463093Z",
     "iopub.status.idle": "2022-09-14T13:50:08.470909Z",
     "shell.execute_reply": "2022-09-14T13:50:08.469416Z"
    },
    "papermill": {
     "duration": 0.04747,
     "end_time": "2022-09-14T13:50:08.473046",
     "exception": false,
     "start_time": "2022-09-14T13:50:08.425576",
     "status": "completed"
    },
    "tags": []
   },
   "outputs": [
    {
     "name": "stdout",
     "output_type": "stream",
     "text": [
      "tensor([[[0.7042, 0.3373, 0.4645],\n",
      "         [0.1831, 0.7436, 0.2925],\n",
      "         [0.5258, 0.5719, 0.3485]]])\n",
      "torch.Size([1, 3, 3])\n"
     ]
    }
   ],
   "source": [
    "ten = t.unsqueeze(dim=0)\n",
    "# dim=0 : 첫 번째 차원\n",
    "print(ten)\n",
    "print(ten.shape)"
   ]
  },
  {
   "cell_type": "code",
   "execution_count": 41,
   "id": "9dbe05db",
   "metadata": {
    "execution": {
     "iopub.execute_input": "2022-09-14T13:50:08.546517Z",
     "iopub.status.busy": "2022-09-14T13:50:08.546102Z",
     "iopub.status.idle": "2022-09-14T13:50:08.553769Z",
     "shell.execute_reply": "2022-09-14T13:50:08.552140Z"
    },
    "papermill": {
     "duration": 0.046775,
     "end_time": "2022-09-14T13:50:08.556004",
     "exception": false,
     "start_time": "2022-09-14T13:50:08.509229",
     "status": "completed"
    },
    "tags": []
   },
   "outputs": [
    {
     "name": "stdout",
     "output_type": "stream",
     "text": [
      "tensor([[[0.7042],\n",
      "         [0.3373],\n",
      "         [0.4645]],\n",
      "\n",
      "        [[0.1831],\n",
      "         [0.7436],\n",
      "         [0.2925]],\n",
      "\n",
      "        [[0.5258],\n",
      "         [0.5719],\n",
      "         [0.3485]]])\n",
      "torch.Size([3, 3, 1])\n"
     ]
    }
   ],
   "source": [
    "ten = t.unsqueeze(dim=2)\n",
    "# dim=2 : 세 번째 차원\n",
    "print(ten)\n",
    "print(ten.shape)"
   ]
  },
  {
   "cell_type": "markdown",
   "id": "ad931359",
   "metadata": {
    "papermill": {
     "duration": 0.036015,
     "end_time": "2022-09-14T13:50:08.627782",
     "exception": false,
     "start_time": "2022-09-14T13:50:08.591767",
     "status": "completed"
    },
    "tags": []
   },
   "source": [
    "- stack : 텐서 간 결합"
   ]
  },
  {
   "cell_type": "code",
   "execution_count": 42,
   "id": "1ad87144",
   "metadata": {
    "execution": {
     "iopub.execute_input": "2022-09-14T13:50:08.701708Z",
     "iopub.status.busy": "2022-09-14T13:50:08.701267Z",
     "iopub.status.idle": "2022-09-14T13:50:08.713517Z",
     "shell.execute_reply": "2022-09-14T13:50:08.712019Z"
    },
    "papermill": {
     "duration": 0.052434,
     "end_time": "2022-09-14T13:50:08.715964",
     "exception": false,
     "start_time": "2022-09-14T13:50:08.663530",
     "status": "completed"
    },
    "tags": []
   },
   "outputs": [
    {
     "name": "stdout",
     "output_type": "stream",
     "text": [
      "tensor([1., 4.])\n",
      "tensor([2., 5.])\n",
      "tensor([3., 6.])\n",
      "tensor([[1., 4.],\n",
      "        [2., 5.],\n",
      "        [3., 6.]])\n"
     ]
    }
   ],
   "source": [
    "x = torch.FloatTensor([1,4])\n",
    "print(x)\n",
    "y = torch.FloatTensor([2,5])\n",
    "print(y)\n",
    "z = torch.FloatTensor([3,6])\n",
    "print(z)\n",
    "\n",
    "print(torch.stack([x,y,z]))"
   ]
  },
  {
   "cell_type": "markdown",
   "id": "e86a231e",
   "metadata": {
    "papermill": {
     "duration": 0.101753,
     "end_time": "2022-09-14T13:50:08.854110",
     "exception": false,
     "start_time": "2022-09-14T13:50:08.752357",
     "status": "completed"
    },
    "tags": []
   },
   "source": [
    "- cat : 텐서 결합 메서드(concatenate)\n",
    "- - NumPy의 stack과 유사하지만 stack할 dim이 존재해야함\n",
    "- - 해당 차원을 증가시킨 후 결합"
   ]
  },
  {
   "cell_type": "code",
   "execution_count": 43,
   "id": "dd1fafbf",
   "metadata": {
    "execution": {
     "iopub.execute_input": "2022-09-14T13:50:08.929374Z",
     "iopub.status.busy": "2022-09-14T13:50:08.928943Z",
     "iopub.status.idle": "2022-09-14T13:50:08.937719Z",
     "shell.execute_reply": "2022-09-14T13:50:08.936373Z"
    },
    "papermill": {
     "duration": 0.049826,
     "end_time": "2022-09-14T13:50:08.940202",
     "exception": false,
     "start_time": "2022-09-14T13:50:08.890376",
     "status": "completed"
    },
    "tags": []
   },
   "outputs": [
    {
     "name": "stdout",
     "output_type": "stream",
     "text": [
      "tensor([[[-1.8976, -1.3764, -1.0878],\n",
      "         [ 0.1358,  0.5643,  0.1450],\n",
      "         [-0.0462, -0.5271,  0.9161]]])\n",
      "tensor([[[ 1.5343,  0.1894, -0.5526],\n",
      "         [-0.1346,  0.2279, -1.6523],\n",
      "         [ 1.0560,  0.0042, -1.3534]]])\n",
      "tensor([[[-1.8976, -1.3764, -1.0878],\n",
      "         [ 0.1358,  0.5643,  0.1450],\n",
      "         [-0.0462, -0.5271,  0.9161]],\n",
      "\n",
      "        [[ 1.5343,  0.1894, -0.5526],\n",
      "         [-0.1346,  0.2279, -1.6523],\n",
      "         [ 1.0560,  0.0042, -1.3534]]])\n",
      "torch.Size([2, 3, 3])\n"
     ]
    }
   ],
   "source": [
    "a = torch.randn(1,3,3)\n",
    "print(a)\n",
    "b = torch.randn(1,3,3)\n",
    "print(b)\n",
    "c = torch.cat((a,b), dim=0)\n",
    "print(c)\n",
    "print(c.size())\n",
    "\n",
    "# 1차원 기준으로 결합하여 1차원 증가"
   ]
  },
  {
   "cell_type": "code",
   "execution_count": 44,
   "id": "96e3fd5f",
   "metadata": {
    "execution": {
     "iopub.execute_input": "2022-09-14T13:50:09.016492Z",
     "iopub.status.busy": "2022-09-14T13:50:09.015597Z",
     "iopub.status.idle": "2022-09-14T13:50:09.024199Z",
     "shell.execute_reply": "2022-09-14T13:50:09.022582Z"
    },
    "papermill": {
     "duration": 0.049189,
     "end_time": "2022-09-14T13:50:09.026514",
     "exception": false,
     "start_time": "2022-09-14T13:50:08.977325",
     "status": "completed"
    },
    "tags": []
   },
   "outputs": [
    {
     "name": "stdout",
     "output_type": "stream",
     "text": [
      "tensor([[[-1.7909,  1.4140, -0.2515],\n",
      "         [-0.1519,  0.6966,  1.6282],\n",
      "         [ 0.4559, -0.1130,  0.0190]]])\n",
      "tensor([[[ 1.3823,  0.4846, -1.0655],\n",
      "         [-0.6558,  0.8291,  0.9599],\n",
      "         [-1.0238, -1.3357,  0.7046]]])\n",
      "tensor([[[-1.7909,  1.4140, -0.2515],\n",
      "         [-0.1519,  0.6966,  1.6282],\n",
      "         [ 0.4559, -0.1130,  0.0190],\n",
      "         [ 1.3823,  0.4846, -1.0655],\n",
      "         [-0.6558,  0.8291,  0.9599],\n",
      "         [-1.0238, -1.3357,  0.7046]]])\n",
      "torch.Size([1, 6, 3])\n"
     ]
    }
   ],
   "source": [
    "a = torch.randn(1,3,3)\n",
    "print(a)\n",
    "b = torch.randn(1,3,3)\n",
    "print(b)\n",
    "c = torch.cat((a,b), dim=1)\n",
    "print(c)\n",
    "print(c.size())\n",
    "\n",
    "# 2차원 결합으로 2차원 증가"
   ]
  },
  {
   "cell_type": "markdown",
   "id": "a3b345b1",
   "metadata": {
    "papermill": {
     "duration": 0.035911,
     "end_time": "2022-09-14T13:50:09.098964",
     "exception": false,
     "start_time": "2022-09-14T13:50:09.063053",
     "status": "completed"
    },
    "tags": []
   },
   "source": [
    "- chunk : 텐서를 여러 개로 나눌 때 사용(몇 개로 나눌 것인지 지정)"
   ]
  },
  {
   "cell_type": "code",
   "execution_count": 45,
   "id": "11116cbc",
   "metadata": {
    "execution": {
     "iopub.execute_input": "2022-09-14T13:50:09.174137Z",
     "iopub.status.busy": "2022-09-14T13:50:09.172997Z",
     "iopub.status.idle": "2022-09-14T13:50:09.182734Z",
     "shell.execute_reply": "2022-09-14T13:50:09.181480Z"
    },
    "papermill": {
     "duration": 0.049857,
     "end_time": "2022-09-14T13:50:09.185365",
     "exception": false,
     "start_time": "2022-09-14T13:50:09.135508",
     "status": "completed"
    },
    "tags": []
   },
   "outputs": [
    {
     "name": "stdout",
     "output_type": "stream",
     "text": [
      "tensor([[0.6081, 0.4192, 0.1917, 0.3067, 0.3208, 0.4757],\n",
      "        [0.3738, 0.0619, 0.3893, 0.6032, 0.8040, 0.7028],\n",
      "        [0.2374, 0.7211, 0.3422, 0.1937, 0.3705, 0.2919]])\n",
      "tensor([[0.6081, 0.4192],\n",
      "        [0.3738, 0.0619],\n",
      "        [0.2374, 0.7211]]) torch.Size([3, 2])\n",
      "tensor([[0.1917, 0.3067],\n",
      "        [0.3893, 0.6032],\n",
      "        [0.3422, 0.1937]]) torch.Size([3, 2])\n",
      "tensor([[0.3208, 0.4757],\n",
      "        [0.8040, 0.7028],\n",
      "        [0.3705, 0.2919]]) torch.Size([3, 2])\n"
     ]
    }
   ],
   "source": [
    "t = torch.rand(3,6)\n",
    "print(t)\n",
    "\n",
    "t1, t2, t3 = torch.chunk(t, 3, dim=1)\n",
    "# 2차원을 기준으로 3으로 나눔 : 3×2\n",
    "print(t1, t1.shape)\n",
    "print(t2, t2.shape)\n",
    "print(t3, t3.shape)"
   ]
  },
  {
   "cell_type": "code",
   "execution_count": 46,
   "id": "357b6705",
   "metadata": {
    "execution": {
     "iopub.execute_input": "2022-09-14T13:50:09.261288Z",
     "iopub.status.busy": "2022-09-14T13:50:09.260685Z",
     "iopub.status.idle": "2022-09-14T13:50:09.268694Z",
     "shell.execute_reply": "2022-09-14T13:50:09.267541Z"
    },
    "papermill": {
     "duration": 0.048507,
     "end_time": "2022-09-14T13:50:09.270947",
     "exception": false,
     "start_time": "2022-09-14T13:50:09.222440",
     "status": "completed"
    },
    "tags": []
   },
   "outputs": [
    {
     "name": "stdout",
     "output_type": "stream",
     "text": [
      "tensor([[0.1514, 0.4601, 0.0558, 0.1986, 0.3523, 0.3154],\n",
      "        [0.1305, 0.1081, 0.9482, 0.8463, 0.5731, 0.3841],\n",
      "        [0.8634, 0.8308, 0.6967, 0.1905, 0.2257, 0.4279]])\n",
      "tensor([[0.1514, 0.4601, 0.0558, 0.1986, 0.3523, 0.3154]]) torch.Size([1, 6])\n",
      "tensor([[0.1305, 0.1081, 0.9482, 0.8463, 0.5731, 0.3841]]) torch.Size([1, 6])\n",
      "tensor([[0.8634, 0.8308, 0.6967, 0.1905, 0.2257, 0.4279]]) torch.Size([1, 6])\n"
     ]
    }
   ],
   "source": [
    "t = torch.rand(3,6)\n",
    "print(t)\n",
    "\n",
    "t1, t2, t3 = torch.chunk(t, 3, dim=0)\n",
    "# 1차원을 기준으로 3으로 나눔 : 1×6\n",
    "print(t1, t1.shape)\n",
    "print(t2, t2.shape)\n",
    "print(t3, t3.shape)"
   ]
  },
  {
   "cell_type": "markdown",
   "id": "753b3828",
   "metadata": {
    "papermill": {
     "duration": 0.036814,
     "end_time": "2022-09-14T13:50:09.344613",
     "exception": false,
     "start_time": "2022-09-14T13:50:09.307799",
     "status": "completed"
    },
    "tags": []
   },
   "source": [
    "- split : chunk와 동일하게 텐서를 여러 개로 나눌 때 사용(어떤 크기로 나눌 것인지 지정)"
   ]
  },
  {
   "cell_type": "code",
   "execution_count": 47,
   "id": "51a1d396",
   "metadata": {
    "execution": {
     "iopub.execute_input": "2022-09-14T13:50:09.419855Z",
     "iopub.status.busy": "2022-09-14T13:50:09.419135Z",
     "iopub.status.idle": "2022-09-14T13:50:09.426838Z",
     "shell.execute_reply": "2022-09-14T13:50:09.425617Z"
    },
    "papermill": {
     "duration": 0.047933,
     "end_time": "2022-09-14T13:50:09.429307",
     "exception": false,
     "start_time": "2022-09-14T13:50:09.381374",
     "status": "completed"
    },
    "tags": []
   },
   "outputs": [
    {
     "name": "stdout",
     "output_type": "stream",
     "text": [
      "tensor([[0.7360, 0.8410, 0.6132, 0.9213, 0.3851, 0.1081],\n",
      "        [0.2084, 0.2059, 0.9455, 0.0602, 0.7603, 0.4478],\n",
      "        [0.9266, 0.7281, 0.2013, 0.4071, 0.9546, 0.5323]])\n",
      "tensor([[0.7360, 0.8410, 0.6132],\n",
      "        [0.2084, 0.2059, 0.9455],\n",
      "        [0.9266, 0.7281, 0.2013]]) torch.Size([3, 3])\n",
      "tensor([[0.9213, 0.3851, 0.1081],\n",
      "        [0.0602, 0.7603, 0.4478],\n",
      "        [0.4071, 0.9546, 0.5323]]) torch.Size([3, 3])\n"
     ]
    }
   ],
   "source": [
    "t = torch.rand(3,6)\n",
    "t1, t2= torch.split(t,3,dim=1)\n",
    "\n",
    "print(t)\n",
    "print(t1, t1.shape)\n",
    "print(t2, t2.shape)"
   ]
  },
  {
   "cell_type": "markdown",
   "id": "e5f1f385",
   "metadata": {
    "papermill": {
     "duration": 0.036165,
     "end_time": "2022-09-14T13:50:09.502111",
     "exception": false,
     "start_time": "2022-09-14T13:50:09.465946",
     "status": "completed"
    },
    "tags": []
   },
   "source": [
    "### PyTorch  NumPy\n",
    "- PyTorch의 Tensor를 NumPy의 Array로 변환 가능\n",
    "- - numpy()\n",
    "- - from_numpy()\n",
    "- Tensor가 CPU 상에 존재할 경우 NumPy 배열은 메모리 공간을 공유하므로 하나가 변경되면 다른 하나도 변경"
   ]
  },
  {
   "cell_type": "code",
   "execution_count": 48,
   "id": "1b48cd8c",
   "metadata": {
    "execution": {
     "iopub.execute_input": "2022-09-14T13:50:09.576775Z",
     "iopub.status.busy": "2022-09-14T13:50:09.576332Z",
     "iopub.status.idle": "2022-09-14T13:50:09.581823Z",
     "shell.execute_reply": "2022-09-14T13:50:09.581088Z"
    },
    "papermill": {
     "duration": 0.046017,
     "end_time": "2022-09-14T13:50:09.584435",
     "exception": false,
     "start_time": "2022-09-14T13:50:09.538418",
     "status": "completed"
    },
    "tags": []
   },
   "outputs": [
    {
     "name": "stdout",
     "output_type": "stream",
     "text": [
      "tensor([1., 1., 1., 1., 1., 1., 1.])\n"
     ]
    }
   ],
   "source": [
    "a = torch.ones(7)\n",
    "print(a)"
   ]
  },
  {
   "cell_type": "code",
   "execution_count": 49,
   "id": "2068cfcb",
   "metadata": {
    "execution": {
     "iopub.execute_input": "2022-09-14T13:50:09.661418Z",
     "iopub.status.busy": "2022-09-14T13:50:09.660221Z",
     "iopub.status.idle": "2022-09-14T13:50:09.666309Z",
     "shell.execute_reply": "2022-09-14T13:50:09.665499Z"
    },
    "papermill": {
     "duration": 0.046268,
     "end_time": "2022-09-14T13:50:09.668604",
     "exception": false,
     "start_time": "2022-09-14T13:50:09.622336",
     "status": "completed"
    },
    "tags": []
   },
   "outputs": [
    {
     "name": "stdout",
     "output_type": "stream",
     "text": [
      "[1. 1. 1. 1. 1. 1. 1.]\n"
     ]
    }
   ],
   "source": [
    "b = a.numpy() # array 형태\n",
    "print(b)"
   ]
  },
  {
   "cell_type": "code",
   "execution_count": 50,
   "id": "8bf49b3f",
   "metadata": {
    "execution": {
     "iopub.execute_input": "2022-09-14T13:50:09.744009Z",
     "iopub.status.busy": "2022-09-14T13:50:09.743578Z",
     "iopub.status.idle": "2022-09-14T13:50:09.749932Z",
     "shell.execute_reply": "2022-09-14T13:50:09.748945Z"
    },
    "papermill": {
     "duration": 0.047594,
     "end_time": "2022-09-14T13:50:09.752960",
     "exception": false,
     "start_time": "2022-09-14T13:50:09.705366",
     "status": "completed"
    },
    "tags": []
   },
   "outputs": [
    {
     "name": "stdout",
     "output_type": "stream",
     "text": [
      "tensor([2., 2., 2., 2., 2., 2., 2.])\n",
      "[2. 2. 2. 2. 2. 2. 2.]\n"
     ]
    }
   ],
   "source": [
    "a.add_(1)\n",
    "print(a) # Tensor\n",
    "print(b) # Array\n",
    "\n",
    "# Tensor가 CPU 상에 있으므로 a가 업데이트되면서 b도 업데이트"
   ]
  },
  {
   "cell_type": "code",
   "execution_count": 51,
   "id": "766e305b",
   "metadata": {
    "execution": {
     "iopub.execute_input": "2022-09-14T13:50:09.828934Z",
     "iopub.status.busy": "2022-09-14T13:50:09.828221Z",
     "iopub.status.idle": "2022-09-14T13:50:09.835117Z",
     "shell.execute_reply": "2022-09-14T13:50:09.834312Z"
    },
    "papermill": {
     "duration": 0.048561,
     "end_time": "2022-09-14T13:50:09.838732",
     "exception": false,
     "start_time": "2022-09-14T13:50:09.790171",
     "status": "completed"
    },
    "tags": []
   },
   "outputs": [
    {
     "name": "stdout",
     "output_type": "stream",
     "text": [
      "[2. 2. 2. 2. 2. 2. 2.]\n",
      "tensor([2., 2., 2., 2., 2., 2., 2.], dtype=torch.float64)\n"
     ]
    }
   ],
   "source": [
    "import numpy as np\n",
    "\n",
    "a = np.ones(7)\n",
    "b = torch.from_numpy(a)\n",
    "np.add(a, 1, out=a)\n",
    "\n",
    "print(a) # array\n",
    "print(b) # tensor\n",
    "\n",
    "# 만약 텐서가 GPU 공간에 있을 경우에는 서로의 정보는 공유되지 않음"
   ]
  },
  {
   "cell_type": "markdown",
   "id": "cfa34e03",
   "metadata": {
    "papermill": {
     "duration": 0.03667,
     "end_time": "2022-09-14T13:50:09.913285",
     "exception": false,
     "start_time": "2022-09-14T13:50:09.876615",
     "status": "completed"
    },
    "tags": []
   },
   "source": [
    "### Autograd\n",
    "\n",
    "- 텐서의 모든 연산에 대해 자동 미분 연산 적용\n",
    "- 작성한 코드 실행에 대하여 역전파 정의\n",
    "- backprop을 위해 미분값 자동 계산"
   ]
  },
  {
   "cell_type": "markdown",
   "id": "4fda19af",
   "metadata": {
    "papermill": {
     "duration": 0.036176,
     "end_time": "2022-09-14T13:50:09.985861",
     "exception": false,
     "start_time": "2022-09-14T13:50:09.949685",
     "status": "completed"
    },
    "tags": []
   },
   "source": [
    "- requires_grad 속성 True로 설정할 시 해당 텐서에서 이루어지는 모든 연산 추적\n",
    "- 기록 추적 중단을 위해서는 .detach() 매서드를 호출하여 연산 기록으로부터 분리"
   ]
  },
  {
   "cell_type": "code",
   "execution_count": 52,
   "id": "c23b4b9f",
   "metadata": {
    "execution": {
     "iopub.execute_input": "2022-09-14T13:50:10.062158Z",
     "iopub.status.busy": "2022-09-14T13:50:10.061420Z",
     "iopub.status.idle": "2022-09-14T13:50:10.067631Z",
     "shell.execute_reply": "2022-09-14T13:50:10.066802Z"
    },
    "papermill": {
     "duration": 0.048202,
     "end_time": "2022-09-14T13:50:10.070901",
     "exception": false,
     "start_time": "2022-09-14T13:50:10.022699",
     "status": "completed"
    },
    "tags": []
   },
   "outputs": [
    {
     "name": "stdout",
     "output_type": "stream",
     "text": [
      "tensor([[ 2.2037,  2.7503,  1.4514],\n",
      "        [ 2.0591, -6.0041, -1.0950],\n",
      "        [-5.5689, -1.4087, -4.0489]])\n",
      "False\n"
     ]
    }
   ],
   "source": [
    "a = torch.randn(3,3)\n",
    "a *= 3\n",
    "print(a)\n",
    "print(a.requires_grad)"
   ]
  },
  {
   "cell_type": "markdown",
   "id": "fd6214de",
   "metadata": {
    "papermill": {
     "duration": 0.037556,
     "end_time": "2022-09-14T13:50:10.146418",
     "exception": false,
     "start_time": "2022-09-14T13:50:10.108862",
     "status": "completed"
    },
    "tags": []
   },
   "source": [
    "- requires_grad_는 requires_grad의 값을 in-place로 변경\n",
    "- grad_fn은 미분값을 계산한 함수에 대한 정보를 저장(어떤 함수에 대하여 backprop를 했는지 저장)"
   ]
  },
  {
   "cell_type": "code",
   "execution_count": 53,
   "id": "517df862",
   "metadata": {
    "execution": {
     "iopub.execute_input": "2022-09-14T13:50:10.221456Z",
     "iopub.status.busy": "2022-09-14T13:50:10.220842Z",
     "iopub.status.idle": "2022-09-14T13:50:10.229568Z",
     "shell.execute_reply": "2022-09-14T13:50:10.228751Z"
    },
    "papermill": {
     "duration": 0.049226,
     "end_time": "2022-09-14T13:50:10.232211",
     "exception": false,
     "start_time": "2022-09-14T13:50:10.182985",
     "status": "completed"
    },
    "tags": []
   },
   "outputs": [
    {
     "name": "stdout",
     "output_type": "stream",
     "text": [
      "True\n",
      "tensor(105.4060, grad_fn=<SumBackward0>)\n",
      "<SumBackward0 object at 0x7fb6a76f9910>\n"
     ]
    }
   ],
   "source": [
    "a.requires_grad_(True)\n",
    "print(a.requires_grad)\n",
    "\n",
    "b = (a*a).sum()\n",
    "print(b)\n",
    "print(b.grad_fn)"
   ]
  },
  {
   "cell_type": "markdown",
   "id": "cb3100b6",
   "metadata": {
    "papermill": {
     "duration": 0.03641,
     "end_time": "2022-09-14T13:50:10.306326",
     "exception": false,
     "start_time": "2022-09-14T13:50:10.269916",
     "status": "completed"
    },
    "tags": []
   },
   "source": [
    "### 기울기(Gradient)"
   ]
  },
  {
   "cell_type": "code",
   "execution_count": 54,
   "id": "e3adfd93",
   "metadata": {
    "execution": {
     "iopub.execute_input": "2022-09-14T13:50:10.381862Z",
     "iopub.status.busy": "2022-09-14T13:50:10.380922Z",
     "iopub.status.idle": "2022-09-14T13:50:10.387288Z",
     "shell.execute_reply": "2022-09-14T13:50:10.386039Z"
    },
    "papermill": {
     "duration": 0.047502,
     "end_time": "2022-09-14T13:50:10.390472",
     "exception": false,
     "start_time": "2022-09-14T13:50:10.342970",
     "status": "completed"
    },
    "tags": []
   },
   "outputs": [
    {
     "name": "stdout",
     "output_type": "stream",
     "text": [
      "tensor([[1., 1., 1.],\n",
      "        [1., 1., 1.],\n",
      "        [1., 1., 1.]], requires_grad=True)\n"
     ]
    }
   ],
   "source": [
    "x = torch.ones(3,3, requires_grad=True)\n",
    "print(x)"
   ]
  },
  {
   "cell_type": "code",
   "execution_count": 55,
   "id": "7c17bbf1",
   "metadata": {
    "execution": {
     "iopub.execute_input": "2022-09-14T13:50:10.468033Z",
     "iopub.status.busy": "2022-09-14T13:50:10.466873Z",
     "iopub.status.idle": "2022-09-14T13:50:10.474491Z",
     "shell.execute_reply": "2022-09-14T13:50:10.472889Z"
    },
    "papermill": {
     "duration": 0.048903,
     "end_time": "2022-09-14T13:50:10.477295",
     "exception": false,
     "start_time": "2022-09-14T13:50:10.428392",
     "status": "completed"
    },
    "tags": []
   },
   "outputs": [
    {
     "name": "stdout",
     "output_type": "stream",
     "text": [
      "tensor([[6., 6., 6.],\n",
      "        [6., 6., 6.],\n",
      "        [6., 6., 6.]], grad_fn=<AddBackward0>)\n"
     ]
    }
   ],
   "source": [
    "y = x+5\n",
    "print(y)"
   ]
  },
  {
   "cell_type": "code",
   "execution_count": 56,
   "id": "13b2bdee",
   "metadata": {
    "execution": {
     "iopub.execute_input": "2022-09-14T13:50:10.553977Z",
     "iopub.status.busy": "2022-09-14T13:50:10.553555Z",
     "iopub.status.idle": "2022-09-14T13:50:10.561575Z",
     "shell.execute_reply": "2022-09-14T13:50:10.560075Z"
    },
    "papermill": {
     "duration": 0.050104,
     "end_time": "2022-09-14T13:50:10.564970",
     "exception": false,
     "start_time": "2022-09-14T13:50:10.514866",
     "status": "completed"
    },
    "tags": []
   },
   "outputs": [
    {
     "name": "stdout",
     "output_type": "stream",
     "text": [
      "tensor([[36., 36., 36.],\n",
      "        [36., 36., 36.],\n",
      "        [36., 36., 36.]], grad_fn=<MulBackward0>) tensor(36., grad_fn=<MeanBackward0>)\n"
     ]
    }
   ],
   "source": [
    "z = y*y\n",
    "out = z.mean()\n",
    "print(z, out)"
   ]
  },
  {
   "cell_type": "markdown",
   "id": "67d457b7",
   "metadata": {
    "papermill": {
     "duration": 0.037171,
     "end_time": "2022-09-14T13:50:10.640237",
     "exception": false,
     "start_time": "2022-09-14T13:50:10.603066",
     "status": "completed"
    },
    "tags": []
   },
   "source": [
    "- 계산 완료 후 backward()를 호출하면 자동으로 역전파 계산 가능\n",
    "- grad 속성에 누적"
   ]
  },
  {
   "cell_type": "code",
   "execution_count": 57,
   "id": "22bae54c",
   "metadata": {
    "execution": {
     "iopub.execute_input": "2022-09-14T13:50:10.720411Z",
     "iopub.status.busy": "2022-09-14T13:50:10.719664Z",
     "iopub.status.idle": "2022-09-14T13:50:10.739234Z",
     "shell.execute_reply": "2022-09-14T13:50:10.737368Z"
    },
    "papermill": {
     "duration": 0.062753,
     "end_time": "2022-09-14T13:50:10.743100",
     "exception": false,
     "start_time": "2022-09-14T13:50:10.680347",
     "status": "completed"
    },
    "tags": []
   },
   "outputs": [
    {
     "name": "stdout",
     "output_type": "stream",
     "text": [
      "tensor(36., grad_fn=<MeanBackward0>)\n"
     ]
    }
   ],
   "source": [
    "print(out)\n",
    "out.backward()"
   ]
  },
  {
   "cell_type": "markdown",
   "id": "2a70357b",
   "metadata": {
    "papermill": {
     "duration": 0.037696,
     "end_time": "2022-09-14T13:50:10.819738",
     "exception": false,
     "start_time": "2022-09-14T13:50:10.782042",
     "status": "completed"
    },
    "tags": []
   },
   "source": [
    "- grad : 데이터가 거쳐온 layer에 대한 미분값 저장"
   ]
  },
  {
   "cell_type": "code",
   "execution_count": 58,
   "id": "92c9c828",
   "metadata": {
    "execution": {
     "iopub.execute_input": "2022-09-14T13:50:10.897992Z",
     "iopub.status.busy": "2022-09-14T13:50:10.897276Z",
     "iopub.status.idle": "2022-09-14T13:50:10.903907Z",
     "shell.execute_reply": "2022-09-14T13:50:10.902428Z"
    },
    "papermill": {
     "duration": 0.04879,
     "end_time": "2022-09-14T13:50:10.906678",
     "exception": false,
     "start_time": "2022-09-14T13:50:10.857888",
     "status": "completed"
    },
    "tags": []
   },
   "outputs": [
    {
     "name": "stdout",
     "output_type": "stream",
     "text": [
      "tensor([[1., 1., 1.],\n",
      "        [1., 1., 1.],\n",
      "        [1., 1., 1.]], requires_grad=True)\n",
      "tensor([[1.3333, 1.3333, 1.3333],\n",
      "        [1.3333, 1.3333, 1.3333],\n",
      "        [1.3333, 1.3333, 1.3333]])\n"
     ]
    }
   ],
   "source": [
    "print(x)\n",
    "print(x.grad)"
   ]
  },
  {
   "cell_type": "code",
   "execution_count": 59,
   "id": "bbb56b0a",
   "metadata": {
    "execution": {
     "iopub.execute_input": "2022-09-14T13:50:10.984638Z",
     "iopub.status.busy": "2022-09-14T13:50:10.984223Z",
     "iopub.status.idle": "2022-09-14T13:50:10.994172Z",
     "shell.execute_reply": "2022-09-14T13:50:10.992436Z"
    },
    "papermill": {
     "duration": 0.052165,
     "end_time": "2022-09-14T13:50:10.996855",
     "exception": false,
     "start_time": "2022-09-14T13:50:10.944690",
     "status": "completed"
    },
    "tags": []
   },
   "outputs": [
    {
     "name": "stdout",
     "output_type": "stream",
     "text": [
      "tensor([-712.5698, -453.7564, -673.3422], grad_fn=<MulBackward0>)\n"
     ]
    }
   ],
   "source": [
    "x = torch.randn(3, requires_grad=True)\n",
    "y = x * 2\n",
    "while y.data.norm() < 1000:\n",
    "    y = y*2\n",
    "    \n",
    "print(y)"
   ]
  },
  {
   "cell_type": "code",
   "execution_count": 60,
   "id": "2e25708f",
   "metadata": {
    "execution": {
     "iopub.execute_input": "2022-09-14T13:50:11.074952Z",
     "iopub.status.busy": "2022-09-14T13:50:11.074017Z",
     "iopub.status.idle": "2022-09-14T13:50:11.082304Z",
     "shell.execute_reply": "2022-09-14T13:50:11.080737Z"
    },
    "papermill": {
     "duration": 0.04981,
     "end_time": "2022-09-14T13:50:11.084667",
     "exception": false,
     "start_time": "2022-09-14T13:50:11.034857",
     "status": "completed"
    },
    "tags": []
   },
   "outputs": [
    {
     "name": "stdout",
     "output_type": "stream",
     "text": [
      "tensor([1.0240e+02, 1.0240e+03, 1.0240e-01])\n"
     ]
    }
   ],
   "source": [
    "v = torch.tensor([0.1, 1.0, 1e-4], dtype=torch.float)\n",
    "y.backward(v)\n",
    "\n",
    "print(x.grad)"
   ]
  },
  {
   "cell_type": "markdown",
   "id": "91251646",
   "metadata": {
    "papermill": {
     "duration": 0.03752,
     "end_time": "2022-09-14T13:50:11.159462",
     "exception": false,
     "start_time": "2022-09-14T13:50:11.121942",
     "status": "completed"
    },
    "tags": []
   },
   "source": [
    "- with torch.no_grad()로 기울기 업데이트 중지 가능\n",
    "- 기록 추적을 방지하기 위해 코드 블록을 with torch.no_grad()로 감싼다면 기울기 계산은 필요없지만 requires_grad=True로 설정되어 학습가능한 매개변수를 갖는 모델을 평가할 때 유용"
   ]
  },
  {
   "cell_type": "code",
   "execution_count": 61,
   "id": "f445f092",
   "metadata": {
    "execution": {
     "iopub.execute_input": "2022-09-14T13:50:11.235474Z",
     "iopub.status.busy": "2022-09-14T13:50:11.235100Z",
     "iopub.status.idle": "2022-09-14T13:50:11.243218Z",
     "shell.execute_reply": "2022-09-14T13:50:11.241826Z"
    },
    "papermill": {
     "duration": 0.049315,
     "end_time": "2022-09-14T13:50:11.245827",
     "exception": false,
     "start_time": "2022-09-14T13:50:11.196512",
     "status": "completed"
    },
    "tags": []
   },
   "outputs": [
    {
     "name": "stdout",
     "output_type": "stream",
     "text": [
      "True\n",
      "True\n",
      "False\n"
     ]
    }
   ],
   "source": [
    "print(x.requires_grad) # True\n",
    "print((x**2).requires_grad) # True\n",
    "\n",
    "with torch.no_grad():\n",
    "    print((x**2).requires_grad)\n",
    "    # False / gradient 업데이트 ×"
   ]
  },
  {
   "cell_type": "markdown",
   "id": "0735acda",
   "metadata": {
    "papermill": {
     "duration": 0.036939,
     "end_time": "2022-09-14T13:50:11.322200",
     "exception": false,
     "start_time": "2022-09-14T13:50:11.285261",
     "status": "completed"
    },
    "tags": []
   },
   "source": [
    "- detach() : 내용은 같지만 requires_grad가 다른 새로운 텐서를 가져올 때"
   ]
  },
  {
   "cell_type": "code",
   "execution_count": 62,
   "id": "2d0fc489",
   "metadata": {
    "execution": {
     "iopub.execute_input": "2022-09-14T13:50:11.398863Z",
     "iopub.status.busy": "2022-09-14T13:50:11.398243Z",
     "iopub.status.idle": "2022-09-14T13:50:11.405453Z",
     "shell.execute_reply": "2022-09-14T13:50:11.404089Z"
    },
    "papermill": {
     "duration": 0.048226,
     "end_time": "2022-09-14T13:50:11.407773",
     "exception": false,
     "start_time": "2022-09-14T13:50:11.359547",
     "status": "completed"
    },
    "tags": []
   },
   "outputs": [
    {
     "name": "stdout",
     "output_type": "stream",
     "text": [
      "True\n",
      "tensor([-0.6959, -0.4431, -0.6576], requires_grad=True)\n",
      "False\n",
      "tensor([-0.6959, -0.4431, -0.6576])\n",
      "tensor(True)\n"
     ]
    }
   ],
   "source": [
    "print(x.requires_grad)\n",
    "print(x)\n",
    "y = x.detach()\n",
    "print(y.requires_grad)\n",
    "print(y)\n",
    "print(x.eq(y).all())"
   ]
  },
  {
   "cell_type": "markdown",
   "id": "4cf6a74f",
   "metadata": {
    "papermill": {
     "duration": 0.037081,
     "end_time": "2022-09-14T13:50:11.484629",
     "exception": false,
     "start_time": "2022-09-14T13:50:11.447548",
     "status": "completed"
    },
    "tags": []
   },
   "source": [
    "### 자동 미분 흐름\n",
    "- 계산 흐름 : a > b > c > out dout / da = ?\n",
    "- backward()를 통해 a < b < c < out을 계산하면 dout / da 값이 a.grad에 계산"
   ]
  },
  {
   "cell_type": "code",
   "execution_count": 63,
   "id": "20048c6b",
   "metadata": {
    "execution": {
     "iopub.execute_input": "2022-09-14T13:50:11.561495Z",
     "iopub.status.busy": "2022-09-14T13:50:11.561079Z",
     "iopub.status.idle": "2022-09-14T13:50:11.568431Z",
     "shell.execute_reply": "2022-09-14T13:50:11.566893Z"
    },
    "papermill": {
     "duration": 0.048814,
     "end_time": "2022-09-14T13:50:11.570777",
     "exception": false,
     "start_time": "2022-09-14T13:50:11.521963",
     "status": "completed"
    },
    "tags": []
   },
   "outputs": [
    {
     "name": "stdout",
     "output_type": "stream",
     "text": [
      "tensor([[1., 1.],\n",
      "        [1., 1.]], requires_grad=True)\n"
     ]
    }
   ],
   "source": [
    "a = torch.ones(2,2, requires_grad=True)\n",
    "print(a)"
   ]
  },
  {
   "cell_type": "code",
   "execution_count": 64,
   "id": "32d542a0",
   "metadata": {
    "execution": {
     "iopub.execute_input": "2022-09-14T13:50:11.648287Z",
     "iopub.status.busy": "2022-09-14T13:50:11.647587Z",
     "iopub.status.idle": "2022-09-14T13:50:11.654587Z",
     "shell.execute_reply": "2022-09-14T13:50:11.653131Z"
    },
    "papermill": {
     "duration": 0.048445,
     "end_time": "2022-09-14T13:50:11.656993",
     "exception": false,
     "start_time": "2022-09-14T13:50:11.608548",
     "status": "completed"
    },
    "tags": []
   },
   "outputs": [
    {
     "name": "stdout",
     "output_type": "stream",
     "text": [
      "tensor([[1., 1.],\n",
      "        [1., 1.]])\n",
      "None\n",
      "None\n"
     ]
    }
   ],
   "source": [
    "print(a.data)\n",
    "print(a.grad)\n",
    "print(a.grad_fn)\n",
    "# 현재 a에 연산이 없으므로 None"
   ]
  },
  {
   "cell_type": "code",
   "execution_count": 65,
   "id": "0b895b16",
   "metadata": {
    "execution": {
     "iopub.execute_input": "2022-09-14T13:50:11.734237Z",
     "iopub.status.busy": "2022-09-14T13:50:11.733836Z",
     "iopub.status.idle": "2022-09-14T13:50:11.740461Z",
     "shell.execute_reply": "2022-09-14T13:50:11.739255Z"
    },
    "papermill": {
     "duration": 0.047994,
     "end_time": "2022-09-14T13:50:11.742976",
     "exception": false,
     "start_time": "2022-09-14T13:50:11.694982",
     "status": "completed"
    },
    "tags": []
   },
   "outputs": [
    {
     "name": "stdout",
     "output_type": "stream",
     "text": [
      "tensor([[3., 3.],\n",
      "        [3., 3.]], grad_fn=<AddBackward0>)\n"
     ]
    }
   ],
   "source": [
    "b = a+2\n",
    "print(b)"
   ]
  },
  {
   "cell_type": "code",
   "execution_count": 66,
   "id": "d13a67f3",
   "metadata": {
    "execution": {
     "iopub.execute_input": "2022-09-14T13:50:11.821424Z",
     "iopub.status.busy": "2022-09-14T13:50:11.820269Z",
     "iopub.status.idle": "2022-09-14T13:50:11.828059Z",
     "shell.execute_reply": "2022-09-14T13:50:11.826067Z"
    },
    "papermill": {
     "duration": 0.049152,
     "end_time": "2022-09-14T13:50:11.830469",
     "exception": false,
     "start_time": "2022-09-14T13:50:11.781317",
     "status": "completed"
    },
    "tags": []
   },
   "outputs": [
    {
     "name": "stdout",
     "output_type": "stream",
     "text": [
      "tensor([[9., 9.],\n",
      "        [9., 9.]], grad_fn=<PowBackward0>)\n"
     ]
    }
   ],
   "source": [
    "c = b ** 2\n",
    "print(c)"
   ]
  },
  {
   "cell_type": "code",
   "execution_count": 67,
   "id": "d977ba5f",
   "metadata": {
    "execution": {
     "iopub.execute_input": "2022-09-14T13:50:11.907908Z",
     "iopub.status.busy": "2022-09-14T13:50:11.907041Z",
     "iopub.status.idle": "2022-09-14T13:50:11.913578Z",
     "shell.execute_reply": "2022-09-14T13:50:11.912417Z"
    },
    "papermill": {
     "duration": 0.047628,
     "end_time": "2022-09-14T13:50:11.915896",
     "exception": false,
     "start_time": "2022-09-14T13:50:11.868268",
     "status": "completed"
    },
    "tags": []
   },
   "outputs": [
    {
     "name": "stdout",
     "output_type": "stream",
     "text": [
      "tensor(36., grad_fn=<SumBackward0>)\n"
     ]
    }
   ],
   "source": [
    "out = c.sum()\n",
    "print(out)"
   ]
  },
  {
   "cell_type": "code",
   "execution_count": 68,
   "id": "a024589b",
   "metadata": {
    "execution": {
     "iopub.execute_input": "2022-09-14T13:50:11.994136Z",
     "iopub.status.busy": "2022-09-14T13:50:11.993320Z",
     "iopub.status.idle": "2022-09-14T13:50:12.001309Z",
     "shell.execute_reply": "2022-09-14T13:50:11.999466Z"
    },
    "papermill": {
     "duration": 0.050308,
     "end_time": "2022-09-14T13:50:12.004552",
     "exception": false,
     "start_time": "2022-09-14T13:50:11.954244",
     "status": "completed"
    },
    "tags": []
   },
   "outputs": [
    {
     "name": "stdout",
     "output_type": "stream",
     "text": [
      "tensor(36., grad_fn=<SumBackward0>)\n"
     ]
    }
   ],
   "source": [
    "print(out)\n",
    "out.backward()"
   ]
  },
  {
   "cell_type": "code",
   "execution_count": 69,
   "id": "45ca7708",
   "metadata": {
    "execution": {
     "iopub.execute_input": "2022-09-14T13:50:12.082901Z",
     "iopub.status.busy": "2022-09-14T13:50:12.082496Z",
     "iopub.status.idle": "2022-09-14T13:50:12.090101Z",
     "shell.execute_reply": "2022-09-14T13:50:12.088729Z"
    },
    "papermill": {
     "duration": 0.049023,
     "end_time": "2022-09-14T13:50:12.092410",
     "exception": false,
     "start_time": "2022-09-14T13:50:12.043387",
     "status": "completed"
    },
    "tags": []
   },
   "outputs": [
    {
     "name": "stdout",
     "output_type": "stream",
     "text": [
      "tensor([[1., 1.],\n",
      "        [1., 1.]])\n",
      "tensor([[6., 6.],\n",
      "        [6., 6.]])\n",
      "None\n"
     ]
    }
   ],
   "source": [
    "print(a.data)\n",
    "print(a.grad)\n",
    "print(a.grad_fn)\n",
    "# a값을 활용만 했을 뿐 a값을 직접 계산한 과정은 없었기 때문에 None"
   ]
  },
  {
   "cell_type": "code",
   "execution_count": 70,
   "id": "6ba8e4ae",
   "metadata": {
    "execution": {
     "iopub.execute_input": "2022-09-14T13:50:12.171676Z",
     "iopub.status.busy": "2022-09-14T13:50:12.171250Z",
     "iopub.status.idle": "2022-09-14T13:50:12.180943Z",
     "shell.execute_reply": "2022-09-14T13:50:12.180100Z"
    },
    "papermill": {
     "duration": 0.052987,
     "end_time": "2022-09-14T13:50:12.183883",
     "exception": false,
     "start_time": "2022-09-14T13:50:12.130896",
     "status": "completed"
    },
    "tags": []
   },
   "outputs": [
    {
     "name": "stdout",
     "output_type": "stream",
     "text": [
      "tensor([[3., 3.],\n",
      "        [3., 3.]])\n",
      "None\n",
      "<AddBackward0 object at 0x7fb6a770a990>\n"
     ]
    },
    {
     "name": "stderr",
     "output_type": "stream",
     "text": [
      "/opt/conda/lib/python3.7/site-packages/torch/_tensor.py:1104: UserWarning: The .grad attribute of a Tensor that is not a leaf Tensor is being accessed. Its .grad attribute won't be populated during autograd.backward(). If you indeed want the .grad field to be populated for a non-leaf Tensor, use .retain_grad() on the non-leaf Tensor. If you access the non-leaf Tensor by mistake, make sure you access the leaf Tensor instead. See github.com/pytorch/pytorch/pull/30531 for more informations. (Triggered internally at  aten/src/ATen/core/TensorBody.h:475.)\n",
      "  return self._grad\n"
     ]
    }
   ],
   "source": [
    "print(b.data)\n",
    "print(b.grad)\n",
    "print(b.grad_fn)"
   ]
  },
  {
   "cell_type": "code",
   "execution_count": 71,
   "id": "5a8ea6b8",
   "metadata": {
    "execution": {
     "iopub.execute_input": "2022-09-14T13:50:12.263426Z",
     "iopub.status.busy": "2022-09-14T13:50:12.262089Z",
     "iopub.status.idle": "2022-09-14T13:50:12.269638Z",
     "shell.execute_reply": "2022-09-14T13:50:12.268323Z"
    },
    "papermill": {
     "duration": 0.048985,
     "end_time": "2022-09-14T13:50:12.271913",
     "exception": false,
     "start_time": "2022-09-14T13:50:12.222928",
     "status": "completed"
    },
    "tags": []
   },
   "outputs": [
    {
     "name": "stdout",
     "output_type": "stream",
     "text": [
      "tensor([[9., 9.],\n",
      "        [9., 9.]])\n",
      "None\n",
      "<PowBackward0 object at 0x7fb6a666c7d0>\n"
     ]
    }
   ],
   "source": [
    "print(c.data)\n",
    "print(c.grad)\n",
    "print(c.grad_fn)"
   ]
  },
  {
   "cell_type": "code",
   "execution_count": 72,
   "id": "ea5cec92",
   "metadata": {
    "execution": {
     "iopub.execute_input": "2022-09-14T13:50:12.351676Z",
     "iopub.status.busy": "2022-09-14T13:50:12.350541Z",
     "iopub.status.idle": "2022-09-14T13:50:12.357390Z",
     "shell.execute_reply": "2022-09-14T13:50:12.356026Z"
    },
    "papermill": {
     "duration": 0.050671,
     "end_time": "2022-09-14T13:50:12.361005",
     "exception": false,
     "start_time": "2022-09-14T13:50:12.310334",
     "status": "completed"
    },
    "tags": []
   },
   "outputs": [
    {
     "name": "stdout",
     "output_type": "stream",
     "text": [
      "tensor(36.)\n",
      "None\n",
      "<SumBackward0 object at 0x7fb6a76cc1d0>\n"
     ]
    }
   ],
   "source": [
    "print(out.data)\n",
    "print(out.grad)\n",
    "print(out.grad_fn)"
   ]
  },
  {
   "cell_type": "markdown",
   "id": "ce255d8d",
   "metadata": {
    "papermill": {
     "duration": 0.038107,
     "end_time": "2022-09-14T13:50:12.437852",
     "exception": false,
     "start_time": "2022-09-14T13:50:12.399745",
     "status": "completed"
    },
    "tags": []
   },
   "source": [
    "### 데이터 준비\n",
    "- torch.utils.data의 Dataset과 DataLoader 사용 가능\n",
    "- Dataset에는 Vision, Text, Audio에 관한 다양한 데이터셋 존재\n",
    "- Dataset과 DataLoader를 통해 batch_size, train 여부, transform 등을 인자로 넣어 데이터를 어떻게 로드할 것인지를 정할 수 있음"
   ]
  },
  {
   "cell_type": "code",
   "execution_count": 73,
   "id": "c6db102a",
   "metadata": {
    "execution": {
     "iopub.execute_input": "2022-09-14T13:50:12.517332Z",
     "iopub.status.busy": "2022-09-14T13:50:12.516331Z",
     "iopub.status.idle": "2022-09-14T13:50:12.521703Z",
     "shell.execute_reply": "2022-09-14T13:50:12.520925Z"
    },
    "papermill": {
     "duration": 0.047976,
     "end_time": "2022-09-14T13:50:12.524454",
     "exception": false,
     "start_time": "2022-09-14T13:50:12.476478",
     "status": "completed"
    },
    "tags": []
   },
   "outputs": [],
   "source": [
    "from torch.utils.data import Dataset, DataLoader"
   ]
  },
  {
   "cell_type": "markdown",
   "id": "db3502e1",
   "metadata": {
    "papermill": {
     "duration": 0.037683,
     "end_time": "2022-09-14T13:50:12.600231",
     "exception": false,
     "start_time": "2022-09-14T13:50:12.562548",
     "status": "completed"
    },
    "tags": []
   },
   "source": [
    "### Torchvision\n",
    "- PyTorch에서 제공하는 데이터셋이 모여있는 패키지\n",
    "- transforms : 전처리할 때 사용하는 메서드\n",
    "- transforms에서 제공하는 클래스 이외는 일반적으로 클래스를 따로 만들어 전처리 수행"
   ]
  },
  {
   "cell_type": "code",
   "execution_count": 74,
   "id": "2431f804",
   "metadata": {
    "execution": {
     "iopub.execute_input": "2022-09-14T13:50:12.678560Z",
     "iopub.status.busy": "2022-09-14T13:50:12.677779Z",
     "iopub.status.idle": "2022-09-14T13:50:12.946792Z",
     "shell.execute_reply": "2022-09-14T13:50:12.945864Z"
    },
    "papermill": {
     "duration": 0.311291,
     "end_time": "2022-09-14T13:50:12.949507",
     "exception": false,
     "start_time": "2022-09-14T13:50:12.638216",
     "status": "completed"
    },
    "tags": []
   },
   "outputs": [],
   "source": [
    "from torchvision.transforms import transforms\n",
    "from torchvision import datasets"
   ]
  },
  {
   "cell_type": "markdown",
   "id": "cf54455b",
   "metadata": {
    "papermill": {
     "duration": 0.0375,
     "end_time": "2022-09-14T13:50:13.025315",
     "exception": false,
     "start_time": "2022-09-14T13:50:12.987815",
     "status": "completed"
    },
    "tags": []
   },
   "source": [
    "- DataLoader의 인자로 들어갈 transform을 미리 정의할 수 있고, Compose를 통해 리스트 안의 순서대로 전처리 수행\n",
    "- ToTensor() 사용 이유는 torchvision이 PIL Image 형태로만 입력을 받으므로 데이터 처리를 위하여 텐서형으로 변환 필요"
   ]
  },
  {
   "cell_type": "code",
   "execution_count": 75,
   "id": "1f93a005",
   "metadata": {
    "execution": {
     "iopub.execute_input": "2022-09-14T13:50:13.104022Z",
     "iopub.status.busy": "2022-09-14T13:50:13.102901Z",
     "iopub.status.idle": "2022-09-14T13:50:13.108783Z",
     "shell.execute_reply": "2022-09-14T13:50:13.107948Z"
    },
    "papermill": {
     "duration": 0.04749,
     "end_time": "2022-09-14T13:50:13.111274",
     "exception": false,
     "start_time": "2022-09-14T13:50:13.063784",
     "status": "completed"
    },
    "tags": []
   },
   "outputs": [],
   "source": [
    "mnist_transform = transforms.Compose([transforms.ToTensor(),\n",
    "                                      transforms.Normalize(mean=(0.5), std=(1.0))])"
   ]
  },
  {
   "cell_type": "code",
   "execution_count": 76,
   "id": "74c473a6",
   "metadata": {
    "execution": {
     "iopub.execute_input": "2022-09-14T13:50:13.190588Z",
     "iopub.status.busy": "2022-09-14T13:50:13.189812Z",
     "iopub.status.idle": "2022-09-14T13:50:15.181308Z",
     "shell.execute_reply": "2022-09-14T13:50:15.179092Z"
    },
    "papermill": {
     "duration": 2.035279,
     "end_time": "2022-09-14T13:50:15.184494",
     "exception": false,
     "start_time": "2022-09-14T13:50:13.149215",
     "status": "completed"
    },
    "tags": []
   },
   "outputs": [
    {
     "name": "stdout",
     "output_type": "stream",
     "text": [
      "Downloading http://yann.lecun.com/exdb/mnist/train-images-idx3-ubyte.gz\n",
      "Downloading http://yann.lecun.com/exdb/mnist/train-images-idx3-ubyte.gz to /output/MNIST/raw/train-images-idx3-ubyte.gz\n"
     ]
    },
    {
     "data": {
      "application/vnd.jupyter.widget-view+json": {
       "model_id": "064f8e842b77480db38e6ddae0c3bb75",
       "version_major": 2,
       "version_minor": 0
      },
      "text/plain": [
       "  0%|          | 0/9912422 [00:00<?, ?it/s]"
      ]
     },
     "metadata": {},
     "output_type": "display_data"
    },
    {
     "name": "stdout",
     "output_type": "stream",
     "text": [
      "Extracting /output/MNIST/raw/train-images-idx3-ubyte.gz to /output/MNIST/raw\n",
      "\n",
      "Downloading http://yann.lecun.com/exdb/mnist/train-labels-idx1-ubyte.gz\n",
      "Downloading http://yann.lecun.com/exdb/mnist/train-labels-idx1-ubyte.gz to /output/MNIST/raw/train-labels-idx1-ubyte.gz\n"
     ]
    },
    {
     "data": {
      "application/vnd.jupyter.widget-view+json": {
       "model_id": "cf154b66c1604eb1b1fd646d0e3d1b4e",
       "version_major": 2,
       "version_minor": 0
      },
      "text/plain": [
       "  0%|          | 0/28881 [00:00<?, ?it/s]"
      ]
     },
     "metadata": {},
     "output_type": "display_data"
    },
    {
     "name": "stdout",
     "output_type": "stream",
     "text": [
      "Extracting /output/MNIST/raw/train-labels-idx1-ubyte.gz to /output/MNIST/raw\n",
      "\n",
      "Downloading http://yann.lecun.com/exdb/mnist/t10k-images-idx3-ubyte.gz\n",
      "Downloading http://yann.lecun.com/exdb/mnist/t10k-images-idx3-ubyte.gz to /output/MNIST/raw/t10k-images-idx3-ubyte.gz\n"
     ]
    },
    {
     "data": {
      "application/vnd.jupyter.widget-view+json": {
       "model_id": "3454b8d862c744bd8259dd34b32a420b",
       "version_major": 2,
       "version_minor": 0
      },
      "text/plain": [
       "  0%|          | 0/1648877 [00:00<?, ?it/s]"
      ]
     },
     "metadata": {},
     "output_type": "display_data"
    },
    {
     "name": "stdout",
     "output_type": "stream",
     "text": [
      "Extracting /output/MNIST/raw/t10k-images-idx3-ubyte.gz to /output/MNIST/raw\n",
      "\n",
      "Downloading http://yann.lecun.com/exdb/mnist/t10k-labels-idx1-ubyte.gz\n",
      "Downloading http://yann.lecun.com/exdb/mnist/t10k-labels-idx1-ubyte.gz to /output/MNIST/raw/t10k-labels-idx1-ubyte.gz\n"
     ]
    },
    {
     "data": {
      "application/vnd.jupyter.widget-view+json": {
       "model_id": "ba501c7446bb4357a3e44be44139a9ae",
       "version_major": 2,
       "version_minor": 0
      },
      "text/plain": [
       "  0%|          | 0/4542 [00:00<?, ?it/s]"
      ]
     },
     "metadata": {},
     "output_type": "display_data"
    },
    {
     "name": "stdout",
     "output_type": "stream",
     "text": [
      "Extracting /output/MNIST/raw/t10k-labels-idx1-ubyte.gz to /output/MNIST/raw\n",
      "\n"
     ]
    }
   ],
   "source": [
    "trainset = datasets.MNIST(root='/output/',\n",
    "                          train=True, download=True,\n",
    "                          transform=mnist_transform)\n",
    "\n",
    "testset = datasets.MNIST(root='/output/',\n",
    "                         train=False, download=True,\n",
    "                         transform=mnist_transform)"
   ]
  },
  {
   "cell_type": "markdown",
   "id": "e9ea6657",
   "metadata": {
    "papermill": {
     "duration": 0.040743,
     "end_time": "2022-09-14T13:50:15.265960",
     "exception": false,
     "start_time": "2022-09-14T13:50:15.225217",
     "status": "completed"
    },
    "tags": []
   },
   "source": [
    "- DataLoader는 데이터 전체를 보관했다가 실제 모델 학습 때 batch_size 크기만큼의 데이터 로드"
   ]
  },
  {
   "cell_type": "code",
   "execution_count": 77,
   "id": "119c2bb4",
   "metadata": {
    "execution": {
     "iopub.execute_input": "2022-09-14T13:50:15.348272Z",
     "iopub.status.busy": "2022-09-14T13:50:15.347889Z",
     "iopub.status.idle": "2022-09-14T13:50:15.353977Z",
     "shell.execute_reply": "2022-09-14T13:50:15.352589Z"
    },
    "papermill": {
     "duration": 0.050189,
     "end_time": "2022-09-14T13:50:15.356435",
     "exception": false,
     "start_time": "2022-09-14T13:50:15.306246",
     "status": "completed"
    },
    "tags": []
   },
   "outputs": [],
   "source": [
    "train_loader = DataLoader(trainset, batch_size=8, shuffle=True, num_workers=2)\n",
    "test_loader = DataLoader(testset, batch_size=8, shuffle=False, num_workers=2)"
   ]
  },
  {
   "cell_type": "code",
   "execution_count": 78,
   "id": "10ddf268",
   "metadata": {
    "execution": {
     "iopub.execute_input": "2022-09-14T13:50:15.442216Z",
     "iopub.status.busy": "2022-09-14T13:50:15.441779Z",
     "iopub.status.idle": "2022-09-14T13:50:15.528375Z",
     "shell.execute_reply": "2022-09-14T13:50:15.526966Z"
    },
    "papermill": {
     "duration": 0.133819,
     "end_time": "2022-09-14T13:50:15.531326",
     "exception": false,
     "start_time": "2022-09-14T13:50:15.397507",
     "status": "completed"
    },
    "tags": []
   },
   "outputs": [
    {
     "data": {
      "text/plain": [
       "(torch.Size([8, 1, 28, 28]), torch.Size([8]))"
      ]
     },
     "execution_count": 78,
     "metadata": {},
     "output_type": "execute_result"
    }
   ],
   "source": [
    "dataiter = iter(train_loader) # iteration을 통해 로드\n",
    "images, labels = dataiter.next()\n",
    "images.shape, labels.shape\n",
    "# (batch_size, channel, size, size)"
   ]
  },
  {
   "cell_type": "code",
   "execution_count": 79,
   "id": "b2c72f1a",
   "metadata": {
    "execution": {
     "iopub.execute_input": "2022-09-14T13:50:15.616796Z",
     "iopub.status.busy": "2022-09-14T13:50:15.615856Z",
     "iopub.status.idle": "2022-09-14T13:50:15.625146Z",
     "shell.execute_reply": "2022-09-14T13:50:15.624036Z"
    },
    "papermill": {
     "duration": 0.055463,
     "end_time": "2022-09-14T13:50:15.627599",
     "exception": false,
     "start_time": "2022-09-14T13:50:15.572136",
     "status": "completed"
    },
    "tags": []
   },
   "outputs": [
    {
     "data": {
      "text/plain": [
       "torch.Size([28, 28])"
      ]
     },
     "execution_count": 79,
     "metadata": {},
     "output_type": "execute_result"
    }
   ],
   "source": [
    "torch_image = torch.squeeze(images[0])\n",
    "torch_image.shape\n",
    "# squeeze(차원축소)를 통해 (size, size)만 존재"
   ]
  },
  {
   "cell_type": "code",
   "execution_count": 80,
   "id": "36add2c8",
   "metadata": {
    "execution": {
     "iopub.execute_input": "2022-09-14T13:50:15.711821Z",
     "iopub.status.busy": "2022-09-14T13:50:15.711018Z",
     "iopub.status.idle": "2022-09-14T13:50:16.284674Z",
     "shell.execute_reply": "2022-09-14T13:50:16.283012Z"
    },
    "papermill": {
     "duration": 0.624397,
     "end_time": "2022-09-14T13:50:16.292942",
     "exception": false,
     "start_time": "2022-09-14T13:50:15.668545",
     "status": "completed"
    },
    "tags": []
   },
   "outputs": [
    {
     "data": {
      "image/png": "[encoded data removed]",
      "text/plain": [
       "<Figure size 864x432 with 8 Axes>"
      ]
     },
     "metadata": {
      "needs_background": "light"
     },
     "output_type": "display_data"
    }
   ],
   "source": [
    "# 시각화\n",
    "\n",
    "import matplotlib.pyplot as plt\n",
    "\n",
    "figure = plt.figure(figsize=(12,6))\n",
    "cols, rows = 4, 2 # batch_size\n",
    "for i in range(1, cols*rows+1):\n",
    "    sample_idx = torch.randint(len(trainset), size=(1,)).item()\n",
    "    # 전체 trainset 개수에서 size 기준(1, )으로 랜덤값 텐서를 생성하고, 그 실제값 출력\n",
    "    img, label = trainset[sample_idx]\n",
    "    figure.add_subplot(rows, cols, i)\n",
    "    plt.title(label)\n",
    "    plt.axis('off')\n",
    "    plt.imshow(img.squeeze(), cmap='gray')\n",
    "    \n",
    "plt.show();"
   ]
  },
  {
   "cell_type": "markdown",
   "id": "c8fab91a",
   "metadata": {
    "papermill": {
     "duration": 0.040008,
     "end_time": "2022-09-14T13:50:16.381807",
     "exception": false,
     "start_time": "2022-09-14T13:50:16.341799",
     "status": "completed"
    },
    "tags": []
   },
   "source": [
    "### 신경망 구성\n",
    "- Layer : 신경망의 핵심 데이터 구조로, 하나 이상의 텐서를 입력받아 하나 이상의 텐서를 출력\n",
    "- Module : 한 개 이상의 계층이 모여 구성\n",
    "- Model : 한 개 이상의 모듈이 모여서 구성"
   ]
  },
  {
   "cell_type": "markdown",
   "id": "fec54b64",
   "metadata": {
    "papermill": {
     "duration": 0.040732,
     "end_time": "2022-09-14T13:50:16.462709",
     "exception": false,
     "start_time": "2022-09-14T13:50:16.421977",
     "status": "completed"
    },
    "tags": []
   },
   "source": [
    "### torch.nn 패키지\n",
    "- 주로 가중치(weights), 편향(bias) 값들이 내부에서 자동으로 생성되는 레이어들을 사용할 때 사용(weight 값을 직접 선언하지 않음)"
   ]
  },
  {
   "cell_type": "code",
   "execution_count": 81,
   "id": "cd417059",
   "metadata": {
    "execution": {
     "iopub.execute_input": "2022-09-14T13:50:16.544897Z",
     "iopub.status.busy": "2022-09-14T13:50:16.544458Z",
     "iopub.status.idle": "2022-09-14T13:50:16.550036Z",
     "shell.execute_reply": "2022-09-14T13:50:16.548878Z"
    },
    "papermill": {
     "duration": 0.049577,
     "end_time": "2022-09-14T13:50:16.552449",
     "exception": false,
     "start_time": "2022-09-14T13:50:16.502872",
     "status": "completed"
    },
    "tags": []
   },
   "outputs": [],
   "source": [
    "import torch.nn as nn"
   ]
  },
  {
   "cell_type": "markdown",
   "id": "64ae567a",
   "metadata": {
    "papermill": {
     "duration": 0.040428,
     "end_time": "2022-09-14T13:50:16.633708",
     "exception": false,
     "start_time": "2022-09-14T13:50:16.593280",
     "status": "completed"
    },
    "tags": []
   },
   "source": [
    "- nn.Linear 계층"
   ]
  },
  {
   "cell_type": "code",
   "execution_count": 82,
   "id": "2a318915",
   "metadata": {
    "execution": {
     "iopub.execute_input": "2022-09-14T13:50:16.717134Z",
     "iopub.status.busy": "2022-09-14T13:50:16.716750Z",
     "iopub.status.idle": "2022-09-14T13:50:16.733197Z",
     "shell.execute_reply": "2022-09-14T13:50:16.732004Z"
    },
    "papermill": {
     "duration": 0.061547,
     "end_time": "2022-09-14T13:50:16.735894",
     "exception": false,
     "start_time": "2022-09-14T13:50:16.674347",
     "status": "completed"
    },
    "tags": []
   },
   "outputs": [
    {
     "name": "stdout",
     "output_type": "stream",
     "text": [
      "tensor([[-2.0219,  1.3968, -0.1090,  ...,  0.4237,  0.1277, -1.6965],\n",
      "        [ 0.2401, -1.3255, -0.4184,  ..., -1.2131,  0.2094,  1.4117],\n",
      "        [-0.6884, -0.6169, -0.1476,  ...,  0.0185,  1.1196, -0.7493],\n",
      "        ...,\n",
      "        [-1.2762, -0.3356, -0.2549,  ..., -0.8259, -0.6790,  0.7918],\n",
      "        [ 1.3956,  1.6955,  0.1774,  ...,  0.1441, -0.3363, -0.1905],\n",
      "        [-2.0563, -0.8539, -0.6508,  ..., -1.2524, -0.0972, -0.8227]])\n",
      "torch.Size([128, 20])\n",
      "Linear(in_features=20, out_features=30, bias=True)\n",
      "tensor([[ 0.1398,  0.7386,  0.8528,  ...,  0.4565, -0.5183,  0.0674],\n",
      "        [-0.2444, -0.6620,  0.7899,  ..., -0.7304,  0.3946, -0.3359],\n",
      "        [ 0.2401,  0.0053,  0.6571,  ...,  0.4825,  0.2471,  0.6067],\n",
      "        ...,\n",
      "        [-0.7791,  0.3562,  0.2795,  ..., -1.1174,  0.0754, -0.1516],\n",
      "        [-0.3214, -0.0831,  0.0426,  ...,  0.0983,  0.1937,  0.1543],\n",
      "        [ 0.6906, -0.3216,  0.7404,  ..., -0.1300,  0.3234,  0.2588]],\n",
      "       grad_fn=<AddmmBackward0>)\n",
      "torch.Size([128, 30])\n"
     ]
    }
   ],
   "source": [
    "input = torch.randn(128,20)\n",
    "print(input)\n",
    "print(input.size())\n",
    "\n",
    "m = nn.Linear(20 ,30)\n",
    "print(m)\n",
    "\n",
    "output = m(input)\n",
    "print(output)\n",
    "print(output.size())"
   ]
  },
  {
   "cell_type": "markdown",
   "id": "06355cd0",
   "metadata": {
    "papermill": {
     "duration": 0.040276,
     "end_time": "2022-09-14T13:50:16.818105",
     "exception": false,
     "start_time": "2022-09-14T13:50:16.777829",
     "status": "completed"
    },
    "tags": []
   },
   "source": [
    "- nn.Conv2d 계층"
   ]
  },
  {
   "cell_type": "code",
   "execution_count": 83,
   "id": "a7a1f84e",
   "metadata": {
    "execution": {
     "iopub.execute_input": "2022-09-14T13:50:16.907941Z",
     "iopub.status.busy": "2022-09-14T13:50:16.907094Z",
     "iopub.status.idle": "2022-09-14T13:50:16.944845Z",
     "shell.execute_reply": "2022-09-14T13:50:16.943949Z"
    },
    "papermill": {
     "duration": 0.084126,
     "end_time": "2022-09-14T13:50:16.949110",
     "exception": false,
     "start_time": "2022-09-14T13:50:16.864984",
     "status": "completed"
    },
    "tags": []
   },
   "outputs": [
    {
     "name": "stdout",
     "output_type": "stream",
     "text": [
      "tensor([[[[-3.8170e-01,  1.3410e+00,  1.0092e-01,  ..., -8.4826e-01,\n",
      "            1.8409e+00, -3.7673e-01],\n",
      "          [ 1.5018e+00, -9.9830e-01, -1.5834e+00,  ..., -1.8097e-01,\n",
      "           -1.3532e+00, -2.4728e-01],\n",
      "          [-1.1738e+00, -1.4043e+00,  3.9640e-01,  ...,  1.2744e+00,\n",
      "           -8.2598e-01, -3.4772e-01],\n",
      "          ...,\n",
      "          [-1.5981e-01, -1.0154e+00, -1.1266e+00,  ..., -8.8544e-01,\n",
      "           -7.0559e-01,  7.4357e-01],\n",
      "          [ 1.9206e+00, -1.0168e+00,  7.4090e-01,  ..., -1.7027e+00,\n",
      "            1.1511e+00, -8.7574e-01],\n",
      "          [ 1.2363e+00, -1.4803e+00,  3.8000e-01,  ..., -1.9572e+00,\n",
      "            5.5650e-02,  2.5117e-01]],\n",
      "\n",
      "         [[-1.3973e+00,  1.0186e+00,  3.2316e-01,  ..., -3.2195e-01,\n",
      "            1.2690e+00,  1.3023e+00],\n",
      "          [-8.6407e-01, -2.7637e-01, -1.0314e+00,  ...,  2.9406e-01,\n",
      "           -1.2691e+00, -1.0713e-01],\n",
      "          [ 2.7129e-01, -1.2072e+00,  7.7288e-01,  ..., -1.0997e+00,\n",
      "           -7.9124e-01,  1.3949e-01],\n",
      "          ...,\n",
      "          [ 7.6910e-01,  2.2987e+00,  1.1526e+00,  ...,  4.2880e-01,\n",
      "           -1.2557e+00, -4.2981e-01],\n",
      "          [-7.2200e-01,  1.3387e+00,  2.0379e+00,  ...,  1.4977e+00,\n",
      "           -1.2428e+00, -8.6772e-01],\n",
      "          [-4.9783e-01,  2.4490e-01, -1.3039e-01,  ...,  4.3853e-01,\n",
      "            9.3475e-02, -1.6791e+00]],\n",
      "\n",
      "         [[-1.6641e+00, -5.9376e-01,  1.3377e+00,  ..., -2.2839e+00,\n",
      "            4.7025e-01, -1.1396e+00],\n",
      "          [ 1.9654e+00, -3.3302e-01,  8.8698e-01,  ..., -2.0538e-01,\n",
      "            1.3604e+00, -4.6841e-01],\n",
      "          [-7.1216e-01, -1.3489e+00, -1.2367e+00,  ..., -1.5041e+00,\n",
      "           -4.5351e-01, -4.6993e-01],\n",
      "          ...,\n",
      "          [ 1.2470e+00,  1.3700e+00, -6.6865e-01,  ..., -2.8994e-01,\n",
      "           -2.5211e+00,  1.3571e+00],\n",
      "          [-2.3688e+00, -9.1877e-01,  1.2682e+00,  ...,  9.9494e-01,\n",
      "            7.1473e-01,  5.0954e-01],\n",
      "          [-3.6475e-01, -1.1804e+00,  1.4692e+00,  ...,  6.5117e-01,\n",
      "            1.8501e-01,  8.3394e-01]],\n",
      "\n",
      "         ...,\n",
      "\n",
      "         [[-7.1775e-01,  5.6106e-01,  2.3282e+00,  ...,  1.8540e+00,\n",
      "            1.2002e+00,  3.3866e-02],\n",
      "          [-2.1480e+00,  2.1435e+00,  7.1795e-01,  ..., -5.0834e-01,\n",
      "           -5.0002e-01, -1.6022e+00],\n",
      "          [-4.7786e-01, -1.5524e+00,  8.1234e-01,  ..., -8.1993e-01,\n",
      "            2.1440e-02, -1.3632e+00],\n",
      "          ...,\n",
      "          [ 1.0532e+00,  7.4713e-01, -1.8465e+00,  ...,  5.9139e-01,\n",
      "           -1.5328e+00,  2.2059e-01],\n",
      "          [-4.4595e-01, -2.0876e-01,  1.5393e-03,  ..., -9.9108e-01,\n",
      "            8.7841e-01,  3.7845e-01],\n",
      "          [-1.2022e+00, -2.2147e+00, -1.5278e+00,  ..., -6.3435e-01,\n",
      "           -2.4386e+00,  4.6378e-01]],\n",
      "\n",
      "         [[-7.3060e-02, -7.8397e-01, -7.6299e-01,  ...,  1.2650e+00,\n",
      "           -1.2661e-02,  5.7780e-01],\n",
      "          [ 3.4763e-01, -1.3049e+00,  1.2746e-02,  ...,  5.1618e-01,\n",
      "            1.5498e+00,  8.9689e-01],\n",
      "          [-9.5050e-01,  1.2683e-01, -9.3082e-01,  ..., -8.8166e-02,\n",
      "           -4.5267e-01,  7.4170e-01],\n",
      "          ...,\n",
      "          [ 1.2424e+00, -5.6934e-01,  2.4992e-01,  ..., -1.4126e+00,\n",
      "            1.0171e+00, -1.1093e+00],\n",
      "          [ 6.7562e-02,  6.0195e-02,  2.4873e-01,  ...,  6.3606e-02,\n",
      "           -6.8251e-01, -1.0390e+00],\n",
      "          [ 2.0638e-01,  5.7129e-01,  1.4984e+00,  ..., -5.3680e-01,\n",
      "           -1.6468e+00, -9.1531e-01]],\n",
      "\n",
      "         [[ 6.7636e-01, -3.1266e-01, -4.7527e-01,  ..., -1.9489e+00,\n",
      "           -7.6190e-01, -1.7845e+00],\n",
      "          [-4.5249e-01, -1.0221e-02,  8.4108e-01,  ...,  2.6507e+00,\n",
      "            1.0546e-01, -1.3355e+00],\n",
      "          [-1.6434e-02, -1.0650e+00, -1.0014e+00,  ..., -8.0652e-01,\n",
      "            2.8919e-01,  1.3473e+00],\n",
      "          ...,\n",
      "          [ 1.3484e+00, -1.5808e+00, -4.7377e-01,  ...,  8.0681e-01,\n",
      "            5.6580e-01,  3.3474e-01],\n",
      "          [ 1.2648e+00, -4.0435e-01, -1.4555e+00,  ...,  1.1019e+00,\n",
      "            2.4821e+00, -4.3468e-01],\n",
      "          [-2.1298e-01,  5.8697e-01,  4.1223e-01,  ..., -3.6321e-01,\n",
      "           -2.3485e-01,  5.6210e-01]]],\n",
      "\n",
      "\n",
      "        [[[-9.4793e-01, -1.6930e+00,  4.6751e-01,  ..., -8.2335e-01,\n",
      "           -2.2707e+00, -1.7418e+00],\n",
      "          [ 2.4647e-01, -2.0474e-01, -4.6478e-01,  ..., -2.8820e-01,\n",
      "            8.2418e-01, -7.5756e-01],\n",
      "          [-1.4763e-01, -7.5743e-01, -5.4442e-01,  ..., -6.5593e-01,\n",
      "           -2.1184e+00, -1.6608e+00],\n",
      "          ...,\n",
      "          [-1.3374e-01, -1.6484e+00,  6.8666e-01,  ..., -5.5407e-01,\n",
      "            1.3618e+00, -7.8342e-01],\n",
      "          [ 5.7793e-01,  1.3729e+00, -1.4656e+00,  ...,  5.4643e-01,\n",
      "           -9.6074e-01,  1.0437e+00],\n",
      "          [-1.0951e+00, -2.2984e-01, -7.4577e-01,  ..., -2.1223e-01,\n",
      "            5.8394e-01,  3.4764e-01]],\n",
      "\n",
      "         [[-2.9812e-01,  6.5487e-01, -2.0593e+00,  ...,  5.1622e-01,\n",
      "           -2.4787e+00,  1.0022e+00],\n",
      "          [-1.8073e+00, -5.9071e-01, -1.0923e+00,  ...,  1.1626e-01,\n",
      "            2.4964e-01, -2.0940e+00],\n",
      "          [ 1.4481e+00,  2.0904e-01,  9.2510e-01,  ...,  1.2849e+00,\n",
      "            6.9810e-01,  1.1354e+00],\n",
      "          ...,\n",
      "          [-2.5564e-01, -7.1822e-01, -1.5646e+00,  ..., -1.4330e+00,\n",
      "           -1.1744e+00, -1.7685e+00],\n",
      "          [-9.7799e-01,  1.7455e-01,  2.2128e+00,  ..., -1.0765e+00,\n",
      "           -1.5640e+00,  1.5466e+00],\n",
      "          [-1.8227e-01,  1.2219e-01, -1.2020e+00,  ...,  2.0908e-01,\n",
      "           -2.5899e-01, -2.5206e-01]],\n",
      "\n",
      "         [[ 4.7021e-01, -7.8543e-01, -7.8609e-01,  ..., -1.7191e+00,\n",
      "            1.0858e+00, -2.4228e+00],\n",
      "          [-6.4410e-01, -7.5540e-01,  4.6973e-02,  ...,  5.6181e-01,\n",
      "           -4.7616e-01,  1.1949e+00],\n",
      "          [ 1.4282e+00, -1.8120e+00,  5.8304e-01,  ...,  1.1391e+00,\n",
      "            3.2773e-01, -3.9480e-01],\n",
      "          ...,\n",
      "          [ 6.0776e-01,  5.0275e-02,  9.4404e-01,  ..., -1.1656e-01,\n",
      "           -1.7360e+00, -5.7777e-01],\n",
      "          [-2.0593e+00, -8.2856e-01,  7.9991e-01,  ...,  6.1306e-01,\n",
      "           -4.5345e-01,  1.1842e+00],\n",
      "          [ 7.8457e-01,  1.0328e+00, -8.3278e-01,  ...,  4.7529e-01,\n",
      "            7.5492e-01,  4.2051e-01]],\n",
      "\n",
      "         ...,\n",
      "\n",
      "         [[-1.2444e+00,  2.3543e-01,  1.3438e+00,  ..., -6.3414e-01,\n",
      "            1.1088e+00, -5.5191e-01],\n",
      "          [-4.1528e-01, -1.0405e+00, -1.1829e+00,  ...,  1.6239e+00,\n",
      "           -5.6792e-01,  1.5442e+00],\n",
      "          [ 5.9324e-01,  7.9066e-02,  1.8441e+00,  ..., -1.6853e+00,\n",
      "            6.4421e-01, -1.1215e+00],\n",
      "          ...,\n",
      "          [-4.0935e-01,  2.7359e-01,  1.6974e-01,  ...,  1.0759e+00,\n",
      "            7.7427e-01, -2.7346e-01],\n",
      "          [-6.5776e-02, -9.1711e-01, -1.4782e+00,  ..., -2.9099e-01,\n",
      "           -8.3590e-01,  2.0715e+00],\n",
      "          [-1.0404e+00, -1.3312e+00,  2.4678e-01,  ..., -7.3340e-01,\n",
      "            4.8695e-01,  4.4035e-01]],\n",
      "\n",
      "         [[-7.8227e-02,  3.8284e-01, -2.1280e-01,  ..., -8.8474e-01,\n",
      "            1.4386e-01,  1.6913e-01],\n",
      "          [ 6.4955e-01,  4.3019e-01,  2.2782e+00,  ...,  6.8935e-01,\n",
      "           -9.7034e-01, -1.6554e-01],\n",
      "          [ 5.5169e-01, -6.4617e-01,  4.8647e-01,  ..., -1.3495e+00,\n",
      "            5.3167e-01,  7.7201e-01],\n",
      "          ...,\n",
      "          [-3.6378e-01,  2.5937e-01, -1.2620e+00,  ...,  5.0065e-01,\n",
      "           -5.0519e-03, -2.9991e-01],\n",
      "          [-8.1801e-01,  1.3236e+00,  8.5234e-01,  ...,  2.0229e+00,\n",
      "           -1.1782e-01, -1.8135e+00],\n",
      "          [-2.4801e+00, -2.5043e+00,  9.7878e-01,  ..., -3.2783e-01,\n",
      "           -5.8637e-02,  1.0422e+00]],\n",
      "\n",
      "         [[-1.2230e-01, -6.8725e-01,  1.7487e+00,  ..., -1.2779e+00,\n",
      "            1.7987e-01,  3.5300e-01],\n",
      "          [-3.4565e-01, -1.5483e+00,  7.7614e-02,  ..., -1.3302e+00,\n",
      "           -1.7005e+00, -7.7126e-01],\n",
      "          [-1.0110e+00,  6.8302e-01,  9.6424e-01,  ..., -1.3346e+00,\n",
      "           -3.0689e-02, -9.9038e-01],\n",
      "          ...,\n",
      "          [-1.2687e+00,  7.2484e-02, -1.1865e+00,  ...,  1.0469e+00,\n",
      "            1.0545e+00,  1.8393e+00],\n",
      "          [ 1.2987e+00, -1.7379e+00, -2.3550e-03,  ..., -9.2907e-01,\n",
      "           -4.5567e-01,  3.7471e-01],\n",
      "          [ 5.5178e-01,  6.9718e-01,  8.8019e-01,  ...,  1.8168e+00,\n",
      "           -1.0779e+00,  3.2189e-01]]],\n",
      "\n",
      "\n",
      "        [[[-2.2316e-01, -3.1474e-02, -2.5553e-01,  ...,  2.4604e-01,\n",
      "            4.7278e-01,  6.7575e-01],\n",
      "          [-1.2911e+00, -1.1721e+00,  2.2385e+00,  ...,  1.1422e+00,\n",
      "            1.7714e+00, -8.2590e-01],\n",
      "          [ 2.1400e-01, -4.5110e-01, -8.4194e-01,  ...,  7.7494e-01,\n",
      "            1.0192e+00,  2.3904e-01],\n",
      "          ...,\n",
      "          [-1.3050e+00,  2.6046e-02,  1.2877e+00,  ..., -1.9486e+00,\n",
      "           -3.6768e-01, -1.4379e+00],\n",
      "          [ 1.3909e-01, -1.2111e-01,  1.1954e+00,  ..., -4.3707e-01,\n",
      "            2.3259e+00,  2.1971e+00],\n",
      "          [ 3.2365e-01,  6.3821e-01, -1.4690e+00,  ..., -7.8834e-02,\n",
      "           -1.1996e+00, -1.4264e+00]],\n",
      "\n",
      "         [[ 1.4855e-02, -7.9993e-01,  5.9820e-03,  ...,  7.7565e-02,\n",
      "            2.7857e-01,  3.6288e-03],\n",
      "          [ 5.3727e-01, -1.3129e+00,  8.9608e-01,  ..., -2.6142e+00,\n",
      "            4.2324e-03,  8.9955e-03],\n",
      "          [-3.5333e-01,  3.9510e-01, -7.5086e-01,  ..., -1.7788e+00,\n",
      "            1.3776e+00,  6.0264e-01],\n",
      "          ...,\n",
      "          [ 1.0403e+00, -2.2470e+00,  4.5120e-01,  ..., -5.7367e-01,\n",
      "           -5.5608e-01,  5.5817e-01],\n",
      "          [ 2.5766e-02,  1.1758e-01,  4.2553e-01,  ..., -3.2249e-01,\n",
      "           -6.5486e-01,  2.1433e+00],\n",
      "          [ 1.6956e+00,  4.2673e-01,  1.5313e+00,  ...,  2.8432e-02,\n",
      "            3.8476e-01, -4.9042e-01]],\n",
      "\n",
      "         [[-3.5648e-01,  7.0688e-01, -6.0764e-01,  ...,  7.5801e-01,\n",
      "           -9.1741e-01, -1.6229e-01],\n",
      "          [-7.1281e-01, -2.7972e+00,  1.7953e-01,  ...,  2.4612e-01,\n",
      "            6.2312e-01, -3.6410e-01],\n",
      "          [-1.1676e-01, -5.5809e-01,  2.4843e-01,  ...,  2.1843e-01,\n",
      "           -1.0557e+00,  1.0380e+00],\n",
      "          ...,\n",
      "          [-1.3036e+00,  1.5041e+00, -6.8197e-01,  ..., -1.1149e+00,\n",
      "           -2.1895e-01, -9.3940e-01],\n",
      "          [-1.0248e+00,  1.3558e-01, -4.7734e-01,  ..., -4.8741e-02,\n",
      "           -1.0780e+00, -1.0367e-01],\n",
      "          [ 2.1604e-01, -6.6182e-01,  8.5407e-01,  ..., -1.6522e+00,\n",
      "           -3.8104e-01,  1.3656e-01]],\n",
      "\n",
      "         ...,\n",
      "\n",
      "         [[ 9.8867e-01, -4.9812e-01, -8.1613e-01,  ...,  1.0543e+00,\n",
      "           -9.1089e-01, -2.2195e-01],\n",
      "          [ 1.0665e+00, -8.3091e-01,  9.6735e-01,  ..., -1.8181e+00,\n",
      "           -2.3346e-01,  3.4573e+00],\n",
      "          [ 8.3907e-01, -2.2420e-01, -3.1707e-01,  ...,  1.1962e+00,\n",
      "            1.3654e+00,  1.9490e-01],\n",
      "          ...,\n",
      "          [-1.3181e+00,  3.7548e-01,  1.4125e+00,  ...,  1.5693e-02,\n",
      "           -2.6262e-01, -4.8696e-01],\n",
      "          [-1.8562e-01,  4.4105e-01, -2.2876e-01,  ...,  1.7551e+00,\n",
      "           -9.1678e-02, -5.4771e-01],\n",
      "          [ 6.6707e-01, -1.0961e+00, -1.0945e+00,  ..., -1.0517e+00,\n",
      "            8.6277e-01,  9.6338e-01]],\n",
      "\n",
      "         [[ 1.2755e-01, -1.6012e+00, -8.4288e-01,  ..., -7.4124e-01,\n",
      "           -3.4894e-01,  1.5005e+00],\n",
      "          [-1.3430e+00,  7.3022e-01, -6.8027e-02,  ...,  4.7159e-01,\n",
      "            7.1407e-01,  1.7254e+00],\n",
      "          [ 3.2504e-01, -2.1096e-01,  5.5320e-01,  ..., -6.2697e-01,\n",
      "            4.5734e-02,  1.3295e-02],\n",
      "          ...,\n",
      "          [-1.0048e-01, -3.1363e-01,  4.7409e-01,  ...,  1.0074e+00,\n",
      "            1.3071e+00,  2.6397e+00],\n",
      "          [ 7.7657e-01, -2.9874e-01,  9.5101e-01,  ..., -2.2611e+00,\n",
      "            1.8153e+00, -7.6451e-01],\n",
      "          [-7.8860e-01,  3.0530e-01,  1.2750e+00,  ...,  2.0735e+00,\n",
      "            2.2510e-01, -7.5261e-02]],\n",
      "\n",
      "         [[ 9.4896e-01,  6.9427e-01, -8.5409e-02,  ...,  1.4657e+00,\n",
      "            5.0576e-01, -3.9650e-01],\n",
      "          [ 1.2462e+00,  3.9473e-02, -7.7869e-01,  ..., -8.1429e-01,\n",
      "            4.5136e-01,  4.3361e-01],\n",
      "          [-1.8667e+00,  1.0199e+00,  4.6365e-01,  ...,  5.8376e-01,\n",
      "            1.8934e-01, -4.1955e-01],\n",
      "          ...,\n",
      "          [ 3.4858e-01,  4.8787e-02,  6.3505e-01,  ..., -8.7646e-02,\n",
      "           -2.5314e-01,  1.3318e+00],\n",
      "          [ 7.5327e-01, -2.8701e-01,  2.3352e+00,  ..., -3.5960e-01,\n",
      "           -1.4519e+00, -6.4132e-01],\n",
      "          [-9.6700e-01, -3.5352e-01, -2.7402e-01,  ...,  1.9973e-01,\n",
      "           -1.9307e+00, -1.1748e+00]]],\n",
      "\n",
      "\n",
      "        ...,\n",
      "\n",
      "\n",
      "        [[[-3.3962e-01, -1.1941e+00, -1.0253e+00,  ...,  2.4389e-01,\n",
      "           -1.1059e+00,  1.8937e+00],\n",
      "          [-1.1779e+00, -8.2181e-01,  6.1115e-01,  ..., -7.7403e-01,\n",
      "            9.8040e-01, -1.8155e-01],\n",
      "          [-1.9781e-01, -8.8625e-01,  7.0915e-01,  ...,  7.1707e-01,\n",
      "            6.2855e-01, -2.2073e-01],\n",
      "          ...,\n",
      "          [ 1.0842e+00,  4.9088e-01,  4.4004e-01,  ..., -3.5721e-02,\n",
      "           -2.6712e-01,  1.3953e+00],\n",
      "          [ 6.7672e-01,  1.7095e-01,  6.7375e-01,  ...,  6.4722e-01,\n",
      "           -9.1295e-01,  1.3051e+00],\n",
      "          [-7.8884e-01, -1.8613e-01, -6.3090e-01,  ..., -3.7020e-01,\n",
      "           -4.5762e-01, -2.1679e+00]],\n",
      "\n",
      "         [[ 1.1159e+00,  1.8454e+00, -1.0222e+00,  ...,  1.2159e+00,\n",
      "            9.6471e-01,  4.6120e-01],\n",
      "          [-5.0837e-01,  1.6176e-01, -7.9658e-01,  ...,  6.4015e-01,\n",
      "           -5.9109e-01, -1.4030e+00],\n",
      "          [ 3.5688e-01, -8.9064e-01,  9.9615e-03,  ...,  4.9023e-01,\n",
      "            5.6975e-01, -1.4610e+00],\n",
      "          ...,\n",
      "          [ 7.9616e-01,  1.0555e+00,  6.1920e-01,  ...,  5.8688e-01,\n",
      "           -6.6388e-01, -3.1272e-01],\n",
      "          [-7.9185e-01,  5.6169e-01, -1.6825e+00,  ..., -1.9094e+00,\n",
      "           -4.5077e-01,  5.8412e-01],\n",
      "          [ 7.1456e-01, -1.1502e+00, -1.0508e+00,  ..., -1.5647e-01,\n",
      "           -2.1264e+00,  1.4319e-01]],\n",
      "\n",
      "         [[-5.1323e-01, -1.1216e+00, -7.5232e-02,  ...,  1.4145e+00,\n",
      "           -3.0994e-01,  8.0701e-01],\n",
      "          [-2.3914e+00, -1.4641e+00, -6.0106e-01,  ..., -3.9600e-01,\n",
      "            2.5464e-01,  1.0578e+00],\n",
      "          [-1.1148e+00, -7.6009e-01,  4.6154e-01,  ..., -2.7508e+00,\n",
      "            8.6337e-01, -2.5264e-01],\n",
      "          ...,\n",
      "          [ 1.8820e+00,  6.0590e-02,  1.9450e-01,  ...,  6.6892e-01,\n",
      "            1.5892e+00,  1.7893e+00],\n",
      "          [ 6.1497e-01,  1.2657e+00,  3.3687e-01,  ..., -9.2039e-01,\n",
      "           -5.3552e-01, -5.9957e-01],\n",
      "          [-2.8517e-01,  9.8583e-01, -1.2796e-01,  ..., -7.0971e-01,\n",
      "           -8.3487e-01, -9.2256e-01]],\n",
      "\n",
      "         ...,\n",
      "\n",
      "         [[-8.3346e-01, -7.4879e-01,  6.4388e-02,  ..., -6.2060e-01,\n",
      "            2.7847e-01,  1.1729e+00],\n",
      "          [-8.9978e-01,  1.3751e+00,  5.4559e-01,  ...,  4.1576e-02,\n",
      "           -8.7577e-01,  2.3109e-01],\n",
      "          [-2.5750e-01, -2.0735e-01,  2.0224e-01,  ..., -5.6004e-01,\n",
      "           -4.4546e-01, -1.8210e-01],\n",
      "          ...,\n",
      "          [-3.7385e-01, -1.5861e+00,  8.8461e-01,  ...,  7.1217e-01,\n",
      "            1.2910e+00, -5.7052e-01],\n",
      "          [-3.0591e-01, -8.1890e-01, -5.5935e-01,  ...,  6.1828e-01,\n",
      "            2.3132e-01,  4.3125e-01],\n",
      "          [ 6.3104e-01, -2.7000e-01,  2.6905e-01,  ..., -6.4912e-01,\n",
      "            2.3872e-01,  8.0020e-02]],\n",
      "\n",
      "         [[ 6.3345e-01,  8.5542e-01, -1.1764e+00,  ..., -2.2649e-02,\n",
      "            7.4090e-02, -2.3017e+00],\n",
      "          [ 8.1419e-01, -4.7701e-01,  1.2316e+00,  ..., -2.9043e-01,\n",
      "           -2.2341e+00,  1.2512e-01],\n",
      "          [-1.1509e-01, -3.0653e-01,  6.3115e-01,  ..., -5.3464e-01,\n",
      "           -3.2036e-01, -1.1302e+00],\n",
      "          ...,\n",
      "          [ 6.3132e-01, -3.6267e-02,  1.9639e+00,  ...,  5.8010e-01,\n",
      "            7.8540e-01, -1.9834e+00],\n",
      "          [ 1.3098e+00, -1.1486e+00,  1.5814e-01,  ..., -3.3882e-01,\n",
      "           -5.7244e-01, -5.0226e-01],\n",
      "          [ 2.8928e-01, -4.7344e-01, -9.3923e-02,  ..., -4.9868e-01,\n",
      "            6.3523e-01,  1.0152e+00]],\n",
      "\n",
      "         [[-9.1723e-01, -1.7920e+00,  6.4544e-01,  ...,  3.6388e-01,\n",
      "           -8.8160e-01, -1.7418e-02],\n",
      "          [ 1.5024e-01,  3.1043e-01, -1.7232e-01,  ..., -8.8639e-02,\n",
      "           -5.7160e-01, -9.2468e-01],\n",
      "          [-6.0214e-01,  7.9167e-01,  3.3176e-01,  ..., -1.0559e+00,\n",
      "           -7.5079e-01, -9.1388e-01],\n",
      "          ...,\n",
      "          [ 4.8198e-01,  1.1139e+00, -1.8807e+00,  ...,  1.3217e+00,\n",
      "           -1.6072e+00,  1.3759e+00],\n",
      "          [ 1.8838e+00,  2.1381e+00,  9.6597e-01,  ...,  4.5283e-01,\n",
      "            1.2050e+00, -2.6555e-01],\n",
      "          [ 8.0507e-01,  5.8615e-01,  5.0695e-01,  ...,  1.3138e-01,\n",
      "           -5.9399e-01, -7.1619e-02]]],\n",
      "\n",
      "\n",
      "        [[[ 5.3522e-01,  1.5605e+00,  9.7084e-02,  ..., -4.8483e-01,\n",
      "           -3.8764e-01, -1.5188e+00],\n",
      "          [-1.5766e+00,  1.4127e+00, -2.6445e-01,  ...,  7.6449e-01,\n",
      "           -7.5205e-02, -1.3951e-01],\n",
      "          [ 1.2795e+00,  5.7711e-02,  2.7192e-01,  ...,  2.0472e-01,\n",
      "            9.1167e-01,  4.4597e-01],\n",
      "          ...,\n",
      "          [-4.0997e-02, -1.3447e+00,  1.3295e+00,  ...,  2.7032e-01,\n",
      "           -1.2772e+00, -1.3895e+00],\n",
      "          [-5.0446e-01, -9.3103e-01, -6.9662e-01,  ...,  2.7906e-02,\n",
      "           -4.5282e-01, -1.0136e+00],\n",
      "          [-1.6257e+00, -2.7102e-01,  7.8228e-01,  ..., -8.0704e-01,\n",
      "           -1.5401e+00, -4.8074e-01]],\n",
      "\n",
      "         [[ 2.1784e-01,  6.3359e-01, -1.6518e+00,  ..., -2.4326e-01,\n",
      "            5.6598e-02,  1.1050e+00],\n",
      "          [-3.7546e-01, -5.9731e-01,  2.9126e-01,  ..., -8.7696e-02,\n",
      "           -1.2230e+00, -1.0168e+00],\n",
      "          [ 2.4770e-01, -6.7123e-01, -5.5833e-01,  ..., -1.5753e+00,\n",
      "            2.8596e+00,  1.0845e+00],\n",
      "          ...,\n",
      "          [-8.5247e-01, -5.6349e-01, -1.0289e+00,  ..., -5.3705e-01,\n",
      "           -5.7132e-01,  3.4742e-01],\n",
      "          [-5.6513e-02, -2.0471e+00,  1.7663e-01,  ...,  5.1398e-01,\n",
      "            2.3376e+00, -1.0946e+00],\n",
      "          [-1.3866e+00,  8.0052e-01, -2.7775e-01,  ...,  5.3860e-02,\n",
      "           -5.1834e-01, -1.1300e+00]],\n",
      "\n",
      "         [[-1.3862e+00, -6.1330e-01,  1.8944e-01,  ..., -4.9144e-02,\n",
      "           -1.4359e+00, -5.6463e-01],\n",
      "          [ 4.3073e-01,  1.6164e-01,  1.4094e+00,  ...,  4.3278e-01,\n",
      "           -7.0256e-01,  5.0467e-01],\n",
      "          [ 4.0335e-01,  1.6794e+00, -2.4087e-01,  ...,  4.8824e-01,\n",
      "            1.0115e+00,  1.7880e-01],\n",
      "          ...,\n",
      "          [ 1.6857e+00,  1.5950e+00,  2.9347e-01,  ...,  9.5819e-01,\n",
      "           -6.7695e-01, -3.0869e-01],\n",
      "          [-1.0164e+00, -2.9914e-01,  1.1831e+00,  ...,  7.0975e-02,\n",
      "           -6.1382e-01, -1.1541e-01],\n",
      "          [ 1.0910e+00,  2.9060e+00,  8.0814e-01,  ..., -1.6277e+00,\n",
      "           -1.0096e-01,  1.0315e+00]],\n",
      "\n",
      "         ...,\n",
      "\n",
      "         [[-1.9660e-01, -2.2378e-01,  1.0916e+00,  ..., -1.2331e+00,\n",
      "            6.4019e-01, -6.9311e-01],\n",
      "          [-6.4049e-01, -1.3998e+00, -3.0235e-02,  ..., -2.1249e-01,\n",
      "           -6.5650e-01, -1.0290e+00],\n",
      "          [ 2.2424e-01, -2.8679e-01, -1.1789e+00,  ...,  1.2243e+00,\n",
      "            1.3385e+00, -1.9160e+00],\n",
      "          ...,\n",
      "          [-2.2554e-01, -5.8993e-01,  4.8380e-01,  ...,  6.9844e-02,\n",
      "           -3.5704e-01, -1.7041e-01],\n",
      "          [ 5.1823e-01,  5.3519e-01,  4.8144e-01,  ...,  6.3455e-01,\n",
      "           -2.0334e+00,  1.2531e+00],\n",
      "          [ 3.4520e-01, -1.0856e+00,  1.7673e-01,  ...,  4.3267e-01,\n",
      "           -8.2251e-01,  2.3403e-01]],\n",
      "\n",
      "         [[-5.6119e-02,  7.3347e-01, -2.6951e-01,  ...,  2.6928e-01,\n",
      "            6.4397e-02,  3.9470e-01],\n",
      "          [ 2.0898e-01,  1.5143e-01, -1.3118e-01,  ..., -1.5904e+00,\n",
      "            5.1766e-02,  8.4227e-01],\n",
      "          [ 5.0223e-01, -3.9186e-01,  6.5691e-01,  ..., -7.2624e-01,\n",
      "            3.5450e-01,  2.9474e-01],\n",
      "          ...,\n",
      "          [ 9.7829e-01,  9.2188e-01,  8.4880e-02,  ...,  1.5731e+00,\n",
      "           -1.1107e+00, -1.7333e+00],\n",
      "          [-6.6878e-01,  7.3471e-01, -7.8915e-01,  ...,  1.0781e+00,\n",
      "            1.4352e-01, -5.2931e-01],\n",
      "          [ 3.0910e-01,  7.7795e-01,  7.8385e-01,  ...,  1.2599e+00,\n",
      "            9.7448e-01, -1.3821e+00]],\n",
      "\n",
      "         [[ 8.1378e-01,  4.3646e-01, -1.0199e+00,  ...,  5.1602e-01,\n",
      "           -7.9183e-02, -1.5174e+00],\n",
      "          [ 9.3046e-01,  3.8997e-01, -5.8422e-01,  ...,  5.9323e-02,\n",
      "           -9.6999e-01,  5.1157e-01],\n",
      "          [ 1.2969e+00,  1.1545e+00,  1.6881e+00,  ..., -5.7303e-01,\n",
      "           -6.6294e-01,  3.6193e-01],\n",
      "          ...,\n",
      "          [-9.8859e-01, -1.0424e-01, -1.1304e+00,  ..., -5.5174e-01,\n",
      "           -1.5829e+00,  6.0401e-01],\n",
      "          [ 5.0350e-02,  2.2146e-01,  1.6699e+00,  ..., -4.7662e-01,\n",
      "           -4.8391e-01, -4.8226e-01],\n",
      "          [ 1.6630e+00,  2.8094e-01,  6.5577e-01,  ..., -4.8581e-01,\n",
      "           -4.3881e-01,  8.6567e-01]]],\n",
      "\n",
      "\n",
      "        [[[-1.6107e+00,  2.2788e-01,  8.9788e-02,  ..., -1.1911e+00,\n",
      "           -5.6166e-01, -2.2433e-01],\n",
      "          [-1.3071e-01, -1.1774e+00,  6.3966e-01,  ..., -2.0860e-01,\n",
      "           -1.0919e+00,  1.9543e-01],\n",
      "          [ 2.4005e-02, -2.4504e-01,  8.8747e-01,  ...,  5.4222e-01,\n",
      "           -5.1021e-01, -1.9525e+00],\n",
      "          ...,\n",
      "          [ 8.5644e-01, -4.2274e-01,  1.4342e+00,  ..., -2.0308e-01,\n",
      "            8.8212e-02,  7.9231e-01],\n",
      "          [ 3.4210e-01, -1.2419e-01, -6.3055e-01,  ...,  1.5077e+00,\n",
      "           -3.6676e-02, -8.9209e-01],\n",
      "          [ 1.0584e+00,  5.5609e-01,  1.0083e+00,  ...,  7.4862e-01,\n",
      "            6.9612e-01, -5.6286e-01]],\n",
      "\n",
      "         [[-5.5256e-01, -2.3034e+00, -1.4180e+00,  ...,  1.7331e+00,\n",
      "            3.6446e-01,  9.7174e-01],\n",
      "          [ 4.8342e-01,  1.0166e+00,  3.9573e-01,  ...,  1.2591e+00,\n",
      "           -9.5618e-03,  6.9177e-01],\n",
      "          [-7.5769e-01,  9.5760e-02, -5.9865e-01,  ...,  9.0950e-01,\n",
      "           -1.2631e+00,  9.9898e-01],\n",
      "          ...,\n",
      "          [ 1.0388e+00,  1.5105e+00,  9.8075e-01,  ...,  4.0573e-01,\n",
      "            6.1575e-01,  2.0805e+00],\n",
      "          [-6.9259e-01,  1.4090e+00, -1.0698e-01,  ...,  8.3574e-01,\n",
      "           -7.3020e-01,  4.8181e-01],\n",
      "          [ 1.5689e+00,  2.3308e-02, -5.6516e-01,  ..., -6.3153e-01,\n",
      "            7.7149e-01,  9.2071e-01]],\n",
      "\n",
      "         [[-2.2120e+00,  5.2707e-01,  1.8045e-01,  ..., -4.8362e-01,\n",
      "           -1.0553e-01, -6.0112e-01],\n",
      "          [-6.4696e-01,  6.5097e-01,  5.0127e-01,  ...,  9.5345e-03,\n",
      "           -3.4369e-01,  3.1546e-01],\n",
      "          [ 2.5732e+00,  1.3633e+00, -3.6708e-01,  ..., -4.0661e-01,\n",
      "           -1.2041e+00, -4.6940e-01],\n",
      "          ...,\n",
      "          [ 1.4487e-01,  7.1141e-01,  2.1254e-01,  ..., -1.1404e+00,\n",
      "           -1.6696e+00,  9.0772e-01],\n",
      "          [ 1.3290e+00,  6.7822e-01, -1.8266e+00,  ..., -1.8919e-01,\n",
      "           -1.5879e+00,  2.6509e-01],\n",
      "          [ 7.9632e-01, -1.5680e-01, -9.4259e-03,  ...,  1.0785e+00,\n",
      "           -1.0858e+00, -6.6160e-01]],\n",
      "\n",
      "         ...,\n",
      "\n",
      "         [[ 5.6229e-01, -8.2019e-01,  5.1531e-01,  ...,  1.6363e+00,\n",
      "           -1.4306e+00,  2.0774e-01],\n",
      "          [ 5.4771e-01,  4.4166e-01,  1.6173e+00,  ...,  3.9069e-01,\n",
      "            5.5165e-01,  1.4800e+00],\n",
      "          [ 2.7100e-02, -6.7375e-02, -1.5160e-01,  ..., -4.2205e-01,\n",
      "            6.9848e-02,  7.8688e-02],\n",
      "          ...,\n",
      "          [ 6.4165e-01,  8.3517e-01, -9.7341e-01,  ..., -2.6484e-01,\n",
      "            5.8875e-01, -1.8024e+00],\n",
      "          [ 2.4210e-01,  3.1627e-01,  9.1336e-01,  ...,  7.1570e-01,\n",
      "            5.1639e-01,  1.2705e+00],\n",
      "          [ 4.0853e-01,  1.1476e+00, -1.3142e-01,  ...,  2.5006e+00,\n",
      "            8.2465e-01,  1.5689e+00]],\n",
      "\n",
      "         [[-5.4443e-01,  2.5858e-01, -8.9413e-01,  ..., -2.7364e-01,\n",
      "            1.3077e+00,  8.1167e-01],\n",
      "          [-4.3256e-01, -5.9247e-01, -8.7674e-01,  ...,  1.8719e+00,\n",
      "           -6.7836e-01, -5.6221e-03],\n",
      "          [-8.4977e-01,  1.4078e-01,  1.7980e-01,  ..., -5.7143e-01,\n",
      "           -3.9777e-02,  3.4814e+00],\n",
      "          ...,\n",
      "          [-1.5474e+00,  2.2010e+00,  2.6727e-01,  ...,  1.9199e+00,\n",
      "           -3.1941e-01,  6.3126e-01],\n",
      "          [ 3.4816e+00,  7.0262e-01,  9.4197e-01,  ..., -2.4912e+00,\n",
      "            2.6882e-01,  6.2009e-01],\n",
      "          [ 2.5391e-01,  9.3892e-02, -1.0253e+00,  ...,  8.2509e-01,\n",
      "            1.6140e+00,  1.0156e+00]],\n",
      "\n",
      "         [[ 4.4272e-01,  3.7524e-01,  1.0296e+00,  ..., -5.6826e-01,\n",
      "            1.7348e-01, -6.2825e-01],\n",
      "          [ 6.4898e-01, -1.4798e+00, -1.1880e+00,  ..., -1.6416e+00,\n",
      "           -8.7077e-02, -1.2729e-03],\n",
      "          [-2.4903e+00, -6.9774e-01, -8.5213e-01,  ..., -1.4487e+00,\n",
      "            1.9091e+00, -7.7930e-01],\n",
      "          ...,\n",
      "          [ 1.0750e+00, -3.2911e-01, -9.0821e-01,  ...,  7.6033e-01,\n",
      "            9.2239e-01,  5.9051e-01],\n",
      "          [-1.2109e+00, -6.6087e-01,  1.9939e+00,  ...,  2.1056e-01,\n",
      "            1.7920e-01, -1.7569e-01],\n",
      "          [-8.0307e-01,  8.7777e-01,  8.7899e-01,  ...,  1.3812e+00,\n",
      "           -1.5458e+00,  1.1588e+00]]]])\n",
      "torch.Size([20, 16, 50, 100])\n"
     ]
    }
   ],
   "source": [
    "input = torch.randn(20,16,50,100)\n",
    "print(input)\n",
    "print(input.size())"
   ]
  },
  {
   "cell_type": "code",
   "execution_count": 84,
   "id": "1bf4a81f",
   "metadata": {
    "execution": {
     "iopub.execute_input": "2022-09-14T13:50:17.039627Z",
     "iopub.status.busy": "2022-09-14T13:50:17.038396Z",
     "iopub.status.idle": "2022-09-14T13:50:17.048161Z",
     "shell.execute_reply": "2022-09-14T13:50:17.046932Z"
    },
    "papermill": {
     "duration": 0.057054,
     "end_time": "2022-09-14T13:50:17.050750",
     "exception": false,
     "start_time": "2022-09-14T13:50:16.993696",
     "status": "completed"
    },
    "tags": []
   },
   "outputs": [
    {
     "name": "stdout",
     "output_type": "stream",
     "text": [
      "Conv2d(16, 33, kernel_size=(3, 5), stride=(2, 1), padding=(4, 2), dilation=(3, 1))\n"
     ]
    }
   ],
   "source": [
    "m = nn.Conv2d(16,33,3,stride=2)\n",
    "m = nn.Conv2d(16,33,(3,5), stride=(2,1), padding=(4,2))\n",
    "m = nn.Conv2d(16,33,(3,5), stride=(2,1), padding=(4,2), dilation=(3,1))\n",
    "print(m)"
   ]
  },
  {
   "cell_type": "code",
   "execution_count": 85,
   "id": "d1b604f1",
   "metadata": {
    "execution": {
     "iopub.execute_input": "2022-09-14T13:50:17.140782Z",
     "iopub.status.busy": "2022-09-14T13:50:17.140296Z",
     "iopub.status.idle": "2022-09-14T13:50:17.241958Z",
     "shell.execute_reply": "2022-09-14T13:50:17.240738Z"
    },
    "papermill": {
     "duration": 0.155534,
     "end_time": "2022-09-14T13:50:17.250729",
     "exception": false,
     "start_time": "2022-09-14T13:50:17.095195",
     "status": "completed"
    },
    "tags": []
   },
   "outputs": [
    {
     "name": "stdout",
     "output_type": "stream",
     "text": [
      "tensor([[[[-9.9025e-03,  4.4997e-01, -5.5781e-01,  ...,  5.5963e-02,\n",
      "            3.9087e-01,  2.4244e-02],\n",
      "          [ 5.7480e-02, -4.7817e-01,  7.2434e-02,  ..., -7.9643e-01,\n",
      "            7.1767e-01,  1.5006e-02],\n",
      "          [-7.5282e-01, -1.0498e+00,  1.3119e+00,  ...,  4.4744e-02,\n",
      "           -4.2574e-01, -2.4716e-01],\n",
      "          ...,\n",
      "          [-3.1689e-01, -8.8769e-01,  2.4428e-01,  ...,  1.1149e+00,\n",
      "            2.6315e-01,  3.6932e-01],\n",
      "          [-5.7976e-04,  3.8360e-01,  7.2986e-01,  ...,  4.4594e-01,\n",
      "           -8.0391e-01,  1.9855e-01],\n",
      "          [ 1.2948e-01,  9.4247e-02, -3.5206e-02,  ...,  3.6204e-01,\n",
      "           -4.1258e-02,  3.9900e-01]],\n",
      "\n",
      "         [[ 1.1715e-01,  3.2679e-01, -3.0457e-01,  ..., -2.0161e-01,\n",
      "           -2.2189e-01, -1.6933e-01],\n",
      "          [-4.4647e-01,  5.9842e-01, -6.2476e-01,  ...,  1.9201e-01,\n",
      "            3.1107e-01,  1.0152e-01],\n",
      "          [-2.0346e-01,  9.7048e-01,  8.5982e-01,  ..., -1.5328e+00,\n",
      "           -8.8132e-01,  4.0102e-01],\n",
      "          ...,\n",
      "          [-1.0354e-01, -1.9862e-01, -6.2878e-01,  ..., -3.4807e-02,\n",
      "           -8.5745e-01, -1.8772e-01],\n",
      "          [ 2.4924e-01, -1.0955e-01, -1.8776e-01,  ..., -2.0605e-01,\n",
      "            2.3109e-01,  3.5482e-01],\n",
      "          [-4.2359e-01, -4.1722e-02,  8.4446e-01,  ...,  3.9348e-01,\n",
      "            3.7730e-01, -1.7900e-01]],\n",
      "\n",
      "         [[-2.2390e-01,  7.1801e-01, -2.2710e-01,  ...,  4.2324e-01,\n",
      "            1.3276e-02, -1.9616e-01],\n",
      "          [ 5.4115e-01, -8.1653e-01, -2.7082e-01,  ...,  1.0030e-01,\n",
      "            2.3259e-01,  4.2837e-02],\n",
      "          [ 3.1730e-01, -4.8307e-01,  1.9659e-01,  ...,  7.0197e-02,\n",
      "            3.7612e-01,  1.0574e-01],\n",
      "          ...,\n",
      "          [ 5.3223e-02,  3.8861e-01,  1.1572e+00,  ..., -5.2289e-01,\n",
      "           -6.3828e-02,  3.6687e-01],\n",
      "          [-5.5960e-01, -7.6867e-02, -3.0466e-01,  ...,  5.9484e-01,\n",
      "           -2.7621e-01, -4.8019e-02],\n",
      "          [-8.9949e-01, -6.1771e-01, -1.9223e-01,  ...,  2.5427e-01,\n",
      "            4.2965e-01, -1.0269e-01]],\n",
      "\n",
      "         ...,\n",
      "\n",
      "         [[-2.8381e-01, -4.5125e-01, -1.4426e-01,  ...,  7.4468e-02,\n",
      "            3.1709e-01,  9.8408e-03],\n",
      "          [-6.2333e-01,  4.8961e-01, -1.2572e-01,  ...,  1.3511e+00,\n",
      "            4.9465e-01, -1.0300e+00],\n",
      "          [-2.5548e-02,  5.0828e-01, -2.9730e-01,  ..., -1.2934e-01,\n",
      "           -4.6559e-01,  1.8492e-01],\n",
      "          ...,\n",
      "          [-1.2891e-01,  3.7724e-01, -5.3138e-01,  ..., -6.0297e-01,\n",
      "           -7.8314e-01,  7.7986e-01],\n",
      "          [ 1.3214e-02,  6.3511e-01, -6.0363e-01,  ..., -1.1181e-01,\n",
      "           -4.4249e-01,  2.6769e-01],\n",
      "          [-2.4682e-01,  7.6673e-01,  5.2268e-01,  ..., -3.4217e-01,\n",
      "           -5.0397e-02,  2.7683e-02]],\n",
      "\n",
      "         [[-9.7218e-02,  1.9088e-01,  3.4313e-01,  ...,  1.0585e-01,\n",
      "            2.2214e-01,  1.3406e-01],\n",
      "          [ 2.9910e-01,  3.7966e-01, -8.4211e-01,  ..., -6.9483e-01,\n",
      "           -3.1221e-01, -7.4263e-01],\n",
      "          [-2.0671e-01,  5.4082e-01,  6.1314e-01,  ..., -6.5836e-01,\n",
      "            1.3584e-02, -1.2765e-02],\n",
      "          ...,\n",
      "          [-1.6854e-01,  1.2338e-01, -7.6562e-01,  ...,  7.9094e-02,\n",
      "           -3.1563e-01,  8.3957e-01],\n",
      "          [ 4.4560e-01, -3.7650e-01,  3.8891e-01,  ..., -6.9492e-01,\n",
      "           -3.5998e-01,  8.6156e-01],\n",
      "          [-3.7445e-01, -5.6308e-01,  1.4158e-01,  ...,  3.4012e-01,\n",
      "            2.1504e-01,  4.5237e-01]],\n",
      "\n",
      "         [[-2.4146e-01,  1.4026e-01,  2.7960e-01,  ..., -4.1226e-01,\n",
      "           -2.9397e-01,  1.1544e-01],\n",
      "          [-1.8047e-01, -8.4400e-02,  4.9978e-01,  ..., -2.6575e-01,\n",
      "            3.7856e-01,  6.9105e-01],\n",
      "          [-9.6039e-02,  8.4877e-02, -6.7582e-02,  ...,  4.0364e-01,\n",
      "           -2.6322e-01,  1.8576e-01],\n",
      "          ...,\n",
      "          [ 2.5690e-01,  3.4945e-01,  1.0137e+00,  ...,  1.2013e-01,\n",
      "            9.5430e-01, -1.1512e+00],\n",
      "          [ 4.7050e-02, -4.5298e-01,  3.5395e-01,  ...,  2.1175e-02,\n",
      "            2.8357e-01, -7.0127e-02],\n",
      "          [ 2.3822e-01,  6.8813e-03, -1.9120e-01,  ..., -2.2005e-01,\n",
      "            2.7227e-01,  8.0106e-02]]],\n",
      "\n",
      "\n",
      "        [[[-5.2439e-03, -3.4259e-01, -1.0053e-01,  ...,  2.0576e-01,\n",
      "           -5.9928e-01,  4.4919e-01],\n",
      "          [-2.5507e-01,  4.1482e-01, -1.4459e-01,  ..., -1.4071e-01,\n",
      "            1.1106e-01,  6.3809e-01],\n",
      "          [ 6.2074e-01, -5.5938e-01,  4.5375e-01,  ...,  1.4003e+00,\n",
      "            6.1186e-01, -2.1414e-01],\n",
      "          ...,\n",
      "          [-4.6951e-01,  1.2318e-03, -6.5841e-01,  ..., -7.2004e-01,\n",
      "           -1.6601e-02, -3.5449e-01],\n",
      "          [-7.4537e-01, -3.8016e-01, -8.4156e-02,  ..., -2.5354e-01,\n",
      "            1.3899e-01,  1.4249e-01],\n",
      "          [ 8.5653e-01, -6.9095e-01, -7.3053e-01,  ...,  3.0082e-02,\n",
      "           -6.4155e-01,  2.0433e-01]],\n",
      "\n",
      "         [[-2.4733e-01, -2.8876e-01, -5.9726e-01,  ...,  7.2152e-01,\n",
      "            3.1060e-01, -3.5585e-02],\n",
      "          [-8.5379e-01,  3.7691e-01,  1.0645e+00,  ..., -3.1587e-01,\n",
      "           -3.3845e-01, -2.3955e-01],\n",
      "          [ 6.5677e-01, -3.2213e-01,  1.9261e-01,  ...,  1.6848e-03,\n",
      "            2.0473e-03, -2.6933e-01],\n",
      "          ...,\n",
      "          [-2.2642e-02, -6.1712e-01,  3.3125e-01,  ...,  1.8337e-02,\n",
      "            2.1789e-03, -7.4096e-01],\n",
      "          [ 3.9555e-01,  4.1141e-01,  5.7361e-01,  ...,  1.5754e-01,\n",
      "            4.0863e-01,  1.5023e-01],\n",
      "          [ 1.1722e-01, -5.8839e-01,  6.8374e-01,  ..., -8.6748e-01,\n",
      "            7.0083e-01, -6.4628e-01]],\n",
      "\n",
      "         [[ 1.1355e-01,  1.1307e-01, -4.3608e-01,  ...,  9.8415e-02,\n",
      "           -1.1551e-01, -5.6933e-02],\n",
      "          [-4.7816e-01,  3.2521e-01, -6.7814e-01,  ...,  3.6028e-01,\n",
      "           -4.8791e-02,  2.2011e-01],\n",
      "          [-1.7216e-01,  3.5723e-02,  2.9415e-01,  ...,  5.1389e-01,\n",
      "           -8.3957e-01,  1.3924e-01],\n",
      "          ...,\n",
      "          [-2.2904e-01,  6.0747e-02,  1.8787e-01,  ..., -1.7642e-01,\n",
      "           -7.0349e-01, -7.7754e-02],\n",
      "          [ 4.2833e-02,  6.5616e-01, -3.3123e-01,  ..., -8.2914e-02,\n",
      "           -1.9801e-01,  6.0650e-01],\n",
      "          [ 9.5080e-02, -8.5964e-02,  5.6941e-02,  ...,  4.8786e-01,\n",
      "            1.3940e-01, -3.5416e-01]],\n",
      "\n",
      "         ...,\n",
      "\n",
      "         [[-4.9861e-03, -1.6817e-01,  1.6579e-01,  ..., -2.7089e-01,\n",
      "           -2.6293e-01, -1.1439e-01],\n",
      "          [ 8.5995e-01, -3.7506e-01, -4.4566e-01,  ..., -1.5653e-01,\n",
      "           -6.8166e-02,  3.9944e-02],\n",
      "          [-8.4613e-01,  5.2608e-01, -3.5613e-01,  ...,  6.9324e-02,\n",
      "            3.5166e-01,  6.5376e-01],\n",
      "          ...,\n",
      "          [-1.5956e-03, -5.5477e-01, -8.4106e-02,  ..., -3.9365e-02,\n",
      "           -6.1051e-01, -2.7505e-01],\n",
      "          [ 7.5494e-01, -7.3147e-02,  9.4212e-02,  ...,  1.8914e-01,\n",
      "            4.6115e-01, -3.0327e-01],\n",
      "          [ 3.6986e-01, -3.6756e-01,  7.6579e-01,  ..., -2.0841e-01,\n",
      "           -1.0600e-01, -2.4518e-01]],\n",
      "\n",
      "         [[-2.0527e-02, -2.2381e-02, -4.0894e-01,  ..., -4.6071e-01,\n",
      "           -4.3747e-01,  1.7859e-01],\n",
      "          [ 1.7601e-01,  9.2969e-02,  4.2350e-01,  ..., -8.3053e-01,\n",
      "           -2.6607e-01, -6.1045e-01],\n",
      "          [ 1.5983e-01,  3.8308e-01, -9.5873e-02,  ..., -9.3690e-01,\n",
      "            3.7357e-01,  1.3547e-01],\n",
      "          ...,\n",
      "          [-4.7113e-01, -5.9767e-01,  2.2612e-01,  ..., -4.7990e-02,\n",
      "            1.2120e-01,  2.2097e-01],\n",
      "          [ 4.5290e-02,  2.4356e-01, -1.0704e+00,  ..., -6.4092e-01,\n",
      "            2.4545e-01,  2.3658e-01],\n",
      "          [ 1.4403e-01,  1.6481e-01, -1.9698e-01,  ..., -2.1623e-01,\n",
      "           -1.7342e-01,  2.6203e-01]],\n",
      "\n",
      "         [[ 6.1265e-01, -9.1271e-02, -5.3662e-02,  ..., -2.5695e-01,\n",
      "           -1.0041e-01,  6.1252e-01],\n",
      "          [-2.6845e-01,  4.0094e-01,  4.8029e-01,  ...,  4.3913e-01,\n",
      "           -5.3992e-01,  6.1009e-01],\n",
      "          [-5.2272e-01,  1.3015e-01, -2.5582e-01,  ...,  4.3633e-01,\n",
      "           -6.6678e-02,  4.6738e-01],\n",
      "          ...,\n",
      "          [-3.9012e-01, -1.4436e-02,  2.9675e-01,  ...,  3.3660e-01,\n",
      "            7.7611e-02,  1.6090e-02],\n",
      "          [-3.0974e-01,  1.1507e-01,  1.1573e-01,  ..., -3.7690e-01,\n",
      "           -3.8359e-01,  4.9168e-01],\n",
      "          [ 4.1116e-01, -4.9341e-02, -2.9571e-01,  ...,  1.8154e-01,\n",
      "           -9.2394e-02, -1.8696e-01]]],\n",
      "\n",
      "\n",
      "        [[[-5.6410e-01, -1.7101e-02,  9.3175e-02,  ...,  1.7301e-02,\n",
      "            3.6779e-01, -1.8447e-01],\n",
      "          [-2.6393e-01, -4.9554e-02,  1.7033e-01,  ...,  2.3421e-02,\n",
      "           -8.2054e-01, -5.5069e-01],\n",
      "          [-2.8348e-01,  4.3060e-01, -9.7136e-01,  ...,  3.7684e-01,\n",
      "            1.1294e-01,  1.1064e-01],\n",
      "          ...,\n",
      "          [-8.0747e-02,  4.9158e-03,  1.6440e-01,  ...,  1.0163e+00,\n",
      "           -4.0335e-01,  2.1479e-02],\n",
      "          [ 1.0332e-01, -7.8713e-02,  6.1981e-01,  ..., -2.1077e-01,\n",
      "            4.8377e-02,  4.6573e-01],\n",
      "          [ 5.6083e-01, -6.1065e-01,  1.4057e-01,  ...,  9.0315e-01,\n",
      "           -2.2701e-01,  1.5751e-01]],\n",
      "\n",
      "         [[ 7.0324e-02,  2.2354e-01, -4.0331e-01,  ..., -7.2510e-01,\n",
      "           -9.3814e-02, -3.0195e-02],\n",
      "          [-5.3131e-02,  2.4307e-01, -5.7936e-01,  ..., -6.6714e-01,\n",
      "           -7.4389e-01, -5.7126e-01],\n",
      "          [-1.4734e-01, -1.0387e+00, -1.3987e+00,  ...,  5.9822e-02,\n",
      "            6.2727e-01, -7.6376e-01],\n",
      "          ...,\n",
      "          [ 1.4090e-01,  6.4964e-01, -3.4473e-01,  ..., -1.7380e-01,\n",
      "           -5.1809e-01, -1.2654e-01],\n",
      "          [ 9.3898e-02, -1.1961e-01, -6.4922e-01,  ..., -3.3617e-01,\n",
      "            5.7801e-02, -1.6728e-01],\n",
      "          [-6.8571e-03, -2.3282e-01,  7.1568e-01,  ..., -4.5514e-01,\n",
      "            1.5365e-01, -2.0355e-01]],\n",
      "\n",
      "         [[ 9.0352e-02,  1.3886e-03,  4.1593e-01,  ..., -3.4292e-02,\n",
      "           -5.1912e-03,  3.6241e-02],\n",
      "          [ 5.0627e-04,  6.5192e-02,  1.1040e-01,  ..., -5.5844e-01,\n",
      "           -6.8747e-01, -6.6618e-01],\n",
      "          [ 9.1311e-02,  4.9291e-01,  6.4790e-01,  ...,  2.4802e-01,\n",
      "            7.2583e-01, -4.6581e-01],\n",
      "          ...,\n",
      "          [ 1.2582e-01,  1.1283e-01,  1.0062e+00,  ...,  1.4738e+00,\n",
      "           -6.7897e-01,  8.8947e-02],\n",
      "          [-4.4323e-01,  3.9025e-01,  9.6648e-01,  ..., -1.4103e+00,\n",
      "           -3.2156e-01, -6.3070e-01],\n",
      "          [ 2.8670e-01, -5.9817e-02,  2.0047e-01,  ..., -3.5748e-01,\n",
      "           -4.8209e-01,  2.7645e-01]],\n",
      "\n",
      "         ...,\n",
      "\n",
      "         [[ 1.6172e-01,  1.2029e-01,  3.7314e-01,  ...,  3.2808e-01,\n",
      "            1.9199e-01,  3.9017e-01],\n",
      "          [ 8.0777e-02, -2.1828e-01, -6.0146e-01,  ..., -4.3539e-01,\n",
      "           -1.3931e-01, -4.3557e-01],\n",
      "          [-1.1571e-01,  3.9295e-01,  1.5007e-02,  ...,  5.5665e-01,\n",
      "           -9.6128e-02, -3.1018e-01],\n",
      "          ...,\n",
      "          [ 2.1781e-01,  2.3256e-01, -7.4825e-01,  ..., -4.1924e-01,\n",
      "            3.1097e-02,  5.2795e-01],\n",
      "          [-3.0150e-01, -1.8879e-01, -1.6119e-01,  ..., -8.4527e-02,\n",
      "            3.9189e-01,  1.9802e-01],\n",
      "          [-9.6076e-02, -1.8143e-01,  6.4253e-01,  ..., -7.6874e-01,\n",
      "           -5.6598e-01, -2.3885e-01]],\n",
      "\n",
      "         [[-2.1856e-01, -1.0502e-01,  1.4582e-01,  ...,  1.0938e-01,\n",
      "            1.1568e-01,  6.4360e-01],\n",
      "          [ 2.9588e-02, -6.9400e-01,  4.1152e-01,  ...,  1.4760e-02,\n",
      "            8.2228e-01, -9.1102e-02],\n",
      "          [-1.3698e-01, -1.9913e-01,  5.0164e-02,  ...,  1.1813e+00,\n",
      "           -1.1856e+00, -6.5098e-01],\n",
      "          ...,\n",
      "          [ 1.6403e-01,  8.5662e-01,  2.6633e-01,  ...,  1.1558e+00,\n",
      "           -4.0529e-01,  3.8528e-02],\n",
      "          [ 6.2118e-02,  2.1886e-01, -1.3376e-01,  ..., -4.0671e-01,\n",
      "           -1.0161e-01,  3.2194e-01],\n",
      "          [-2.3758e-01,  4.9442e-01,  6.1764e-01,  ...,  1.5479e-01,\n",
      "           -6.5645e-02, -5.8181e-02]],\n",
      "\n",
      "         [[ 5.3141e-02, -2.0587e-01,  7.3307e-01,  ...,  1.5742e-01,\n",
      "           -3.8050e-01,  2.3488e-01],\n",
      "          [-1.5784e-01,  7.9810e-01,  7.0196e-01,  ..., -5.2225e-01,\n",
      "           -1.7387e-02,  3.9474e-01],\n",
      "          [-1.0985e-01,  5.7595e-01, -2.7223e-01,  ..., -2.9195e-01,\n",
      "           -2.6811e-01, -7.8321e-02],\n",
      "          ...,\n",
      "          [-3.3754e-02, -2.5504e-01,  1.0028e-01,  ...,  1.9528e-01,\n",
      "            3.4857e-01,  3.3226e-01],\n",
      "          [-2.1379e-01,  3.1369e-01,  4.8578e-01,  ...,  4.2533e-01,\n",
      "           -1.2133e-01, -3.6333e-01],\n",
      "          [ 6.5922e-01, -3.9849e-01, -3.9218e-02,  ..., -6.0265e-02,\n",
      "            2.5975e-01, -3.3296e-01]]],\n",
      "\n",
      "\n",
      "        ...,\n",
      "\n",
      "\n",
      "        [[[-3.5306e-01,  2.8077e-01,  3.0485e-01,  ...,  2.5589e-01,\n",
      "            1.4584e-01, -2.4905e-01],\n",
      "          [ 5.8042e-02,  1.7004e-01,  2.9401e-01,  ..., -7.1843e-01,\n",
      "            2.3973e-01, -2.0833e-02],\n",
      "          [ 2.2510e-01,  1.1483e+00, -2.1601e-01,  ...,  5.2359e-01,\n",
      "            1.4393e-01,  4.8811e-01],\n",
      "          ...,\n",
      "          [ 1.3305e-01, -4.1775e-01, -1.0374e-01,  ..., -1.3547e-01,\n",
      "            9.3522e-01,  5.9484e-01],\n",
      "          [ 4.5272e-01, -3.7853e-01,  2.9165e-01,  ..., -6.2030e-01,\n",
      "            5.2483e-02,  1.8355e-01],\n",
      "          [-3.2018e-02, -2.0998e-02,  2.3720e-01,  ...,  1.5931e-01,\n",
      "            8.5259e-01,  6.7373e-01]],\n",
      "\n",
      "         [[-1.1974e-01,  3.3559e-01,  2.9547e-01,  ..., -9.3926e-02,\n",
      "           -6.2912e-01, -4.5925e-01],\n",
      "          [ 1.4529e-01,  2.6618e-01, -1.5510e-01,  ...,  3.8713e-01,\n",
      "            1.0845e-01,  4.4347e-01],\n",
      "          [-6.2526e-01,  2.9879e-01,  9.4040e-02,  ...,  8.8090e-02,\n",
      "           -7.1716e-01,  5.7840e-01],\n",
      "          ...,\n",
      "          [ 6.8619e-01, -5.4562e-01,  1.1465e-01,  ...,  7.0303e-03,\n",
      "           -7.4126e-02,  2.9099e-01],\n",
      "          [-6.7694e-02, -5.0921e-01, -2.1063e-01,  ...,  4.0446e-02,\n",
      "            4.4598e-01,  2.3218e-01],\n",
      "          [ 3.3422e-01, -9.9123e-02, -6.4873e-01,  ...,  6.2712e-01,\n",
      "            1.1996e-01, -1.0951e+00]],\n",
      "\n",
      "         [[-3.4270e-01,  1.3350e-01, -3.7219e-01,  ...,  2.5034e-02,\n",
      "           -1.5558e-01,  2.2826e-01],\n",
      "          [ 2.9627e-01,  1.3244e-01,  6.3298e-01,  ...,  5.1462e-01,\n",
      "            2.5210e-01,  3.3365e-01],\n",
      "          [-6.3033e-01, -1.1244e+00, -8.5739e-01,  ...,  8.4025e-01,\n",
      "            1.6484e-01,  1.3446e-01],\n",
      "          ...,\n",
      "          [ 7.6239e-01, -3.5849e-01,  1.3078e-01,  ..., -4.0527e-01,\n",
      "            2.7158e-01, -5.9824e-02],\n",
      "          [-6.0825e-02, -7.1285e-03,  2.5148e-01,  ..., -6.5738e-01,\n",
      "           -3.1597e-01,  3.6250e-01],\n",
      "          [-3.6182e-01,  7.8062e-02,  1.0703e+00,  ..., -5.7071e-01,\n",
      "           -5.6306e-01, -4.4591e-01]],\n",
      "\n",
      "         ...,\n",
      "\n",
      "         [[ 3.9253e-01, -2.8848e-01,  7.9070e-02,  ...,  1.8259e-01,\n",
      "            4.0061e-01,  7.4149e-02],\n",
      "          [-7.4471e-01,  6.5470e-01,  6.7317e-01,  ..., -4.6395e-01,\n",
      "            5.1908e-02,  6.1934e-01],\n",
      "          [ 9.4356e-02,  4.9619e-01, -1.0626e+00,  ...,  5.3524e-01,\n",
      "           -6.0961e-02,  2.7775e-01],\n",
      "          ...,\n",
      "          [-1.5313e-01,  2.9398e-01, -1.6987e-03,  ..., -2.3465e-02,\n",
      "            7.5873e-01, -1.6032e-01],\n",
      "          [-4.5611e-01,  4.9535e-01, -3.7553e-01,  ...,  6.6270e-01,\n",
      "            2.9856e-01,  3.2791e-01],\n",
      "          [ 3.6742e-01, -5.8781e-02,  1.0183e-01,  ..., -8.1448e-01,\n",
      "            1.7754e-01, -2.3666e-01]],\n",
      "\n",
      "         [[ 1.4742e-01, -3.0742e-01,  1.3140e-01,  ...,  1.9232e-01,\n",
      "           -3.4440e-01, -5.5596e-01],\n",
      "          [-5.6393e-01,  1.1890e-01,  3.6403e-01,  ...,  5.1406e-02,\n",
      "           -4.6283e-02,  4.5777e-01],\n",
      "          [ 3.2328e-01, -6.6634e-01, -2.0089e-01,  ..., -2.6167e-01,\n",
      "            1.3493e-01,  2.7972e-01],\n",
      "          ...,\n",
      "          [ 4.0874e-01,  5.1685e-01,  2.5861e-01,  ..., -3.8363e-01,\n",
      "            9.2833e-01,  3.7658e-01],\n",
      "          [-5.2644e-02,  2.7283e-01, -9.8019e-01,  ..., -1.7713e-01,\n",
      "            4.1249e-01,  2.8307e-01],\n",
      "          [ 4.1361e-01,  1.7663e-01,  2.8601e-01,  ..., -3.9676e-01,\n",
      "           -9.8553e-03,  2.3562e-01]],\n",
      "\n",
      "         [[ 2.1649e-01,  9.1694e-03,  7.8524e-02,  ...,  8.9800e-02,\n",
      "            9.5783e-01, -1.3892e-01],\n",
      "          [-2.3687e-01,  1.8337e-01, -5.5291e-01,  ...,  4.8764e-01,\n",
      "           -3.9731e-01, -5.1800e-02],\n",
      "          [ 7.3480e-01, -1.0096e+00,  2.5371e-02,  ...,  1.1226e+00,\n",
      "            8.1320e-01,  7.5642e-01],\n",
      "          ...,\n",
      "          [ 3.9081e-01, -1.5901e-01,  4.5241e-01,  ...,  5.9440e-01,\n",
      "           -1.2966e+00,  1.3797e-01],\n",
      "          [ 5.8503e-01,  1.2658e-01, -4.5125e-01,  ...,  5.3377e-01,\n",
      "            1.9047e-01,  4.8435e-01],\n",
      "          [ 6.9618e-02,  1.0094e-01, -3.5721e-01,  ...,  1.5924e-01,\n",
      "           -2.5852e-01,  2.8703e-01]]],\n",
      "\n",
      "\n",
      "        [[[-5.1484e-01, -4.4710e-02, -8.1123e-01,  ..., -6.2992e-01,\n",
      "           -2.6402e-01,  3.1481e-01],\n",
      "          [-1.8248e-01,  6.9360e-01,  1.0089e-01,  ...,  6.1517e-01,\n",
      "            8.4493e-01,  6.2793e-02],\n",
      "          [-5.1366e-01, -3.7757e-01,  1.4882e+00,  ..., -5.5719e-01,\n",
      "           -8.8565e-02,  6.1355e-01],\n",
      "          ...,\n",
      "          [-4.8638e-02,  6.9349e-01, -9.9510e-02,  ..., -2.1202e-01,\n",
      "           -1.9550e-01, -8.7092e-01],\n",
      "          [ 7.6366e-01,  9.9898e-02, -3.5920e-02,  ...,  1.4206e-01,\n",
      "           -3.5605e-01, -2.6084e-01],\n",
      "          [ 5.0054e-01,  2.2455e-01, -1.8807e-01,  ..., -6.5425e-01,\n",
      "            5.2093e-01,  4.4396e-02]],\n",
      "\n",
      "         [[-1.0141e-01,  6.4662e-02,  2.7146e-01,  ..., -2.2000e-01,\n",
      "            2.7081e-01,  4.2586e-02],\n",
      "          [-9.6700e-02,  4.3068e-01,  1.0253e+00,  ..., -6.9312e-01,\n",
      "            5.0445e-02, -1.9417e-01],\n",
      "          [-1.9401e-01,  7.6647e-01, -1.8322e-01,  ...,  6.4207e-02,\n",
      "           -6.7215e-01,  1.1867e-01],\n",
      "          ...,\n",
      "          [-1.0566e-01,  6.9524e-01,  4.7968e-01,  ..., -6.5216e-01,\n",
      "            3.1244e-03,  2.4430e-01],\n",
      "          [-3.2025e-01,  1.4384e-01, -2.7588e-01,  ..., -4.7698e-01,\n",
      "            1.9983e-01,  4.3755e-01],\n",
      "          [ 5.8375e-01,  1.2021e+00,  6.0519e-01,  ..., -1.6774e-01,\n",
      "            1.0637e-01,  7.5058e-01]],\n",
      "\n",
      "         [[-1.1260e-01,  4.3521e-01,  2.3832e-01,  ...,  1.5728e-01,\n",
      "           -4.3328e-01,  3.4318e-01],\n",
      "          [ 3.8616e-01,  3.0241e-01, -1.8546e-01,  ..., -6.7187e-01,\n",
      "           -3.5953e-01,  1.8270e-01],\n",
      "          [-1.2076e-01, -5.9584e-01, -8.8083e-01,  ..., -4.0242e-01,\n",
      "            3.0799e-01,  2.6986e-01],\n",
      "          ...,\n",
      "          [-7.9645e-01, -1.0789e+00, -2.5151e-01,  ...,  5.3673e-01,\n",
      "           -2.9585e-01,  2.8743e-01],\n",
      "          [-6.7049e-01, -1.6695e-01,  2.6564e-01,  ...,  6.1495e-01,\n",
      "           -6.6617e-01, -8.8604e-01],\n",
      "          [-2.1223e-01,  3.4849e-01,  2.4847e-02,  ..., -5.8576e-01,\n",
      "            6.8752e-01,  6.5209e-01]],\n",
      "\n",
      "         ...,\n",
      "\n",
      "         [[ 1.5108e-01,  8.1486e-02, -4.2956e-02,  ..., -3.8371e-01,\n",
      "           -3.5162e-02, -1.6259e-01],\n",
      "          [ 7.1053e-01,  1.4468e-01,  2.0650e-01,  ...,  1.8450e-01,\n",
      "            3.5006e-01, -2.7708e-01],\n",
      "          [-1.1566e+00,  1.2337e+00, -3.2174e-01,  ..., -2.7116e-01,\n",
      "            1.4274e-01,  3.2876e-01],\n",
      "          ...,\n",
      "          [ 4.2404e-01, -4.1220e-01, -6.1928e-01,  ...,  1.2755e+00,\n",
      "            8.3582e-01,  2.4562e-01],\n",
      "          [-9.9778e-03,  2.6308e-01,  6.8538e-01,  ..., -2.1316e-01,\n",
      "            4.5556e-01,  6.8338e-01],\n",
      "          [ 5.7113e-01, -7.0651e-01,  2.2892e-03,  ..., -1.2913e-01,\n",
      "            5.8561e-01, -4.4210e-01]],\n",
      "\n",
      "         [[-6.7452e-02,  6.2895e-01,  3.2389e-01,  ..., -5.5715e-01,\n",
      "            1.6876e-02,  2.4862e-01],\n",
      "          [-6.2568e-02,  3.1257e-01, -4.7273e-01,  ..., -2.3616e-01,\n",
      "           -1.9476e-01,  2.3542e-01],\n",
      "          [ 5.7975e-01,  4.2552e-01,  1.0405e+00,  ..., -6.5291e-01,\n",
      "           -7.7835e-01,  1.3188e-01],\n",
      "          ...,\n",
      "          [-4.7509e-03, -4.0849e-01,  4.5066e-01,  ...,  8.8916e-01,\n",
      "            1.4373e-01, -5.8544e-01],\n",
      "          [ 8.2301e-01, -2.3140e-01, -1.1782e-01,  ..., -3.3358e-01,\n",
      "           -3.1986e-01,  1.1853e-01],\n",
      "          [ 4.1103e-01,  7.2945e-01,  3.4577e-01,  ...,  2.6387e-02,\n",
      "            6.6018e-01,  4.1881e-01]],\n",
      "\n",
      "         [[-2.7962e-03,  1.7372e-01, -1.9444e-01,  ...,  2.4046e-01,\n",
      "           -6.2032e-01,  4.0690e-01],\n",
      "          [ 1.7731e-01,  2.3349e-03,  1.3424e-01,  ...,  4.9413e-02,\n",
      "            1.8161e-01, -5.7457e-01],\n",
      "          [ 2.2899e-01, -6.6614e-01,  3.0559e-01,  ...,  1.6488e+00,\n",
      "            2.4214e-01, -3.0596e-01],\n",
      "          ...,\n",
      "          [-1.7938e-01, -6.2426e-01, -4.7863e-02,  ..., -1.3520e-01,\n",
      "           -3.2604e-01,  4.9402e-02],\n",
      "          [ 3.9660e-02,  2.2557e-01, -1.2321e-01,  ...,  4.5233e-01,\n",
      "           -3.3699e-01,  4.6650e-01],\n",
      "          [ 1.3672e-01, -3.5460e-02,  5.2088e-02,  ..., -1.1116e-01,\n",
      "            3.9358e-01,  2.1534e-01]]],\n",
      "\n",
      "\n",
      "        [[[-2.6218e-01, -5.4774e-01, -5.7484e-02,  ...,  4.0420e-01,\n",
      "           -7.4435e-01, -2.1253e-01],\n",
      "          [ 3.7614e-01, -6.0823e-01, -2.7143e-01,  ...,  3.5390e-01,\n",
      "           -8.6574e-02,  1.5074e-02],\n",
      "          [-7.8010e-02,  2.0768e-01,  6.9140e-01,  ..., -2.9677e-02,\n",
      "            7.4651e-01,  6.8964e-02],\n",
      "          ...,\n",
      "          [-5.3821e-01,  8.1783e-01,  6.3634e-01,  ..., -1.7282e-01,\n",
      "           -2.6071e-01,  4.5031e-01],\n",
      "          [-7.7416e-01, -5.5138e-01, -3.5288e-01,  ..., -5.7329e-01,\n",
      "           -7.1517e-01, -8.3431e-02],\n",
      "          [-9.3257e-01, -2.3250e-01, -1.8877e-01,  ...,  3.5618e-01,\n",
      "           -3.6837e-01, -3.8106e-01]],\n",
      "\n",
      "         [[ 6.7639e-02, -1.5436e-01, -1.3487e-01,  ..., -2.7662e-01,\n",
      "           -3.6348e-01,  1.7467e-01],\n",
      "          [-4.8655e-01, -2.7503e-02, -1.8451e-01,  ..., -3.2467e-01,\n",
      "           -2.1172e-01,  9.7887e-01],\n",
      "          [-6.4857e-01, -1.0209e+00, -6.2961e-02,  ..., -2.3650e-01,\n",
      "           -5.9694e-01,  2.3279e-01],\n",
      "          ...,\n",
      "          [ 1.4072e+00, -1.2517e-01, -3.5032e-01,  ...,  1.0819e+00,\n",
      "           -2.3934e-01,  4.1277e-01],\n",
      "          [-4.4579e-01, -1.2623e-02,  1.7862e-03,  ...,  5.9558e-01,\n",
      "           -1.6624e-03, -2.2348e-02],\n",
      "          [-2.8894e-01, -6.4628e-01,  1.4005e-01,  ..., -2.6537e-01,\n",
      "           -5.1246e-01, -5.1303e-01]],\n",
      "\n",
      "         [[-1.0825e-02,  1.2512e-01, -1.9566e-01,  ...,  8.9057e-02,\n",
      "           -1.0691e-01,  1.6403e-01],\n",
      "          [ 5.3197e-01,  6.2944e-01,  5.9958e-02,  ..., -1.8365e-01,\n",
      "            5.3315e-02,  2.9141e-01],\n",
      "          [ 8.4944e-02, -1.7679e-01,  4.7234e-01,  ..., -3.2973e-01,\n",
      "           -1.7495e-01, -4.7628e-01],\n",
      "          ...,\n",
      "          [-2.4560e-01,  8.8542e-02,  8.3821e-01,  ...,  1.4975e+00,\n",
      "           -2.0621e-01,  2.1448e-01],\n",
      "          [ 1.4918e-01, -5.8245e-01,  7.4086e-01,  ..., -2.6472e-01,\n",
      "            4.4812e-01, -1.1403e-01],\n",
      "          [ 2.4190e-01, -2.8861e-01,  3.8489e-01,  ...,  1.8147e-01,\n",
      "           -9.4541e-02, -3.6109e-01]],\n",
      "\n",
      "         ...,\n",
      "\n",
      "         [[-6.4499e-01, -4.2182e-01, -9.3744e-02,  ...,  7.8965e-02,\n",
      "            6.4594e-01,  2.4558e-01],\n",
      "          [-2.2229e-02, -2.9496e-01,  3.2591e-01,  ...,  1.4216e-01,\n",
      "           -2.0335e-01,  4.1008e-01],\n",
      "          [-5.3599e-02,  6.6005e-01,  4.1571e-01,  ...,  3.6420e-01,\n",
      "           -7.2998e-01,  7.8696e-01],\n",
      "          ...,\n",
      "          [-7.0231e-01, -7.2824e-01,  8.6706e-03,  ..., -4.9037e-01,\n",
      "           -1.6805e-01,  4.0694e-02],\n",
      "          [ 2.1102e-01,  4.4420e-02,  7.2304e-01,  ..., -9.7075e-01,\n",
      "           -2.4401e-01, -3.4105e-02],\n",
      "          [ 4.8611e-01,  2.9672e-02,  2.1216e-01,  ..., -1.0176e-01,\n",
      "           -4.5344e-01, -2.1533e-01]],\n",
      "\n",
      "         [[-2.9040e-01, -1.3069e-02, -3.8659e-01,  ...,  1.8360e-01,\n",
      "           -6.1630e-01,  2.0150e-01],\n",
      "          [ 5.7790e-01, -2.5067e-01, -3.6862e-01,  ..., -6.4063e-01,\n",
      "            2.3417e-01,  2.1178e-01],\n",
      "          [-5.2795e-01,  8.5712e-01, -9.4333e-02,  ...,  7.3400e-02,\n",
      "           -7.6355e-01, -1.7680e-01],\n",
      "          ...,\n",
      "          [ 2.7446e-01, -5.0236e-01,  1.4609e-01,  ...,  1.3705e+00,\n",
      "           -6.9300e-01, -4.5759e-01],\n",
      "          [-3.6858e-01, -3.3870e-01, -1.3834e-01,  ...,  1.0270e+00,\n",
      "           -9.2354e-01, -3.8641e-01],\n",
      "          [ 3.0137e-01, -6.2816e-01,  7.9540e-02,  ...,  6.8387e-01,\n",
      "            5.2010e-02,  5.0786e-02]],\n",
      "\n",
      "         [[ 5.7763e-01,  3.5455e-04, -2.5347e-01,  ...,  8.3886e-02,\n",
      "           -9.4476e-01,  7.5135e-01],\n",
      "          [ 2.7201e-01,  1.9146e-01, -9.3263e-01,  ...,  2.1131e-01,\n",
      "            1.2945e-01,  9.0560e-02],\n",
      "          [-1.5882e-01,  4.3325e-02,  1.1987e-01,  ..., -1.0954e+00,\n",
      "            9.2431e-02, -1.9733e-01],\n",
      "          ...,\n",
      "          [ 4.2502e-01, -5.5419e-01, -4.8794e-01,  ...,  8.5594e-01,\n",
      "            3.2257e-01,  4.3642e-01],\n",
      "          [ 6.2284e-01,  7.1198e-02,  2.8173e-02,  ..., -1.1327e-01,\n",
      "            8.4612e-01,  4.9884e-01],\n",
      "          [-5.6979e-01,  1.3307e-01,  1.4182e-01,  ..., -4.5613e-01,\n",
      "           -5.3029e-01,  4.5643e-01]]]], grad_fn=<ConvolutionBackward0>)\n",
      "torch.Size([20, 33, 26, 100])\n"
     ]
    }
   ],
   "source": [
    "output = m(input)\n",
    "print(output)\n",
    "print(output.size())"
   ]
  },
  {
   "cell_type": "markdown",
   "id": "2f376389",
   "metadata": {
    "papermill": {
     "duration": 0.041991,
     "end_time": "2022-09-14T13:50:17.336527",
     "exception": false,
     "start_time": "2022-09-14T13:50:17.294536",
     "status": "completed"
    },
    "tags": []
   },
   "source": [
    "### Convolution Layers\n",
    "- in_channels : 채널의 개수\n",
    "- out_channels : 출력 채널의 개수\n",
    "- kernel_size : 커널(필터) 사이즈"
   ]
  },
  {
   "cell_type": "code",
   "execution_count": 86,
   "id": "b2b83401",
   "metadata": {
    "execution": {
     "iopub.execute_input": "2022-09-14T13:50:17.424555Z",
     "iopub.status.busy": "2022-09-14T13:50:17.424162Z",
     "iopub.status.idle": "2022-09-14T13:50:17.432150Z",
     "shell.execute_reply": "2022-09-14T13:50:17.430933Z"
    },
    "papermill": {
     "duration": 0.055462,
     "end_time": "2022-09-14T13:50:17.434356",
     "exception": false,
     "start_time": "2022-09-14T13:50:17.378894",
     "status": "completed"
    },
    "tags": []
   },
   "outputs": [
    {
     "data": {
      "text/plain": [
       "Conv2d(1, 20, kernel_size=(5, 5), stride=(1, 1))"
      ]
     },
     "execution_count": 86,
     "metadata": {},
     "output_type": "execute_result"
    }
   ],
   "source": [
    "nn.Conv2d(in_channels=1, out_channels=20, kernel_size=5, stride=1)"
   ]
  },
  {
   "cell_type": "code",
   "execution_count": 87,
   "id": "f107a6a8",
   "metadata": {
    "execution": {
     "iopub.execute_input": "2022-09-14T13:50:17.525688Z",
     "iopub.status.busy": "2022-09-14T13:50:17.524906Z",
     "iopub.status.idle": "2022-09-14T13:50:17.530947Z",
     "shell.execute_reply": "2022-09-14T13:50:17.530013Z"
    },
    "papermill": {
     "duration": 0.054758,
     "end_time": "2022-09-14T13:50:17.533733",
     "exception": false,
     "start_time": "2022-09-14T13:50:17.478975",
     "status": "completed"
    },
    "tags": []
   },
   "outputs": [],
   "source": [
    "layer = nn.Conv2d(1, 20, 5, 1).to(torch.device('cpu'))"
   ]
  },
  {
   "cell_type": "markdown",
   "id": "4b05ec05",
   "metadata": {
    "papermill": {
     "duration": 0.041592,
     "end_time": "2022-09-14T13:50:17.617538",
     "exception": false,
     "start_time": "2022-09-14T13:50:17.575946",
     "status": "completed"
    },
    "tags": []
   },
   "source": [
    "- Weight 확인"
   ]
  },
  {
   "cell_type": "code",
   "execution_count": 88,
   "id": "6b210124",
   "metadata": {
    "execution": {
     "iopub.execute_input": "2022-09-14T13:50:17.703082Z",
     "iopub.status.busy": "2022-09-14T13:50:17.702343Z",
     "iopub.status.idle": "2022-09-14T13:50:17.709112Z",
     "shell.execute_reply": "2022-09-14T13:50:17.707931Z"
    },
    "papermill": {
     "duration": 0.052583,
     "end_time": "2022-09-14T13:50:17.711781",
     "exception": false,
     "start_time": "2022-09-14T13:50:17.659198",
     "status": "completed"
    },
    "tags": []
   },
   "outputs": [
    {
     "data": {
      "text/plain": [
       "torch.Size([20, 1, 5, 5])"
      ]
     },
     "execution_count": 88,
     "metadata": {},
     "output_type": "execute_result"
    }
   ],
   "source": [
    "weight = layer.weight\n",
    "weight.shape"
   ]
  },
  {
   "cell_type": "code",
   "execution_count": 89,
   "id": "13ed1e6a",
   "metadata": {
    "execution": {
     "iopub.execute_input": "2022-09-14T13:50:17.797128Z",
     "iopub.status.busy": "2022-09-14T13:50:17.796364Z",
     "iopub.status.idle": "2022-09-14T13:50:17.813821Z",
     "shell.execute_reply": "2022-09-14T13:50:17.811785Z"
    },
    "papermill": {
     "duration": 0.062934,
     "end_time": "2022-09-14T13:50:17.816401",
     "exception": false,
     "start_time": "2022-09-14T13:50:17.753467",
     "status": "completed"
    },
    "tags": []
   },
   "outputs": [
    {
     "name": "stdout",
     "output_type": "stream",
     "text": [
      "tensor([[[[-1.6518e-01, -1.4136e-01,  1.2568e-01,  1.7008e-01, -1.1921e-01],\n",
      "          [ 3.0469e-02, -8.4632e-02,  3.4049e-02, -1.3091e-03, -9.6309e-02],\n",
      "          [-3.3495e-02,  1.6706e-01,  3.5009e-02,  1.5417e-01,  6.3471e-02],\n",
      "          [-5.6858e-02,  2.9199e-02, -3.9587e-02,  1.0432e-01,  2.8224e-02],\n",
      "          [-1.2600e-01,  1.7669e-01, -8.5225e-02,  3.9354e-02,  1.5976e-01]]],\n",
      "\n",
      "\n",
      "        [[[ 1.0315e-01, -2.0615e-02,  1.1972e-01,  1.3264e-01,  4.1271e-02],\n",
      "          [ 1.4959e-01, -3.9380e-02,  1.8142e-01, -1.4467e-02,  1.7043e-01],\n",
      "          [ 8.2237e-02, -6.8770e-02,  1.8919e-01, -1.0773e-01,  1.4020e-01],\n",
      "          [-1.8794e-01,  1.4830e-01, -1.4271e-01, -1.5123e-01,  8.5867e-02],\n",
      "          [ 1.4658e-01, -7.0205e-02,  1.3457e-01,  1.4505e-01, -1.0711e-01]]],\n",
      "\n",
      "\n",
      "        [[[ 1.0572e-01,  2.4420e-02,  1.4535e-01,  2.5849e-02, -5.5470e-02],\n",
      "          [ 8.0977e-02,  2.4237e-02, -1.2302e-01,  1.6839e-01,  8.3722e-02],\n",
      "          [ 4.6836e-03, -6.3171e-02, -6.7869e-02,  8.1172e-03, -1.6230e-01],\n",
      "          [ 1.4779e-01, -1.5982e-01, -1.0879e-01,  8.7496e-03,  1.2855e-01],\n",
      "          [ 7.2947e-02, -2.7729e-02, -9.9107e-02,  8.0245e-02,  1.8069e-01]]],\n",
      "\n",
      "\n",
      "        [[[ 1.8103e-01, -1.3653e-01,  1.5541e-01,  1.4100e-01, -8.6504e-02],\n",
      "          [-6.4634e-02, -1.0215e-01, -1.0602e-01,  1.7149e-01,  8.9517e-02],\n",
      "          [ 1.8785e-01,  1.0157e-01, -3.5130e-02, -1.4947e-01,  4.0722e-03],\n",
      "          [-1.0285e-01,  6.8128e-02,  2.8286e-02, -1.3066e-01,  1.7801e-02],\n",
      "          [-2.9960e-02,  1.8473e-01, -1.7480e-01,  1.9060e-01,  1.8371e-01]]],\n",
      "\n",
      "\n",
      "        [[[ 3.8695e-02,  1.0444e-01,  1.6310e-02,  8.6887e-02, -1.5118e-01],\n",
      "          [-7.9108e-02, -1.1410e-01, -1.1028e-01, -1.7294e-01,  1.0362e-01],\n",
      "          [-1.3380e-01, -3.7546e-02, -1.3704e-01, -1.5349e-01, -1.8719e-01],\n",
      "          [ 1.0172e-01, -4.6168e-02,  1.6414e-01,  1.6757e-01,  9.1194e-02],\n",
      "          [-1.6460e-01,  1.9765e-01, -2.8413e-02,  8.2961e-02, -1.3532e-01]]],\n",
      "\n",
      "\n",
      "        [[[ 1.8872e-01, -1.2337e-01, -6.0834e-02, -1.8996e-01, -1.7556e-01],\n",
      "          [-1.3593e-01,  1.6809e-01,  8.1149e-02,  1.0418e-01,  1.3457e-01],\n",
      "          [ 1.6293e-01,  1.5766e-01,  2.5452e-02,  9.8361e-02,  2.4907e-03],\n",
      "          [-8.3596e-03,  2.6398e-02,  4.2560e-02, -1.2945e-01,  1.3739e-01],\n",
      "          [-4.1322e-02, -1.5583e-01,  1.8580e-01,  7.6987e-02,  1.4597e-01]]],\n",
      "\n",
      "\n",
      "        [[[-1.2619e-02, -2.3063e-02, -8.4146e-02,  2.7985e-02,  7.2610e-04],\n",
      "          [ 1.8280e-01,  2.1281e-02,  1.7736e-01,  1.1468e-01, -5.8393e-02],\n",
      "          [-5.2779e-02,  1.3111e-01,  1.6574e-01, -1.1745e-01,  1.9834e-01],\n",
      "          [ 1.8515e-01, -1.2064e-01,  1.5002e-01, -5.7228e-02, -6.3109e-02],\n",
      "          [-1.2981e-01,  1.5029e-02, -1.6308e-02,  4.5815e-02,  1.0090e-01]]],\n",
      "\n",
      "\n",
      "        [[[-9.3269e-03,  6.6308e-02, -1.6668e-01,  3.1032e-02,  1.3572e-02],\n",
      "          [ 1.8269e-01,  1.2273e-01,  1.6773e-01, -8.0624e-02, -5.4515e-02],\n",
      "          [-9.8202e-02, -2.1267e-02, -1.9413e-01, -8.4694e-02,  1.4666e-01],\n",
      "          [ 7.0410e-02,  6.3742e-02,  1.7737e-02,  1.7617e-01, -1.0291e-01],\n",
      "          [-1.9208e-02,  1.9074e-01, -1.4722e-02, -1.1701e-01, -5.3655e-02]]],\n",
      "\n",
      "\n",
      "        [[[ 9.1551e-03, -1.5205e-01, -2.4045e-03,  6.9945e-02,  1.1534e-01],\n",
      "          [-7.9747e-02,  4.8794e-02,  5.4024e-02,  1.4561e-01, -1.1663e-01],\n",
      "          [ 4.5954e-02,  2.4180e-02, -1.7311e-01, -6.7293e-02,  7.4591e-02],\n",
      "          [ 8.1234e-02,  7.5195e-02, -1.5568e-01, -1.7091e-02, -5.8148e-03],\n",
      "          [ 5.5506e-02,  9.7357e-02, -1.8114e-01, -1.2632e-01, -9.2992e-02]]],\n",
      "\n",
      "\n",
      "        [[[-1.8398e-01,  4.5562e-02,  3.5760e-02, -1.8433e-01,  1.3985e-01],\n",
      "          [-9.0239e-02, -6.4646e-02,  1.8073e-01, -5.7700e-02,  1.5292e-01],\n",
      "          [ 1.0127e-01,  1.4791e-01,  3.5255e-02,  1.3074e-01,  1.9153e-01],\n",
      "          [ 1.5265e-01,  2.9083e-02, -7.0086e-02,  6.0739e-02, -5.6019e-02],\n",
      "          [ 1.4285e-01, -2.8068e-02, -3.0154e-02, -3.1658e-02, -1.2489e-01]]],\n",
      "\n",
      "\n",
      "        [[[-7.7732e-02,  8.3681e-02, -9.6627e-02,  2.9591e-02,  1.1539e-01],\n",
      "          [-9.6339e-02, -1.3042e-02, -7.0696e-02, -1.1351e-01, -1.4484e-01],\n",
      "          [-4.4665e-02,  1.8300e-01,  4.5873e-02, -1.8876e-01,  1.6967e-01],\n",
      "          [ 3.5575e-03,  1.1318e-01,  1.3718e-01, -8.0138e-02,  2.0398e-02],\n",
      "          [-1.4196e-01,  1.9945e-01, -2.4973e-02,  1.4393e-02,  1.2711e-01]]],\n",
      "\n",
      "\n",
      "        [[[ 1.3550e-01, -1.0326e-01, -8.1975e-04,  1.8402e-01,  1.9760e-01],\n",
      "          [ 1.2966e-01,  3.8832e-02,  7.9258e-02,  1.9878e-02,  7.9219e-02],\n",
      "          [ 7.9436e-02, -6.4136e-02,  3.3964e-02,  5.8729e-02,  1.5383e-01],\n",
      "          [ 9.5296e-02, -2.8184e-02, -4.8355e-02, -8.8569e-02,  1.2167e-01],\n",
      "          [-1.3809e-01,  9.4758e-02,  3.5398e-02, -1.9009e-01, -4.5133e-02]]],\n",
      "\n",
      "\n",
      "        [[[ 3.3932e-02,  1.2505e-01, -4.2553e-04, -1.7636e-01,  1.8093e-01],\n",
      "          [ 1.2980e-01, -6.0903e-02,  3.8989e-02, -1.2446e-01, -8.5525e-02],\n",
      "          [ 8.1623e-03, -7.4172e-05,  1.7371e-01, -3.1976e-02,  4.4577e-02],\n",
      "          [-1.8461e-01,  1.3311e-01, -1.7158e-02, -2.6915e-04,  8.4052e-02],\n",
      "          [ 1.8022e-01, -4.7975e-02,  3.4736e-02,  1.0216e-01,  7.1734e-02]]],\n",
      "\n",
      "\n",
      "        [[[-1.8664e-01, -8.7039e-02, -7.8118e-02, -5.7155e-02,  8.5507e-02],\n",
      "          [-2.6673e-02, -1.1522e-01,  1.1099e-01, -3.4418e-02,  2.1476e-02],\n",
      "          [-1.3999e-01, -9.1150e-02,  1.4194e-01,  1.1133e-01,  6.8737e-02],\n",
      "          [ 1.7530e-01, -1.6279e-01,  9.4167e-02, -1.4876e-01,  1.6628e-01],\n",
      "          [-1.9011e-01, -1.7349e-01,  1.5193e-01, -3.3144e-02, -1.2082e-01]]],\n",
      "\n",
      "\n",
      "        [[[-2.2765e-02, -1.2171e-02, -1.0835e-01, -1.6362e-01, -5.3925e-02],\n",
      "          [ 1.3021e-01,  1.8898e-01,  1.3492e-02,  5.9281e-02,  7.9158e-02],\n",
      "          [ 1.9376e-01, -1.6720e-01, -1.3209e-01,  1.5759e-01,  5.0914e-02],\n",
      "          [ 8.0569e-02, -4.7021e-02,  4.5851e-02,  1.2740e-01,  6.8437e-02],\n",
      "          [-1.9194e-01,  1.2273e-01,  1.7879e-01,  5.8257e-02, -1.9293e-01]]],\n",
      "\n",
      "\n",
      "        [[[ 1.7948e-01,  1.9413e-02,  6.8167e-02,  9.5271e-02, -1.7564e-01],\n",
      "          [-7.8309e-02, -3.8123e-02,  1.5992e-02,  4.9418e-02,  7.8150e-02],\n",
      "          [ 1.9148e-01, -1.9289e-01, -1.8825e-01, -9.1807e-02,  4.9883e-02],\n",
      "          [ 6.6603e-02, -1.0420e-01, -1.7387e-01,  1.8636e-01, -3.0062e-02],\n",
      "          [-1.7611e-01,  7.3226e-02,  1.0705e-01, -7.7546e-02,  1.8285e-01]]],\n",
      "\n",
      "\n",
      "        [[[ 9.7115e-02, -1.0912e-01, -1.4767e-01,  1.5075e-01,  1.5270e-01],\n",
      "          [ 9.8070e-02,  2.5763e-02, -2.0046e-04,  1.3455e-01, -7.4104e-02],\n",
      "          [-1.7596e-01,  1.9826e-01, -9.3675e-02, -1.3787e-01,  1.3174e-01],\n",
      "          [-1.9028e-01,  1.0398e-01,  1.5835e-01,  9.9816e-02, -1.7699e-01],\n",
      "          [ 1.3827e-01, -1.9118e-01,  6.2907e-02, -2.3475e-02,  5.4277e-02]]],\n",
      "\n",
      "\n",
      "        [[[-1.5261e-01, -9.6108e-02,  7.6990e-02,  1.6726e-01, -1.7613e-01],\n",
      "          [-1.6075e-01, -8.8791e-02, -1.1703e-01,  1.0092e-01, -4.2631e-03],\n",
      "          [ 9.8568e-02,  7.5290e-02,  1.6149e-01,  1.3724e-01,  3.2530e-02],\n",
      "          [ 1.2593e-01,  4.0559e-02,  6.1944e-02, -1.1071e-01,  1.0363e-01],\n",
      "          [ 9.2627e-03, -1.1247e-01, -1.7233e-01, -3.5437e-03, -1.9400e-01]]],\n",
      "\n",
      "\n",
      "        [[[ 7.5315e-02,  1.7248e-01, -6.0223e-02,  3.7029e-02, -1.3640e-01],\n",
      "          [-9.6079e-03,  1.7228e-01, -2.9101e-02, -7.9065e-02,  1.3627e-01],\n",
      "          [-1.0173e-01, -9.9239e-04, -1.7183e-01,  1.3828e-01, -1.7358e-01],\n",
      "          [ 1.5675e-02,  5.9675e-02, -1.1257e-01, -1.2635e-01,  1.7585e-01],\n",
      "          [-1.8024e-01,  1.2038e-01,  1.2490e-01,  1.1549e-01,  1.0405e-01]]],\n",
      "\n",
      "\n",
      "        [[[ 2.3281e-03,  1.3503e-01, -1.5488e-01,  1.3983e-01, -1.9550e-01],\n",
      "          [-1.9100e-02, -6.6021e-02,  9.7671e-02,  1.5378e-01, -1.2160e-01],\n",
      "          [ 2.2395e-02, -4.1405e-03, -1.5686e-01,  1.9374e-01,  2.0462e-02],\n",
      "          [ 1.9735e-01, -9.2771e-02,  2.3971e-02, -1.1261e-01, -1.4386e-01],\n",
      "          [ 1.4941e-02, -1.8638e-01, -6.9549e-02,  8.0516e-02,  1.3548e-01]]]])\n"
     ]
    },
    {
     "data": {
      "text/plain": [
       "(20, 1, 5, 5)"
      ]
     },
     "execution_count": 89,
     "metadata": {},
     "output_type": "execute_result"
    }
   ],
   "source": [
    "weight = weight.detach()\n",
    "print(weight)\n",
    "# Weight는 detach()를 통해야 numpy() 변환 가능\n",
    "weight = weight.numpy()\n",
    "weight.shape"
   ]
  },
  {
   "cell_type": "code",
   "execution_count": 90,
   "id": "28a805a3",
   "metadata": {
    "execution": {
     "iopub.execute_input": "2022-09-14T13:50:17.907714Z",
     "iopub.status.busy": "2022-09-14T13:50:17.906926Z",
     "iopub.status.idle": "2022-09-14T13:50:18.167938Z",
     "shell.execute_reply": "2022-09-14T13:50:18.166756Z"
    },
    "papermill": {
     "duration": 0.308789,
     "end_time": "2022-09-14T13:50:18.170347",
     "exception": false,
     "start_time": "2022-09-14T13:50:17.861558",
     "status": "completed"
    },
    "tags": []
   },
   "outputs": [
    {
     "data": {
      "image/png": "[encoded data removed]",
      "text/plain": [
       "<Figure size 432x288 with 2 Axes>"
      ]
     },
     "metadata": {
      "needs_background": "light"
     },
     "output_type": "display_data"
    }
   ],
   "source": [
    "# 시각화\n",
    "plt.imshow(weight[0,0,:,:], 'jet')\n",
    "plt.colorbar()\n",
    "plt.show();"
   ]
  },
  {
   "cell_type": "code",
   "execution_count": 91,
   "id": "4d6b5ff1",
   "metadata": {
    "execution": {
     "iopub.execute_input": "2022-09-14T13:50:18.257762Z",
     "iopub.status.busy": "2022-09-14T13:50:18.257346Z",
     "iopub.status.idle": "2022-09-14T13:50:18.263974Z",
     "shell.execute_reply": "2022-09-14T13:50:18.262739Z"
    },
    "papermill": {
     "duration": 0.052589,
     "end_time": "2022-09-14T13:50:18.266450",
     "exception": false,
     "start_time": "2022-09-14T13:50:18.213861",
     "status": "completed"
    },
    "tags": []
   },
   "outputs": [
    {
     "name": "stdout",
     "output_type": "stream",
     "text": [
      "torch.Size([8, 1, 28, 28])\n",
      "torch.Size([1, 28, 28])\n",
      "torch.Size([28, 28])\n"
     ]
    }
   ],
   "source": [
    "print(images.shape)\n",
    "# (batch_size, channel, size, size)\n",
    "print(images[0].size())\n",
    "\n",
    "input_image=torch.squeeze(images[0])\n",
    "# 차원 축소(squeeze)\n",
    "print(input_image.size())"
   ]
  },
  {
   "cell_type": "code",
   "execution_count": 92,
   "id": "282b2332",
   "metadata": {
    "execution": {
     "iopub.execute_input": "2022-09-14T13:50:18.353492Z",
     "iopub.status.busy": "2022-09-14T13:50:18.352573Z",
     "iopub.status.idle": "2022-09-14T13:50:18.365814Z",
     "shell.execute_reply": "2022-09-14T13:50:18.364799Z"
    },
    "papermill": {
     "duration": 0.060162,
     "end_time": "2022-09-14T13:50:18.368944",
     "exception": false,
     "start_time": "2022-09-14T13:50:18.308782",
     "status": "completed"
    },
    "tags": []
   },
   "outputs": [
    {
     "name": "stdout",
     "output_type": "stream",
     "text": [
      "torch.Size([1, 1, 28, 28])\n"
     ]
    },
    {
     "data": {
      "text/plain": [
       "(1, 20, 24, 24)"
      ]
     },
     "execution_count": 92,
     "metadata": {},
     "output_type": "execute_result"
    }
   ],
   "source": [
    "input_data = torch.unsqueeze(images[0], dim=0)\n",
    "print(input_data.size())\n",
    "\n",
    "output_data = layer(input_data)\n",
    "output = output_data.data\n",
    "output_arr = output.numpy()\n",
    "output_arr.shape"
   ]
  },
  {
   "cell_type": "code",
   "execution_count": 93,
   "id": "672dff7e",
   "metadata": {
    "execution": {
     "iopub.execute_input": "2022-09-14T13:50:18.465679Z",
     "iopub.status.busy": "2022-09-14T13:50:18.464974Z",
     "iopub.status.idle": "2022-09-14T13:50:19.134839Z",
     "shell.execute_reply": "2022-09-14T13:50:19.133482Z"
    },
    "papermill": {
     "duration": 0.721167,
     "end_time": "2022-09-14T13:50:19.137431",
     "exception": false,
     "start_time": "2022-09-14T13:50:18.416264",
     "status": "completed"
    },
    "tags": []
   },
   "outputs": [
    {
     "data": {
      "image/png": "[encoded data removed]",
      "text/plain": [
       "<Figure size 1080x2160 with 3 Axes>"
      ]
     },
     "metadata": {
      "needs_background": "light"
     },
     "output_type": "display_data"
    }
   ],
   "source": [
    "# Convolution Layer 적용 시각화\n",
    "plt.figure(figsize=(15,30))\n",
    "\n",
    "plt.subplot(131)\n",
    "plt.title('Input')\n",
    "plt.imshow(input_image, 'gray')\n",
    "\n",
    "plt.subplot(132)\n",
    "plt.title('Weight')\n",
    "plt.imshow(weight[0,0,:,:], 'jet')\n",
    "\n",
    "plt.subplot(133)\n",
    "plt.title('Output')\n",
    "plt.imshow(output_arr[0,0,:,:], 'gray')\n",
    "\n",
    "plt.show();"
   ]
  },
  {
   "cell_type": "markdown",
   "id": "665944f1",
   "metadata": {
    "papermill": {
     "duration": 0.045098,
     "end_time": "2022-09-14T13:50:19.229320",
     "exception": false,
     "start_time": "2022-09-14T13:50:19.184222",
     "status": "completed"
    },
    "tags": []
   },
   "source": [
    "### Pooling Layer\n",
    "- F.max_pool2d\n",
    "- - stride\n",
    "- - kernel_size\n",
    "- torch.nn.MaxPool2d도 많이 사용"
   ]
  },
  {
   "cell_type": "code",
   "execution_count": 94,
   "id": "0718a0bc",
   "metadata": {
    "execution": {
     "iopub.execute_input": "2022-09-14T13:50:19.317847Z",
     "iopub.status.busy": "2022-09-14T13:50:19.316831Z",
     "iopub.status.idle": "2022-09-14T13:50:19.328322Z",
     "shell.execute_reply": "2022-09-14T13:50:19.327490Z"
    },
    "papermill": {
     "duration": 0.05794,
     "end_time": "2022-09-14T13:50:19.330617",
     "exception": false,
     "start_time": "2022-09-14T13:50:19.272677",
     "status": "completed"
    },
    "tags": []
   },
   "outputs": [
    {
     "data": {
      "text/plain": [
       "torch.Size([1, 20, 12, 12])"
      ]
     },
     "execution_count": 94,
     "metadata": {},
     "output_type": "execute_result"
    }
   ],
   "source": [
    "import torch.nn.functional as F\n",
    "\n",
    "pool = F.max_pool2d(output, 2,2)\n",
    "pool.shape\n",
    "# 가로, 세로 각각 1/2"
   ]
  },
  {
   "cell_type": "code",
   "execution_count": 95,
   "id": "32472ce6",
   "metadata": {
    "execution": {
     "iopub.execute_input": "2022-09-14T13:50:19.430921Z",
     "iopub.status.busy": "2022-09-14T13:50:19.429882Z",
     "iopub.status.idle": "2022-09-14T13:50:19.438131Z",
     "shell.execute_reply": "2022-09-14T13:50:19.437132Z"
    },
    "papermill": {
     "duration": 0.061426,
     "end_time": "2022-09-14T13:50:19.440675",
     "exception": false,
     "start_time": "2022-09-14T13:50:19.379249",
     "status": "completed"
    },
    "tags": []
   },
   "outputs": [
    {
     "data": {
      "text/plain": [
       "(1, 20, 12, 12)"
      ]
     },
     "execution_count": 95,
     "metadata": {},
     "output_type": "execute_result"
    }
   ],
   "source": [
    "pool_arr = pool.numpy()\n",
    "pool_arr.shape\n",
    "# Max Pool Layer는 weight가 없기 때문에 바로 numpy() 변환 가능"
   ]
  },
  {
   "cell_type": "code",
   "execution_count": 96,
   "id": "234fc43a",
   "metadata": {
    "execution": {
     "iopub.execute_input": "2022-09-14T13:50:19.532443Z",
     "iopub.status.busy": "2022-09-14T13:50:19.531575Z",
     "iopub.status.idle": "2022-09-14T13:50:19.846965Z",
     "shell.execute_reply": "2022-09-14T13:50:19.845711Z"
    },
    "papermill": {
     "duration": 0.363169,
     "end_time": "2022-09-14T13:50:19.849812",
     "exception": false,
     "start_time": "2022-09-14T13:50:19.486643",
     "status": "completed"
    },
    "tags": []
   },
   "outputs": [
    {
     "data": {
      "image/png": "[encoded data removed]",
      "text/plain": [
       "<Figure size 720x1080 with 2 Axes>"
      ]
     },
     "metadata": {
      "needs_background": "light"
     },
     "output_type": "display_data"
    }
   ],
   "source": [
    "# Convolution Layer 적용 시각화\n",
    "plt.figure(figsize=(10,15))\n",
    "\n",
    "plt.subplot(121)\n",
    "plt.title('Input')\n",
    "plt.imshow(input_image, 'gray')\n",
    "\n",
    "plt.subplot(122)\n",
    "plt.title('Output')\n",
    "plt.imshow(pool_arr[0,0,:,:], 'gray')\n",
    "\n",
    "plt.show();"
   ]
  },
  {
   "cell_type": "markdown",
   "id": "65883b87",
   "metadata": {
    "papermill": {
     "duration": 0.045844,
     "end_time": "2022-09-14T13:50:19.942489",
     "exception": false,
     "start_time": "2022-09-14T13:50:19.896645",
     "status": "completed"
    },
    "tags": []
   },
   "source": [
    "### Linear Layer\n",
    "- 1d만 가능하므로 .view()를 통해 1d로 펼침 필요"
   ]
  },
  {
   "cell_type": "code",
   "execution_count": 97,
   "id": "32caa95a",
   "metadata": {
    "execution": {
     "iopub.execute_input": "2022-09-14T13:50:20.039344Z",
     "iopub.status.busy": "2022-09-14T13:50:20.038583Z",
     "iopub.status.idle": "2022-09-14T13:50:20.046039Z",
     "shell.execute_reply": "2022-09-14T13:50:20.045122Z"
    },
    "papermill": {
     "duration": 0.058831,
     "end_time": "2022-09-14T13:50:20.048219",
     "exception": false,
     "start_time": "2022-09-14T13:50:19.989388",
     "status": "completed"
    },
    "tags": []
   },
   "outputs": [
    {
     "data": {
      "text/plain": [
       "torch.Size([1, 784])"
      ]
     },
     "execution_count": 97,
     "metadata": {},
     "output_type": "execute_result"
    }
   ],
   "source": [
    "flatten = input_image.view(1, 28*28)\n",
    "flatten.shape"
   ]
  },
  {
   "cell_type": "code",
   "execution_count": 98,
   "id": "2e4d29cb",
   "metadata": {
    "execution": {
     "iopub.execute_input": "2022-09-14T13:50:20.142694Z",
     "iopub.status.busy": "2022-09-14T13:50:20.142270Z",
     "iopub.status.idle": "2022-09-14T13:50:20.150119Z",
     "shell.execute_reply": "2022-09-14T13:50:20.149124Z"
    },
    "papermill": {
     "duration": 0.057933,
     "end_time": "2022-09-14T13:50:20.152443",
     "exception": false,
     "start_time": "2022-09-14T13:50:20.094510",
     "status": "completed"
    },
    "tags": []
   },
   "outputs": [
    {
     "data": {
      "text/plain": [
       "torch.Size([1, 10])"
      ]
     },
     "execution_count": 98,
     "metadata": {},
     "output_type": "execute_result"
    }
   ],
   "source": [
    "lin = nn.Linear(784,10)(flatten)\n",
    "lin.shape"
   ]
  },
  {
   "cell_type": "code",
   "execution_count": 99,
   "id": "f8c02de3",
   "metadata": {
    "execution": {
     "iopub.execute_input": "2022-09-14T13:50:20.247132Z",
     "iopub.status.busy": "2022-09-14T13:50:20.246353Z",
     "iopub.status.idle": "2022-09-14T13:50:20.254361Z",
     "shell.execute_reply": "2022-09-14T13:50:20.253381Z"
    },
    "papermill": {
     "duration": 0.058451,
     "end_time": "2022-09-14T13:50:20.256620",
     "exception": false,
     "start_time": "2022-09-14T13:50:20.198169",
     "status": "completed"
    },
    "tags": []
   },
   "outputs": [
    {
     "data": {
      "text/plain": [
       "tensor([[-0.0149,  0.4214, -0.3935, -0.1931,  0.0740, -0.2543,  0.4406, -0.4747,\n",
       "         -0.1387,  0.2739]], grad_fn=<AddmmBackward0>)"
      ]
     },
     "execution_count": 99,
     "metadata": {},
     "output_type": "execute_result"
    }
   ],
   "source": [
    "lin"
   ]
  },
  {
   "cell_type": "code",
   "execution_count": 100,
   "id": "a6054d14",
   "metadata": {
    "execution": {
     "iopub.execute_input": "2022-09-14T13:50:20.346584Z",
     "iopub.status.busy": "2022-09-14T13:50:20.345945Z",
     "iopub.status.idle": "2022-09-14T13:50:20.592172Z",
     "shell.execute_reply": "2022-09-14T13:50:20.590968Z"
    },
    "papermill": {
     "duration": 0.293726,
     "end_time": "2022-09-14T13:50:20.594697",
     "exception": false,
     "start_time": "2022-09-14T13:50:20.300971",
     "status": "completed"
    },
    "tags": []
   },
   "outputs": [
    {
     "data": {
      "image/png": "[encoded data removed]",
      "text/plain": [
       "<Figure size 432x288 with 2 Axes>"
      ]
     },
     "metadata": {
      "needs_background": "light"
     },
     "output_type": "display_data"
    }
   ],
   "source": [
    "plt.imshow(lin.detach().numpy(), 'jet')\n",
    "plt.colorbar()\n",
    "plt.show();"
   ]
  },
  {
   "cell_type": "markdown",
   "id": "f9e66e20",
   "metadata": {
    "papermill": {
     "duration": 0.043144,
     "end_time": "2022-09-14T13:50:20.681459",
     "exception": false,
     "start_time": "2022-09-14T13:50:20.638315",
     "status": "completed"
    },
    "tags": []
   },
   "source": [
    "### Non-linear Activation(비선형 활성화)\n",
    "- F.softmax와 같은 활성화함수 등"
   ]
  },
  {
   "cell_type": "code",
   "execution_count": 101,
   "id": "5dbc3bdd",
   "metadata": {
    "execution": {
     "iopub.execute_input": "2022-09-14T13:50:20.771314Z",
     "iopub.status.busy": "2022-09-14T13:50:20.770919Z",
     "iopub.status.idle": "2022-09-14T13:50:20.780030Z",
     "shell.execute_reply": "2022-09-14T13:50:20.778989Z"
    },
    "papermill": {
     "duration": 0.056722,
     "end_time": "2022-09-14T13:50:20.782340",
     "exception": false,
     "start_time": "2022-09-14T13:50:20.725618",
     "status": "completed"
    },
    "tags": []
   },
   "outputs": [
    {
     "data": {
      "text/plain": [
       "tensor([[0.1213, 0.1231, 0.0866, 0.0757, 0.0992, 0.1455, 0.1184, 0.0787, 0.0635,\n",
       "         0.0880]])"
      ]
     },
     "execution_count": 101,
     "metadata": {},
     "output_type": "execute_result"
    }
   ],
   "source": [
    "with torch.no_grad():\n",
    "    flatten = input_image.view(1, 28*28)\n",
    "    lin = nn.Linear(784,10)(flatten)\n",
    "    softmax = F.softmax(lin,dim=1)\n",
    "    \n",
    "softmax"
   ]
  },
  {
   "cell_type": "code",
   "execution_count": 102,
   "id": "2d3c72c2",
   "metadata": {
    "execution": {
     "iopub.execute_input": "2022-09-14T13:50:20.872787Z",
     "iopub.status.busy": "2022-09-14T13:50:20.872345Z",
     "iopub.status.idle": "2022-09-14T13:50:20.879316Z",
     "shell.execute_reply": "2022-09-14T13:50:20.878158Z"
    },
    "papermill": {
     "duration": 0.05524,
     "end_time": "2022-09-14T13:50:20.881728",
     "exception": false,
     "start_time": "2022-09-14T13:50:20.826488",
     "status": "completed"
    },
    "tags": []
   },
   "outputs": [
    {
     "data": {
      "text/plain": [
       "1.0"
      ]
     },
     "execution_count": 102,
     "metadata": {},
     "output_type": "execute_result"
    }
   ],
   "source": [
    "np.sum(softmax.numpy())\n",
    "\n",
    "# softmax의 결과는 모든 class(MNIST 10개)의 합이 100%"
   ]
  },
  {
   "cell_type": "markdown",
   "id": "73c2052a",
   "metadata": {
    "papermill": {
     "duration": 0.044684,
     "end_time": "2022-09-14T13:50:21.026534",
     "exception": false,
     "start_time": "2022-09-14T13:50:20.981850",
     "status": "completed"
    },
    "tags": []
   },
   "source": [
    "- F.relu\n",
    "- - ReLU 함수 적용 레이어\n",
    "- - nn.ReLU도 가능"
   ]
  },
  {
   "cell_type": "code",
   "execution_count": 103,
   "id": "3773e381",
   "metadata": {
    "execution": {
     "iopub.execute_input": "2022-09-14T13:50:21.116931Z",
     "iopub.status.busy": "2022-09-14T13:50:21.116391Z",
     "iopub.status.idle": "2022-09-14T13:50:21.124260Z",
     "shell.execute_reply": "2022-09-14T13:50:21.123040Z"
    },
    "papermill": {
     "duration": 0.0555,
     "end_time": "2022-09-14T13:50:21.126535",
     "exception": false,
     "start_time": "2022-09-14T13:50:21.071035",
     "status": "completed"
    },
    "tags": []
   },
   "outputs": [
    {
     "data": {
      "text/plain": [
       "torch.Size([4, 3, 28, 28])"
      ]
     },
     "execution_count": 103,
     "metadata": {},
     "output_type": "execute_result"
    }
   ],
   "source": [
    "inputs = torch.randn(4, 3, 28, 28).to(device)\n",
    "inputs.shape"
   ]
  },
  {
   "cell_type": "code",
   "execution_count": 104,
   "id": "2963587e",
   "metadata": {
    "execution": {
     "iopub.execute_input": "2022-09-14T13:50:21.216429Z",
     "iopub.status.busy": "2022-09-14T13:50:21.215673Z",
     "iopub.status.idle": "2022-09-14T13:50:21.225680Z",
     "shell.execute_reply": "2022-09-14T13:50:21.224747Z"
    },
    "papermill": {
     "duration": 0.05767,
     "end_time": "2022-09-14T13:50:21.227900",
     "exception": false,
     "start_time": "2022-09-14T13:50:21.170230",
     "status": "completed"
    },
    "tags": []
   },
   "outputs": [
    {
     "data": {
      "text/plain": [
       "torch.Size([4, 20, 24, 24])"
      ]
     },
     "execution_count": 104,
     "metadata": {},
     "output_type": "execute_result"
    }
   ],
   "source": [
    "layer = nn.Conv2d(3, 20, 5, 1).to(device)\n",
    "output = F.relu(layer(inputs))\n",
    "output.shape"
   ]
  },
  {
   "cell_type": "markdown",
   "id": "fd97afa7",
   "metadata": {
    "papermill": {
     "duration": 0.043384,
     "end_time": "2022-09-14T13:50:21.318082",
     "exception": false,
     "start_time": "2022-09-14T13:50:21.274698",
     "status": "completed"
    },
    "tags": []
   },
   "source": [
    "## 신경망 종류\n",
    "\n",
    "https://colab.research.google.com/drive/1dTWN0jiVIWcPUjfS7J9IT-LE4ACSB2PE?usp=sharing#scrollTo=6Fit4HLffPLC"
   ]
  },
  {
   "cell_type": "markdown",
   "id": "aba2839c",
   "metadata": {
    "papermill": {
     "duration": 0.052459,
     "end_time": "2022-09-14T13:50:21.414307",
     "exception": false,
     "start_time": "2022-09-14T13:50:21.361848",
     "status": "completed"
    },
    "tags": []
   },
   "source": [
    "## 모델 정의\n",
    "\n",
    "### nn.Module 상속 클래스 정의\n",
    "- nn.Module을 상속받는 클래스 정의\n",
    "- __init__() : 모델에서 사용될 모듈과 활성화 함수 등을 정의 (초기화)\n",
    "- forward() : 모델에서 실행되어야 하는 연산 정의"
   ]
  },
  {
   "cell_type": "code",
   "execution_count": 105,
   "id": "9b0fb883",
   "metadata": {
    "execution": {
     "iopub.execute_input": "2022-09-14T13:50:21.520625Z",
     "iopub.status.busy": "2022-09-14T13:50:21.520247Z",
     "iopub.status.idle": "2022-09-14T13:50:21.527474Z",
     "shell.execute_reply": "2022-09-14T13:50:21.526222Z"
    },
    "papermill": {
     "duration": 0.061896,
     "end_time": "2022-09-14T13:50:21.529736",
     "exception": false,
     "start_time": "2022-09-14T13:50:21.467840",
     "status": "completed"
    },
    "tags": []
   },
   "outputs": [],
   "source": [
    "class Model(nn.Module):\n",
    "    def __init__(self, inputs): # 초기화\n",
    "        super(Model, self).__init__()\n",
    "        self.layer = nn.Linear(inputs, 1) # 사용할 Layer 정의\n",
    "        self.activation = nn.Sigmoid() # 사용할 Activation 정의\n",
    "        \n",
    "    def forward(self, x):\n",
    "        x = self.layer(x) # 정의된 self.layer에 입력된 x 통과\n",
    "        x = self.activation(x) # self.layer를 지난 x가 정의된 self.activation을 통과\n",
    "        return x"
   ]
  },
  {
   "cell_type": "code",
   "execution_count": 106,
   "id": "2bb3fcf5",
   "metadata": {
    "execution": {
     "iopub.execute_input": "2022-09-14T13:50:21.621046Z",
     "iopub.status.busy": "2022-09-14T13:50:21.620111Z",
     "iopub.status.idle": "2022-09-14T13:50:21.627752Z",
     "shell.execute_reply": "2022-09-14T13:50:21.626228Z"
    },
    "papermill": {
     "duration": 0.055975,
     "end_time": "2022-09-14T13:50:21.630268",
     "exception": false,
     "start_time": "2022-09-14T13:50:21.574293",
     "status": "completed"
    },
    "tags": []
   },
   "outputs": [
    {
     "name": "stdout",
     "output_type": "stream",
     "text": [
      "[Linear(in_features=1, out_features=1, bias=True), Sigmoid()]\n",
      "[Model(\n",
      "  (layer): Linear(in_features=1, out_features=1, bias=True)\n",
      "  (activation): Sigmoid()\n",
      "), Linear(in_features=1, out_features=1, bias=True), Sigmoid()]\n"
     ]
    }
   ],
   "source": [
    "model = Model(1)\n",
    "print(list(model.children()))\n",
    "print(list(model.modules()))"
   ]
  },
  {
   "cell_type": "markdown",
   "id": "f6757be5",
   "metadata": {
    "papermill": {
     "duration": 0.053268,
     "end_time": "2022-09-14T13:50:21.740950",
     "exception": false,
     "start_time": "2022-09-14T13:50:21.687682",
     "status": "completed"
    },
    "tags": []
   },
   "source": [
    "### nn.Sequential 신경망 정의\n",
    "- nn.Sequential 객체로 그 안에 각 모듈을 순차적으로 실행\n",
    "- __init__()에서 사용할 네트워크 모델을 nn.Sequential로 정의 가능\n",
    "- forward()에서 실행되어야 할 계산을 가독성 높게 작성 가능"
   ]
  },
  {
   "cell_type": "code",
   "execution_count": 107,
   "id": "8e6212b4",
   "metadata": {
    "execution": {
     "iopub.execute_input": "2022-09-14T13:50:21.832702Z",
     "iopub.status.busy": "2022-09-14T13:50:21.831863Z",
     "iopub.status.idle": "2022-09-14T13:50:21.841037Z",
     "shell.execute_reply": "2022-09-14T13:50:21.839961Z"
    },
    "papermill": {
     "duration": 0.057862,
     "end_time": "2022-09-14T13:50:21.843625",
     "exception": false,
     "start_time": "2022-09-14T13:50:21.785763",
     "status": "completed"
    },
    "tags": []
   },
   "outputs": [],
   "source": [
    "class Model(nn.Module):\n",
    "    def __init__(self):\n",
    "        super(Model, self).__init__()\n",
    "        self.layer1 = nn.Sequential(\n",
    "            nn.Conv2d(in_channels=3, out_channels=64, kernel_size=5),\n",
    "            nn.ReLU(inplace=True),\n",
    "            nn.MaxPool2d(2)\n",
    "        )\n",
    "        self.layer2 = nn.Sequential(\n",
    "            nn.Conv2d(in_channels=64, out_channels=30, kernel_size=5),\n",
    "            nn.ReLU(inplace=True),\n",
    "            nn.MaxPool2d(2)\n",
    "        )\n",
    "        self.layer3 = nn.Sequential(\n",
    "            nn.Linear(in_features=30*5*5, out_features=10, bias=True),\n",
    "            nn.ReLU(inplace=True)\n",
    "        )\n",
    "    \n",
    "    def forward(self, x):\n",
    "        x = self.layer1(x)\n",
    "        x = self.layer2(x)\n",
    "        x = x.view(x.shape[0], -1)\n",
    "        x = self.layer3(x)\n",
    "        return x"
   ]
  },
  {
   "cell_type": "code",
   "execution_count": 108,
   "id": "75df98d1",
   "metadata": {
    "execution": {
     "iopub.execute_input": "2022-09-14T13:50:21.934350Z",
     "iopub.status.busy": "2022-09-14T13:50:21.933922Z",
     "iopub.status.idle": "2022-09-14T13:50:21.942715Z",
     "shell.execute_reply": "2022-09-14T13:50:21.941222Z"
    },
    "papermill": {
     "duration": 0.058343,
     "end_time": "2022-09-14T13:50:21.946216",
     "exception": false,
     "start_time": "2022-09-14T13:50:21.887873",
     "status": "completed"
    },
    "tags": []
   },
   "outputs": [
    {
     "name": "stdout",
     "output_type": "stream",
     "text": [
      "[Sequential(\n",
      "  (0): Conv2d(3, 64, kernel_size=(5, 5), stride=(1, 1))\n",
      "  (1): ReLU(inplace=True)\n",
      "  (2): MaxPool2d(kernel_size=2, stride=2, padding=0, dilation=1, ceil_mode=False)\n",
      "), Sequential(\n",
      "  (0): Conv2d(64, 30, kernel_size=(5, 5), stride=(1, 1))\n",
      "  (1): ReLU(inplace=True)\n",
      "  (2): MaxPool2d(kernel_size=2, stride=2, padding=0, dilation=1, ceil_mode=False)\n",
      "), Sequential(\n",
      "  (0): Linear(in_features=750, out_features=10, bias=True)\n",
      "  (1): ReLU(inplace=True)\n",
      ")]\n",
      "[Model(\n",
      "  (layer1): Sequential(\n",
      "    (0): Conv2d(3, 64, kernel_size=(5, 5), stride=(1, 1))\n",
      "    (1): ReLU(inplace=True)\n",
      "    (2): MaxPool2d(kernel_size=2, stride=2, padding=0, dilation=1, ceil_mode=False)\n",
      "  )\n",
      "  (layer2): Sequential(\n",
      "    (0): Conv2d(64, 30, kernel_size=(5, 5), stride=(1, 1))\n",
      "    (1): ReLU(inplace=True)\n",
      "    (2): MaxPool2d(kernel_size=2, stride=2, padding=0, dilation=1, ceil_mode=False)\n",
      "  )\n",
      "  (layer3): Sequential(\n",
      "    (0): Linear(in_features=750, out_features=10, bias=True)\n",
      "    (1): ReLU(inplace=True)\n",
      "  )\n",
      "), Sequential(\n",
      "  (0): Conv2d(3, 64, kernel_size=(5, 5), stride=(1, 1))\n",
      "  (1): ReLU(inplace=True)\n",
      "  (2): MaxPool2d(kernel_size=2, stride=2, padding=0, dilation=1, ceil_mode=False)\n",
      "), Conv2d(3, 64, kernel_size=(5, 5), stride=(1, 1)), ReLU(inplace=True), MaxPool2d(kernel_size=2, stride=2, padding=0, dilation=1, ceil_mode=False), Sequential(\n",
      "  (0): Conv2d(64, 30, kernel_size=(5, 5), stride=(1, 1))\n",
      "  (1): ReLU(inplace=True)\n",
      "  (2): MaxPool2d(kernel_size=2, stride=2, padding=0, dilation=1, ceil_mode=False)\n",
      "), Conv2d(64, 30, kernel_size=(5, 5), stride=(1, 1)), ReLU(inplace=True), MaxPool2d(kernel_size=2, stride=2, padding=0, dilation=1, ceil_mode=False), Sequential(\n",
      "  (0): Linear(in_features=750, out_features=10, bias=True)\n",
      "  (1): ReLU(inplace=True)\n",
      "), Linear(in_features=750, out_features=10, bias=True), ReLU(inplace=True)]\n"
     ]
    }
   ],
   "source": [
    "model = Model()\n",
    "print(list(model.children()))\n",
    "\n",
    "print(list(model.modules()))"
   ]
  },
  {
   "cell_type": "markdown",
   "id": "6edfc1f6",
   "metadata": {
    "papermill": {
     "duration": 0.044502,
     "end_time": "2022-09-14T13:50:22.036265",
     "exception": false,
     "start_time": "2022-09-14T13:50:21.991763",
     "status": "completed"
    },
    "tags": []
   },
   "source": [
    "### PyTorch - Pre-trained Model\n",
    "\n",
    "https://pytorch.org/vision/stable/models.html"
   ]
  },
  {
   "cell_type": "markdown",
   "id": "6267ce87",
   "metadata": {
    "papermill": {
     "duration": 0.04384,
     "end_time": "2022-09-14T13:50:22.124805",
     "exception": false,
     "start_time": "2022-09-14T13:50:22.080965",
     "status": "completed"
    },
    "tags": []
   },
   "source": [
    "## Model Parameter\n",
    "\n",
    "### Loss Function(손실 함수)\n",
    "- 예측값과 실제값 사이의 오차 측정\n",
    "- 학습이 진행되면서 해당 과정이 얼마나 잘 되고 있는지를 나타내는 지표\n",
    "- 모델이 훈련되는 동안 최소화되어야할 값으로, 주어진 문제에 대한 성공 지표\n",
    "- 손실 함수에 따른 결과를 통해 학습 파라미터를 조정\n",
    "- 최적화 이론에서 최소화하고자 하는 함수\n",
    "- 미분 가능한 함수 사용\n",
    "- **PyTorch의 주요 Loss Fucntion**\n",
    "- - torch.nn.BCELoss : 이진 분류를 위한 함수\n",
    "- - torch.nn.CrossEntropyLoss : 다중 클래스 분류를 위한 함수\n",
    "- - torch.nn.MSELose : 회귀 모델에서 사용하는 함수"
   ]
  },
  {
   "cell_type": "code",
   "execution_count": 109,
   "id": "77246acf",
   "metadata": {
    "execution": {
     "iopub.execute_input": "2022-09-14T13:50:22.215043Z",
     "iopub.status.busy": "2022-09-14T13:50:22.214149Z",
     "iopub.status.idle": "2022-09-14T13:50:22.220038Z",
     "shell.execute_reply": "2022-09-14T13:50:22.219080Z"
    },
    "papermill": {
     "duration": 0.053363,
     "end_time": "2022-09-14T13:50:22.222169",
     "exception": false,
     "start_time": "2022-09-14T13:50:22.168806",
     "status": "completed"
    },
    "tags": []
   },
   "outputs": [],
   "source": [
    "criterion = nn.MSELoss()\n",
    "criterion = nn.CrossEntropyLoss()"
   ]
  },
  {
   "cell_type": "markdown",
   "id": "ae9f6f16",
   "metadata": {
    "papermill": {
     "duration": 0.048985,
     "end_time": "2022-09-14T13:50:22.316736",
     "exception": false,
     "start_time": "2022-09-14T13:50:22.267751",
     "status": "completed"
    },
    "tags": []
   },
   "source": [
    "### Optimizer\n",
    "- 손실 함수를 기반으로 모델이 어떻게 업데이트되어야 하는지를 결정(특정 종류의 확률적 경사 하강법 구현)\n",
    "- optimizer는 ster()을 통해 전달받은 파라미터로 모델 업데이트\n",
    "- 모든 optimizer의 기본으로 torch.optim.Optimizer(params, defaults) 클래스 사용\n",
    "- zero_grad()를 이용해 optimizer에 사용된 파라미터들의 기울기를 0으로 설정\n",
    "- torch.optim.lr_scheduler를 이용하여 epochs에 따라 학습률(lr; Learning Rate) 조절\n",
    "- **PyTorch의 주요 Optimizer**\n",
    "- - optim.Adadelta\n",
    "- - optim.Adagrad\n",
    "- - optim.Adam\n",
    "- - optim.RMSprop\n",
    "- - optim.SGD\n",
    "\n",
    "\n",
    "### lr_scheduler(Learning Rate Scheduler)\n",
    "- 학습 시 특정 조건에 따라 학습률을 조정하여 최적화 진행\n",
    "- 일정 횟수 이상이 되면 학습률을 감소(Decay)시키거나 전역 최소점(Global Minimum) 근처에 도달하면 학습률을 줄이는 등의 방법\n",
    "- **PyTorch의 lr_scheduler**\n",
    "- - optim.lr_scheduler.LambdaLR : 람다(Lambda) 함수를 이용해 그 결과를 학습률로 설정\n",
    "- - optim.lr_scheduler.StepLR : 단계(Step)마다 학습률을 감마(gamma) 비율만큼 감소\n",
    "- - optim.lr_scheduler.MultiStepLR : StepLR과 비슷하지만 특정 단계가 아닌 지정된 epoch에서만 감마 비율만큼 감소\n",
    "- - optim.lr_scheduler.ExponentialLR : epoch마다 이전 학습률에 감마만큼 곱셈\n",
    "- - optim.lr_scheduler.CosineAnnealingLR : 학습률을 cos(코사인) 함수의 형태처럼 변화시켜 학습률이 커지기도, 작아지기도 하는 스케줄러\n",
    "- - optim.lr_scheduler.ReduceLROnPlateau : 학습이 잘 되는지 아닌지에 따라 동적으로 학습률을 변화\n",
    "\n",
    "\n",
    "### Metrics(지표) - torchmetrics\n",
    "- 모델의 학습과 테스트 단계를 모니터링"
   ]
  },
  {
   "cell_type": "code",
   "execution_count": 110,
   "id": "3a219198",
   "metadata": {
    "execution": {
     "iopub.execute_input": "2022-09-14T13:50:22.406875Z",
     "iopub.status.busy": "2022-09-14T13:50:22.406441Z",
     "iopub.status.idle": "2022-09-14T13:50:35.104781Z",
     "shell.execute_reply": "2022-09-14T13:50:35.103453Z"
    },
    "papermill": {
     "duration": 12.74719,
     "end_time": "2022-09-14T13:50:35.107972",
     "exception": false,
     "start_time": "2022-09-14T13:50:22.360782",
     "status": "completed"
    },
    "tags": []
   },
   "outputs": [
    {
     "name": "stdout",
     "output_type": "stream",
     "text": [
      "Requirement already satisfied: torchmetrics in /opt/conda/lib/python3.7/site-packages (0.9.3)\r\n",
      "Requirement already satisfied: packaging in /opt/conda/lib/python3.7/site-packages (from torchmetrics) (21.3)\r\n",
      "Requirement already satisfied: numpy>=1.17.2 in /opt/conda/lib/python3.7/site-packages (from torchmetrics) (1.21.6)\r\n",
      "Requirement already satisfied: typing-extensions in /opt/conda/lib/python3.7/site-packages (from torchmetrics) (4.3.0)\r\n",
      "Requirement already satisfied: torch>=1.3.1 in /opt/conda/lib/python3.7/site-packages (from torchmetrics) (1.11.0+cpu)\r\n",
      "Requirement already satisfied: pyparsing!=3.0.5,>=2.0.2 in /opt/conda/lib/python3.7/site-packages (from packaging->torchmetrics) (3.0.9)\r\n",
      "\u001b[33mWARNING: Running pip as the 'root' user can result in broken permissions and conflicting behaviour with the system package manager. It is recommended to use a virtual environment instead: https://pip.pypa.io/warnings/venv\u001b[0m\u001b[33m\r\n",
      "\u001b[0m"
     ]
    }
   ],
   "source": [
    "!pip install torchmetrics"
   ]
  },
  {
   "cell_type": "code",
   "execution_count": 111,
   "id": "14eee79d",
   "metadata": {
    "execution": {
     "iopub.execute_input": "2022-09-14T13:50:35.203205Z",
     "iopub.status.busy": "2022-09-14T13:50:35.202744Z",
     "iopub.status.idle": "2022-09-14T13:50:36.105046Z",
     "shell.execute_reply": "2022-09-14T13:50:36.103530Z"
    },
    "papermill": {
     "duration": 0.954175,
     "end_time": "2022-09-14T13:50:36.108333",
     "exception": false,
     "start_time": "2022-09-14T13:50:35.154158",
     "status": "completed"
    },
    "tags": []
   },
   "outputs": [
    {
     "name": "stdout",
     "output_type": "stream",
     "text": [
      "예측값 : tensor([[0.2329, 0.1260, 0.4269, 0.1781, 0.0361],\n",
      "        [0.1400, 0.0827, 0.2977, 0.3651, 0.1146],\n",
      "        [0.3332, 0.3135, 0.0930, 0.0221, 0.2382],\n",
      "        [0.0480, 0.1215, 0.3997, 0.2831, 0.1477],\n",
      "        [0.6314, 0.0166, 0.0363, 0.2275, 0.0882],\n",
      "        [0.0160, 0.1818, 0.4069, 0.1780, 0.2172],\n",
      "        [0.1116, 0.3396, 0.2579, 0.1495, 0.1414],\n",
      "        [0.1881, 0.0666, 0.0212, 0.5511, 0.1730],\n",
      "        [0.0617, 0.2547, 0.0120, 0.0219, 0.6497],\n",
      "        [0.1310, 0.2411, 0.2639, 0.1487, 0.2153]])\n",
      "출력값 : tensor([0, 2, 4, 4, 4, 4, 0, 3, 3, 2])\n",
      "Accuracy : tensor(0.2000)\n"
     ]
    }
   ],
   "source": [
    "import torchmetrics\n",
    "\n",
    "preds = torch.randn(10, 5).softmax(dim=-1)\n",
    "# 행 각각(10개)에 softmax를 취하여 행 중 가장 큰 값을 실제값과 비교\n",
    "target = torch.randint(5, (10, ))\n",
    "print('예측값 :',preds)\n",
    "print('출력값 :',target)\n",
    "\n",
    "acc = torchmetrics.functional.accuracy(preds, target)\n",
    "print('Accuracy :', acc)"
   ]
  },
  {
   "cell_type": "code",
   "execution_count": 112,
   "id": "832c5e0a",
   "metadata": {
    "execution": {
     "iopub.execute_input": "2022-09-14T13:50:36.204631Z",
     "iopub.status.busy": "2022-09-14T13:50:36.204179Z",
     "iopub.status.idle": "2022-09-14T13:50:36.228975Z",
     "shell.execute_reply": "2022-09-14T13:50:36.227039Z"
    },
    "papermill": {
     "duration": 0.076081,
     "end_time": "2022-09-14T13:50:36.232053",
     "exception": false,
     "start_time": "2022-09-14T13:50:36.155972",
     "status": "completed"
    },
    "tags": []
   },
   "outputs": [
    {
     "name": "stdout",
     "output_type": "stream",
     "text": [
      "Accuracy : tensor(0.3000)\n",
      "Accuracy : tensor(0.1000)\n",
      "Accuracy : tensor(0.5000)\n",
      "Accuracy : tensor(0.4000)\n",
      "Accuracy : tensor(0.1000)\n",
      "Accuracy : tensor(0.2000)\n",
      "Accuracy : tensor(0.2000)\n",
      "Accuracy : tensor(0.2000)\n",
      "Accuracy : tensor(0.2000)\n",
      "Accuracy : tensor(0.3000)\n",
      "Final Accuracy : tensor(0.2500)\n"
     ]
    }
   ],
   "source": [
    "metric = torchmetrics.Accuracy()\n",
    "\n",
    "n_batches = 10\n",
    "for i in range(n_batches):\n",
    "    preds = torch.randn(10, 5).softmax(dim=-1)\n",
    "    target = torch.randint(5, (10, ))\n",
    "    \n",
    "    acc = metric(preds, target)\n",
    "    print('Accuracy :', acc)\n",
    "    \n",
    "acc = metric.compute()\n",
    "print('Final Accuracy :', acc)"
   ]
  },
  {
   "cell_type": "markdown",
   "id": "4497d6a4",
   "metadata": {
    "papermill": {
     "duration": 0.045904,
     "end_time": "2022-09-14T13:50:36.325887",
     "exception": false,
     "start_time": "2022-09-14T13:50:36.279983",
     "status": "completed"
    },
    "tags": []
   },
   "source": [
    "## Linear Regression Model(선형 회귀 모델)\n",
    "\n",
    "### 데이터 생성"
   ]
  },
  {
   "cell_type": "code",
   "execution_count": 113,
   "id": "9df6ff63",
   "metadata": {
    "execution": {
     "iopub.execute_input": "2022-09-14T13:50:36.420762Z",
     "iopub.status.busy": "2022-09-14T13:50:36.420343Z",
     "iopub.status.idle": "2022-09-14T13:50:36.669921Z",
     "shell.execute_reply": "2022-09-14T13:50:36.668663Z"
    },
    "papermill": {
     "duration": 0.300269,
     "end_time": "2022-09-14T13:50:36.672633",
     "exception": false,
     "start_time": "2022-09-14T13:50:36.372364",
     "status": "completed"
    },
    "tags": []
   },
   "outputs": [
    {
     "data": {
      "image/png": "[encoded data removed]",
      "text/plain": [
       "<Figure size 432x288 with 1 Axes>"
      ]
     },
     "metadata": {
      "needs_background": "light"
     },
     "output_type": "display_data"
    }
   ],
   "source": [
    "x = torch.randn(200, 1) * 10\n",
    "y = x + 3 * torch.randn(200, 1)\n",
    "\n",
    "plt.scatter(x.numpy(), y.numpy()) # scatter plot\n",
    "plt.ylabel('y')\n",
    "plt.xlabel('x')\n",
    "plt.grid()\n",
    "plt.show();\n",
    "\n",
    "# 선형 데이터 생성"
   ]
  },
  {
   "cell_type": "markdown",
   "id": "4e5bc475",
   "metadata": {
    "papermill": {
     "duration": 0.045552,
     "end_time": "2022-09-14T13:50:36.764391",
     "exception": false,
     "start_time": "2022-09-14T13:50:36.718839",
     "status": "completed"
    },
    "tags": []
   },
   "source": [
    "### 모델 정의 및 파라미터"
   ]
  },
  {
   "cell_type": "code",
   "execution_count": 114,
   "id": "b43d2766",
   "metadata": {
    "execution": {
     "iopub.execute_input": "2022-09-14T13:50:36.856750Z",
     "iopub.status.busy": "2022-09-14T13:50:36.856292Z",
     "iopub.status.idle": "2022-09-14T13:50:36.862613Z",
     "shell.execute_reply": "2022-09-14T13:50:36.861758Z"
    },
    "papermill": {
     "duration": 0.055314,
     "end_time": "2022-09-14T13:50:36.864617",
     "exception": false,
     "start_time": "2022-09-14T13:50:36.809303",
     "status": "completed"
    },
    "tags": []
   },
   "outputs": [],
   "source": [
    "class LinearRegressionModel(nn.Module):\n",
    "    def __init__(self):\n",
    "        super(LinearRegressionModel, self).__init__()\n",
    "        self.linear = nn.Linear(1, 1)\n",
    "        \n",
    "    def forward(self, x):\n",
    "        pred = self.linear(x)\n",
    "        return pred"
   ]
  },
  {
   "cell_type": "code",
   "execution_count": 115,
   "id": "d934d89f",
   "metadata": {
    "execution": {
     "iopub.execute_input": "2022-09-14T13:50:36.957338Z",
     "iopub.status.busy": "2022-09-14T13:50:36.956606Z",
     "iopub.status.idle": "2022-09-14T13:50:36.963323Z",
     "shell.execute_reply": "2022-09-14T13:50:36.962478Z"
    },
    "papermill": {
     "duration": 0.05637,
     "end_time": "2022-09-14T13:50:36.966013",
     "exception": false,
     "start_time": "2022-09-14T13:50:36.909643",
     "status": "completed"
    },
    "tags": []
   },
   "outputs": [
    {
     "name": "stdout",
     "output_type": "stream",
     "text": [
      "LinearRegressionModel(\n",
      "  (linear): Linear(in_features=1, out_features=1, bias=True)\n",
      ")\n",
      "[Parameter containing:\n",
      "tensor([[0.9390]], requires_grad=True), Parameter containing:\n",
      "tensor([-0.6152], requires_grad=True)]\n"
     ]
    }
   ],
   "source": [
    "model = LinearRegressionModel()\n",
    "print(model)\n",
    "print(list(model.parameters()))"
   ]
  },
  {
   "cell_type": "code",
   "execution_count": 116,
   "id": "f80322b4",
   "metadata": {
    "execution": {
     "iopub.execute_input": "2022-09-14T13:50:37.060372Z",
     "iopub.status.busy": "2022-09-14T13:50:37.059282Z",
     "iopub.status.idle": "2022-09-14T13:50:37.224609Z",
     "shell.execute_reply": "2022-09-14T13:50:37.223350Z"
    },
    "papermill": {
     "duration": 0.216289,
     "end_time": "2022-09-14T13:50:37.228368",
     "exception": false,
     "start_time": "2022-09-14T13:50:37.012079",
     "status": "completed"
    },
    "tags": []
   },
   "outputs": [
    {
     "data": {
      "image/png": "[encoded data removed]",
      "text/plain": [
       "<Figure size 432x288 with 1 Axes>"
      ]
     },
     "metadata": {
      "needs_background": "light"
     },
     "output_type": "display_data"
    },
    {
     "name": "stdout",
     "output_type": "stream",
     "text": [
      "0.939016580581665 -0.6151964664459229\n"
     ]
    }
   ],
   "source": [
    "# 현재 파라미터 값 출력\n",
    "w, b = model.parameters() # weight, bias\n",
    "\n",
    "w1, b1 = w[0][0].item(), b[0].item()\n",
    "x1 = np.array([-30, 30])\n",
    "y1 = w1 * x1 + b1 # Linear Regression\n",
    "\n",
    "plt.plot(x1, y1, 'r')\n",
    "plt.scatter(x, y)\n",
    "plt.grid()\n",
    "plt.show();\n",
    "\n",
    "print(w1, b1)"
   ]
  },
  {
   "cell_type": "markdown",
   "id": "5b4cc8a8",
   "metadata": {
    "papermill": {
     "duration": 0.046923,
     "end_time": "2022-09-14T13:50:37.320829",
     "exception": false,
     "start_time": "2022-09-14T13:50:37.273906",
     "status": "completed"
    },
    "tags": []
   },
   "source": [
    "### Loss Function & Optimizer"
   ]
  },
  {
   "cell_type": "code",
   "execution_count": 117,
   "id": "2501684a",
   "metadata": {
    "execution": {
     "iopub.execute_input": "2022-09-14T13:50:37.415668Z",
     "iopub.status.busy": "2022-09-14T13:50:37.415262Z",
     "iopub.status.idle": "2022-09-14T13:50:37.421908Z",
     "shell.execute_reply": "2022-09-14T13:50:37.420481Z"
    },
    "papermill": {
     "duration": 0.057718,
     "end_time": "2022-09-14T13:50:37.424446",
     "exception": false,
     "start_time": "2022-09-14T13:50:37.366728",
     "status": "completed"
    },
    "tags": []
   },
   "outputs": [],
   "source": [
    "import torch.optim as optim\n",
    "\n",
    "criterion = nn.MSELoss()\n",
    "optimizer = optim.SGD(model.parameters(), lr=0.001)"
   ]
  },
  {
   "cell_type": "markdown",
   "id": "7b2f601d",
   "metadata": {
    "papermill": {
     "duration": 0.046364,
     "end_time": "2022-09-14T13:50:37.518080",
     "exception": false,
     "start_time": "2022-09-14T13:50:37.471716",
     "status": "completed"
    },
    "tags": []
   },
   "source": [
    "### 모델 학습"
   ]
  },
  {
   "cell_type": "code",
   "execution_count": 118,
   "id": "1ae62393",
   "metadata": {
    "execution": {
     "iopub.execute_input": "2022-09-14T13:50:37.613456Z",
     "iopub.status.busy": "2022-09-14T13:50:37.612946Z",
     "iopub.status.idle": "2022-09-14T13:50:37.647253Z",
     "shell.execute_reply": "2022-09-14T13:50:37.646132Z"
    },
    "papermill": {
     "duration": 0.085286,
     "end_time": "2022-09-14T13:50:37.649990",
     "exception": false,
     "start_time": "2022-09-14T13:50:37.564704",
     "status": "completed"
    },
    "tags": []
   },
   "outputs": [],
   "source": [
    "epochs = 100\n",
    "losses = []\n",
    "\n",
    "for epoch in range(epochs):\n",
    "    optimizer.zero_grad() # Gradient 값 초기화(0)\n",
    "    \n",
    "    y_pred = model(x) # 실제 x가 모델을 통과하여 모델이 예측하는 값\n",
    "    loss = criterion(y_pred, y) # 예측값과 실제값의 차이 계산\n",
    "    losses.append(loss.item())\n",
    "    loss.backward() # 한 번 예측 후 모델 각각에 역전파(자동 미분)를 전달하여 업데이트\n",
    "    \n",
    "    optimizer.step() # 다음 단계 진행"
   ]
  },
  {
   "cell_type": "code",
   "execution_count": 119,
   "id": "88797266",
   "metadata": {
    "execution": {
     "iopub.execute_input": "2022-09-14T13:50:37.745978Z",
     "iopub.status.busy": "2022-09-14T13:50:37.744617Z",
     "iopub.status.idle": "2022-09-14T13:50:37.936840Z",
     "shell.execute_reply": "2022-09-14T13:50:37.935590Z"
    },
    "papermill": {
     "duration": 0.24229,
     "end_time": "2022-09-14T13:50:37.939458",
     "exception": false,
     "start_time": "2022-09-14T13:50:37.697168",
     "status": "completed"
    },
    "tags": []
   },
   "outputs": [
    {
     "data": {
      "image/png": "[encoded data removed]",
      "text/plain": [
       "<Figure size 432x288 with 1 Axes>"
      ]
     },
     "metadata": {
      "needs_background": "light"
     },
     "output_type": "display_data"
    }
   ],
   "source": [
    "plt.plot(range(epochs), losses)\n",
    "plt.ylabel('Loss')\n",
    "plt.xlabel('Epoch')\n",
    "plt.show();"
   ]
  },
  {
   "cell_type": "code",
   "execution_count": 120,
   "id": "c4f904a5",
   "metadata": {
    "execution": {
     "iopub.execute_input": "2022-09-14T13:50:38.035391Z",
     "iopub.status.busy": "2022-09-14T13:50:38.034566Z",
     "iopub.status.idle": "2022-09-14T13:50:38.251065Z",
     "shell.execute_reply": "2022-09-14T13:50:38.249744Z"
    },
    "papermill": {
     "duration": 0.268025,
     "end_time": "2022-09-14T13:50:38.254435",
     "exception": false,
     "start_time": "2022-09-14T13:50:37.986410",
     "status": "completed"
    },
    "tags": []
   },
   "outputs": [
    {
     "data": {
      "image/png": "[encoded data removed]",
      "text/plain": [
       "<Figure size 432x288 with 1 Axes>"
      ]
     },
     "metadata": {
      "needs_background": "light"
     },
     "output_type": "display_data"
    },
    {
     "name": "stdout",
     "output_type": "stream",
     "text": [
      "1.05088472366333 -0.5571633577346802\n"
     ]
    }
   ],
   "source": [
    "# 학습 후 결과\n",
    "\n",
    "w1, b1 = w[0][0].item(), b[0].item()\n",
    "x1 = np.array([-30, 30])\n",
    "y1 = w1 * x1 + b1 # Linear Regression\n",
    "\n",
    "plt.plot(x1, y1, 'r')\n",
    "plt.scatter(x, y)\n",
    "plt.grid()\n",
    "plt.show();\n",
    "\n",
    "print(w1, b1)"
   ]
  }
 ],
 "metadata": {
  "kernelspec": {
   "display_name": "Python 3",
   "language": "python",
   "name": "python3"
  },
  "language_info": {
   "codemirror_mode": {
    "name": "ipython",
    "version": 3
   },
   "file_extension": ".py",
   "mimetype": "text/x-python",
   "name": "python",
   "nbconvert_exporter": "python",
   "pygments_lexer": "ipython3",
   "version": "3.7.12"
  },
  "papermill": {
   "default_parameters": {},
   "duration": 48.078249,
   "end_time": "2022-09-14T13:50:40.926238",
   "environment_variables": {},
   "exception": null,
   "input_path": "__notebook__.ipynb",
   "output_path": "__notebook__.ipynb",
   "parameters": {},
   "start_time": "2022-09-14T13:49:52.847989",
   "version": "2.3.4"
  },
  "widgets": {
   "application/vnd.jupyter.widget-state+json": {
    "state": {
     "01355e9ebb6943ecbab8c2477a867353": {
      "model_module": "@jupyter-widgets/controls",
      "model_module_version": "1.5.0",
      "model_name": "DescriptionStyleModel",
      "state": {
       "_model_module": "@jupyter-widgets/controls",
       "_model_module_version": "1.5.0",
       "_model_name": "DescriptionStyleModel",
       "_view_count": null,
       "_view_module": "@jupyter-widgets/base",
       "_view_module_version": "1.2.0",
       "_view_name": "StyleView",
       "description_width": ""
      }
     },
     "018e86b547304c23b83476a606b7ec97": {
      "model_module": "@jupyter-widgets/base",
      "model_module_version": "1.2.0",
      "model_name": "LayoutModel",
      "state": {
       "_model_module": "@jupyter-widgets/base",
       "_model_module_version": "1.2.0",
       "_model_name": "LayoutModel",
       "_view_count": null,
       "_view_module": "@jupyter-widgets/base",
       "_view_module_version": "1.2.0",
       "_view_name": "LayoutView",
       "align_content": null,
       "align_items": null,
       "align_self": null,
       "border": null,
       "bottom": null,
       "display": null,
       "flex": null,
       "flex_flow": null,
       "grid_area": null,
       "grid_auto_columns": null,
       "grid_auto_flow": null,
       "grid_auto_rows": null,
       "grid_column": null,
       "grid_gap": null,
       "grid_row": null,
       "grid_template_areas": null,
       "grid_template_columns": null,
       "grid_template_rows": null,
       "height": null,
       "justify_content": null,
       "justify_items": null,
       "left": null,
       "margin": null,
       "max_height": null,
       "max_width": null,
       "min_height": null,
       "min_width": null,
       "object_fit": null,
       "object_position": null,
       "order": null,
       "overflow": null,
       "overflow_x": null,
       "overflow_y": null,
       "padding": null,
       "right": null,
       "top": null,
       "visibility": null,
       "width": null
      }
     },
     "064f8e842b77480db38e6ddae0c3bb75": {
      "model_module": "@jupyter-widgets/controls",
      "model_module_version": "1.5.0",
      "model_name": "HBoxModel",
      "state": {
       "_dom_classes": [],
       "_model_module": "@jupyter-widgets/controls",
       "_model_module_version": "1.5.0",
       "_model_name": "HBoxModel",
       "_view_count": null,
       "_view_module": "@jupyter-widgets/controls",
       "_view_module_version": "1.5.0",
       "_view_name": "HBoxView",
       "box_style": "",
       "children": [
        "IPY_MODEL_bb1dd6f99e2240b58a434c00cc7175c6",
        "IPY_MODEL_655617ef13824fb69bc64f02c511b348",
        "IPY_MODEL_4a754f6cf5ae41cea791f671de0a4e50"
       ],
       "layout": "IPY_MODEL_edf65e0d5e9843ad8f6139137ca5a8ef"
      }
     },
     "117aff9e7a7049118d6c95cd1532e045": {
      "model_module": "@jupyter-widgets/base",
      "model_module_version": "1.2.0",
      "model_name": "LayoutModel",
      "state": {
       "_model_module": "@jupyter-widgets/base",
       "_model_module_version": "1.2.0",
       "_model_name": "LayoutModel",
       "_view_count": null,
       "_view_module": "@jupyter-widgets/base",
       "_view_module_version": "1.2.0",
       "_view_name": "LayoutView",
       "align_content": null,
       "align_items": null,
       "align_self": null,
       "border": null,
       "bottom": null,
       "display": null,
       "flex": null,
       "flex_flow": null,
       "grid_area": null,
       "grid_auto_columns": null,
       "grid_auto_flow": null,
       "grid_auto_rows": null,
       "grid_column": null,
       "grid_gap": null,
       "grid_row": null,
       "grid_template_areas": null,
       "grid_template_columns": null,
       "grid_template_rows": null,
       "height": null,
       "justify_content": null,
       "justify_items": null,
       "left": null,
       "margin": null,
       "max_height": null,
       "max_width": null,
       "min_height": null,
       "min_width": null,
       "object_fit": null,
       "object_position": null,
       "order": null,
       "overflow": null,
       "overflow_x": null,
       "overflow_y": null,
       "padding": null,
       "right": null,
       "top": null,
       "visibility": null,
       "width": null
      }
     },
     "15c43d76bdaf46cc8d904e61585083c0": {
      "model_module": "@jupyter-widgets/controls",
      "model_module_version": "1.5.0",
      "model_name": "FloatProgressModel",
      "state": {
       "_dom_classes": [],
       "_model_module": "@jupyter-widgets/controls",
       "_model_module_version": "1.5.0",
       "_model_name": "FloatProgressModel",
       "_view_count": null,
       "_view_module": "@jupyter-widgets/controls",
       "_view_module_version": "1.5.0",
       "_view_name": "ProgressView",
       "bar_style": "success",
       "description": "",
       "description_tooltip": null,
       "layout": "IPY_MODEL_907e5c575a154852babd8cbf2806a193",
       "max": 4542.0,
       "min": 0.0,
       "orientation": "horizontal",
       "style": "IPY_MODEL_1954e141012440e6a0bd3c31f7a7f71f",
       "value": 4542.0
      }
     },
     "1954e141012440e6a0bd3c31f7a7f71f": {
      "model_module": "@jupyter-widgets/controls",
      "model_module_version": "1.5.0",
      "model_name": "ProgressStyleModel",
      "state": {
       "_model_module": "@jupyter-widgets/controls",
       "_model_module_version": "1.5.0",
       "_model_name": "ProgressStyleModel",
       "_view_count": null,
       "_view_module": "@jupyter-widgets/base",
       "_view_module_version": "1.2.0",
       "_view_name": "StyleView",
       "bar_color": null,
       "description_width": ""
      }
     },
     "1aa992211ac0428bbc05cc71edc0fbe2": {
      "model_module": "@jupyter-widgets/controls",
      "model_module_version": "1.5.0",
      "model_name": "DescriptionStyleModel",
      "state": {
       "_model_module": "@jupyter-widgets/controls",
       "_model_module_version": "1.5.0",
       "_model_name": "DescriptionStyleModel",
       "_view_count": null,
       "_view_module": "@jupyter-widgets/base",
       "_view_module_version": "1.2.0",
       "_view_name": "StyleView",
       "description_width": ""
      }
     },
     "22169f7e97dd4c20976e34ea32c4d853": {
      "model_module": "@jupyter-widgets/base",
      "model_module_version": "1.2.0",
      "model_name": "LayoutModel",
      "state": {
       "_model_module": "@jupyter-widgets/base",
       "_model_module_version": "1.2.0",
       "_model_name": "LayoutModel",
       "_view_count": null,
       "_view_module": "@jupyter-widgets/base",
       "_view_module_version": "1.2.0",
       "_view_name": "LayoutView",
       "align_content": null,
       "align_items": null,
       "align_self": null,
       "border": null,
       "bottom": null,
       "display": null,
       "flex": null,
       "flex_flow": null,
       "grid_area": null,
       "grid_auto_columns": null,
       "grid_auto_flow": null,
       "grid_auto_rows": null,
       "grid_column": null,
       "grid_gap": null,
       "grid_row": null,
       "grid_template_areas": null,
       "grid_template_columns": null,
       "grid_template_rows": null,
       "height": null,
       "justify_content": null,
       "justify_items": null,
       "left": null,
       "margin": null,
       "max_height": null,
       "max_width": null,
       "min_height": null,
       "min_width": null,
       "object_fit": null,
       "object_position": null,
       "order": null,
       "overflow": null,
       "overflow_x": null,
       "overflow_y": null,
       "padding": null,
       "right": null,
       "top": null,
       "visibility": null,
       "width": null
      }
     },
     "27125d42c4cd4bb29cbe94ef6d9841e7": {
      "model_module": "@jupyter-widgets/base",
      "model_module_version": "1.2.0",
      "model_name": "LayoutModel",
      "state": {
       "_model_module": "@jupyter-widgets/base",
       "_model_module_version": "1.2.0",
       "_model_name": "LayoutModel",
       "_view_count": null,
       "_view_module": "@jupyter-widgets/base",
       "_view_module_version": "1.2.0",
       "_view_name": "LayoutView",
       "align_content": null,
       "align_items": null,
       "align_self": null,
       "border": null,
       "bottom": null,
       "display": null,
       "flex": null,
       "flex_flow": null,
       "grid_area": null,
       "grid_auto_columns": null,
       "grid_auto_flow": null,
       "grid_auto_rows": null,
       "grid_column": null,
       "grid_gap": null,
       "grid_row": null,
       "grid_template_areas": null,
       "grid_template_columns": null,
       "grid_template_rows": null,
       "height": null,
       "justify_content": null,
       "justify_items": null,
       "left": null,
       "margin": null,
       "max_height": null,
       "max_width": null,
       "min_height": null,
       "min_width": null,
       "object_fit": null,
       "object_position": null,
       "order": null,
       "overflow": null,
       "overflow_x": null,
       "overflow_y": null,
       "padding": null,
       "right": null,
       "top": null,
       "visibility": null,
       "width": null
      }
     },
     "3454b8d862c744bd8259dd34b32a420b": {
      "model_module": "@jupyter-widgets/controls",
      "model_module_version": "1.5.0",
      "model_name": "HBoxModel",
      "state": {
       "_dom_classes": [],
       "_model_module": "@jupyter-widgets/controls",
       "_model_module_version": "1.5.0",
       "_model_name": "HBoxModel",
       "_view_count": null,
       "_view_module": "@jupyter-widgets/controls",
       "_view_module_version": "1.5.0",
       "_view_name": "HBoxView",
       "box_style": "",
       "children": [
        "IPY_MODEL_e8e7947486b34f05afd7a6136a07984a",
        "IPY_MODEL_6c8f504a335b42f8a385d8933b1cd734",
        "IPY_MODEL_d91f61fcdb704c369ffb001cb2a920fe"
       ],
       "layout": "IPY_MODEL_caaebd280bf8414b9828eb10ea84220f"
      }
     },
     "3e7feeccf64043e487a086b53d3c56a2": {
      "model_module": "@jupyter-widgets/controls",
      "model_module_version": "1.5.0",
      "model_name": "DescriptionStyleModel",
      "state": {
       "_model_module": "@jupyter-widgets/controls",
       "_model_module_version": "1.5.0",
       "_model_name": "DescriptionStyleModel",
       "_view_count": null,
       "_view_module": "@jupyter-widgets/base",
       "_view_module_version": "1.2.0",
       "_view_name": "StyleView",
       "description_width": ""
      }
     },
     "42de7e3c48324358837282b40c8b7897": {
      "model_module": "@jupyter-widgets/base",
      "model_module_version": "1.2.0",
      "model_name": "LayoutModel",
      "state": {
       "_model_module": "@jupyter-widgets/base",
       "_model_module_version": "1.2.0",
       "_model_name": "LayoutModel",
       "_view_count": null,
       "_view_module": "@jupyter-widgets/base",
       "_view_module_version": "1.2.0",
       "_view_name": "LayoutView",
       "align_content": null,
       "align_items": null,
       "align_self": null,
       "border": null,
       "bottom": null,
       "display": null,
       "flex": null,
       "flex_flow": null,
       "grid_area": null,
       "grid_auto_columns": null,
       "grid_auto_flow": null,
       "grid_auto_rows": null,
       "grid_column": null,
       "grid_gap": null,
       "grid_row": null,
       "grid_template_areas": null,
       "grid_template_columns": null,
       "grid_template_rows": null,
       "height": null,
       "justify_content": null,
       "justify_items": null,
       "left": null,
       "margin": null,
       "max_height": null,
       "max_width": null,
       "min_height": null,
       "min_width": null,
       "object_fit": null,
       "object_position": null,
       "order": null,
       "overflow": null,
       "overflow_x": null,
       "overflow_y": null,
       "padding": null,
       "right": null,
       "top": null,
       "visibility": null,
       "width": null
      }
     },
     "47d3b161e9c5406faf472ef325437d6b": {
      "model_module": "@jupyter-widgets/base",
      "model_module_version": "1.2.0",
      "model_name": "LayoutModel",
      "state": {
       "_model_module": "@jupyter-widgets/base",
       "_model_module_version": "1.2.0",
       "_model_name": "LayoutModel",
       "_view_count": null,
       "_view_module": "@jupyter-widgets/base",
       "_view_module_version": "1.2.0",
       "_view_name": "LayoutView",
       "align_content": null,
       "align_items": null,
       "align_self": null,
       "border": null,
       "bottom": null,
       "display": null,
       "flex": null,
       "flex_flow": null,
       "grid_area": null,
       "grid_auto_columns": null,
       "grid_auto_flow": null,
       "grid_auto_rows": null,
       "grid_column": null,
       "grid_gap": null,
       "grid_row": null,
       "grid_template_areas": null,
       "grid_template_columns": null,
       "grid_template_rows": null,
       "height": null,
       "justify_content": null,
       "justify_items": null,
       "left": null,
       "margin": null,
       "max_height": null,
       "max_width": null,
       "min_height": null,
       "min_width": null,
       "object_fit": null,
       "object_position": null,
       "order": null,
       "overflow": null,
       "overflow_x": null,
       "overflow_y": null,
       "padding": null,
       "right": null,
       "top": null,
       "visibility": null,
       "width": null
      }
     },
     "4a754f6cf5ae41cea791f671de0a4e50": {
      "model_module": "@jupyter-widgets/controls",
      "model_module_version": "1.5.0",
      "model_name": "HTMLModel",
      "state": {
       "_dom_classes": [],
       "_model_module": "@jupyter-widgets/controls",
       "_model_module_version": "1.5.0",
       "_model_name": "HTMLModel",
       "_view_count": null,
       "_view_module": "@jupyter-widgets/controls",
       "_view_module_version": "1.5.0",
       "_view_name": "HTMLView",
       "description": "",
       "description_tooltip": null,
       "layout": "IPY_MODEL_98b6fc3755f64a4ab5e57400a86bbd38",
       "placeholder": "​",
       "style": "IPY_MODEL_3e7feeccf64043e487a086b53d3c56a2",
       "value": " 9913344/? [00:00&lt;00:00, 38687398.44it/s]"
      }
     },
     "4cbdce9357914f64a0151d016fa25a56": {
      "model_module": "@jupyter-widgets/controls",
      "model_module_version": "1.5.0",
      "model_name": "HTMLModel",
      "state": {
       "_dom_classes": [],
       "_model_module": "@jupyter-widgets/controls",
       "_model_module_version": "1.5.0",
       "_model_name": "HTMLModel",
       "_view_count": null,
       "_view_module": "@jupyter-widgets/controls",
       "_view_module_version": "1.5.0",
       "_view_name": "HTMLView",
       "description": "",
       "description_tooltip": null,
       "layout": "IPY_MODEL_47d3b161e9c5406faf472ef325437d6b",
       "placeholder": "​",
       "style": "IPY_MODEL_01355e9ebb6943ecbab8c2477a867353",
       "value": " 5120/? [00:00&lt;00:00, 179122.66it/s]"
      }
     },
     "51bff5f075ab48599316bff15e4744f4": {
      "model_module": "@jupyter-widgets/controls",
      "model_module_version": "1.5.0",
      "model_name": "HTMLModel",
      "state": {
       "_dom_classes": [],
       "_model_module": "@jupyter-widgets/controls",
       "_model_module_version": "1.5.0",
       "_model_name": "HTMLModel",
       "_view_count": null,
       "_view_module": "@jupyter-widgets/controls",
       "_view_module_version": "1.5.0",
       "_view_name": "HTMLView",
       "description": "",
       "description_tooltip": null,
       "layout": "IPY_MODEL_42de7e3c48324358837282b40c8b7897",
       "placeholder": "​",
       "style": "IPY_MODEL_73b4364a80024566b786277515df02d9",
       "value": ""
      }
     },
     "655617ef13824fb69bc64f02c511b348": {
      "model_module": "@jupyter-widgets/controls",
      "model_module_version": "1.5.0",
      "model_name": "FloatProgressModel",
      "state": {
       "_dom_classes": [],
       "_model_module": "@jupyter-widgets/controls",
       "_model_module_version": "1.5.0",
       "_model_name": "FloatProgressModel",
       "_view_count": null,
       "_view_module": "@jupyter-widgets/controls",
       "_view_module_version": "1.5.0",
       "_view_name": "ProgressView",
       "bar_style": "success",
       "description": "",
       "description_tooltip": null,
       "layout": "IPY_MODEL_aedd7c2a000d4915874d6ebf5a7653f3",
       "max": 9912422.0,
       "min": 0.0,
       "orientation": "horizontal",
       "style": "IPY_MODEL_cc957d6650ac49caa8a502a44f9bdd86",
       "value": 9912422.0
      }
     },
     "6c8f504a335b42f8a385d8933b1cd734": {
      "model_module": "@jupyter-widgets/controls",
      "model_module_version": "1.5.0",
      "model_name": "FloatProgressModel",
      "state": {
       "_dom_classes": [],
       "_model_module": "@jupyter-widgets/controls",
       "_model_module_version": "1.5.0",
       "_model_name": "FloatProgressModel",
       "_view_count": null,
       "_view_module": "@jupyter-widgets/controls",
       "_view_module_version": "1.5.0",
       "_view_name": "ProgressView",
       "bar_style": "success",
       "description": "",
       "description_tooltip": null,
       "layout": "IPY_MODEL_eb27f7d795a2419e94cfe791c9e52334",
       "max": 1648877.0,
       "min": 0.0,
       "orientation": "horizontal",
       "style": "IPY_MODEL_78c789d87a344d019fda5a1bcba54845",
       "value": 1648877.0
      }
     },
     "727e0f45fda6412e8a13d0f283a7fd04": {
      "model_module": "@jupyter-widgets/base",
      "model_module_version": "1.2.0",
      "model_name": "LayoutModel",
      "state": {
       "_model_module": "@jupyter-widgets/base",
       "_model_module_version": "1.2.0",
       "_model_name": "LayoutModel",
       "_view_count": null,
       "_view_module": "@jupyter-widgets/base",
       "_view_module_version": "1.2.0",
       "_view_name": "LayoutView",
       "align_content": null,
       "align_items": null,
       "align_self": null,
       "border": null,
       "bottom": null,
       "display": null,
       "flex": null,
       "flex_flow": null,
       "grid_area": null,
       "grid_auto_columns": null,
       "grid_auto_flow": null,
       "grid_auto_rows": null,
       "grid_column": null,
       "grid_gap": null,
       "grid_row": null,
       "grid_template_areas": null,
       "grid_template_columns": null,
       "grid_template_rows": null,
       "height": null,
       "justify_content": null,
       "justify_items": null,
       "left": null,
       "margin": null,
       "max_height": null,
       "max_width": null,
       "min_height": null,
       "min_width": null,
       "object_fit": null,
       "object_position": null,
       "order": null,
       "overflow": null,
       "overflow_x": null,
       "overflow_y": null,
       "padding": null,
       "right": null,
       "top": null,
       "visibility": null,
       "width": null
      }
     },
     "73b4364a80024566b786277515df02d9": {
      "model_module": "@jupyter-widgets/controls",
      "model_module_version": "1.5.0",
      "model_name": "DescriptionStyleModel",
      "state": {
       "_model_module": "@jupyter-widgets/controls",
       "_model_module_version": "1.5.0",
       "_model_name": "DescriptionStyleModel",
       "_view_count": null,
       "_view_module": "@jupyter-widgets/base",
       "_view_module_version": "1.2.0",
       "_view_name": "StyleView",
       "description_width": ""
      }
     },
     "78c789d87a344d019fda5a1bcba54845": {
      "model_module": "@jupyter-widgets/controls",
      "model_module_version": "1.5.0",
      "model_name": "ProgressStyleModel",
      "state": {
       "_model_module": "@jupyter-widgets/controls",
       "_model_module_version": "1.5.0",
       "_model_name": "ProgressStyleModel",
       "_view_count": null,
       "_view_module": "@jupyter-widgets/base",
       "_view_module_version": "1.2.0",
       "_view_name": "StyleView",
       "bar_color": null,
       "description_width": ""
      }
     },
     "8190e964d55040fc9a9f76853bf4916d": {
      "model_module": "@jupyter-widgets/controls",
      "model_module_version": "1.5.0",
      "model_name": "ProgressStyleModel",
      "state": {
       "_model_module": "@jupyter-widgets/controls",
       "_model_module_version": "1.5.0",
       "_model_name": "ProgressStyleModel",
       "_view_count": null,
       "_view_module": "@jupyter-widgets/base",
       "_view_module_version": "1.2.0",
       "_view_name": "StyleView",
       "bar_color": null,
       "description_width": ""
      }
     },
     "898323e46d54455099cb9bd19dba710b": {
      "model_module": "@jupyter-widgets/controls",
      "model_module_version": "1.5.0",
      "model_name": "HTMLModel",
      "state": {
       "_dom_classes": [],
       "_model_module": "@jupyter-widgets/controls",
       "_model_module_version": "1.5.0",
       "_model_name": "HTMLModel",
       "_view_count": null,
       "_view_module": "@jupyter-widgets/controls",
       "_view_module_version": "1.5.0",
       "_view_name": "HTMLView",
       "description": "",
       "description_tooltip": null,
       "layout": "IPY_MODEL_018e86b547304c23b83476a606b7ec97",
       "placeholder": "​",
       "style": "IPY_MODEL_c138b3ef379c4bb6a9f8daa96bf16a31",
       "value": ""
      }
     },
     "907e5c575a154852babd8cbf2806a193": {
      "model_module": "@jupyter-widgets/base",
      "model_module_version": "1.2.0",
      "model_name": "LayoutModel",
      "state": {
       "_model_module": "@jupyter-widgets/base",
       "_model_module_version": "1.2.0",
       "_model_name": "LayoutModel",
       "_view_count": null,
       "_view_module": "@jupyter-widgets/base",
       "_view_module_version": "1.2.0",
       "_view_name": "LayoutView",
       "align_content": null,
       "align_items": null,
       "align_self": null,
       "border": null,
       "bottom": null,
       "display": null,
       "flex": null,
       "flex_flow": null,
       "grid_area": null,
       "grid_auto_columns": null,
       "grid_auto_flow": null,
       "grid_auto_rows": null,
       "grid_column": null,
       "grid_gap": null,
       "grid_row": null,
       "grid_template_areas": null,
       "grid_template_columns": null,
       "grid_template_rows": null,
       "height": null,
       "justify_content": null,
       "justify_items": null,
       "left": null,
       "margin": null,
       "max_height": null,
       "max_width": null,
       "min_height": null,
       "min_width": null,
       "object_fit": null,
       "object_position": null,
       "order": null,
       "overflow": null,
       "overflow_x": null,
       "overflow_y": null,
       "padding": null,
       "right": null,
       "top": null,
       "visibility": null,
       "width": null
      }
     },
     "98b6fc3755f64a4ab5e57400a86bbd38": {
      "model_module": "@jupyter-widgets/base",
      "model_module_version": "1.2.0",
      "model_name": "LayoutModel",
      "state": {
       "_model_module": "@jupyter-widgets/base",
       "_model_module_version": "1.2.0",
       "_model_name": "LayoutModel",
       "_view_count": null,
       "_view_module": "@jupyter-widgets/base",
       "_view_module_version": "1.2.0",
       "_view_name": "LayoutView",
       "align_content": null,
       "align_items": null,
       "align_self": null,
       "border": null,
       "bottom": null,
       "display": null,
       "flex": null,
       "flex_flow": null,
       "grid_area": null,
       "grid_auto_columns": null,
       "grid_auto_flow": null,
       "grid_auto_rows": null,
       "grid_column": null,
       "grid_gap": null,
       "grid_row": null,
       "grid_template_areas": null,
       "grid_template_columns": null,
       "grid_template_rows": null,
       "height": null,
       "justify_content": null,
       "justify_items": null,
       "left": null,
       "margin": null,
       "max_height": null,
       "max_width": null,
       "min_height": null,
       "min_width": null,
       "object_fit": null,
       "object_position": null,
       "order": null,
       "overflow": null,
       "overflow_x": null,
       "overflow_y": null,
       "padding": null,
       "right": null,
       "top": null,
       "visibility": null,
       "width": null
      }
     },
     "a7af7e368bcd4617b0296bfb5a39740f": {
      "model_module": "@jupyter-widgets/base",
      "model_module_version": "1.2.0",
      "model_name": "LayoutModel",
      "state": {
       "_model_module": "@jupyter-widgets/base",
       "_model_module_version": "1.2.0",
       "_model_name": "LayoutModel",
       "_view_count": null,
       "_view_module": "@jupyter-widgets/base",
       "_view_module_version": "1.2.0",
       "_view_name": "LayoutView",
       "align_content": null,
       "align_items": null,
       "align_self": null,
       "border": null,
       "bottom": null,
       "display": null,
       "flex": null,
       "flex_flow": null,
       "grid_area": null,
       "grid_auto_columns": null,
       "grid_auto_flow": null,
       "grid_auto_rows": null,
       "grid_column": null,
       "grid_gap": null,
       "grid_row": null,
       "grid_template_areas": null,
       "grid_template_columns": null,
       "grid_template_rows": null,
       "height": null,
       "justify_content": null,
       "justify_items": null,
       "left": null,
       "margin": null,
       "max_height": null,
       "max_width": null,
       "min_height": null,
       "min_width": null,
       "object_fit": null,
       "object_position": null,
       "order": null,
       "overflow": null,
       "overflow_x": null,
       "overflow_y": null,
       "padding": null,
       "right": null,
       "top": null,
       "visibility": null,
       "width": null
      }
     },
     "ad6f4d5024d143fba2a85dc7c55e61b2": {
      "model_module": "@jupyter-widgets/base",
      "model_module_version": "1.2.0",
      "model_name": "LayoutModel",
      "state": {
       "_model_module": "@jupyter-widgets/base",
       "_model_module_version": "1.2.0",
       "_model_name": "LayoutModel",
       "_view_count": null,
       "_view_module": "@jupyter-widgets/base",
       "_view_module_version": "1.2.0",
       "_view_name": "LayoutView",
       "align_content": null,
       "align_items": null,
       "align_self": null,
       "border": null,
       "bottom": null,
       "display": null,
       "flex": null,
       "flex_flow": null,
       "grid_area": null,
       "grid_auto_columns": null,
       "grid_auto_flow": null,
       "grid_auto_rows": null,
       "grid_column": null,
       "grid_gap": null,
       "grid_row": null,
       "grid_template_areas": null,
       "grid_template_columns": null,
       "grid_template_rows": null,
       "height": null,
       "justify_content": null,
       "justify_items": null,
       "left": null,
       "margin": null,
       "max_height": null,
       "max_width": null,
       "min_height": null,
       "min_width": null,
       "object_fit": null,
       "object_position": null,
       "order": null,
       "overflow": null,
       "overflow_x": null,
       "overflow_y": null,
       "padding": null,
       "right": null,
       "top": null,
       "visibility": null,
       "width": null
      }
     },
     "aedd7c2a000d4915874d6ebf5a7653f3": {
      "model_module": "@jupyter-widgets/base",
      "model_module_version": "1.2.0",
      "model_name": "LayoutModel",
      "state": {
       "_model_module": "@jupyter-widgets/base",
       "_model_module_version": "1.2.0",
       "_model_name": "LayoutModel",
       "_view_count": null,
       "_view_module": "@jupyter-widgets/base",
       "_view_module_version": "1.2.0",
       "_view_name": "LayoutView",
       "align_content": null,
       "align_items": null,
       "align_self": null,
       "border": null,
       "bottom": null,
       "display": null,
       "flex": null,
       "flex_flow": null,
       "grid_area": null,
       "grid_auto_columns": null,
       "grid_auto_flow": null,
       "grid_auto_rows": null,
       "grid_column": null,
       "grid_gap": null,
       "grid_row": null,
       "grid_template_areas": null,
       "grid_template_columns": null,
       "grid_template_rows": null,
       "height": null,
       "justify_content": null,
       "justify_items": null,
       "left": null,
       "margin": null,
       "max_height": null,
       "max_width": null,
       "min_height": null,
       "min_width": null,
       "object_fit": null,
       "object_position": null,
       "order": null,
       "overflow": null,
       "overflow_x": null,
       "overflow_y": null,
       "padding": null,
       "right": null,
       "top": null,
       "visibility": null,
       "width": null
      }
     },
     "ba501c7446bb4357a3e44be44139a9ae": {
      "model_module": "@jupyter-widgets/controls",
      "model_module_version": "1.5.0",
      "model_name": "HBoxModel",
      "state": {
       "_dom_classes": [],
       "_model_module": "@jupyter-widgets/controls",
       "_model_module_version": "1.5.0",
       "_model_name": "HBoxModel",
       "_view_count": null,
       "_view_module": "@jupyter-widgets/controls",
       "_view_module_version": "1.5.0",
       "_view_name": "HBoxView",
       "box_style": "",
       "children": [
        "IPY_MODEL_51bff5f075ab48599316bff15e4744f4",
        "IPY_MODEL_15c43d76bdaf46cc8d904e61585083c0",
        "IPY_MODEL_4cbdce9357914f64a0151d016fa25a56"
       ],
       "layout": "IPY_MODEL_117aff9e7a7049118d6c95cd1532e045"
      }
     },
     "bad46e6cca3c4a0b952d052866095be4": {
      "model_module": "@jupyter-widgets/controls",
      "model_module_version": "1.5.0",
      "model_name": "DescriptionStyleModel",
      "state": {
       "_model_module": "@jupyter-widgets/controls",
       "_model_module_version": "1.5.0",
       "_model_name": "DescriptionStyleModel",
       "_view_count": null,
       "_view_module": "@jupyter-widgets/base",
       "_view_module_version": "1.2.0",
       "_view_name": "StyleView",
       "description_width": ""
      }
     },
     "bb1dd6f99e2240b58a434c00cc7175c6": {
      "model_module": "@jupyter-widgets/controls",
      "model_module_version": "1.5.0",
      "model_name": "HTMLModel",
      "state": {
       "_dom_classes": [],
       "_model_module": "@jupyter-widgets/controls",
       "_model_module_version": "1.5.0",
       "_model_name": "HTMLModel",
       "_view_count": null,
       "_view_module": "@jupyter-widgets/controls",
       "_view_module_version": "1.5.0",
       "_view_name": "HTMLView",
       "description": "",
       "description_tooltip": null,
       "layout": "IPY_MODEL_a7af7e368bcd4617b0296bfb5a39740f",
       "placeholder": "​",
       "style": "IPY_MODEL_f9e7732af7dc48e6baca5c58a6bbe894",
       "value": ""
      }
     },
     "be7c7c0442fe447aa7fab7928a8bc621": {
      "model_module": "@jupyter-widgets/base",
      "model_module_version": "1.2.0",
      "model_name": "LayoutModel",
      "state": {
       "_model_module": "@jupyter-widgets/base",
       "_model_module_version": "1.2.0",
       "_model_name": "LayoutModel",
       "_view_count": null,
       "_view_module": "@jupyter-widgets/base",
       "_view_module_version": "1.2.0",
       "_view_name": "LayoutView",
       "align_content": null,
       "align_items": null,
       "align_self": null,
       "border": null,
       "bottom": null,
       "display": null,
       "flex": null,
       "flex_flow": null,
       "grid_area": null,
       "grid_auto_columns": null,
       "grid_auto_flow": null,
       "grid_auto_rows": null,
       "grid_column": null,
       "grid_gap": null,
       "grid_row": null,
       "grid_template_areas": null,
       "grid_template_columns": null,
       "grid_template_rows": null,
       "height": null,
       "justify_content": null,
       "justify_items": null,
       "left": null,
       "margin": null,
       "max_height": null,
       "max_width": null,
       "min_height": null,
       "min_width": null,
       "object_fit": null,
       "object_position": null,
       "order": null,
       "overflow": null,
       "overflow_x": null,
       "overflow_y": null,
       "padding": null,
       "right": null,
       "top": null,
       "visibility": null,
       "width": null
      }
     },
     "c138b3ef379c4bb6a9f8daa96bf16a31": {
      "model_module": "@jupyter-widgets/controls",
      "model_module_version": "1.5.0",
      "model_name": "DescriptionStyleModel",
      "state": {
       "_model_module": "@jupyter-widgets/controls",
       "_model_module_version": "1.5.0",
       "_model_name": "DescriptionStyleModel",
       "_view_count": null,
       "_view_module": "@jupyter-widgets/base",
       "_view_module_version": "1.2.0",
       "_view_name": "StyleView",
       "description_width": ""
      }
     },
     "caaebd280bf8414b9828eb10ea84220f": {
      "model_module": "@jupyter-widgets/base",
      "model_module_version": "1.2.0",
      "model_name": "LayoutModel",
      "state": {
       "_model_module": "@jupyter-widgets/base",
       "_model_module_version": "1.2.0",
       "_model_name": "LayoutModel",
       "_view_count": null,
       "_view_module": "@jupyter-widgets/base",
       "_view_module_version": "1.2.0",
       "_view_name": "LayoutView",
       "align_content": null,
       "align_items": null,
       "align_self": null,
       "border": null,
       "bottom": null,
       "display": null,
       "flex": null,
       "flex_flow": null,
       "grid_area": null,
       "grid_auto_columns": null,
       "grid_auto_flow": null,
       "grid_auto_rows": null,
       "grid_column": null,
       "grid_gap": null,
       "grid_row": null,
       "grid_template_areas": null,
       "grid_template_columns": null,
       "grid_template_rows": null,
       "height": null,
       "justify_content": null,
       "justify_items": null,
       "left": null,
       "margin": null,
       "max_height": null,
       "max_width": null,
       "min_height": null,
       "min_width": null,
       "object_fit": null,
       "object_position": null,
       "order": null,
       "overflow": null,
       "overflow_x": null,
       "overflow_y": null,
       "padding": null,
       "right": null,
       "top": null,
       "visibility": null,
       "width": null
      }
     },
     "cb930016683e4a3bbabc8509b2a5b25d": {
      "model_module": "@jupyter-widgets/controls",
      "model_module_version": "1.5.0",
      "model_name": "DescriptionStyleModel",
      "state": {
       "_model_module": "@jupyter-widgets/controls",
       "_model_module_version": "1.5.0",
       "_model_name": "DescriptionStyleModel",
       "_view_count": null,
       "_view_module": "@jupyter-widgets/base",
       "_view_module_version": "1.2.0",
       "_view_name": "StyleView",
       "description_width": ""
      }
     },
     "cc957d6650ac49caa8a502a44f9bdd86": {
      "model_module": "@jupyter-widgets/controls",
      "model_module_version": "1.5.0",
      "model_name": "ProgressStyleModel",
      "state": {
       "_model_module": "@jupyter-widgets/controls",
       "_model_module_version": "1.5.0",
       "_model_name": "ProgressStyleModel",
       "_view_count": null,
       "_view_module": "@jupyter-widgets/base",
       "_view_module_version": "1.2.0",
       "_view_name": "StyleView",
       "bar_color": null,
       "description_width": ""
      }
     },
     "cf154b66c1604eb1b1fd646d0e3d1b4e": {
      "model_module": "@jupyter-widgets/controls",
      "model_module_version": "1.5.0",
      "model_name": "HBoxModel",
      "state": {
       "_dom_classes": [],
       "_model_module": "@jupyter-widgets/controls",
       "_model_module_version": "1.5.0",
       "_model_name": "HBoxModel",
       "_view_count": null,
       "_view_module": "@jupyter-widgets/controls",
       "_view_module_version": "1.5.0",
       "_view_name": "HBoxView",
       "box_style": "",
       "children": [
        "IPY_MODEL_898323e46d54455099cb9bd19dba710b",
        "IPY_MODEL_d6b202173f9e4bff9850c26fbbaf9e3b",
        "IPY_MODEL_ef58d54531bf4f9a88537d79f11f441c"
       ],
       "layout": "IPY_MODEL_be7c7c0442fe447aa7fab7928a8bc621"
      }
     },
     "d6b202173f9e4bff9850c26fbbaf9e3b": {
      "model_module": "@jupyter-widgets/controls",
      "model_module_version": "1.5.0",
      "model_name": "FloatProgressModel",
      "state": {
       "_dom_classes": [],
       "_model_module": "@jupyter-widgets/controls",
       "_model_module_version": "1.5.0",
       "_model_name": "FloatProgressModel",
       "_view_count": null,
       "_view_module": "@jupyter-widgets/controls",
       "_view_module_version": "1.5.0",
       "_view_name": "ProgressView",
       "bar_style": "success",
       "description": "",
       "description_tooltip": null,
       "layout": "IPY_MODEL_727e0f45fda6412e8a13d0f283a7fd04",
       "max": 28881.0,
       "min": 0.0,
       "orientation": "horizontal",
       "style": "IPY_MODEL_8190e964d55040fc9a9f76853bf4916d",
       "value": 28881.0
      }
     },
     "d91f61fcdb704c369ffb001cb2a920fe": {
      "model_module": "@jupyter-widgets/controls",
      "model_module_version": "1.5.0",
      "model_name": "HTMLModel",
      "state": {
       "_dom_classes": [],
       "_model_module": "@jupyter-widgets/controls",
       "_model_module_version": "1.5.0",
       "_model_name": "HTMLModel",
       "_view_count": null,
       "_view_module": "@jupyter-widgets/controls",
       "_view_module_version": "1.5.0",
       "_view_name": "HTMLView",
       "description": "",
       "description_tooltip": null,
       "layout": "IPY_MODEL_27125d42c4cd4bb29cbe94ef6d9841e7",
       "placeholder": "​",
       "style": "IPY_MODEL_cb930016683e4a3bbabc8509b2a5b25d",
       "value": " 1649664/? [00:00&lt;00:00, 12358896.21it/s]"
      }
     },
     "e8e7947486b34f05afd7a6136a07984a": {
      "model_module": "@jupyter-widgets/controls",
      "model_module_version": "1.5.0",
      "model_name": "HTMLModel",
      "state": {
       "_dom_classes": [],
       "_model_module": "@jupyter-widgets/controls",
       "_model_module_version": "1.5.0",
       "_model_name": "HTMLModel",
       "_view_count": null,
       "_view_module": "@jupyter-widgets/controls",
       "_view_module_version": "1.5.0",
       "_view_name": "HTMLView",
       "description": "",
       "description_tooltip": null,
       "layout": "IPY_MODEL_22169f7e97dd4c20976e34ea32c4d853",
       "placeholder": "​",
       "style": "IPY_MODEL_bad46e6cca3c4a0b952d052866095be4",
       "value": ""
      }
     },
     "eb27f7d795a2419e94cfe791c9e52334": {
      "model_module": "@jupyter-widgets/base",
      "model_module_version": "1.2.0",
      "model_name": "LayoutModel",
      "state": {
       "_model_module": "@jupyter-widgets/base",
       "_model_module_version": "1.2.0",
       "_model_name": "LayoutModel",
       "_view_count": null,
       "_view_module": "@jupyter-widgets/base",
       "_view_module_version": "1.2.0",
       "_view_name": "LayoutView",
       "align_content": null,
       "align_items": null,
       "align_self": null,
       "border": null,
       "bottom": null,
       "display": null,
       "flex": null,
       "flex_flow": null,
       "grid_area": null,
       "grid_auto_columns": null,
       "grid_auto_flow": null,
       "grid_auto_rows": null,
       "grid_column": null,
       "grid_gap": null,
       "grid_row": null,
       "grid_template_areas": null,
       "grid_template_columns": null,
       "grid_template_rows": null,
       "height": null,
       "justify_content": null,
       "justify_items": null,
       "left": null,
       "margin": null,
       "max_height": null,
       "max_width": null,
       "min_height": null,
       "min_width": null,
       "object_fit": null,
       "object_position": null,
       "order": null,
       "overflow": null,
       "overflow_x": null,
       "overflow_y": null,
       "padding": null,
       "right": null,
       "top": null,
       "visibility": null,
       "width": null
      }
     },
     "edf65e0d5e9843ad8f6139137ca5a8ef": {
      "model_module": "@jupyter-widgets/base",
      "model_module_version": "1.2.0",
      "model_name": "LayoutModel",
      "state": {
       "_model_module": "@jupyter-widgets/base",
       "_model_module_version": "1.2.0",
       "_model_name": "LayoutModel",
       "_view_count": null,
       "_view_module": "@jupyter-widgets/base",
       "_view_module_version": "1.2.0",
       "_view_name": "LayoutView",
       "align_content": null,
       "align_items": null,
       "align_self": null,
       "border": null,
       "bottom": null,
       "display": null,
       "flex": null,
       "flex_flow": null,
       "grid_area": null,
       "grid_auto_columns": null,
       "grid_auto_flow": null,
       "grid_auto_rows": null,
       "grid_column": null,
       "grid_gap": null,
       "grid_row": null,
       "grid_template_areas": null,
       "grid_template_columns": null,
       "grid_template_rows": null,
       "height": null,
       "justify_content": null,
       "justify_items": null,
       "left": null,
       "margin": null,
       "max_height": null,
       "max_width": null,
       "min_height": null,
       "min_width": null,
       "object_fit": null,
       "object_position": null,
       "order": null,
       "overflow": null,
       "overflow_x": null,
       "overflow_y": null,
       "padding": null,
       "right": null,
       "top": null,
       "visibility": null,
       "width": null
      }
     },
     "ef58d54531bf4f9a88537d79f11f441c": {
      "model_module": "@jupyter-widgets/controls",
      "model_module_version": "1.5.0",
      "model_name": "HTMLModel",
      "state": {
       "_dom_classes": [],
       "_model_module": "@jupyter-widgets/controls",
       "_model_module_version": "1.5.0",
       "_model_name": "HTMLModel",
       "_view_count": null,
       "_view_module": "@jupyter-widgets/controls",
       "_view_module_version": "1.5.0",
       "_view_name": "HTMLView",
       "description": "",
       "description_tooltip": null,
       "layout": "IPY_MODEL_ad6f4d5024d143fba2a85dc7c55e61b2",
       "placeholder": "​",
       "style": "IPY_MODEL_1aa992211ac0428bbc05cc71edc0fbe2",
       "value": " 29696/? [00:00&lt;00:00, 1073057.29it/s]"
      }
     },
     "f9e7732af7dc48e6baca5c58a6bbe894": {
      "model_module": "@jupyter-widgets/controls",
      "model_module_version": "1.5.0",
      "model_name": "DescriptionStyleModel",
      "state": {
       "_model_module": "@jupyter-widgets/controls",
       "_model_module_version": "1.5.0",
       "_model_name": "DescriptionStyleModel",
       "_view_count": null,
       "_view_module": "@jupyter-widgets/base",
       "_view_module_version": "1.2.0",
       "_view_name": "StyleView",
       "description_width": ""
      }
     }
    },
    "version_major": 2,
    "version_minor": 0
   }
  }
 },
 "nbformat": 4,
 "nbformat_minor": 5
}
