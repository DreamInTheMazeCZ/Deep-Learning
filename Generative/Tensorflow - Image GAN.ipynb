{
 "cells": [
  {
   "cell_type": "code",
   "execution_count": 1,
   "id": "d618d031",
   "metadata": {},
   "outputs": [],
   "source": [
    "import random, math, PIL, warnings\n",
    "\n",
    "import numpy as np\n",
    "import pandas as pd\n",
    "import matplotlib.pyplot as plt\n",
    "import seaborn as sns\n",
    "\n",
    "from PIL import Image\n",
    "from tqdm.notebook import tqdm\n",
    "\n",
    "import tensorflow as tf\n",
    "from tensorflow.keras import layers\n",
    "from tensorflow.keras.preprocessing import image_dataset_from_directory\n",
    "from tensorflow.keras.models import Sequential\n",
    "from tensorflow.keras.layers import Dense, Reshape, UpSampling2D, Conv2D, BatchNormalization\n",
    "from tensorflow.keras.layers import Dropout, ZeroPadding2D, Flatten, Activation, LeakyReLU\n",
    "from tensorflow.keras.optimizers import Adam, Adamax\n",
    "\n",
    "warnings.filterwarnings('ignore')\n",
    "\n",
    "sns.set(rc = {\"axes.facecolor\" : \"#EDE9DE\",\n",
    "              \"figure.facecolor\": \"#D8CA7E\"})"
   ]
  },
  {
   "cell_type": "code",
   "execution_count": 2,
   "id": "671b2d89",
   "metadata": {},
   "outputs": [
    {
     "name": "stdout",
     "output_type": "stream",
     "text": [
      "Found 4117 files belonging to 1 classes.\n"
     ]
    },
    {
     "data": {
      "text/plain": [
       "<BatchDataset element_spec=TensorSpec(shape=(None, 64, 64, 3), dtype=tf.float32, name=None)>"
      ]
     },
     "execution_count": 2,
     "metadata": {},
     "output_type": "execute_result"
    }
   ],
   "source": [
    "# 데이터 불러오기\n",
    "\n",
    "data_dir = './Portraits/' # 파일 경로\n",
    "batchs = 64\n",
    "\n",
    "# 이미지 파일을 image_size 크기대로 `tf.data.Dataset` 형태로 변환\n",
    "data = image_dataset_from_directory(data_dir, label_mode=None, image_size=(64, 64), batch_size=batchs)\n",
    "data"
   ]
  },
  {
   "cell_type": "code",
   "execution_count": 3,
   "id": "0c379b95",
   "metadata": {
    "scrolled": false
   },
   "outputs": [],
   "source": [
    "# 데이터 정규화\n",
    "norm_data = data.map(lambda x: (x / 255.0))"
   ]
  },
  {
   "cell_type": "code",
   "execution_count": 4,
   "id": "50b2a673",
   "metadata": {},
   "outputs": [
    {
     "name": "stdout",
     "output_type": "stream",
     "text": [
      "Model: \"sequential\"\n",
      "_________________________________________________________________\n",
      " Layer (type)                Output Shape              Param #   \n",
      "=================================================================\n",
      " dense (Dense)               (None, 4096)              413696    \n",
      "                                                                 \n",
      " reshape (Reshape)           (None, 4, 4, 256)         0         \n",
      "                                                                 \n",
      " up_sampling2d (UpSampling2D  (None, 8, 8, 256)        0         \n",
      " )                                                               \n",
      "                                                                 \n",
      " conv2d (Conv2D)             (None, 8, 8, 256)         590080    \n",
      "                                                                 \n",
      " batch_normalization (BatchN  (None, 8, 8, 256)        1024      \n",
      " ormalization)                                                   \n",
      "                                                                 \n",
      " activation (Activation)     (None, 8, 8, 256)         0         \n",
      "                                                                 \n",
      " up_sampling2d_1 (UpSampling  (None, 16, 16, 256)      0         \n",
      " 2D)                                                             \n",
      "                                                                 \n",
      " conv2d_1 (Conv2D)           (None, 16, 16, 256)       590080    \n",
      "                                                                 \n",
      " batch_normalization_1 (Batc  (None, 16, 16, 256)      1024      \n",
      " hNormalization)                                                 \n",
      "                                                                 \n",
      " activation_1 (Activation)   (None, 16, 16, 256)       0         \n",
      "                                                                 \n",
      " up_sampling2d_2 (UpSampling  (None, 32, 32, 256)      0         \n",
      " 2D)                                                             \n",
      "                                                                 \n",
      " conv2d_2 (Conv2D)           (None, 32, 32, 256)       590080    \n",
      "                                                                 \n",
      " batch_normalization_2 (Batc  (None, 32, 32, 256)      1024      \n",
      " hNormalization)                                                 \n",
      "                                                                 \n",
      " activation_2 (Activation)   (None, 32, 32, 256)       0         \n",
      "                                                                 \n",
      " up_sampling2d_3 (UpSampling  (None, 64, 64, 256)      0         \n",
      " 2D)                                                             \n",
      "                                                                 \n",
      " conv2d_3 (Conv2D)           (None, 64, 64, 128)       295040    \n",
      "                                                                 \n",
      " batch_normalization_3 (Batc  (None, 64, 64, 128)      512       \n",
      " hNormalization)                                                 \n",
      "                                                                 \n",
      " activation_3 (Activation)   (None, 64, 64, 128)       0         \n",
      "                                                                 \n",
      " conv2d_4 (Conv2D)           (None, 64, 64, 3)         3459      \n",
      "                                                                 \n",
      " activation_4 (Activation)   (None, 64, 64, 3)         0         \n",
      "                                                                 \n",
      "=================================================================\n",
      "Total params: 2,486,019\n",
      "Trainable params: 2,484,227\n",
      "Non-trainable params: 1,792\n",
      "_________________________________________________________________\n"
     ]
    }
   ],
   "source": [
    "# Generator Part (생성자)\n",
    "\n",
    "latent_dim = 100   # 잠재 공간 (Latent Space / Latent Dimention)\n",
    "g_resolution=2     # 해상도\n",
    "\n",
    "generator = Sequential()\n",
    "\n",
    "# First Block\n",
    "generator.add(Dense(4*4*256, activation='relu', input_dim = latent_dim))\n",
    "generator.add(Reshape((4, 4, 256))) \n",
    "generator.add(UpSampling2D()) # 8 * 8 * 256\n",
    "generator.add(Conv2D(256, kernel_size=3, padding='same'))\n",
    "generator.add(BatchNormalization(momentum=0.8))\n",
    "\n",
    "\n",
    "generator.add(Activation('relu'))\n",
    "generator.add(UpSampling2D()) # 16 * 16 * 256\n",
    "generator.add(Conv2D(256, kernel_size=3, padding='same'))\n",
    "generator.add(BatchNormalization(momentum=0.8))\n",
    "\n",
    "\n",
    "generator.add(Activation('relu'))\n",
    "generator.add(UpSampling2D()) # 32 * 32 * 256\n",
    "generator.add(Conv2D(256, kernel_size=3, padding='same'))\n",
    "generator.add(BatchNormalization(momentum=0.8))\n",
    "\n",
    "\n",
    "generator.add(Activation('relu'))\n",
    "generator.add(UpSampling2D()) # 64 * 64 * 256\n",
    "generator.add(Conv2D(128, kernel_size=3, padding='same')) # 64 * 64 * 128\n",
    "generator.add(BatchNormalization(momentum=0.8))\n",
    "\n",
    "\n",
    "# Last Block\n",
    "generator.add(Activation('relu'))\n",
    "generator.add(Conv2D(3, kernel_size=3, padding='same')) # 64 * 64 * 3\n",
    "\n",
    "# Last Activation\n",
    "generator.add(Activation('tanh'))\n",
    "\n",
    "generator.summary()"
   ]
  },
  {
   "cell_type": "code",
   "execution_count": 5,
   "id": "6e4f5b70",
   "metadata": {},
   "outputs": [
    {
     "name": "stdout",
     "output_type": "stream",
     "text": [
      "tf.Tensor(\n",
      "[[-0.40198702 -0.43197885 -1.6890296  -0.26817992 -0.8878905  -0.14026268\n",
      "  -1.0408379  -0.35697645 -0.30011463 -0.31413952  2.0702665  -0.11496434\n",
      "  -1.2294735  -1.5444796  -0.32235     0.09433633  0.4965181  -1.0970576\n",
      "  -0.26542962 -0.2140924   0.22420685 -1.15318    -1.0442917   1.5288051\n",
      "   1.2761214   0.688363   -0.04671202  0.11660041  0.45464048  2.7589796\n",
      "   0.9101327  -0.3430367  -0.071275    0.21822762  0.6489019   0.9186619\n",
      "   0.21725367  1.5827035  -2.0870864  -1.8825048  -0.02477076 -0.7719764\n",
      "  -0.1691485   0.0595735   0.11027303  0.57036036  0.5251373  -0.19395763\n",
      "   0.68797004 -0.65115196  1.0983944  -2.0788083  -1.3641062   0.03746206\n",
      "  -0.7860627   0.28964272 -0.16553201 -1.6622937   0.3423317   0.3449649\n",
      "   0.38250205 -0.656167    0.50470424  1.1730162  -0.2222578  -0.6267161\n",
      "   0.38396773 -1.1234404   0.6153011   1.0644042   1.4381751   0.96077406\n",
      "  -0.15370056  0.07693179 -0.11273183  1.8919286  -0.9713187  -0.6746117\n",
      "   0.46815217 -1.158825   -0.5052055  -0.10335648  2.6407857   2.7356641\n",
      "  -0.33567432 -1.4378004   0.8549637  -0.71647775  0.73166466 -0.24432458\n",
      "   2.2249136   0.75838816  0.05508286 -0.20449291 -0.05266882 -0.88026583\n",
      "  -1.9381111  -0.5895475  -0.82244074  0.4203359 ]], shape=(1, 100), dtype=float32)\n"
     ]
    }
   ],
   "source": [
    "# 생성 예제\n",
    "seed = tf.random.normal([1, latent_dim])\n",
    "print(seed)\n",
    "\n",
    "Gen_por = generator(seed)\n",
    "\n",
    "# plt.axis('off')\n",
    "# plt.imshow(Gen_por[0,:,:,0]);"
   ]
  },
  {
   "cell_type": "code",
   "execution_count": 6,
   "id": "85f8e5c1",
   "metadata": {},
   "outputs": [
    {
     "name": "stdout",
     "output_type": "stream",
     "text": [
      "Model: \"sequential_1\"\n",
      "_________________________________________________________________\n",
      " Layer (type)                Output Shape              Param #   \n",
      "=================================================================\n",
      " conv2d_5 (Conv2D)           (None, 32, 32, 32)        896       \n",
      "                                                                 \n",
      " leaky_re_lu (LeakyReLU)     (None, 32, 32, 32)        0         \n",
      "                                                                 \n",
      " dropout (Dropout)           (None, 32, 32, 32)        0         \n",
      "                                                                 \n",
      " conv2d_6 (Conv2D)           (None, 16, 16, 64)        18496     \n",
      "                                                                 \n",
      " zero_padding2d (ZeroPadding  (None, 17, 17, 64)       0         \n",
      " 2D)                                                             \n",
      "                                                                 \n",
      " batch_normalization_4 (Batc  (None, 17, 17, 64)       256       \n",
      " hNormalization)                                                 \n",
      "                                                                 \n",
      " leaky_re_lu_1 (LeakyReLU)   (None, 17, 17, 64)        0         \n",
      "                                                                 \n",
      " dropout_1 (Dropout)         (None, 17, 17, 64)        0         \n",
      "                                                                 \n",
      " conv2d_7 (Conv2D)           (None, 9, 9, 128)         73856     \n",
      "                                                                 \n",
      " batch_normalization_5 (Batc  (None, 9, 9, 128)        512       \n",
      " hNormalization)                                                 \n",
      "                                                                 \n",
      " leaky_re_lu_2 (LeakyReLU)   (None, 9, 9, 128)         0         \n",
      "                                                                 \n",
      " dropout_2 (Dropout)         (None, 9, 9, 128)         0         \n",
      "                                                                 \n",
      " conv2d_8 (Conv2D)           (None, 5, 5, 256)         295168    \n",
      "                                                                 \n",
      " batch_normalization_6 (Batc  (None, 5, 5, 256)        1024      \n",
      " hNormalization)                                                 \n",
      "                                                                 \n",
      " leaky_re_lu_3 (LeakyReLU)   (None, 5, 5, 256)         0         \n",
      "                                                                 \n",
      " dropout_3 (Dropout)         (None, 5, 5, 256)         0         \n",
      "                                                                 \n",
      " conv2d_9 (Conv2D)           (None, 3, 3, 512)         1180160   \n",
      "                                                                 \n",
      " batch_normalization_7 (Batc  (None, 3, 3, 512)        2048      \n",
      " hNormalization)                                                 \n",
      "                                                                 \n",
      " leaky_re_lu_4 (LeakyReLU)   (None, 3, 3, 512)         0         \n",
      "                                                                 \n",
      " dropout_4 (Dropout)         (None, 3, 3, 512)         0         \n",
      "                                                                 \n",
      " flatten (Flatten)           (None, 4608)              0         \n",
      "                                                                 \n",
      " dense_1 (Dense)             (None, 1)                 4609      \n",
      "                                                                 \n",
      "=================================================================\n",
      "Total params: 1,577,025\n",
      "Trainable params: 1,575,105\n",
      "Non-trainable params: 1,920\n",
      "_________________________________________________________________\n"
     ]
    }
   ],
   "source": [
    "# Discriminator Part (판별자)\n",
    "\n",
    "discriminator = Sequential()\n",
    "\n",
    "# First Block\n",
    "discriminator.add(Conv2D(32, kernel_size=3, strides=2, input_shape=(64, 64, 3), padding='same')) # 32 * 32 * 32\n",
    "discriminator.add(LeakyReLU(alpha=0.2))  # 소량의 음의 기울기도 다음 Layer로 전달\n",
    "discriminator.add(Dropout(0.25))\n",
    "\n",
    "\n",
    "discriminator.add(Conv2D(64, kernel_size=3, strides=2, padding='same')) # 16 * 16 * 64\n",
    "discriminator.add(ZeroPadding2D(padding= ((0,1), (0,1)))) # 우측과 하단쪽 두 곳에 0 패딩 추가 # 17 * 17 * 64\n",
    "discriminator.add(BatchNormalization(momentum=0.8))\n",
    "\n",
    "\n",
    "discriminator.add(LeakyReLU(alpha=0.2))\n",
    "discriminator.add(Dropout(0.25))\n",
    "discriminator.add(Conv2D(128, kernel_size=3, strides=2, padding='same'))  # (Input - Kernel_Size + 2 * Padding) / Strides\n",
    "                                                                           # Applied same padding input = Input + 2 * Padding\n",
    "                                                                           # Same padding = (Kernel_size - 1) / 2\n",
    "                                                                           # (17 + 2) - 3 + 2 * 1 / 2 = 9  : 9 * 9 * 128\n",
    "discriminator.add(BatchNormalization(momentum=0.8))\n",
    "\n",
    "\n",
    "discriminator.add(LeakyReLU(alpha=0.2))\n",
    "discriminator.add(Dropout(0.25))\n",
    "discriminator.add(Conv2D(256, kernel_size=3, strides=2, padding='same')) # 5 * 5 * 256\n",
    "discriminator.add(BatchNormalization(momentum=0.8))\n",
    "\n",
    "\n",
    "discriminator.add(LeakyReLU(alpha=0.2))\n",
    "discriminator.add(Dropout(0.25))\n",
    "discriminator.add(Conv2D(512, kernel_size=3, strides=2, padding='same')) # 3 * 3 * 512\n",
    "discriminator.add(BatchNormalization(momentum=0.8))\n",
    "\n",
    "\n",
    "# Last Block\n",
    "discriminator.add(LeakyReLU(alpha=0.2))\n",
    "discriminator.add(Dropout(0.25))\n",
    "discriminator.add(Flatten()) # 3 * 3 * 512 = 4608\n",
    "discriminator.add(Dense(1, activation='sigmoid'))\n",
    "\n",
    "discriminator.summary()"
   ]
  },
  {
   "cell_type": "code",
   "execution_count": 7,
   "id": "a12ccb9f",
   "metadata": {},
   "outputs": [
    {
     "name": "stdout",
     "output_type": "stream",
     "text": [
      "tf.Tensor([[0.50181013]], shape=(1, 1), dtype=float32)\n"
     ]
    }
   ],
   "source": [
    "# 판별 예제\n",
    "Discriminator_Verdict = discriminator(Gen_por)\n",
    "print (Discriminator_Verdict)"
   ]
  },
  {
   "cell_type": "code",
   "execution_count": 8,
   "id": "014d3914",
   "metadata": {},
   "outputs": [],
   "source": [
    "# GAN \n",
    "\n",
    "class GAN(tf.keras.Model):\n",
    "    # 초기화\n",
    "    def __init__(self, discriminator, generator, latent_dim): \n",
    "        super(GAN, self).__init__()\n",
    "        self.discriminator = discriminator\n",
    "        self.generator = generator\n",
    "        self.latent_dim = latent_dim\n",
    "        \n",
    "    def compile(self, d_optimizer, g_optimizer, loss_fn):\n",
    "        super(GAN, self).compile()\n",
    "        self.d_optimizer = d_optimizer\n",
    "        self.g_optimizer = g_optimizer\n",
    "        self.loss_fn = loss_fn\n",
    "        self.d_loss_metric = tf.keras.metrics.Mean(name='d_loss')\n",
    "        self.g_loss_metric = tf.keras.metrics.Mean(name='g_loss')\n",
    "        \n",
    "    @property\n",
    "    def metrics(self):\n",
    "        return [self.d_loss_metric, self.g_loss_metric]\n",
    "    \n",
    "    def train_step(self, real_images):\n",
    "        # 잠재 공간 내 임의의 점 추출\n",
    "        batch_size = tf.shape(real_images)[0]\n",
    "        seed = tf.random.normal(shape=(batch_size, self.latent_dim))\n",
    "        \n",
    "        # 생성된 가짜 이미지 디코딩\n",
    "        generated_images = self.generator(seed)\n",
    "        \n",
    "        # 실제 이미지와 결합\n",
    "        combined_images = tf.concat([generated_images, real_images], axis=0)\n",
    "        \n",
    "        # 판별자 (진짜 / 가짜 구분) 라벨 생성\n",
    "        labels = tf.concat([tf.ones((batch_size, 1)), tf.zeros((batch_size, 1))], axis=0)\n",
    "        \n",
    "        ### 레이블에 랜덤 노이즈 추가 - 중요 과정\n",
    "        labels += 0.05 * tf.random.uniform(tf.shape(labels))\n",
    "        \n",
    "        # ========== 판별자 (Discriminator) 학습 부분 ==========\n",
    "        \n",
    "        # GradientTape() : 컨텍스트(Context) 내 실행된 모든 연산을 테이프(Tape)에 기록\n",
    "        with tf.GradientTape() as tape:\n",
    "            # 예측\n",
    "            predictions = self.discriminator(combined_images)\n",
    "            # Loss 계산\n",
    "            d_loss = self.loss_fn(labels, predictions)\n",
    "        \n",
    "        # Gradients 계산 과정\n",
    "        grads = tape.gradient(d_loss, self.discriminator.trainable_weights)    \n",
    "        # Backpropagation (오차역전파) - 가중치 업데이트\n",
    "        self.d_optimizer.apply_gradients(zip(grads, self.discriminator.trainable_weights))\n",
    "        \n",
    "        # 잠재 공간 내 임의의 점 추출\n",
    "        seed = tf.random.normal(shape=(batch_size, self.latent_dim))\n",
    "        \n",
    "        # 실제 이미지 추출 (라벨 1)\n",
    "        misleading_labels = tf.zeros((batch_size, 1))\n",
    "        \n",
    "        # ========== 생성자 (Generator) 학습 / 판별자 가중치 업데이트 금지 ==========\n",
    "        with tf.GradientTape() as tape:\n",
    "            # 예측 - 생성자로 생선된 이미지를 판별자로 예측\n",
    "            predictions = self.discriminator(self.generator(seed))\n",
    "            # Loss 계산\n",
    "            g_loss = self.loss_fn(misleading_labels, predictions)\n",
    "        \n",
    "        # Gradients 계산 과정\n",
    "        grads = tape.gradient(g_loss, self.generator.trainable_weights)    \n",
    "        # Backpropagation (오차역전파) - 가중치 업데이트 ***** 생성자에 대한 가중치만 업데이트 *****\n",
    "        self.g_optimizer.apply_gradients(zip(grads, self.generator.trainable_weights))\n",
    "        \n",
    "        # 평가지표 업데이트\n",
    "        self.d_loss_metric.update_state(d_loss)\n",
    "        self.g_loss_metric.update_state(g_loss)\n",
    "        return {\"d_loss\": self.d_loss_metric.result(), \"g_loss\": self.g_loss_metric.result()}"
   ]
  },
  {
   "cell_type": "code",
   "execution_count": 9,
   "id": "de1bf439",
   "metadata": {
    "scrolled": false
   },
   "outputs": [
    {
     "name": "stdout",
     "output_type": "stream",
     "text": [
      "Epoch 1/20\n",
      "65/65 [==============================] - 60s 772ms/step - d_loss: 0.4604 - g_loss: 0.6705\n",
      "Epoch 2/20\n",
      "65/65 [==============================] - 49s 725ms/step - d_loss: 0.4373 - g_loss: 0.6608\n",
      "Epoch 3/20\n",
      "65/65 [==============================] - 49s 727ms/step - d_loss: 0.4329 - g_loss: 0.6658\n",
      "Epoch 4/20\n",
      "65/65 [==============================] - 50s 727ms/step - d_loss: 0.4281 - g_loss: 0.6733\n",
      "Epoch 5/20\n",
      "65/65 [==============================] - 49s 726ms/step - d_loss: 0.4241 - g_loss: 0.6802\n",
      "Epoch 6/20\n",
      "65/65 [==============================] - 49s 726ms/step - d_loss: 0.4182 - g_loss: 0.6910\n",
      "Epoch 7/20\n",
      "65/65 [==============================] - 50s 729ms/step - d_loss: 0.4122 - g_loss: 0.7030\n",
      "Epoch 8/20\n",
      "65/65 [==============================] - 49s 726ms/step - d_loss: 0.4048 - g_loss: 0.7160\n",
      "Epoch 9/20\n",
      "65/65 [==============================] - 49s 727ms/step - d_loss: 0.3965 - g_loss: 0.7343\n",
      "Epoch 10/20\n",
      "65/65 [==============================] - 49s 727ms/step - d_loss: 0.3861 - g_loss: 0.7549\n",
      "Epoch 11/20\n",
      "65/65 [==============================] - 49s 726ms/step - d_loss: 0.3762 - g_loss: 0.7802\n",
      "Epoch 12/20\n",
      "65/65 [==============================] - 49s 727ms/step - d_loss: 0.3625 - g_loss: 0.8110\n",
      "Epoch 13/20\n",
      "65/65 [==============================] - 50s 731ms/step - d_loss: 0.3494 - g_loss: 0.8445\n",
      "Epoch 14/20\n",
      "65/65 [==============================] - 50s 726ms/step - d_loss: 0.3414 - g_loss: 0.8683\n",
      "Epoch 15/20\n",
      "65/65 [==============================] - 50s 730ms/step - d_loss: 0.3280 - g_loss: 0.9077\n",
      "Epoch 16/20\n",
      "65/65 [==============================] - 50s 735ms/step - d_loss: 0.3103 - g_loss: 0.9604\n",
      "Epoch 17/20\n",
      "65/65 [==============================] - 50s 726ms/step - d_loss: 0.3289 - g_loss: 0.9205\n",
      "Epoch 18/20\n",
      "65/65 [==============================] - 50s 727ms/step - d_loss: 0.3905 - g_loss: 0.7518\n",
      "Epoch 19/20\n",
      "65/65 [==============================] - 49s 726ms/step - d_loss: 0.3824 - g_loss: 0.7645\n",
      "Epoch 20/20\n",
      "65/65 [==============================] - 49s 727ms/step - d_loss: 0.3755 - g_loss: 0.7800\n"
     ]
    }
   ],
   "source": [
    "# 모델 학습 정의\n",
    "\n",
    "# 에포크 수 정의\n",
    "epochs = 20\n",
    "\n",
    "# 옵티마이저 정의\n",
    "discriminator_opt = Adamax(0.5e-5, 0.5)\n",
    "generator_opt = Adamax(1e-4, 0.5)\n",
    "\n",
    "# 손실함수 정의\n",
    "loss_fn = tf.keras.losses.BinaryCrossentropy()\n",
    "\n",
    "\n",
    "# 모델 정의\n",
    "gan_model = GAN(discriminator=discriminator, generator=generator, latent_dim=latent_dim)\n",
    "\n",
    "# 모델 컴파일\n",
    "gan_model.compile(d_optimizer=discriminator_opt, g_optimizer=generator_opt, loss_fn=loss_fn)\n",
    "\n",
    "# 모델 학습\n",
    "history = gan_model.fit(data, epochs=epochs)"
   ]
  },
  {
   "cell_type": "code",
   "execution_count": 10,
   "id": "b3eaa8b7",
   "metadata": {},
   "outputs": [],
   "source": [
    "# 생성할 이미지 수\n",
    "num_img=16\n",
    "\n",
    "# 생성 및 이미지 저장 함수 선언\n",
    "def Potrait_Generator():\n",
    "    Generated_Paintings = [] # 생성 이미지 컨테이너\n",
    "    seed = tf.random.normal([num_img, latent_dim]) # (생성 이미지 수, 잠재 공간 크기)\n",
    "    generated_image = generator(seed) # 생성자로 생성\n",
    "#     generated_image *= 255 # 스케일 복원\n",
    "    generated_image = generated_image.numpy()\n",
    "    \n",
    "    # 생성된 이미지 별로 저장\n",
    "    for i in range(num_img):\n",
    "        img = tf.keras.preprocessing.image.array_to_img(generated_image[i])\n",
    "        Generated_Paintings.append(img)\n",
    "        img.save(\"./Gen/Potraits{:02d}.png\".format(i)) \n",
    "    return \n",
    "\n",
    "# 실행\n",
    "Images = Potrait_Generator()"
   ]
  },
  {
   "cell_type": "code",
   "execution_count": 22,
   "id": "c59fa6a3",
   "metadata": {},
   "outputs": [
    {
     "name": "stdout",
     "output_type": "stream",
     "text": [
      "Found 16 files belonging to 1 classes.\n"
     ]
    }
   ],
   "source": [
    "# 생성 데이터 불러오기\n",
    "\n",
    "data_dir_gen = './Gen/' # File Directory\n",
    "batchs = 64\n",
    "data_gen = image_dataset_from_directory(data_dir_gen, label_mode=None, image_size=(64, 64))"
   ]
  },
  {
   "cell_type": "code",
   "execution_count": 35,
   "id": "5d004afb",
   "metadata": {},
   "outputs": [
    {
     "name": "stdout",
     "output_type": "stream",
     "text": [
      "1/1 [==============================] - 0s 222ms/step\n",
      "1/1 [==============================] - 0s 247ms/step\n"
     ]
    }
   ],
   "source": [
    "# 잠재 공간에 Seed 생성\n",
    "seed = tf.random.normal([16, latent_dim])\n",
    "\n",
    "# 이미지 생성\n",
    "fake = generator.predict(seed)\n",
    "\n",
    "# 생성된 이미지의 실제 여부 판단\n",
    "result = discriminator.predict(fake)"
   ]
  },
  {
   "cell_type": "code",
   "execution_count": 42,
   "id": "194b2be1",
   "metadata": {},
   "outputs": [
    {
     "data": {
      "text/plain": [
       "{'d_loss': <tf.Tensor: shape=(), dtype=float32, numpy=0.38030335>,\n",
       " 'g_loss': <tf.Tensor: shape=(), dtype=float32, numpy=0.78005624>}"
      ]
     },
     "execution_count": 42,
     "metadata": {},
     "output_type": "execute_result"
    }
   ],
   "source": [
    "gan_model.train_step(fake)"
   ]
  },
  {
   "cell_type": "code",
   "execution_count": 39,
   "id": "b959b5c4",
   "metadata": {},
   "outputs": [
    {
     "data": {
      "image/png": "[encoded data removed]",
      "text/plain": [
       "<Figure size 640x480 with 1 Axes>"
      ]
     },
     "metadata": {},
     "output_type": "display_data"
    }
   ],
   "source": [
    "plt.imshow(fake[0,:,:,0]);"
   ]
  },
  {
   "cell_type": "code",
   "execution_count": 40,
   "id": "1cab7e17",
   "metadata": {},
   "outputs": [
    {
     "data": {
      "image/png": "[encoded data removed]",
      "text/plain": [
       "<Figure size 640x480 with 1 Axes>"
      ]
     },
     "metadata": {},
     "output_type": "display_data"
    }
   ],
   "source": [
    "plt.imshow(result);"
   ]
  },
  {
   "cell_type": "code",
   "execution_count": null,
   "id": "38bc94bf",
   "metadata": {},
   "outputs": [],
   "source": []
  }
 ],
 "metadata": {
  "kernelspec": {
   "display_name": "venv1",
   "language": "python",
   "name": "venv"
  },
  "language_info": {
   "codemirror_mode": {
    "name": "ipython",
    "version": 3
   },
   "file_extension": ".py",
   "mimetype": "text/x-python",
   "name": "python",
   "nbconvert_exporter": "python",
   "pygments_lexer": "ipython3",
   "version": "3.7.9"
  }
 },
 "nbformat": 4,
 "nbformat_minor": 5
}
